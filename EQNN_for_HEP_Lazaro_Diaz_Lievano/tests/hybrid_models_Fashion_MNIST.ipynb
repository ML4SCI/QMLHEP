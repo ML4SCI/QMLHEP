{
 "cells": [
  {
   "cell_type": "markdown",
   "metadata": {},
   "source": [
    "## Equivariant Hybrid Quantum Neural Network Model\n",
    "\n",
    "\n",
    "In this notebook we implement the equivariant hybrid model which consists of a quantum layer and a classical dense layer. It's capable to perform binary classification.\n",
    "We have a package called Equivariant_QCNN where we can call different hybrid models and load the preprocessed data.\n",
    "\n"
   ]
  },
  {
   "cell_type": "code",
   "execution_count": 1,
   "metadata": {},
   "outputs": [],
   "source": [
    "import sys\n",
    "import os\n",
    "\n",
    "# add the main directory to the notebook\n",
    "sys.path.append(os.path.abspath(os.path.join('/home/lazaror/quantum/pruebas/EQCNN_local_testing/EQNN_for_HEP')))\n",
    "\n",
    "import numpy as np\n",
    "from Equivariant_QCNN.data.hybrid_data import load_hybrid_data\n",
    "from Equivariant_QCNN.models.hybrid_models import *\n",
    "import matplotlib.pyplot as plt"
   ]
  },
  {
   "cell_type": "markdown",
   "metadata": {},
   "source": [
    "First, we call the hybrid model using the *hybrid_models* function which has two parameters: \n",
    "- model. It can be 0 for equivariant model (quantum layer + dense layer), 1 for hybrid model (using dense layer + quantum layer + dense layer) and 2 for hybrid model (quantum layer + dense layer). \n",
    "- num_layers. This refers to the number of layers in the quantum circuit.\n",
    "\n",
    "Those models are designed to run with images of 16x16x1 dimensions."
   ]
  },
  {
   "cell_type": "code",
   "execution_count": 2,
   "metadata": {},
   "outputs": [
    {
     "data": {
      "text/plain": [
       "Sequential(\n",
       "  (0): <Quantum Torch Layer: func=hybrid_circuit>\n",
       "  (1): Linear(in_features=16, out_features=2, bias=True)\n",
       "  (2): Softmax(dim=1)\n",
       ")"
      ]
     },
     "execution_count": 2,
     "metadata": {},
     "output_type": "execute_result"
    }
   ],
   "source": [
    "equiv_model = hybrid_models(model = 0, num_layers= 4)\n",
    "equiv_model"
   ]
  },
  {
   "cell_type": "markdown",
   "metadata": {},
   "source": [
    "Now, we load the dataset already preprocessed using the *load_hybrid_data*. The arguments are the following: \n",
    "- dataset: [str] It can be \"mnist\", \"fashion_mnist\", \"quark_gluon\", \"electron_photon\"\n",
    "- train_size: [int] It refers the number of data that we want in the train dataset.\n",
    "- test_size: [int] It refers to the number of data in the test dataset.  \n",
    "- classes: [ list of two integers i.e. [0,1]  ] It refers to the classes to be loaded. "
   ]
  },
  {
   "cell_type": "code",
   "execution_count": 3,
   "metadata": {},
   "outputs": [
    {
     "name": "stdout",
     "output_type": "stream",
     "text": [
      "Downloading http://fashion-mnist.s3-website.eu-central-1.amazonaws.com/train-images-idx3-ubyte.gz\n",
      "Downloading http://fashion-mnist.s3-website.eu-central-1.amazonaws.com/train-images-idx3-ubyte.gz to ./data/FashionMNIST/raw/train-images-idx3-ubyte.gz\n"
     ]
    },
    {
     "name": "stderr",
     "output_type": "stream",
     "text": [
      "100.0%\n"
     ]
    },
    {
     "name": "stdout",
     "output_type": "stream",
     "text": [
      "Extracting ./data/FashionMNIST/raw/train-images-idx3-ubyte.gz to ./data/FashionMNIST/raw\n",
      "\n",
      "Downloading http://fashion-mnist.s3-website.eu-central-1.amazonaws.com/train-labels-idx1-ubyte.gz\n",
      "Downloading http://fashion-mnist.s3-website.eu-central-1.amazonaws.com/train-labels-idx1-ubyte.gz to ./data/FashionMNIST/raw/train-labels-idx1-ubyte.gz\n"
     ]
    },
    {
     "name": "stderr",
     "output_type": "stream",
     "text": [
      "100.0%\n"
     ]
    },
    {
     "name": "stdout",
     "output_type": "stream",
     "text": [
      "Extracting ./data/FashionMNIST/raw/train-labels-idx1-ubyte.gz to ./data/FashionMNIST/raw\n",
      "\n",
      "Downloading http://fashion-mnist.s3-website.eu-central-1.amazonaws.com/t10k-images-idx3-ubyte.gz\n",
      "Downloading http://fashion-mnist.s3-website.eu-central-1.amazonaws.com/t10k-images-idx3-ubyte.gz to ./data/FashionMNIST/raw/t10k-images-idx3-ubyte.gz\n"
     ]
    },
    {
     "name": "stderr",
     "output_type": "stream",
     "text": [
      "100.0%\n"
     ]
    },
    {
     "name": "stdout",
     "output_type": "stream",
     "text": [
      "Extracting ./data/FashionMNIST/raw/t10k-images-idx3-ubyte.gz to ./data/FashionMNIST/raw\n",
      "\n",
      "Downloading http://fashion-mnist.s3-website.eu-central-1.amazonaws.com/t10k-labels-idx1-ubyte.gz\n",
      "Downloading http://fashion-mnist.s3-website.eu-central-1.amazonaws.com/t10k-labels-idx1-ubyte.gz to ./data/FashionMNIST/raw/t10k-labels-idx1-ubyte.gz\n"
     ]
    },
    {
     "name": "stderr",
     "output_type": "stream",
     "text": [
      "100.0%\n"
     ]
    },
    {
     "name": "stdout",
     "output_type": "stream",
     "text": [
      "Extracting ./data/FashionMNIST/raw/t10k-labels-idx1-ubyte.gz to ./data/FashionMNIST/raw\n",
      "\n"
     ]
    }
   ],
   "source": [
    "dataset = \"fashion_mnist\"\n",
    "train_size = 10000\n",
    "test_size = 2000\n",
    "X_train, y_train, X_test, y_test = load_hybrid_data(dataset, train_size, test_size, classes = [0,1])"
   ]
  },
  {
   "cell_type": "code",
   "execution_count": 4,
   "metadata": {},
   "outputs": [
    {
     "data": {
      "image/png": "[encoded data removed]",
      "text/plain": [
       "<Figure size 640x480 with 1 Axes>"
      ]
     },
     "metadata": {},
     "output_type": "display_data"
    }
   ],
   "source": [
    "plt.imshow(X_train[0])\n",
    "plt.show()"
   ]
  },
  {
   "cell_type": "markdown",
   "metadata": {},
   "source": [
    "To train the hybrid model we use the *training_hybrid* function which has the following parameters: \n",
    "- X_train: training dataset corresponding to the independent data. \n",
    "- y_train: training dataset corresponding to the dependent data. (labels)\n",
    "- epochs: number of epochs for the training.\n",
    "- batch_size: number of data in each batch during the training. \n",
    "- samples: if we want to use less data that original training.\n",
    "- model: It can be 0 for equivariant model (quantum layer + dense layer), 1 for hybrid model (using dense layer + quantum layer + dense layer) and 2 for hybrid model (quantum layer + dense layer). \n",
    "- num_layers: number of quantum layers in the model. \n"
   ]
  },
  {
   "cell_type": "code",
   "execution_count": 5,
   "metadata": {},
   "outputs": [
    {
     "name": "stdout",
     "output_type": "stream",
     "text": [
      "Average loss over epoch 1: 0.4997\n",
      "Average loss over epoch 2: 0.4979\n",
      "Average loss over epoch 3: 0.4962\n",
      "Average loss over epoch 4: 0.4939\n",
      "Average loss over epoch 5: 0.4903\n",
      "Average loss over epoch 6: 0.4841\n",
      "Average loss over epoch 7: 0.4724\n",
      "Average loss over epoch 8: 0.4556\n",
      "Average loss over epoch 9: 0.4380\n",
      "Average loss over epoch 10: 0.4211\n",
      "Average loss over epoch 11: 0.4046\n",
      "Average loss over epoch 12: 0.3882\n",
      "Average loss over epoch 13: 0.3723\n",
      "Average loss over epoch 14: 0.3567\n",
      "Average loss over epoch 15: 0.3421\n",
      "Average loss over epoch 16: 0.3292\n",
      "Average loss over epoch 17: 0.3175\n",
      "Average loss over epoch 18: 0.3068\n",
      "Average loss over epoch 19: 0.2968\n",
      "Average loss over epoch 20: 0.2873\n",
      "Average loss over epoch 21: 0.2787\n",
      "Average loss over epoch 22: 0.2708\n",
      "Average loss over epoch 23: 0.2633\n",
      "Average loss over epoch 24: 0.2561\n",
      "Average loss over epoch 25: 0.2497\n",
      "Average loss over epoch 26: 0.2434\n",
      "Average loss over epoch 27: 0.2374\n",
      "Average loss over epoch 28: 0.2319\n",
      "Average loss over epoch 29: 0.2267\n",
      "Average loss over epoch 30: 0.2217\n",
      "Average loss over epoch 31: 0.2171\n",
      "Average loss over epoch 32: 0.2134\n",
      "Average loss over epoch 33: 0.2092\n",
      "Average loss over epoch 34: 0.2052\n",
      "Average loss over epoch 35: 0.2017\n",
      "Average loss over epoch 36: 0.1984\n",
      "Average loss over epoch 37: 0.1954\n",
      "Average loss over epoch 38: 0.1925\n",
      "Average loss over epoch 39: 0.1897\n",
      "Average loss over epoch 40: 0.1872\n",
      "Average loss over epoch 41: 0.1851\n",
      "Average loss over epoch 42: 0.1829\n",
      "Average loss over epoch 43: 0.1805\n",
      "Average loss over epoch 44: 0.1782\n",
      "Average loss over epoch 45: 0.1766\n",
      "Average loss over epoch 46: 0.1749\n",
      "Average loss over epoch 47: 0.1726\n",
      "Average loss over epoch 48: 0.1712\n",
      "Average loss over epoch 49: 0.1693\n",
      "Average loss over epoch 50: 0.1679\n"
     ]
    }
   ],
   "source": [
    "trained_model, loss_history = training_hybrid(X_train, y_train, epochs = 50, batch_size= 64, samples= 10000, model = 0, num_layers = 4)"
   ]
  },
  {
   "cell_type": "markdown",
   "metadata": {},
   "source": [
    "Confusion matrix"
   ]
  },
  {
   "cell_type": "code",
   "execution_count": 6,
   "metadata": {},
   "outputs": [
    {
     "data": {
      "image/png": "[encoded data removed]",
      "text/plain": [
       "<Figure size 640x480 with 2 Axes>"
      ]
     },
     "metadata": {},
     "output_type": "display_data"
    }
   ],
   "source": [
    "from sklearn.metrics import confusion_matrix, ConfusionMatrixDisplay\n",
    "\n",
    "samples = 500\n",
    "X_test = X_test[:samples].reshape(samples, 16*16).float().requires_grad_(True)\n",
    "\n",
    "y_pred = trained_model(X_test)\n",
    "_, y_pred_classes = torch.max(y_pred, dim=1)\n",
    "y_pred_classes = y_pred_classes.detach().numpy()\n",
    "\n",
    "cm = confusion_matrix(y_test[:samples], y_pred_classes)\n",
    "\n",
    "disp = ConfusionMatrixDisplay(confusion_matrix=cm)\n",
    "disp.plot()\n",
    "plt.show()"
   ]
  },
  {
   "cell_type": "markdown",
   "metadata": {},
   "source": [
    "Accuracy"
   ]
  },
  {
   "cell_type": "code",
   "execution_count": 7,
   "metadata": {},
   "outputs": [
    {
     "name": "stdout",
     "output_type": "stream",
     "text": [
      "Accuracy: 92.60000000000001%\n"
     ]
    }
   ],
   "source": [
    "y_pred = trained_model(X_test)\n",
    "\n",
    "_, y_pred_classes = torch.max(y_pred, dim=1)\n",
    "y_pred_classes = y_pred_classes.detach().numpy()\n",
    "\n",
    "correct = (y_pred_classes == y_test[:samples].numpy()).sum()\n",
    "accuracy = correct / len(y_test[:samples])\n",
    "print(f\"Accuracy: {accuracy * 100}%\")"
   ]
  },
  {
   "cell_type": "markdown",
   "metadata": {},
   "source": [
    "Proof of equivariance"
   ]
  },
  {
   "cell_type": "code",
   "execution_count": 8,
   "metadata": {},
   "outputs": [
    {
     "name": "stderr",
     "output_type": "stream",
     "text": [
      "/tmp/ipykernel_1105056/2160176878.py:10: UserWarning: To copy construct from a tensor, it is recommended to use sourceTensor.clone().detach() or sourceTensor.clone().detach().requires_grad_(True), rather than torch.tensor(sourceTensor).\n",
      "  matrix_tensor = torch.tensor(matrix.reshape(1, 16*16), dtype=torch.float32)  # Convert the original image\n"
     ]
    },
    {
     "name": "stdout",
     "output_type": "stream",
     "text": [
      "Output with probabilities for the original image: tensor([[0.9858, 0.0142]], grad_fn=<SoftmaxBackward0>)\n",
      "Output with probabilities for the image reflected over the Y-axis: tensor([[0.9858, 0.0142]], grad_fn=<SoftmaxBackward0>)\n",
      "Output with probabilities for the image reflected over the X-axis: tensor([[0.9858, 0.0142]], grad_fn=<SoftmaxBackward0>)\n"
     ]
    },
    {
     "data": {
      "image/png": "[encoded data removed]",
      "text/plain": [
       "<Figure size 1200x400 with 3 Axes>"
      ]
     },
     "metadata": {},
     "output_type": "display_data"
    }
   ],
   "source": [
    "matrix = X_train[7]\n",
    "\n",
    "# Reflect the image over the Y-axis\n",
    "matrix_reflected_y = np.fliplr(matrix)\n",
    "\n",
    "# Reflect the image over the X-axis\n",
    "matrix_reflected_x = np.flipud(matrix)\n",
    "\n",
    "# Convert NumPy arrays to PyTorch tensors\n",
    "matrix_tensor = torch.tensor(matrix.reshape(1, 16*16), dtype=torch.float32)  # Convert the original image\n",
    "matrix_reflected_y_tensor = torch.tensor(matrix_reflected_y.reshape(1, 16*16), dtype=torch.float32)  # Reflected over Y\n",
    "matrix_reflected_x_tensor = torch.tensor(matrix_reflected_x.reshape(1, 16*16), dtype=torch.float32)  # Reflected over X\n",
    "\n",
    "# Pass the tensors to the model\n",
    "result1 = trained_model(matrix_tensor)\n",
    "result2 = trained_model(matrix_reflected_y_tensor)\n",
    "result3 = trained_model(matrix_reflected_x_tensor)\n",
    "\n",
    "# Display the results\n",
    "print(f\"Output with probabilities for the original image: {result1}\")\n",
    "print(f\"Output with probabilities for the image reflected over the Y-axis: {result2}\")\n",
    "print(f\"Output with probabilities for the image reflected over the X-axis: {result3}\")\n",
    "\n",
    "# Plot the images in a single row\n",
    "fig, axes = plt.subplots(1, 3, figsize=(12, 4))  # 1 row, 3 columns, adjustable size\n",
    "\n",
    "# Show the original image\n",
    "axes[0].imshow(matrix, cmap='gray')\n",
    "axes[0].set_title(\"Original Image\")\n",
    "axes[0].axis('off')\n",
    "\n",
    "# Show the image reflected over the Y-axis\n",
    "axes[1].imshow(matrix_reflected_y, cmap='gray')\n",
    "axes[1].set_title(\"Reflected over Y-axis\")\n",
    "axes[1].axis('off')\n",
    "\n",
    "# Show the image reflected over the X-axis\n",
    "axes[2].imshow(matrix_reflected_x, cmap='gray')\n",
    "axes[2].set_title(\"Reflected over X-axis\")\n",
    "axes[2].axis('off')\n",
    "\n",
    "# Display the images\n",
    "plt.show()"
   ]
  },
  {
   "cell_type": "markdown",
   "metadata": {},
   "source": [
    "As we can see, the output is the same for the original image and the reflected images. This ensure invariance under reflection symmetry."
   ]
  }
 ],
 "metadata": {
  "kernelspec": {
   "display_name": "eqnn_github_env",
   "language": "python",
   "name": "python3"
  },
  "language_info": {
   "codemirror_mode": {
    "name": "ipython",
    "version": 3
   },
   "file_extension": ".py",
   "mimetype": "text/x-python",
   "name": "python",
   "nbconvert_exporter": "python",
   "pygments_lexer": "ipython3",
   "version": "3.10.13"
  }
 },
 "nbformat": 4,
 "nbformat_minor": 2
}
