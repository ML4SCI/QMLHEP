{
  "cells": [
    {
      "cell_type": "code",
      "execution_count": 1,
      "metadata": {
        "id": "sJOX9Fo34utq"
      },
      "outputs": [],
      "source": [
        "%%capture\n",
        "pip install pennylane"
      ]
    },
    {
      "cell_type": "code",
      "execution_count": 2,
      "metadata": {
        "id": "EuYbkNBV5T1I"
      },
      "outputs": [],
      "source": [
        "import pennylane as qml\n",
        "import torch\n",
        "import torchvision.datasets as datasets\n",
        "import torchvision.transforms as transforms\n",
        "from torch.utils.data import Subset\n",
        "import numpy as np\n",
        "import matplotlib.pyplot as plt"
      ]
    },
    {
      "cell_type": "markdown",
      "metadata": {
        "id": "UTbcMx6VGyAU"
      },
      "source": [
        "## Electron-Photon dataset"
      ]
    },
    {
      "cell_type": "code",
      "execution_count": 3,
      "metadata": {
        "colab": {
          "base_uri": "https://localhost:8080/"
        },
        "id": "98RWxjgubhMZ",
        "outputId": "39c007a6-fe73-4d0d-db29-864ab32c1872"
      },
      "outputs": [
        {
          "name": "stdout",
          "output_type": "stream",
          "text": [
            "torch.Size([160000, 16, 16, 1])\n",
            "torch.Size([40000, 16, 16, 1])\n"
          ]
        }
      ],
      "source": [
        "import h5py\n",
        "import numpy as np\n",
        "import torch\n",
        "from sklearn.model_selection import train_test_split\n",
        "from torchvision import transforms\n",
        "\n",
        "path_ep = \"/home/lazaror/quantum/pruebas/EQCNN_local_testing/EQNN_for_HEP/Equivariant_QCNN/data/E-P_rescaled\"\n",
        "with h5py.File(path_ep, \"r\") as file:\n",
        "    X_ep = np.array(file[\"X\"])\n",
        "    y_ep = np.array(file[\"y\"])\n",
        "\n",
        "X_train_16, X_test_16, Y_train_16, Y_test_16 = train_test_split(X_ep, y_ep, test_size=0.2, random_state=42, stratify=y_ep)\n",
        "\n",
        "transform = transforms.Compose([\n",
        "    transforms.ToPILImage(),          \n",
        "    transforms.Resize((16, 16)),     \n",
        "    transforms.ToTensor()            \n",
        "])\n",
        "\n",
        "X_train_resized = torch.stack([transform(x) for x in X_train_16])\n",
        "X_test_resized = torch.stack([transform(x) for x in X_test_16])\n",
        "\n",
        "X_train = X_train_resized.permute(0, 2, 3, 1)  \n",
        "X_test = X_test_resized.permute(0, 2, 3, 1)   \n",
        "\n",
        "y_train = torch.tensor(Y_train_16)\n",
        "y_test = torch.tensor(Y_test_16)\n",
        "\n",
        "print(X_train.shape)  \n",
        "print(X_test.shape)"
      ]
    },
    {
      "cell_type": "code",
      "execution_count": 4,
      "metadata": {
        "colab": {
          "base_uri": "https://localhost:8080/",
          "height": 453
        },
        "id": "YVH9qrYbQtsj",
        "outputId": "92ede787-f722-4ffd-c3f7-d811fbbfaf13"
      },
      "outputs": [
        {
          "data": {
            "image/png": "[encoded data removed]",
            "text/plain": [
              "<Figure size 640x480 with 2 Axes>"
            ]
          },
          "metadata": {},
          "output_type": "display_data"
        },
        {
          "name": "stdout",
          "output_type": "stream",
          "text": [
            "tensor(1, dtype=torch.int32)\n"
          ]
        }
      ],
      "source": [
        "n = 5\n",
        "plt.imshow(X_train[n])\n",
        "plt.colorbar()\n",
        "plt.show()\n",
        "print(y_train[n])"
      ]
    },
    {
      "cell_type": "markdown",
      "metadata": {
        "id": "GAtg602dEjup"
      },
      "source": [
        "## model: FC + QC + FC + SOFTMAX\n"
      ]
    },
    {
      "cell_type": "code",
      "execution_count": 5,
      "metadata": {
        "colab": {
          "base_uri": "https://localhost:8080/",
          "height": 348
        },
        "id": "ReSIzuNU5EVk",
        "outputId": "a61b8931-ef5d-4464-e3b1-38cdc649eab8"
      },
      "outputs": [],
      "source": [
        "n_qubits = 8\n",
        "dev = qml.device(\"default.qubit\", wires=n_qubits)\n",
        "\n",
        "@qml.qnode(dev)\n",
        "def qnode(inputs, weights):\n",
        "    qml.AmplitudeEmbedding(inputs, wires=range(n_qubits), normalize=True)\n",
        "    qml.BasicEntanglerLayers(weights, wires=range(n_qubits))\n",
        "    return [qml.expval(qml.PauliZ(wires=i)) for i in range(n_qubits)]\n",
        "\n",
        "n_layers = 6\n",
        "weight_shapes = {\"weights\": (n_layers, n_qubits)}"
      ]
    },
    {
      "cell_type": "code",
      "execution_count": 6,
      "metadata": {
        "id": "dEbE8osu5ESd"
      },
      "outputs": [],
      "source": [
        "qlayer = qml.qnn.TorchLayer(qnode, weight_shapes) \n",
        "\n",
        "clayer_1 = torch.nn.Linear(256, 256) \n",
        "clayer_2 = torch.nn.Linear(8, 2) \n",
        "softmax = torch.nn.Softmax(dim=1) \n",
        "\n",
        "layers = [clayer_1, qlayer, clayer_2, softmax]\n",
        "model = torch.nn.Sequential(*layers)\n",
        "\n",
        "opt = torch.optim.SGD(model.parameters(), lr=0.1)\n",
        "loss = torch.nn.L1Loss()"
      ]
    },
    {
      "cell_type": "code",
      "execution_count": 7,
      "metadata": {
        "colab": {
          "base_uri": "https://localhost:8080/"
        },
        "id": "RJYSaMdH92h7",
        "outputId": "31920258-b197-4bc6-ae80-14b77b1b7cc3"
      },
      "outputs": [
        {
          "name": "stdout",
          "output_type": "stream",
          "text": [
            "Total trainable parameters: 65858\n",
            "<generator object Module.parameters at 0x7f40a97cf0d0>\n"
          ]
        }
      ],
      "source": [
        "total_params = sum(p.numel() for p in model.parameters() if p.requires_grad)\n",
        "print(f\"Total trainable parameters: {total_params}\")\n",
        "\n",
        "print(model[1].parameters())  "
      ]
    },
    {
      "cell_type": "code",
      "execution_count": 8,
      "metadata": {
        "colab": {
          "base_uri": "https://localhost:8080/"
        },
        "id": "_bg_7CIp5EPi",
        "outputId": "6fe97143-39e8-4a48-bb07-f890595320da"
      },
      "outputs": [
        {
          "name": "stdout",
          "output_type": "stream",
          "text": [
            "Average loss over epoch 1: 0.4998\n",
            "Average loss over epoch 2: 0.4957\n",
            "Average loss over epoch 3: 0.4767\n",
            "Average loss over epoch 4: 0.4469\n",
            "Average loss over epoch 5: 0.4320\n",
            "Average loss over epoch 6: 0.4258\n",
            "Average loss over epoch 7: 0.4207\n",
            "Average loss over epoch 8: 0.4117\n",
            "Average loss over epoch 9: 0.4141\n",
            "Average loss over epoch 10: 0.4068\n",
            "Average loss over epoch 11: 0.4103\n",
            "Average loss over epoch 12: 0.4044\n",
            "Average loss over epoch 13: 0.4001\n",
            "Average loss over epoch 14: 0.3993\n",
            "Average loss over epoch 15: 0.4122\n",
            "Average loss over epoch 16: 0.3965\n",
            "Average loss over epoch 17: 0.3968\n",
            "Average loss over epoch 18: 0.3985\n",
            "Average loss over epoch 19: 0.4015\n",
            "Average loss over epoch 20: 0.3956\n",
            "Average loss over epoch 21: 0.3949\n",
            "Average loss over epoch 22: 0.3925\n",
            "Average loss over epoch 23: 0.3931\n",
            "Average loss over epoch 24: 0.3907\n",
            "Average loss over epoch 25: 0.3930\n"
          ]
        }
      ],
      "source": [
        "import torch\n",
        "import torch.nn.functional as F\n",
        "\n",
        "num_classes = 2\n",
        "samples = 20000\n",
        "y_train_one_hot = F.one_hot(y_train[:samples].to(torch.int64), num_classes=num_classes) \n",
        "\n",
        "X = X_train[:samples].reshape(samples, 16*16).float().requires_grad_(True)\n",
        "y_hot = y_train_one_hot.long()\n",
        "\n",
        "\n",
        "batch_size = 128\n",
        "batches = samples // batch_size\n",
        "\n",
        "data_loader = torch.utils.data.DataLoader(\n",
        "    list(zip(X, y_hot)), batch_size=batch_size, shuffle=True, drop_last=True\n",
        ")\n",
        "\n",
        "epochs = 25\n",
        "\n",
        "for epoch in range(epochs):\n",
        "    running_loss = 0\n",
        "    for xs, ys in data_loader:\n",
        "        opt.zero_grad()\n",
        "        y_pred = model(xs)\n",
        "        loss_evaluated = loss(y_pred, ys)\n",
        "        loss_evaluated.backward()\n",
        "        opt.step()\n",
        "        running_loss += loss_evaluated.item()\n",
        "    avg_loss = running_loss / batches \n",
        "    print(\"Average loss over epoch {}: {:.4f}\".format(epoch + 1, avg_loss))\n"
      ]
    },
    {
      "cell_type": "code",
      "execution_count": 14,
      "metadata": {
        "colab": {
          "base_uri": "https://localhost:8080/"
        },
        "id": "wtvk1SQu5TiT",
        "outputId": "247181ff-bf23-4b88-93fa-cc9095d8c0df"
      },
      "outputs": [
        {
          "name": "stdout",
          "output_type": "stream",
          "text": [
            "Accuracy: 61.199999999999996%\n"
          ]
        }
      ],
      "source": [
        "samples = 5000\n",
        "X = X_train[:samples].reshape(samples, 16*16).float().requires_grad_(True)\n",
        "\n",
        "y_pred = model(X)\n",
        "\n",
        "_, y_pred_classes = torch.max(y_pred, dim=1)\n",
        "y_pred_classes = y_pred_classes.detach().numpy()\n",
        "\n",
        "correct = (y_pred_classes == y_train[:samples].numpy()).sum()\n",
        "accuracy = correct / len(y_train[:samples])\n",
        "print(f\"Accuracy: {accuracy * 100}%\")"
      ]
    },
    {
      "cell_type": "code",
      "execution_count": 15,
      "metadata": {
        "colab": {
          "base_uri": "https://localhost:8080/",
          "height": 449
        },
        "id": "hHD1XCOdLV9J",
        "outputId": "88a5d3cd-ceb5-4391-af10-88f1846e9c2f"
      },
      "outputs": [
        {
          "data": {
            "image/png": "[encoded data removed]",
            "text/plain": [
              "<Figure size 640x480 with 2 Axes>"
            ]
          },
          "metadata": {},
          "output_type": "display_data"
        }
      ],
      "source": [
        "from sklearn.metrics import confusion_matrix, ConfusionMatrixDisplay\n",
        "\n",
        "test_samples = 1000\n",
        "X_test = X_test[:test_samples].reshape(test_samples, 16*16).float().requires_grad_(True)\n",
        "\n",
        "y_pred = model(X_test)\n",
        "_, y_pred_classes = torch.max(y_pred, dim=1)\n",
        "y_pred_classes = y_pred_classes.detach().numpy()\n",
        "\n",
        "cm = confusion_matrix(y_test[:test_samples], y_pred_classes)\n",
        "\n",
        "disp = ConfusionMatrixDisplay(confusion_matrix=cm)\n",
        "disp.plot()\n",
        "plt.show()"
      ]
    }
  ],
  "metadata": {
    "colab": {
      "provenance": []
    },
    "kernelspec": {
      "display_name": "Python 3",
      "name": "python3"
    },
    "language_info": {
      "codemirror_mode": {
        "name": "ipython",
        "version": 3
      },
      "file_extension": ".py",
      "mimetype": "text/x-python",
      "name": "python",
      "nbconvert_exporter": "python",
      "pygments_lexer": "ipython3",
      "version": "3.10.13"
    }
  },
  "nbformat": 4,
  "nbformat_minor": 0
}
