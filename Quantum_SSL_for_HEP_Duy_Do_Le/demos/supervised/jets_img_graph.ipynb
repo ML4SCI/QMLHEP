{
 "cells": [
  {
   "cell_type": "code",
   "execution_count": 1,
   "metadata": {},
   "outputs": [
    {
     "name": "stdout",
     "output_type": "stream",
     "text": [
      "Device: cuda\n",
      "Device: cuda\n",
      "<KeysViewHDF5 ['X_jets', 'm0', 'pt', 'y']>\n",
      "<KeysViewHDF5 ['X', 'y']>\n",
      "<KeysViewHDF5 ['X_jets', 'm0', 'pt', 'y']>\n"
     ]
    }
   ],
   "source": [
    "import matplotlib.pyplot as plt\n",
    "plt.rcParams.update({'font.size': 14})\n",
    "\n",
    "import h5py\n",
    "\n",
    "import importlib\n",
    "import models, utils\n",
    "importlib.reload(models)\n",
    "importlib.reload(utils)\n",
    "from models import *\n",
    "from utils import *\n",
    "torch.set_float32_matmul_precision('medium')\n",
    "f_train = h5py.File(\"../data/QG_Images/quark-gluon_train-set_n793900.hdf5\",\"r\")\n",
    "f_test_1 = h5py.File(\"../data/QG_Images/quark-gluon_test-set_n10000.hdf5\",\"r\")\n",
    "f_test_2 = h5py.File(\"../data/QG_Images/quark-gluon_test-set_n139306.hdf5\",\"r\")\n",
    "\n",
    "print(f_train.keys())\n",
    "print(f_test_1.keys())\n",
    "print(f_test_2.keys())"
   ]
  },
  {
   "cell_type": "code",
   "execution_count": 2,
   "metadata": {},
   "outputs": [],
   "source": [
    "X_train = f_train.get(\"X_jets\")\n",
    "y_train = f_train.get(\"y\")\n",
    "\n",
    "X_test1 = f_test_1.get(\"X\")\n",
    "y_test1 = f_test_1.get(\"y\")\n",
    "\n",
    "X_test2 = f_test_2.get(\"X_jets\")\n",
    "y_test2 = f_test_2.get(\"y\")\n",
    "pt_test2 = f_test_2.get(\"pt\")\n",
    "m_test2 = f_test_2.get(\"m0\")"
   ]
  },
  {
   "cell_type": "code",
   "execution_count": 3,
   "metadata": {},
   "outputs": [
    {
     "name": "stdout",
     "output_type": "stream",
     "text": [
      "793900 10000 139306\n"
     ]
    }
   ],
   "source": [
    "print(len(X_train), len(X_test1), len(X_test2))"
   ]
  },
  {
   "cell_type": "code",
   "execution_count": 4,
   "metadata": {},
   "outputs": [
    {
     "name": "stdout",
     "output_type": "stream",
     "text": [
      "[107.45191  133.12431   88.46564  111.72106  110.947655 111.129745\n",
      "  87.034294  90.747     93.22315  105.96356 ]\n"
     ]
    }
   ],
   "source": [
    "pt_test2.shape\n",
    "\n",
    "print(pt_test2[:10])"
   ]
  },
  {
   "cell_type": "code",
   "execution_count": 5,
   "metadata": {},
   "outputs": [
    {
     "data": {
      "text/plain": [
       "(139306,)"
      ]
     },
     "execution_count": 5,
     "metadata": {},
     "output_type": "execute_result"
    }
   ],
   "source": [
    "m_test2.shape"
   ]
  },
  {
   "cell_type": "code",
   "execution_count": 6,
   "metadata": {},
   "outputs": [],
   "source": [
    "# visualize_average_images(X_train[:10000], y_train[:10000])\n",
    "# visualize_average_images(X_train[:10000], y_train[:10000], num=1)\n",
    "\n",
    "# visualize_diff_average_images(X_train[:10000], y_train[:10000])"
   ]
  },
  {
   "cell_type": "code",
   "execution_count": 7,
   "metadata": {},
   "outputs": [
    {
     "name": "stdout",
     "output_type": "stream",
     "text": [
      "Data(x=[425, 1], y=[1], pos=[425, 2], num_nodes=425)\n",
      "Data(x=[425, 1], y=[1], pos=[425, 2], num_nodes=425)\n",
      "Data(x=[450, 1], y=[1], pos=[450, 2], num_nodes=450)\n"
     ]
    },
    {
     "name": "stderr",
     "output_type": "stream",
     "text": [
      "Processing...\n",
      "Done!\n"
     ]
    }
   ],
   "source": [
    "dataset = QG_Images(images=X_test1[:5, :, :, 2], labels=y_test1)\n",
    "print(dataset[0])\n",
    "print(dataset[1])\n",
    "print(dataset[2])"
   ]
  },
  {
   "cell_type": "code",
   "execution_count": 8,
   "metadata": {},
   "outputs": [
    {
     "name": "stdout",
     "output_type": "stream",
     "text": [
      "Data(x=[269, 1], y=[1], pos=[269, 2], num_nodes=269)\n",
      "Data(x=[432, 1], y=[1], pos=[432, 2], num_nodes=432)\n"
     ]
    },
    {
     "name": "stderr",
     "output_type": "stream",
     "text": [
      "Processing...\n",
      "Done!\n"
     ]
    }
   ],
   "source": [
    "dataset = QG_Images(images=X_test1[:5, :, :, 1], labels=y_test1)\n",
    "print(dataset[0])\n",
    "print(dataset[1])"
   ]
  },
  {
   "cell_type": "code",
   "execution_count": 9,
   "metadata": {},
   "outputs": [
    {
     "name": "stderr",
     "output_type": "stream",
     "text": [
      "Processing...\n",
      "Done!\n"
     ]
    },
    {
     "name": "stdout",
     "output_type": "stream",
     "text": [
      "10000\n",
      "Data(x=[59, 1], y=[1], pos=[59, 2], num_nodes=59)\n",
      "Data(x=[78, 1], y=[1], pos=[78, 2], num_nodes=78)\n",
      "tensor(0.0013) tensor(13.3948)\n"
     ]
    }
   ],
   "source": [
    "dataset = QG_Images(images=X_test1[:, :, :, 0], labels=y_test1)\n",
    "print(len(dataset))\n",
    "print(dataset[0])\n",
    "print(dataset[1])\n",
    "print(torch.min(dataset[:].x), torch.max(dataset[:].x))"
   ]
  },
  {
   "cell_type": "markdown",
   "metadata": {},
   "source": [
    "## Contrastive"
   ]
  },
  {
   "cell_type": "code",
   "execution_count": 10,
   "metadata": {},
   "outputs": [],
   "source": [
    "EPOCH = 5"
   ]
  },
  {
   "cell_type": "code",
   "execution_count": 11,
   "metadata": {},
   "outputs": [
    {
     "name": "stderr",
     "output_type": "stream",
     "text": [
      "Processing...\n"
     ]
    }
   ],
   "source": [
    "from qml_ssl.utils import vmf_kde_on_circle, pca_proj, tsne_proj, plot_training\n",
    "\n",
    "\n",
    "dataset = QG_Images(images=X_test1[:, :, :, 0], labels=y_test1)\n",
    "total_size = 10000\n",
    "dataset = dataset[:total_size]\n",
    "\n",
    "train_size = int(0.6 * total_size)\n",
    "val_size = int(0.2 * total_size)\n",
    "test_size = int(0.2 * total_size)\n",
    "\n",
    "batch_size = 32\n",
    "\n",
    "k = 15\n",
    "\n",
    "dataset.transform = T.Compose([TopKIntensity(k=k), KNNGroup(k=15, attr_name='x')])\n",
    "sample = dataset[10]\n",
    "print(sample)\n",
    "\n",
    "print(f'Node degree: {sample.num_edges / sample.num_nodes:.2f}')\n",
    "print(f'Has isolated nodes: {sample.has_isolated_nodes()}')\n",
    "print(f'Has self-loops: {sample.has_self_loops()}')\n",
    "print(f'Is undirected: {sample.is_undirected()}')\n",
    "nx.draw(pyg.utils.to_networkx(dataset[10]))\n",
    "plt.show()\n",
    "\n",
    "train_dataset, val_dataset, test_dataset = torch.utils.data.random_split(dataset, [train_size, val_size, test_size])\n",
    "\n",
    "train_loader = pyg_loader.DataLoader(train_dataset, batch_size=batch_size, num_workers = 4)\n",
    "val_loader = pyg_loader.DataLoader(val_dataset, batch_size=batch_size, num_workers = 4)\n",
    "test_loader = pyg_loader.DataLoader(test_dataset, batch_size=batch_size, num_workers = 4)\n",
    "\n",
    "gcn_encoder = GCN_Encoder()\n",
    "\n",
    "Contrastive_Graph_pl = ModelPL_Contrastive(model=gcn_encoder, learning_rate=0.001)\n",
    "\n",
    "logger = pl.loggers.CSVLogger(save_dir='logs', name='Contrastive_Graph_image_pl', version=0)\n",
    "\n",
    "summary_callback = pl.callbacks.ModelSummary(max_depth=8)\n",
    "callbacks = [summary_callback]\n",
    "\n",
    "# embeddings, labels = generate_embeddings(Contrastive_Graph_pl, val_loader)\n",
    "# pca_proj(embeddings, labels)\n",
    "# # tsne_proj(embeddings, labels)\n",
    "# vmf_kde_on_circle(embeddings, labels)"
   ]
  },
  {
   "cell_type": "code",
   "execution_count": 12,
   "metadata": {},
   "outputs": [
    {
     "name": "stderr",
     "output_type": "stream",
     "text": [
      "Trainer already configured with model summary callbacks: [<class 'pytorch_lightning.callbacks.model_summary.ModelSummary'>]. Skipping setting a default `ModelSummary` callback.\n",
      "GPU available: True (cuda), used: True\n",
      "TPU available: False, using: 0 TPU cores\n",
      "HPU available: False, using: 0 HPUs\n",
      "/home/duydl/Miniconda3/envs/py310_qml/lib/python3.10/site-packages/lightning_fabric/loggers/csv_logs.py:268: Experiment logs directory logs/Contrastive_Graph_image_pl/version_0 exists and is not empty. Previous log files in this directory will be deleted when the new ones are saved!\n",
      "/home/duydl/Miniconda3/envs/py310_qml/lib/python3.10/site-packages/pytorch_lightning/callbacks/model_checkpoint.py:654: Checkpoint directory logs/Contrastive_Graph_image_pl/version_0/checkpoints exists and is not empty.\n",
      "LOCAL_RANK: 0 - CUDA_VISIBLE_DEVICES: [0]\n",
      "\n",
      "   | Name                          | Type                 | Params | Mode \n",
      "--------------------------------------------------------------------------------\n",
      "0  | model                         | GCN_Encoder          | 1.4 K  | train\n",
      "1  | model.conv1                   | Custom_GCN           | 324    | train\n",
      "2  | model.conv1.aggr_module       | SumAggregation       | 0      | train\n",
      "3  | model.conv1.mlp               | Sequential           | 208    | train\n",
      "4  | model.conv1.mlp.0             | Linear               | 136    | train\n",
      "5  | model.conv1.mlp.1             | ReLU                 | 0      | train\n",
      "6  | model.conv1.mlp.2             | Linear               | 72     | train\n",
      "7  | model.conv1.pixel_embedding   | Sequential           | 28     | train\n",
      "8  | model.conv1.pixel_embedding.0 | Linear               | 8      | train\n",
      "9  | model.conv1.pixel_embedding.1 | ReLU                 | 0      | train\n",
      "10 | model.conv1.pixel_embedding.2 | Linear               | 20     | train\n",
      "11 | model.conv1.dist_embedding    | Sequential           | 88     | train\n",
      "12 | model.conv1.dist_embedding.0  | Linear               | 16     | train\n",
      "13 | model.conv1.dist_embedding.1  | ReLU                 | 0      | train\n",
      "14 | model.conv1.dist_embedding.2  | Linear               | 72     | train\n",
      "15 | model.conv2                   | Custom_GCN2          | 904    | train\n",
      "16 | model.conv2.aggr_module       | SumAggregation       | 0      | train\n",
      "17 | model.conv2.mlp               | Sequential           | 672    | train\n",
      "18 | model.conv2.mlp.0             | Linear               | 400    | train\n",
      "19 | model.conv2.mlp.1             | ReLU                 | 0      | train\n",
      "20 | model.conv2.mlp.2             | Linear               | 272    | train\n",
      "21 | model.conv2.pixel_embedding   | Sequential           | 144    | train\n",
      "22 | model.conv2.pixel_embedding.0 | Linear               | 72     | train\n",
      "23 | model.conv2.pixel_embedding.1 | ReLU                 | 0      | train\n",
      "24 | model.conv2.pixel_embedding.2 | Linear               | 72     | train\n",
      "25 | model.conv2.dist_embedding    | Sequential           | 88     | train\n",
      "26 | model.conv2.dist_embedding.0  | Linear               | 16     | train\n",
      "27 | model.conv2.dist_embedding.1  | ReLU                 | 0      | train\n",
      "28 | model.conv2.dist_embedding.2  | Linear               | 72     | train\n",
      "29 | model.readout                 | MLP                  | 216    | train\n",
      "30 | model.readout.act             | ReLU                 | 0      | train\n",
      "31 | model.readout.lins            | ModuleList           | 200    | train\n",
      "32 | model.readout.lins.0          | Linear               | 128    | train\n",
      "33 | model.readout.lins.1          | Linear               | 72     | train\n",
      "34 | model.readout.norms           | ModuleList           | 16     | train\n",
      "35 | model.readout.norms.0         | BatchNorm            | 16     | train\n",
      "36 | model.readout.norms.0.module  | BatchNorm1d          | 16     | train\n",
      "37 | criterion_alt                 | NTXentLoss           | 0      | train\n",
      "38 | criterion_alt.distance        | CosineSimilarity     | 0      | train\n",
      "39 | criterion_alt.reducer         | MeanReducer          | 0      | train\n",
      "40 | criterion                     | NTXentLoss           | 0      | train\n",
      "41 | criterion.distance            | DotProductSimilarity | 0      | train\n",
      "42 | criterion.reducer             | MeanReducer          | 0      | train\n",
      "43 | train_loss                    | MeanMetric           | 0      | train\n",
      "44 | train_loss_alt                | MeanMetric           | 0      | train\n",
      "45 | val_loss                      | MeanMetric           | 0      | train\n",
      "--------------------------------------------------------------------------------\n",
      "1.4 K     Trainable params\n",
      "0         Non-trainable params\n",
      "1.4 K     Total params\n",
      "0.006     Total estimated model params size (MB)\n",
      "46        Modules in train mode\n",
      "0         Modules in eval mode\n"
     ]
    },
    {
     "name": "stdout",
     "output_type": "stream",
     "text": [
      "Sanity Checking DataLoader 0:   0%|          | 0/2 [00:00<?, ?it/s]tensor([[1.0000, 0.9978, 0.9944,  ..., 0.9951, 0.9998, 0.9964],\n",
      "        [0.9978, 1.0000, 0.9992,  ..., 0.9994, 0.9988, 0.9998],\n",
      "        [0.9944, 0.9992, 1.0000,  ..., 1.0000, 0.9961, 0.9998],\n",
      "        ...,\n",
      "        [0.9951, 0.9994, 1.0000,  ..., 1.0000, 0.9967, 0.9999],\n",
      "        [0.9998, 0.9988, 0.9961,  ..., 0.9967, 1.0000, 0.9978],\n",
      "        [0.9964, 0.9998, 0.9998,  ..., 0.9999, 0.9978, 1.0000]],\n",
      "       device='cuda:0')\n",
      "tensor([[1.0000, 0.9978, 0.9944,  ..., 0.9951, 0.9998, 0.9964],\n",
      "        [0.9978, 1.0000, 0.9992,  ..., 0.9994, 0.9988, 0.9998],\n",
      "        [0.9944, 0.9992, 1.0000,  ..., 1.0000, 0.9961, 0.9998],\n",
      "        ...,\n",
      "        [0.9951, 0.9994, 1.0000,  ..., 1.0000, 0.9967, 0.9999],\n",
      "        [0.9998, 0.9988, 0.9961,  ..., 0.9967, 1.0000, 0.9978],\n",
      "        [0.9964, 0.9998, 0.9998,  ..., 0.9999, 0.9978, 1.0000]],\n",
      "       device='cuda:0')\n",
      "{'loss': {'losses': tensor([2.7674, 2.7715, 2.7690, 2.7712, 2.7739, 2.7670, 2.7699, 2.7735, 2.7679,\n",
      "        2.7708, 2.7700, 2.7681, 2.7669, 2.7705, 2.7743, 2.7654, 2.8901, 2.8888,\n",
      "        2.8893, 2.8891, 2.8893, 2.8892, 2.8891, 2.8899, 2.8897, 2.8897, 2.8900,\n",
      "        2.8902, 2.8887, 2.8890, 2.8879, 2.8870, 2.8866, 2.8867, 2.8865, 2.8901,\n",
      "        2.8867, 2.8864, 2.8864, 2.8864, 2.8864, 2.8864, 2.8876, 2.8868, 2.7732,\n",
      "        2.7720, 2.7711, 2.7719, 2.7731, 2.7709, 2.7846, 2.7728, 2.7710, 2.7718,\n",
      "        2.7715, 2.7710, 2.7709, 2.7716, 2.7733, 2.7719, 2.7787, 2.7733, 2.7726,\n",
      "        2.7723, 2.7725, 2.7736, 2.7946, 2.7724, 2.7731, 2.7724, 2.7725, 2.7729,\n",
      "        2.7737, 2.7723, 2.7726, 2.7762, 2.8884, 2.8889, 2.8884, 2.8883, 2.8884,\n",
      "        2.8895, 2.8883, 2.8887, 2.8886, 2.8886, 2.8888, 2.8889, 2.8883, 2.8882,\n",
      "        2.8881, 2.8877, 2.8877, 2.8875, 2.8875, 2.8898, 2.8876, 2.8876, 2.8875,\n",
      "        2.8876, 2.8876, 2.8877, 2.8880, 2.8876, 2.8882, 2.8882, 2.8879, 2.8879,\n",
      "        2.8879, 2.8896, 2.8879, 2.8881, 2.8880, 2.8880, 2.8881, 2.8882, 2.8882,\n",
      "        2.8879, 2.7757, 2.7720, 2.7721, 2.7721, 2.7728, 2.7722, 2.7892, 2.7727,\n",
      "        2.7720, 2.7720, 2.7719, 2.7719, 2.7722, 2.7719, 2.7729, 2.7738, 2.7784,\n",
      "        2.7732, 2.7723, 2.7725, 2.7725, 2.7735, 2.7942, 2.7725, 2.7729, 2.7722,\n",
      "        2.7723, 2.7728, 2.7736, 2.7723, 2.7726, 2.7759, 2.8881, 2.8876, 2.8876,\n",
      "        2.8875, 2.8875, 2.8898, 2.8875, 2.8875, 2.8875, 2.8875, 2.8876, 2.8876,\n",
      "        2.8880, 2.8875, 2.8891, 2.8923, 2.8899, 2.8909, 2.8904, 2.8909, 2.8905,\n",
      "        2.8920, 2.8915, 2.8916, 2.8921, 2.8924, 2.8893, 2.8902, 2.8882, 2.8882,\n",
      "        2.8879, 2.8879, 2.8878, 2.8879, 2.8896, 2.8881, 2.8880, 2.8880, 2.8881,\n",
      "        2.8882, 2.8882, 2.8878, 2.8879, 2.8867, 2.8872, 2.8868, 2.8869, 2.8868,\n",
      "        2.8900, 2.8869, 2.8867, 2.8867, 2.8867, 2.8867, 2.8877, 2.8870, 2.8880,\n",
      "        2.8871, 2.8874, 2.8871, 2.8872, 2.8870, 2.8899, 2.8872, 2.8870, 2.8870,\n",
      "        2.8871, 2.8871, 2.8878, 2.8872, 2.8880, 2.8870, 2.8873, 2.8870, 2.8871,\n",
      "        2.8870, 2.8899, 2.8871, 2.8869, 2.8869, 2.8869, 2.8870, 2.8878, 2.8871,\n",
      "        2.7811, 2.7744, 2.7724, 2.7732, 2.7725, 2.7748, 2.7989, 2.7723, 2.7740,\n",
      "        2.7726, 2.7729, 2.7737, 2.7749, 2.7727, 2.7723, 2.7781, 2.7726, 2.7706,\n",
      "        2.7719, 2.7710, 2.7719, 2.7731, 2.7834, 2.7729, 2.7708, 2.7717, 2.7714,\n",
      "        2.7707, 2.7706, 2.7715, 2.7733, 2.7713, 2.7534, 2.7622, 2.7708, 2.7659,\n",
      "        2.7704, 2.7752, 2.7613, 2.7744, 2.7636, 2.7695, 2.7680, 2.7640, 2.7609,\n",
      "        2.7689, 2.7758, 2.7561, 2.7807, 2.7742, 2.7724, 2.7731, 2.7725, 2.7723,\n",
      "        2.7746, 2.7982, 2.7739, 2.7726, 2.7728, 2.7736, 2.7747, 2.7726, 2.7723,\n",
      "        2.7778, 2.8879, 2.8866, 2.8871, 2.8867, 2.8868, 2.8867, 2.8900, 2.8868,\n",
      "        2.8866, 2.8866, 2.8866, 2.8866, 2.8877, 2.8869, 2.7741, 2.7714, 2.7720,\n",
      "        2.7714, 2.7719, 2.7729, 2.7715, 2.7863, 2.7728, 2.7717, 2.7715, 2.7713,\n",
      "        2.7714, 2.7717, 2.7732, 2.7725, 2.7779, 2.7730, 2.7723, 2.7724, 2.7722,\n",
      "        2.7726, 2.7733, 2.7932, 2.7725, 2.7727, 2.7722, 2.7726, 2.7733, 2.7722,\n",
      "        2.7727, 2.7755, 2.7769, 2.7726, 2.7722, 2.7721, 2.7721, 2.7726, 2.7729,\n",
      "        2.7916, 2.7726, 2.7723, 2.7721, 2.7723, 2.7729, 2.7721, 2.7728, 2.7748,\n",
      "        2.7745, 2.7715, 2.7720, 2.7715, 2.7720, 2.7729, 2.7716, 2.7869, 2.7728,\n",
      "        2.7715, 2.7719, 2.7717, 2.7716, 2.7718, 2.7731, 2.7728, 2.7723, 2.7705,\n",
      "        2.7719, 2.7709, 2.7718, 2.7732, 2.7705, 2.7829, 2.7729, 2.7707, 2.7716,\n",
      "        2.7713, 2.7706, 2.7715, 2.7734, 2.7711, 2.8879, 2.8863, 2.8870, 2.8865,\n",
      "        2.8867, 2.8865, 2.8901, 2.8867, 2.8864, 2.8864, 2.8864, 2.8863, 2.8876,\n",
      "        2.8868, 2.7776, 2.7729, 2.7722, 2.7723, 2.7722, 2.7726, 2.7731, 2.7926,\n",
      "        2.7725, 2.7726, 2.7722, 2.7722, 2.7725, 2.7732, 2.7727, 2.7753, 2.8886,\n",
      "        2.8898, 2.8887, 2.8891, 2.8889, 2.8891, 2.8892, 2.8889, 2.8896, 2.8894,\n",
      "        2.8894, 2.8897, 2.8899, 2.8888, 2.7815, 2.7745, 2.7725, 2.7733, 2.7726,\n",
      "        2.7722, 2.7749, 2.7996, 2.7722, 2.7742, 2.7727, 2.7730, 2.7739, 2.7751,\n",
      "        2.7727, 2.7784, 2.7680, 2.7687, 2.7716, 2.7698, 2.7715, 2.7736, 2.7685,\n",
      "        2.7754, 2.7733, 2.7690, 2.7711, 2.7705, 2.7692, 2.7684, 2.7709, 2.7740,\n",
      "        2.8883, 2.8884, 2.8880, 2.8880, 2.8880, 2.8880, 2.8896, 2.8880, 2.8883,\n",
      "        2.8882, 2.8882, 2.8883, 2.8884, 2.8882], device='cuda:0'), 'indices': (tensor([ 0,  0,  0,  0,  0,  0,  0,  0,  0,  0,  0,  0,  0,  0,  0,  0,  1,  1,\n",
      "         1,  1,  1,  1,  1,  1,  1,  1,  1,  1,  1,  1,  2,  2,  2,  2,  2,  2,\n",
      "         2,  2,  2,  2,  2,  2,  2,  2,  3,  3,  3,  3,  3,  3,  3,  3,  3,  3,\n",
      "         3,  3,  3,  3,  3,  3,  4,  4,  4,  4,  4,  4,  4,  4,  4,  4,  4,  4,\n",
      "         4,  4,  4,  4,  5,  5,  5,  5,  5,  5,  5,  5,  5,  5,  5,  5,  5,  5,\n",
      "         6,  6,  6,  6,  6,  6,  6,  6,  6,  6,  6,  6,  6,  6,  7,  7,  7,  7,\n",
      "         7,  7,  7,  7,  7,  7,  7,  7,  7,  7,  8,  8,  8,  8,  8,  8,  8,  8,\n",
      "         8,  8,  8,  8,  8,  8,  8,  8,  9,  9,  9,  9,  9,  9,  9,  9,  9,  9,\n",
      "         9,  9,  9,  9,  9,  9, 10, 10, 10, 10, 10, 10, 10, 10, 10, 10, 10, 10,\n",
      "        10, 10, 11, 11, 11, 11, 11, 11, 11, 11, 11, 11, 11, 11, 11, 11, 12, 12,\n",
      "        12, 12, 12, 12, 12, 12, 12, 12, 12, 12, 12, 12, 13, 13, 13, 13, 13, 13,\n",
      "        13, 13, 13, 13, 13, 13, 13, 13, 14, 14, 14, 14, 14, 14, 14, 14, 14, 14,\n",
      "        14, 14, 14, 14, 15, 15, 15, 15, 15, 15, 15, 15, 15, 15, 15, 15, 15, 15,\n",
      "        16, 16, 16, 16, 16, 16, 16, 16, 16, 16, 16, 16, 16, 16, 16, 16, 17, 17,\n",
      "        17, 17, 17, 17, 17, 17, 17, 17, 17, 17, 17, 17, 17, 17, 18, 18, 18, 18,\n",
      "        18, 18, 18, 18, 18, 18, 18, 18, 18, 18, 18, 18, 19, 19, 19, 19, 19, 19,\n",
      "        19, 19, 19, 19, 19, 19, 19, 19, 19, 19, 20, 20, 20, 20, 20, 20, 20, 20,\n",
      "        20, 20, 20, 20, 20, 20, 21, 21, 21, 21, 21, 21, 21, 21, 21, 21, 21, 21,\n",
      "        21, 21, 21, 21, 22, 22, 22, 22, 22, 22, 22, 22, 22, 22, 22, 22, 22, 22,\n",
      "        22, 22, 23, 23, 23, 23, 23, 23, 23, 23, 23, 23, 23, 23, 23, 23, 23, 23,\n",
      "        24, 24, 24, 24, 24, 24, 24, 24, 24, 24, 24, 24, 24, 24, 24, 24, 25, 25,\n",
      "        25, 25, 25, 25, 25, 25, 25, 25, 25, 25, 25, 25, 25, 25, 26, 26, 26, 26,\n",
      "        26, 26, 26, 26, 26, 26, 26, 26, 26, 26, 27, 27, 27, 27, 27, 27, 27, 27,\n",
      "        27, 27, 27, 27, 27, 27, 27, 27, 28, 28, 28, 28, 28, 28, 28, 28, 28, 28,\n",
      "        28, 28, 28, 28, 29, 29, 29, 29, 29, 29, 29, 29, 29, 29, 29, 29, 29, 29,\n",
      "        29, 29, 30, 30, 30, 30, 30, 30, 30, 30, 30, 30, 30, 30, 30, 30, 30, 30,\n",
      "        31, 31, 31, 31, 31, 31, 31, 31, 31, 31, 31, 31, 31, 31],\n",
      "       device='cuda:0'), tensor([ 3,  4,  8,  9, 16, 17, 18, 19, 21, 22, 23, 24, 25, 27, 29, 30,  2,  5,\n",
      "         6,  7, 10, 11, 12, 13, 14, 15, 20, 26, 28, 31,  1,  5,  6,  7, 10, 11,\n",
      "        12, 13, 14, 15, 20, 26, 28, 31,  0,  4,  8,  9, 16, 17, 18, 19, 21, 22,\n",
      "        23, 24, 25, 27, 29, 30,  0,  3,  8,  9, 16, 17, 18, 19, 21, 22, 23, 24,\n",
      "        25, 27, 29, 30,  1,  2,  6,  7, 10, 11, 12, 13, 14, 15, 20, 26, 28, 31,\n",
      "         1,  2,  5,  7, 10, 11, 12, 13, 14, 15, 20, 26, 28, 31,  1,  2,  5,  6,\n",
      "        10, 11, 12, 13, 14, 15, 20, 26, 28, 31,  0,  3,  4,  9, 16, 17, 18, 19,\n",
      "        21, 22, 23, 24, 25, 27, 29, 30,  0,  3,  4,  8, 16, 17, 18, 19, 21, 22,\n",
      "        23, 24, 25, 27, 29, 30,  1,  2,  5,  6,  7, 11, 12, 13, 14, 15, 20, 26,\n",
      "        28, 31,  1,  2,  5,  6,  7, 10, 12, 13, 14, 15, 20, 26, 28, 31,  1,  2,\n",
      "         5,  6,  7, 10, 11, 13, 14, 15, 20, 26, 28, 31,  1,  2,  5,  6,  7, 10,\n",
      "        11, 12, 14, 15, 20, 26, 28, 31,  1,  2,  5,  6,  7, 10, 11, 12, 13, 15,\n",
      "        20, 26, 28, 31,  1,  2,  5,  6,  7, 10, 11, 12, 13, 14, 20, 26, 28, 31,\n",
      "         0,  3,  4,  8,  9, 17, 18, 19, 21, 22, 23, 24, 25, 27, 29, 30,  0,  3,\n",
      "         4,  8,  9, 16, 18, 19, 21, 22, 23, 24, 25, 27, 29, 30,  0,  3,  4,  8,\n",
      "         9, 16, 17, 19, 21, 22, 23, 24, 25, 27, 29, 30,  0,  3,  4,  8,  9, 16,\n",
      "        17, 18, 21, 22, 23, 24, 25, 27, 29, 30,  1,  2,  5,  6,  7, 10, 11, 12,\n",
      "        13, 14, 15, 26, 28, 31,  0,  3,  4,  8,  9, 16, 17, 18, 19, 22, 23, 24,\n",
      "        25, 27, 29, 30,  0,  3,  4,  8,  9, 16, 17, 18, 19, 21, 23, 24, 25, 27,\n",
      "        29, 30,  0,  3,  4,  8,  9, 16, 17, 18, 19, 21, 22, 24, 25, 27, 29, 30,\n",
      "         0,  3,  4,  8,  9, 16, 17, 18, 19, 21, 22, 23, 25, 27, 29, 30,  0,  3,\n",
      "         4,  8,  9, 16, 17, 18, 19, 21, 22, 23, 24, 27, 29, 30,  1,  2,  5,  6,\n",
      "         7, 10, 11, 12, 13, 14, 15, 20, 28, 31,  0,  3,  4,  8,  9, 16, 17, 18,\n",
      "        19, 21, 22, 23, 24, 25, 29, 30,  1,  2,  5,  6,  7, 10, 11, 12, 13, 14,\n",
      "        15, 20, 26, 31,  0,  3,  4,  8,  9, 16, 17, 18, 19, 21, 22, 23, 24, 25,\n",
      "        27, 30,  0,  3,  4,  8,  9, 16, 17, 18, 19, 21, 22, 23, 24, 25, 27, 29,\n",
      "         1,  2,  5,  6,  7, 10, 11, 12, 13, 14, 15, 20, 26, 28],\n",
      "       device='cuda:0')), 'reduction_type': 'pos_pair'}} tensor([[  15.9565,   56.8478,  -59.1679,   25.5272,   91.7803,   53.6979,\n",
      "           80.4466,   -3.4930],\n",
      "        [  23.8294,   84.0660,  -98.9401,   37.4099,  131.9471,   80.6107,\n",
      "          119.1358,    5.2203],\n",
      "        [  32.7523,  114.6033, -144.5867,   50.9171,  176.8742,  111.1363,\n",
      "          162.6497,   15.7457],\n",
      "        [  20.9934,   73.3546,  -84.2081,   33.3365,  116.3954,   70.8004,\n",
      "          104.1514,    2.0849],\n",
      "        [  27.9325,   97.7632, -118.6533,   43.7490,  152.5513,   94.5034,\n",
      "          138.7088,    9.0342],\n",
      "        [  25.8233,   90.7957, -109.4975,   40.4321,  141.7471,   87.4555,\n",
      "          128.7641,    7.9381],\n",
      "        [  29.5413,  103.1683, -127.3347,   46.1857,  160.3735,  100.0387,\n",
      "          146.4546,   11.3864],\n",
      "        [  24.2037,   85.7881, -104.4011,   37.7287,  133.2935,   82.2461,\n",
      "          121.5835,    8.7250],\n",
      "        [  22.7500,   79.9022,  -93.9942,   35.8486,  125.7015,   76.9281,\n",
      "          113.3558,    4.6680],\n",
      "        [  22.8978,   82.0725,  -98.4856,   35.5610,  127.4819,   77.9128,\n",
      "          116.1001,    7.5738],\n",
      "        [  30.1896,  104.9904, -129.9547,   47.2804,  163.3293,  102.1596,\n",
      "          149.1405,   11.6775],\n",
      "        [  19.6026,   69.4449,  -78.4369,   30.9946,  110.1012,   66.2367,\n",
      "           98.3836,    1.3233],\n",
      "        [  25.1488,   89.6568, -108.9275,   39.0406,  138.9975,   85.5074,\n",
      "          126.9052,    9.2959],\n",
      "        [  32.8039,  114.7047, -144.0018,   51.0483,  177.3035,  111.2307,\n",
      "          162.7870,   15.0607],\n",
      "        [  32.0551,  111.2243, -139.1224,   50.1524,  172.6407,  108.4951,\n",
      "          158.0537,   13.5963],\n",
      "        [  32.4712,  113.1934, -141.5683,   50.6545,  175.3630,  109.9946,\n",
      "          160.7150,   14.1525],\n",
      "        [  28.4050,  100.1780, -124.2342,   44.1589,  154.9902,   96.4719,\n",
      "          142.0291,   12.1576],\n",
      "        [  21.4444,   74.2741,  -84.9595,   34.2177,  118.3272,   72.1499,\n",
      "          105.5870,    1.4507],\n",
      "        [  12.9853,   45.2901,  -41.1309,   21.4439,   75.8663,   43.1584,\n",
      "           64.2775,   -9.0211],\n",
      "        [  31.4523,  109.4898, -135.8977,   49.1774,  170.0892,  106.4490,\n",
      "          155.4839,   12.6207],\n",
      "        [  29.1995,  102.7682, -129.0233,   45.3568,  158.5881,   99.2434,\n",
      "          145.7811,   13.8111],\n",
      "        [  19.0631,   69.0757,  -78.8991,   29.7282,  108.3338,   64.8079,\n",
      "           97.5453,    3.0260],\n",
      "        [  21.9744,   79.1541,  -94.2952,   34.0893,  122.9861,   74.8226,\n",
      "          111.8908,    6.8729],\n",
      "        [  21.3415,   76.9813,  -90.7767,   33.1450,  119.8795,   72.6318,\n",
      "          108.7871,    5.8721],\n",
      "        [  21.2792,   74.8760,  -86.8709,   33.6031,  118.1786,   71.9330,\n",
      "          106.2052,    3.2967],\n",
      "        [  20.7508,   73.0227,  -82.7163,   32.8762,  115.9195,   69.9918,\n",
      "          103.5282,    1.3637],\n",
      "        [  30.8191,  107.9906, -136.3156,   47.9191,  166.6305,  104.6676,\n",
      "          153.2805,   14.9449],\n",
      "        [  23.1904,   82.3946,  -98.3452,   36.2177,  128.5683,   78.7084,\n",
      "          116.6975,    6.7008],\n",
      "        [  25.9342,   90.3826, -107.4747,   40.8791,  142.0700,   87.5344,\n",
      "          128.3139,    6.0257],\n",
      "        [  33.1687,  115.3374, -144.2981,   51.7979,  178.8167,  112.2847,\n",
      "          163.8111,   14.3084],\n",
      "        [  16.2349,   57.9995,  -62.4171,   25.8271,   92.8675,   54.8305,\n",
      "           82.0924,   -1.5766],\n",
      "        [  25.8678,   91.3031, -110.8738,   40.3750,  142.0805,   87.7414,\n",
      "          129.4248,    8.8952]], device='cuda:0') tensor([0., 1., 1., 0., 0., 1., 1., 1., 0., 0., 1., 1., 1., 1., 1., 1., 0., 0.,\n",
      "        0., 0., 1., 0., 0., 0., 0., 0., 1., 0., 1., 0., 0., 1.],\n",
      "       device='cuda:0')\n"
     ]
    },
    {
     "ename": "AttributeError",
     "evalue": "'MeanReducer' object has no attribute 'assert_sizes_pos_pair'",
     "output_type": "error",
     "traceback": [
      "\u001b[0;31m---------------------------------------------------------------------------\u001b[0m",
      "\u001b[0;31mAttributeError\u001b[0m                            Traceback (most recent call last)",
      "Cell \u001b[0;32mIn[12], line 6\u001b[0m\n\u001b[1;32m      1\u001b[0m trainer_contrastive \u001b[38;5;241m=\u001b[39m pl\u001b[38;5;241m.\u001b[39mTrainer(max_epochs\u001b[38;5;241m=\u001b[39mEPOCH, \n\u001b[1;32m      2\u001b[0m                             devices\u001b[38;5;241m=\u001b[39m\u001b[38;5;124m\"\u001b[39m\u001b[38;5;124mauto\u001b[39m\u001b[38;5;124m\"\u001b[39m,\n\u001b[1;32m      3\u001b[0m                             callbacks\u001b[38;5;241m=\u001b[39mcallbacks,\n\u001b[1;32m      4\u001b[0m                             logger\u001b[38;5;241m=\u001b[39mlogger,)\n\u001b[0;32m----> 6\u001b[0m train_result \u001b[38;5;241m=\u001b[39m \u001b[43mtrainer_contrastive\u001b[49m\u001b[38;5;241;43m.\u001b[39;49m\u001b[43mfit\u001b[49m\u001b[43m(\u001b[49m\u001b[43mContrastive_Graph_pl\u001b[49m\u001b[43m,\u001b[49m\u001b[43m \u001b[49m\u001b[43mtrain_dataloaders\u001b[49m\u001b[38;5;241;43m=\u001b[39;49m\u001b[43mtrain_loader\u001b[49m\u001b[43m,\u001b[49m\u001b[43m \u001b[49m\u001b[43mval_dataloaders\u001b[49m\u001b[38;5;241;43m=\u001b[39;49m\u001b[43mval_loader\u001b[49m\u001b[43m)\u001b[49m\n\u001b[1;32m      7\u001b[0m test_result \u001b[38;5;241m=\u001b[39m trainer_contrastive\u001b[38;5;241m.\u001b[39mtest(dataloaders\u001b[38;5;241m=\u001b[39mtest_loader)\n",
      "File \u001b[0;32m~/Miniconda3/envs/py310_qml/lib/python3.10/site-packages/pytorch_lightning/trainer/trainer.py:538\u001b[0m, in \u001b[0;36mTrainer.fit\u001b[0;34m(self, model, train_dataloaders, val_dataloaders, datamodule, ckpt_path)\u001b[0m\n\u001b[1;32m    536\u001b[0m \u001b[38;5;28mself\u001b[39m\u001b[38;5;241m.\u001b[39mstate\u001b[38;5;241m.\u001b[39mstatus \u001b[38;5;241m=\u001b[39m TrainerStatus\u001b[38;5;241m.\u001b[39mRUNNING\n\u001b[1;32m    537\u001b[0m \u001b[38;5;28mself\u001b[39m\u001b[38;5;241m.\u001b[39mtraining \u001b[38;5;241m=\u001b[39m \u001b[38;5;28;01mTrue\u001b[39;00m\n\u001b[0;32m--> 538\u001b[0m \u001b[43mcall\u001b[49m\u001b[38;5;241;43m.\u001b[39;49m\u001b[43m_call_and_handle_interrupt\u001b[49m\u001b[43m(\u001b[49m\n\u001b[1;32m    539\u001b[0m \u001b[43m    \u001b[49m\u001b[38;5;28;43mself\u001b[39;49m\u001b[43m,\u001b[49m\u001b[43m \u001b[49m\u001b[38;5;28;43mself\u001b[39;49m\u001b[38;5;241;43m.\u001b[39;49m\u001b[43m_fit_impl\u001b[49m\u001b[43m,\u001b[49m\u001b[43m \u001b[49m\u001b[43mmodel\u001b[49m\u001b[43m,\u001b[49m\u001b[43m \u001b[49m\u001b[43mtrain_dataloaders\u001b[49m\u001b[43m,\u001b[49m\u001b[43m \u001b[49m\u001b[43mval_dataloaders\u001b[49m\u001b[43m,\u001b[49m\u001b[43m \u001b[49m\u001b[43mdatamodule\u001b[49m\u001b[43m,\u001b[49m\u001b[43m \u001b[49m\u001b[43mckpt_path\u001b[49m\n\u001b[1;32m    540\u001b[0m \u001b[43m\u001b[49m\u001b[43m)\u001b[49m\n",
      "File \u001b[0;32m~/Miniconda3/envs/py310_qml/lib/python3.10/site-packages/pytorch_lightning/trainer/call.py:47\u001b[0m, in \u001b[0;36m_call_and_handle_interrupt\u001b[0;34m(trainer, trainer_fn, *args, **kwargs)\u001b[0m\n\u001b[1;32m     45\u001b[0m     \u001b[38;5;28;01mif\u001b[39;00m trainer\u001b[38;5;241m.\u001b[39mstrategy\u001b[38;5;241m.\u001b[39mlauncher \u001b[38;5;129;01mis\u001b[39;00m \u001b[38;5;129;01mnot\u001b[39;00m \u001b[38;5;28;01mNone\u001b[39;00m:\n\u001b[1;32m     46\u001b[0m         \u001b[38;5;28;01mreturn\u001b[39;00m trainer\u001b[38;5;241m.\u001b[39mstrategy\u001b[38;5;241m.\u001b[39mlauncher\u001b[38;5;241m.\u001b[39mlaunch(trainer_fn, \u001b[38;5;241m*\u001b[39margs, trainer\u001b[38;5;241m=\u001b[39mtrainer, \u001b[38;5;241m*\u001b[39m\u001b[38;5;241m*\u001b[39mkwargs)\n\u001b[0;32m---> 47\u001b[0m     \u001b[38;5;28;01mreturn\u001b[39;00m \u001b[43mtrainer_fn\u001b[49m\u001b[43m(\u001b[49m\u001b[38;5;241;43m*\u001b[39;49m\u001b[43margs\u001b[49m\u001b[43m,\u001b[49m\u001b[43m \u001b[49m\u001b[38;5;241;43m*\u001b[39;49m\u001b[38;5;241;43m*\u001b[39;49m\u001b[43mkwargs\u001b[49m\u001b[43m)\u001b[49m\n\u001b[1;32m     49\u001b[0m \u001b[38;5;28;01mexcept\u001b[39;00m _TunerExitException:\n\u001b[1;32m     50\u001b[0m     _call_teardown_hook(trainer)\n",
      "File \u001b[0;32m~/Miniconda3/envs/py310_qml/lib/python3.10/site-packages/pytorch_lightning/trainer/trainer.py:574\u001b[0m, in \u001b[0;36mTrainer._fit_impl\u001b[0;34m(self, model, train_dataloaders, val_dataloaders, datamodule, ckpt_path)\u001b[0m\n\u001b[1;32m    567\u001b[0m \u001b[38;5;28;01massert\u001b[39;00m \u001b[38;5;28mself\u001b[39m\u001b[38;5;241m.\u001b[39mstate\u001b[38;5;241m.\u001b[39mfn \u001b[38;5;129;01mis\u001b[39;00m \u001b[38;5;129;01mnot\u001b[39;00m \u001b[38;5;28;01mNone\u001b[39;00m\n\u001b[1;32m    568\u001b[0m ckpt_path \u001b[38;5;241m=\u001b[39m \u001b[38;5;28mself\u001b[39m\u001b[38;5;241m.\u001b[39m_checkpoint_connector\u001b[38;5;241m.\u001b[39m_select_ckpt_path(\n\u001b[1;32m    569\u001b[0m     \u001b[38;5;28mself\u001b[39m\u001b[38;5;241m.\u001b[39mstate\u001b[38;5;241m.\u001b[39mfn,\n\u001b[1;32m    570\u001b[0m     ckpt_path,\n\u001b[1;32m    571\u001b[0m     model_provided\u001b[38;5;241m=\u001b[39m\u001b[38;5;28;01mTrue\u001b[39;00m,\n\u001b[1;32m    572\u001b[0m     model_connected\u001b[38;5;241m=\u001b[39m\u001b[38;5;28mself\u001b[39m\u001b[38;5;241m.\u001b[39mlightning_module \u001b[38;5;129;01mis\u001b[39;00m \u001b[38;5;129;01mnot\u001b[39;00m \u001b[38;5;28;01mNone\u001b[39;00m,\n\u001b[1;32m    573\u001b[0m )\n\u001b[0;32m--> 574\u001b[0m \u001b[38;5;28;43mself\u001b[39;49m\u001b[38;5;241;43m.\u001b[39;49m\u001b[43m_run\u001b[49m\u001b[43m(\u001b[49m\u001b[43mmodel\u001b[49m\u001b[43m,\u001b[49m\u001b[43m \u001b[49m\u001b[43mckpt_path\u001b[49m\u001b[38;5;241;43m=\u001b[39;49m\u001b[43mckpt_path\u001b[49m\u001b[43m)\u001b[49m\n\u001b[1;32m    576\u001b[0m \u001b[38;5;28;01massert\u001b[39;00m \u001b[38;5;28mself\u001b[39m\u001b[38;5;241m.\u001b[39mstate\u001b[38;5;241m.\u001b[39mstopped\n\u001b[1;32m    577\u001b[0m \u001b[38;5;28mself\u001b[39m\u001b[38;5;241m.\u001b[39mtraining \u001b[38;5;241m=\u001b[39m \u001b[38;5;28;01mFalse\u001b[39;00m\n",
      "File \u001b[0;32m~/Miniconda3/envs/py310_qml/lib/python3.10/site-packages/pytorch_lightning/trainer/trainer.py:981\u001b[0m, in \u001b[0;36mTrainer._run\u001b[0;34m(self, model, ckpt_path)\u001b[0m\n\u001b[1;32m    976\u001b[0m \u001b[38;5;28mself\u001b[39m\u001b[38;5;241m.\u001b[39m_signal_connector\u001b[38;5;241m.\u001b[39mregister_signal_handlers()\n\u001b[1;32m    978\u001b[0m \u001b[38;5;66;03m# ----------------------------\u001b[39;00m\n\u001b[1;32m    979\u001b[0m \u001b[38;5;66;03m# RUN THE TRAINER\u001b[39;00m\n\u001b[1;32m    980\u001b[0m \u001b[38;5;66;03m# ----------------------------\u001b[39;00m\n\u001b[0;32m--> 981\u001b[0m results \u001b[38;5;241m=\u001b[39m \u001b[38;5;28;43mself\u001b[39;49m\u001b[38;5;241;43m.\u001b[39;49m\u001b[43m_run_stage\u001b[49m\u001b[43m(\u001b[49m\u001b[43m)\u001b[49m\n\u001b[1;32m    983\u001b[0m \u001b[38;5;66;03m# ----------------------------\u001b[39;00m\n\u001b[1;32m    984\u001b[0m \u001b[38;5;66;03m# POST-Training CLEAN UP\u001b[39;00m\n\u001b[1;32m    985\u001b[0m \u001b[38;5;66;03m# ----------------------------\u001b[39;00m\n\u001b[1;32m    986\u001b[0m log\u001b[38;5;241m.\u001b[39mdebug(\u001b[38;5;124mf\u001b[39m\u001b[38;5;124m\"\u001b[39m\u001b[38;5;132;01m{\u001b[39;00m\u001b[38;5;28mself\u001b[39m\u001b[38;5;241m.\u001b[39m\u001b[38;5;18m__class__\u001b[39m\u001b[38;5;241m.\u001b[39m\u001b[38;5;18m__name__\u001b[39m\u001b[38;5;132;01m}\u001b[39;00m\u001b[38;5;124m: trainer tearing down\u001b[39m\u001b[38;5;124m\"\u001b[39m)\n",
      "File \u001b[0;32m~/Miniconda3/envs/py310_qml/lib/python3.10/site-packages/pytorch_lightning/trainer/trainer.py:1023\u001b[0m, in \u001b[0;36mTrainer._run_stage\u001b[0;34m(self)\u001b[0m\n\u001b[1;32m   1021\u001b[0m \u001b[38;5;28;01mif\u001b[39;00m \u001b[38;5;28mself\u001b[39m\u001b[38;5;241m.\u001b[39mtraining:\n\u001b[1;32m   1022\u001b[0m     \u001b[38;5;28;01mwith\u001b[39;00m isolate_rng():\n\u001b[0;32m-> 1023\u001b[0m         \u001b[38;5;28;43mself\u001b[39;49m\u001b[38;5;241;43m.\u001b[39;49m\u001b[43m_run_sanity_check\u001b[49m\u001b[43m(\u001b[49m\u001b[43m)\u001b[49m\n\u001b[1;32m   1024\u001b[0m     \u001b[38;5;28;01mwith\u001b[39;00m torch\u001b[38;5;241m.\u001b[39mautograd\u001b[38;5;241m.\u001b[39mset_detect_anomaly(\u001b[38;5;28mself\u001b[39m\u001b[38;5;241m.\u001b[39m_detect_anomaly):\n\u001b[1;32m   1025\u001b[0m         \u001b[38;5;28mself\u001b[39m\u001b[38;5;241m.\u001b[39mfit_loop\u001b[38;5;241m.\u001b[39mrun()\n",
      "File \u001b[0;32m~/Miniconda3/envs/py310_qml/lib/python3.10/site-packages/pytorch_lightning/trainer/trainer.py:1052\u001b[0m, in \u001b[0;36mTrainer._run_sanity_check\u001b[0;34m(self)\u001b[0m\n\u001b[1;32m   1049\u001b[0m call\u001b[38;5;241m.\u001b[39m_call_callback_hooks(\u001b[38;5;28mself\u001b[39m, \u001b[38;5;124m\"\u001b[39m\u001b[38;5;124mon_sanity_check_start\u001b[39m\u001b[38;5;124m\"\u001b[39m)\n\u001b[1;32m   1051\u001b[0m \u001b[38;5;66;03m# run eval step\u001b[39;00m\n\u001b[0;32m-> 1052\u001b[0m \u001b[43mval_loop\u001b[49m\u001b[38;5;241;43m.\u001b[39;49m\u001b[43mrun\u001b[49m\u001b[43m(\u001b[49m\u001b[43m)\u001b[49m\n\u001b[1;32m   1054\u001b[0m call\u001b[38;5;241m.\u001b[39m_call_callback_hooks(\u001b[38;5;28mself\u001b[39m, \u001b[38;5;124m\"\u001b[39m\u001b[38;5;124mon_sanity_check_end\u001b[39m\u001b[38;5;124m\"\u001b[39m)\n\u001b[1;32m   1056\u001b[0m \u001b[38;5;66;03m# reset logger connector\u001b[39;00m\n",
      "File \u001b[0;32m~/Miniconda3/envs/py310_qml/lib/python3.10/site-packages/pytorch_lightning/loops/utilities.py:178\u001b[0m, in \u001b[0;36m_no_grad_context.<locals>._decorator\u001b[0;34m(self, *args, **kwargs)\u001b[0m\n\u001b[1;32m    176\u001b[0m     context_manager \u001b[38;5;241m=\u001b[39m torch\u001b[38;5;241m.\u001b[39mno_grad\n\u001b[1;32m    177\u001b[0m \u001b[38;5;28;01mwith\u001b[39;00m context_manager():\n\u001b[0;32m--> 178\u001b[0m     \u001b[38;5;28;01mreturn\u001b[39;00m \u001b[43mloop_run\u001b[49m\u001b[43m(\u001b[49m\u001b[38;5;28;43mself\u001b[39;49m\u001b[43m,\u001b[49m\u001b[43m \u001b[49m\u001b[38;5;241;43m*\u001b[39;49m\u001b[43margs\u001b[49m\u001b[43m,\u001b[49m\u001b[43m \u001b[49m\u001b[38;5;241;43m*\u001b[39;49m\u001b[38;5;241;43m*\u001b[39;49m\u001b[43mkwargs\u001b[49m\u001b[43m)\u001b[49m\n",
      "File \u001b[0;32m~/Miniconda3/envs/py310_qml/lib/python3.10/site-packages/pytorch_lightning/loops/evaluation_loop.py:135\u001b[0m, in \u001b[0;36m_EvaluationLoop.run\u001b[0;34m(self)\u001b[0m\n\u001b[1;32m    133\u001b[0m     \u001b[38;5;28mself\u001b[39m\u001b[38;5;241m.\u001b[39mbatch_progress\u001b[38;5;241m.\u001b[39mis_last_batch \u001b[38;5;241m=\u001b[39m data_fetcher\u001b[38;5;241m.\u001b[39mdone\n\u001b[1;32m    134\u001b[0m     \u001b[38;5;66;03m# run step hooks\u001b[39;00m\n\u001b[0;32m--> 135\u001b[0m     \u001b[38;5;28;43mself\u001b[39;49m\u001b[38;5;241;43m.\u001b[39;49m\u001b[43m_evaluation_step\u001b[49m\u001b[43m(\u001b[49m\u001b[43mbatch\u001b[49m\u001b[43m,\u001b[49m\u001b[43m \u001b[49m\u001b[43mbatch_idx\u001b[49m\u001b[43m,\u001b[49m\u001b[43m \u001b[49m\u001b[43mdataloader_idx\u001b[49m\u001b[43m,\u001b[49m\u001b[43m \u001b[49m\u001b[43mdataloader_iter\u001b[49m\u001b[43m)\u001b[49m\n\u001b[1;32m    136\u001b[0m \u001b[38;5;28;01mexcept\u001b[39;00m \u001b[38;5;167;01mStopIteration\u001b[39;00m:\n\u001b[1;32m    137\u001b[0m     \u001b[38;5;66;03m# this needs to wrap the `*_step` call too (not just `next`) for `dataloader_iter` support\u001b[39;00m\n\u001b[1;32m    138\u001b[0m     \u001b[38;5;28;01mbreak\u001b[39;00m\n",
      "File \u001b[0;32m~/Miniconda3/envs/py310_qml/lib/python3.10/site-packages/pytorch_lightning/loops/evaluation_loop.py:396\u001b[0m, in \u001b[0;36m_EvaluationLoop._evaluation_step\u001b[0;34m(self, batch, batch_idx, dataloader_idx, dataloader_iter)\u001b[0m\n\u001b[1;32m    390\u001b[0m hook_name \u001b[38;5;241m=\u001b[39m \u001b[38;5;124m\"\u001b[39m\u001b[38;5;124mtest_step\u001b[39m\u001b[38;5;124m\"\u001b[39m \u001b[38;5;28;01mif\u001b[39;00m trainer\u001b[38;5;241m.\u001b[39mtesting \u001b[38;5;28;01melse\u001b[39;00m \u001b[38;5;124m\"\u001b[39m\u001b[38;5;124mvalidation_step\u001b[39m\u001b[38;5;124m\"\u001b[39m\n\u001b[1;32m    391\u001b[0m step_args \u001b[38;5;241m=\u001b[39m (\n\u001b[1;32m    392\u001b[0m     \u001b[38;5;28mself\u001b[39m\u001b[38;5;241m.\u001b[39m_build_step_args_from_hook_kwargs(hook_kwargs, hook_name)\n\u001b[1;32m    393\u001b[0m     \u001b[38;5;28;01mif\u001b[39;00m \u001b[38;5;129;01mnot\u001b[39;00m using_dataloader_iter\n\u001b[1;32m    394\u001b[0m     \u001b[38;5;28;01melse\u001b[39;00m (dataloader_iter,)\n\u001b[1;32m    395\u001b[0m )\n\u001b[0;32m--> 396\u001b[0m output \u001b[38;5;241m=\u001b[39m \u001b[43mcall\u001b[49m\u001b[38;5;241;43m.\u001b[39;49m\u001b[43m_call_strategy_hook\u001b[49m\u001b[43m(\u001b[49m\u001b[43mtrainer\u001b[49m\u001b[43m,\u001b[49m\u001b[43m \u001b[49m\u001b[43mhook_name\u001b[49m\u001b[43m,\u001b[49m\u001b[43m \u001b[49m\u001b[38;5;241;43m*\u001b[39;49m\u001b[43mstep_args\u001b[49m\u001b[43m)\u001b[49m\n\u001b[1;32m    398\u001b[0m \u001b[38;5;28mself\u001b[39m\u001b[38;5;241m.\u001b[39mbatch_progress\u001b[38;5;241m.\u001b[39mincrement_processed()\n\u001b[1;32m    400\u001b[0m \u001b[38;5;28;01mif\u001b[39;00m using_dataloader_iter:\n\u001b[1;32m    401\u001b[0m     \u001b[38;5;66;03m# update the hook kwargs now that the step method might have consumed the iterator\u001b[39;00m\n",
      "File \u001b[0;32m~/Miniconda3/envs/py310_qml/lib/python3.10/site-packages/pytorch_lightning/trainer/call.py:319\u001b[0m, in \u001b[0;36m_call_strategy_hook\u001b[0;34m(trainer, hook_name, *args, **kwargs)\u001b[0m\n\u001b[1;32m    316\u001b[0m     \u001b[38;5;28;01mreturn\u001b[39;00m \u001b[38;5;28;01mNone\u001b[39;00m\n\u001b[1;32m    318\u001b[0m \u001b[38;5;28;01mwith\u001b[39;00m trainer\u001b[38;5;241m.\u001b[39mprofiler\u001b[38;5;241m.\u001b[39mprofile(\u001b[38;5;124mf\u001b[39m\u001b[38;5;124m\"\u001b[39m\u001b[38;5;124m[Strategy]\u001b[39m\u001b[38;5;132;01m{\u001b[39;00mtrainer\u001b[38;5;241m.\u001b[39mstrategy\u001b[38;5;241m.\u001b[39m\u001b[38;5;18m__class__\u001b[39m\u001b[38;5;241m.\u001b[39m\u001b[38;5;18m__name__\u001b[39m\u001b[38;5;132;01m}\u001b[39;00m\u001b[38;5;124m.\u001b[39m\u001b[38;5;132;01m{\u001b[39;00mhook_name\u001b[38;5;132;01m}\u001b[39;00m\u001b[38;5;124m\"\u001b[39m):\n\u001b[0;32m--> 319\u001b[0m     output \u001b[38;5;241m=\u001b[39m \u001b[43mfn\u001b[49m\u001b[43m(\u001b[49m\u001b[38;5;241;43m*\u001b[39;49m\u001b[43margs\u001b[49m\u001b[43m,\u001b[49m\u001b[43m \u001b[49m\u001b[38;5;241;43m*\u001b[39;49m\u001b[38;5;241;43m*\u001b[39;49m\u001b[43mkwargs\u001b[49m\u001b[43m)\u001b[49m\n\u001b[1;32m    321\u001b[0m \u001b[38;5;66;03m# restore current_fx when nested context\u001b[39;00m\n\u001b[1;32m    322\u001b[0m pl_module\u001b[38;5;241m.\u001b[39m_current_fx_name \u001b[38;5;241m=\u001b[39m prev_fx_name\n",
      "File \u001b[0;32m~/Miniconda3/envs/py310_qml/lib/python3.10/site-packages/pytorch_lightning/strategies/strategy.py:411\u001b[0m, in \u001b[0;36mStrategy.validation_step\u001b[0;34m(self, *args, **kwargs)\u001b[0m\n\u001b[1;32m    409\u001b[0m \u001b[38;5;28;01mif\u001b[39;00m \u001b[38;5;28mself\u001b[39m\u001b[38;5;241m.\u001b[39mmodel \u001b[38;5;241m!=\u001b[39m \u001b[38;5;28mself\u001b[39m\u001b[38;5;241m.\u001b[39mlightning_module:\n\u001b[1;32m    410\u001b[0m     \u001b[38;5;28;01mreturn\u001b[39;00m \u001b[38;5;28mself\u001b[39m\u001b[38;5;241m.\u001b[39m_forward_redirection(\u001b[38;5;28mself\u001b[39m\u001b[38;5;241m.\u001b[39mmodel, \u001b[38;5;28mself\u001b[39m\u001b[38;5;241m.\u001b[39mlightning_module, \u001b[38;5;124m\"\u001b[39m\u001b[38;5;124mvalidation_step\u001b[39m\u001b[38;5;124m\"\u001b[39m, \u001b[38;5;241m*\u001b[39margs, \u001b[38;5;241m*\u001b[39m\u001b[38;5;241m*\u001b[39mkwargs)\n\u001b[0;32m--> 411\u001b[0m \u001b[38;5;28;01mreturn\u001b[39;00m \u001b[38;5;28;43mself\u001b[39;49m\u001b[38;5;241;43m.\u001b[39;49m\u001b[43mlightning_module\u001b[49m\u001b[38;5;241;43m.\u001b[39;49m\u001b[43mvalidation_step\u001b[49m\u001b[43m(\u001b[49m\u001b[38;5;241;43m*\u001b[39;49m\u001b[43margs\u001b[49m\u001b[43m,\u001b[49m\u001b[43m \u001b[49m\u001b[38;5;241;43m*\u001b[39;49m\u001b[38;5;241;43m*\u001b[39;49m\u001b[43mkwargs\u001b[49m\u001b[43m)\u001b[49m\n",
      "File \u001b[0;32m~/Projects/gsoc24/gsoc24-qml-workspace/demos/models.py:344\u001b[0m, in \u001b[0;36mModelPL_Contrastive.validation_step\u001b[0;34m(self, data, batch_idx)\u001b[0m\n\u001b[1;32m    342\u001b[0m \u001b[38;5;28;01mdef\u001b[39;00m \u001b[38;5;21mvalidation_step\u001b[39m(\u001b[38;5;28mself\u001b[39m, data, batch_idx):\n\u001b[1;32m    343\u001b[0m     embeddings \u001b[38;5;241m=\u001b[39m \u001b[38;5;28mself\u001b[39m(data)\n\u001b[0;32m--> 344\u001b[0m     loss \u001b[38;5;241m=\u001b[39m \u001b[38;5;28;43mself\u001b[39;49m\u001b[38;5;241;43m.\u001b[39;49m\u001b[43mcriterion\u001b[49m\u001b[43m(\u001b[49m\u001b[43membeddings\u001b[49m\u001b[43m,\u001b[49m\u001b[43m \u001b[49m\u001b[43mdata\u001b[49m\u001b[38;5;241;43m.\u001b[39;49m\u001b[43my\u001b[49m\u001b[43m)\u001b[49m\n\u001b[1;32m    345\u001b[0m     \u001b[38;5;28mself\u001b[39m\u001b[38;5;241m.\u001b[39mval_loss\u001b[38;5;241m.\u001b[39mupdate(loss)\n\u001b[1;32m    346\u001b[0m     \u001b[38;5;28mself\u001b[39m\u001b[38;5;241m.\u001b[39mlog(\u001b[38;5;124m'\u001b[39m\u001b[38;5;124mval_loss\u001b[39m\u001b[38;5;124m'\u001b[39m, loss, on_step\u001b[38;5;241m=\u001b[39m\u001b[38;5;28;01mFalse\u001b[39;00m, on_epoch\u001b[38;5;241m=\u001b[39m\u001b[38;5;28;01mTrue\u001b[39;00m, prog_bar\u001b[38;5;241m=\u001b[39m\u001b[38;5;28;01mTrue\u001b[39;00m, batch_size\u001b[38;5;241m=\u001b[39mbatch_size)\n",
      "File \u001b[0;32m~/Miniconda3/envs/py310_qml/lib/python3.10/site-packages/torch/nn/modules/module.py:1553\u001b[0m, in \u001b[0;36mModule._wrapped_call_impl\u001b[0;34m(self, *args, **kwargs)\u001b[0m\n\u001b[1;32m   1551\u001b[0m     \u001b[38;5;28;01mreturn\u001b[39;00m \u001b[38;5;28mself\u001b[39m\u001b[38;5;241m.\u001b[39m_compiled_call_impl(\u001b[38;5;241m*\u001b[39margs, \u001b[38;5;241m*\u001b[39m\u001b[38;5;241m*\u001b[39mkwargs)  \u001b[38;5;66;03m# type: ignore[misc]\u001b[39;00m\n\u001b[1;32m   1552\u001b[0m \u001b[38;5;28;01melse\u001b[39;00m:\n\u001b[0;32m-> 1553\u001b[0m     \u001b[38;5;28;01mreturn\u001b[39;00m \u001b[38;5;28;43mself\u001b[39;49m\u001b[38;5;241;43m.\u001b[39;49m\u001b[43m_call_impl\u001b[49m\u001b[43m(\u001b[49m\u001b[38;5;241;43m*\u001b[39;49m\u001b[43margs\u001b[49m\u001b[43m,\u001b[49m\u001b[43m \u001b[49m\u001b[38;5;241;43m*\u001b[39;49m\u001b[38;5;241;43m*\u001b[39;49m\u001b[43mkwargs\u001b[49m\u001b[43m)\u001b[49m\n",
      "File \u001b[0;32m~/Miniconda3/envs/py310_qml/lib/python3.10/site-packages/torch/nn/modules/module.py:1562\u001b[0m, in \u001b[0;36mModule._call_impl\u001b[0;34m(self, *args, **kwargs)\u001b[0m\n\u001b[1;32m   1557\u001b[0m \u001b[38;5;66;03m# If we don't have any hooks, we want to skip the rest of the logic in\u001b[39;00m\n\u001b[1;32m   1558\u001b[0m \u001b[38;5;66;03m# this function, and just call forward.\u001b[39;00m\n\u001b[1;32m   1559\u001b[0m \u001b[38;5;28;01mif\u001b[39;00m \u001b[38;5;129;01mnot\u001b[39;00m (\u001b[38;5;28mself\u001b[39m\u001b[38;5;241m.\u001b[39m_backward_hooks \u001b[38;5;129;01mor\u001b[39;00m \u001b[38;5;28mself\u001b[39m\u001b[38;5;241m.\u001b[39m_backward_pre_hooks \u001b[38;5;129;01mor\u001b[39;00m \u001b[38;5;28mself\u001b[39m\u001b[38;5;241m.\u001b[39m_forward_hooks \u001b[38;5;129;01mor\u001b[39;00m \u001b[38;5;28mself\u001b[39m\u001b[38;5;241m.\u001b[39m_forward_pre_hooks\n\u001b[1;32m   1560\u001b[0m         \u001b[38;5;129;01mor\u001b[39;00m _global_backward_pre_hooks \u001b[38;5;129;01mor\u001b[39;00m _global_backward_hooks\n\u001b[1;32m   1561\u001b[0m         \u001b[38;5;129;01mor\u001b[39;00m _global_forward_hooks \u001b[38;5;129;01mor\u001b[39;00m _global_forward_pre_hooks):\n\u001b[0;32m-> 1562\u001b[0m     \u001b[38;5;28;01mreturn\u001b[39;00m \u001b[43mforward_call\u001b[49m\u001b[43m(\u001b[49m\u001b[38;5;241;43m*\u001b[39;49m\u001b[43margs\u001b[49m\u001b[43m,\u001b[49m\u001b[43m \u001b[49m\u001b[38;5;241;43m*\u001b[39;49m\u001b[38;5;241;43m*\u001b[39;49m\u001b[43mkwargs\u001b[49m\u001b[43m)\u001b[49m\n\u001b[1;32m   1564\u001b[0m \u001b[38;5;28;01mtry\u001b[39;00m:\n\u001b[1;32m   1565\u001b[0m     result \u001b[38;5;241m=\u001b[39m \u001b[38;5;28;01mNone\u001b[39;00m\n",
      "File \u001b[0;32m~/Projects/gsoc24/gsoc24-qml-workspace/src/qml_ssl/losses.py:155\u001b[0m, in \u001b[0;36mBaseMetricLossFunction.forward\u001b[0;34m(self, embeddings, labels, indices_tuple, ref_emb, ref_labels)\u001b[0m\n\u001b[1;32m    153\u001b[0m \u001b[38;5;28mprint\u001b[39m(loss_dict, embeddings, labels)\n\u001b[1;32m    154\u001b[0m \u001b[38;5;66;03m# self.add_embedding_regularization_to_loss_dict(loss_dict, embeddings)\u001b[39;00m\n\u001b[0;32m--> 155\u001b[0m \u001b[38;5;28;01mreturn\u001b[39;00m \u001b[38;5;28;43mself\u001b[39;49m\u001b[38;5;241;43m.\u001b[39;49m\u001b[43mreducer\u001b[49m\u001b[43m(\u001b[49m\u001b[43mloss_dict\u001b[49m\u001b[43m,\u001b[49m\u001b[43m \u001b[49m\u001b[43membeddings\u001b[49m\u001b[43m,\u001b[49m\u001b[43m \u001b[49m\u001b[43mlabels\u001b[49m\u001b[43m)\u001b[49m\n",
      "File \u001b[0;32m~/Miniconda3/envs/py310_qml/lib/python3.10/site-packages/torch/nn/modules/module.py:1553\u001b[0m, in \u001b[0;36mModule._wrapped_call_impl\u001b[0;34m(self, *args, **kwargs)\u001b[0m\n\u001b[1;32m   1551\u001b[0m     \u001b[38;5;28;01mreturn\u001b[39;00m \u001b[38;5;28mself\u001b[39m\u001b[38;5;241m.\u001b[39m_compiled_call_impl(\u001b[38;5;241m*\u001b[39margs, \u001b[38;5;241m*\u001b[39m\u001b[38;5;241m*\u001b[39mkwargs)  \u001b[38;5;66;03m# type: ignore[misc]\u001b[39;00m\n\u001b[1;32m   1552\u001b[0m \u001b[38;5;28;01melse\u001b[39;00m:\n\u001b[0;32m-> 1553\u001b[0m     \u001b[38;5;28;01mreturn\u001b[39;00m \u001b[38;5;28;43mself\u001b[39;49m\u001b[38;5;241;43m.\u001b[39;49m\u001b[43m_call_impl\u001b[49m\u001b[43m(\u001b[49m\u001b[38;5;241;43m*\u001b[39;49m\u001b[43margs\u001b[49m\u001b[43m,\u001b[49m\u001b[43m \u001b[49m\u001b[38;5;241;43m*\u001b[39;49m\u001b[38;5;241;43m*\u001b[39;49m\u001b[43mkwargs\u001b[49m\u001b[43m)\u001b[49m\n",
      "File \u001b[0;32m~/Miniconda3/envs/py310_qml/lib/python3.10/site-packages/torch/nn/modules/module.py:1562\u001b[0m, in \u001b[0;36mModule._call_impl\u001b[0;34m(self, *args, **kwargs)\u001b[0m\n\u001b[1;32m   1557\u001b[0m \u001b[38;5;66;03m# If we don't have any hooks, we want to skip the rest of the logic in\u001b[39;00m\n\u001b[1;32m   1558\u001b[0m \u001b[38;5;66;03m# this function, and just call forward.\u001b[39;00m\n\u001b[1;32m   1559\u001b[0m \u001b[38;5;28;01mif\u001b[39;00m \u001b[38;5;129;01mnot\u001b[39;00m (\u001b[38;5;28mself\u001b[39m\u001b[38;5;241m.\u001b[39m_backward_hooks \u001b[38;5;129;01mor\u001b[39;00m \u001b[38;5;28mself\u001b[39m\u001b[38;5;241m.\u001b[39m_backward_pre_hooks \u001b[38;5;129;01mor\u001b[39;00m \u001b[38;5;28mself\u001b[39m\u001b[38;5;241m.\u001b[39m_forward_hooks \u001b[38;5;129;01mor\u001b[39;00m \u001b[38;5;28mself\u001b[39m\u001b[38;5;241m.\u001b[39m_forward_pre_hooks\n\u001b[1;32m   1560\u001b[0m         \u001b[38;5;129;01mor\u001b[39;00m _global_backward_pre_hooks \u001b[38;5;129;01mor\u001b[39;00m _global_backward_hooks\n\u001b[1;32m   1561\u001b[0m         \u001b[38;5;129;01mor\u001b[39;00m _global_forward_hooks \u001b[38;5;129;01mor\u001b[39;00m _global_forward_pre_hooks):\n\u001b[0;32m-> 1562\u001b[0m     \u001b[38;5;28;01mreturn\u001b[39;00m \u001b[43mforward_call\u001b[49m\u001b[43m(\u001b[49m\u001b[38;5;241;43m*\u001b[39;49m\u001b[43margs\u001b[49m\u001b[43m,\u001b[49m\u001b[43m \u001b[49m\u001b[38;5;241;43m*\u001b[39;49m\u001b[38;5;241;43m*\u001b[39;49m\u001b[43mkwargs\u001b[49m\u001b[43m)\u001b[49m\n\u001b[1;32m   1564\u001b[0m \u001b[38;5;28;01mtry\u001b[39;00m:\n\u001b[1;32m   1565\u001b[0m     result \u001b[38;5;241m=\u001b[39m \u001b[38;5;28;01mNone\u001b[39;00m\n",
      "File \u001b[0;32m~/Projects/gsoc24/gsoc24-qml-workspace/src/qml_ssl/losses.py:411\u001b[0m, in \u001b[0;36mBaseReducer.forward\u001b[0;34m(self, loss_dict, embeddings, labels)\u001b[0m\n\u001b[1;32m    409\u001b[0m loss_info \u001b[38;5;241m=\u001b[39m loss_dict[loss_name]\n\u001b[1;32m    410\u001b[0m losses, loss_indices, reduction_type, kwargs \u001b[38;5;241m=\u001b[39m \u001b[38;5;28mself\u001b[39m\u001b[38;5;241m.\u001b[39munpack_loss_info(loss_info)\n\u001b[0;32m--> 411\u001b[0m loss_val \u001b[38;5;241m=\u001b[39m \u001b[38;5;28;43mself\u001b[39;49m\u001b[38;5;241;43m.\u001b[39;49m\u001b[43mreduce_the_loss\u001b[49m\u001b[43m(\u001b[49m\n\u001b[1;32m    412\u001b[0m \u001b[43m    \u001b[49m\u001b[43mlosses\u001b[49m\u001b[43m,\u001b[49m\u001b[43m \u001b[49m\u001b[43mloss_indices\u001b[49m\u001b[43m,\u001b[49m\u001b[43m \u001b[49m\u001b[43mreduction_type\u001b[49m\u001b[43m,\u001b[49m\u001b[43m \u001b[49m\u001b[43mkwargs\u001b[49m\u001b[43m,\u001b[49m\u001b[43m \u001b[49m\u001b[43membeddings\u001b[49m\u001b[43m,\u001b[49m\u001b[43m \u001b[49m\u001b[43mlabels\u001b[49m\n\u001b[1;32m    413\u001b[0m \u001b[43m\u001b[49m\u001b[43m)\u001b[49m\n\u001b[1;32m    414\u001b[0m \u001b[38;5;28;01mreturn\u001b[39;00m loss_val\n",
      "File \u001b[0;32m~/Projects/gsoc24/gsoc24-qml-workspace/src/qml_ssl/losses.py:430\u001b[0m, in \u001b[0;36mBaseReducer.reduce_the_loss\u001b[0;34m(self, losses, loss_indices, reduction_type, kwargs, embeddings, labels)\u001b[0m\n\u001b[1;32m    428\u001b[0m \u001b[38;5;28;01mif\u001b[39;00m \u001b[38;5;28mself\u001b[39m\u001b[38;5;241m.\u001b[39minput_is_zero_loss(losses):\n\u001b[1;32m    429\u001b[0m     \u001b[38;5;28;01mreturn\u001b[39;00m \u001b[38;5;28mself\u001b[39m\u001b[38;5;241m.\u001b[39mzero_loss(embeddings)\n\u001b[0;32m--> 430\u001b[0m \u001b[38;5;28;43mself\u001b[39;49m\u001b[38;5;241;43m.\u001b[39;49m\u001b[43massert_sizes\u001b[49m\u001b[43m(\u001b[49m\u001b[43mlosses\u001b[49m\u001b[43m,\u001b[49m\u001b[43m \u001b[49m\u001b[43mloss_indices\u001b[49m\u001b[43m,\u001b[49m\u001b[43m \u001b[49m\u001b[43mreduction_type\u001b[49m\u001b[43m)\u001b[49m\n\u001b[1;32m    431\u001b[0m reduction_func \u001b[38;5;241m=\u001b[39m \u001b[38;5;28mself\u001b[39m\u001b[38;5;241m.\u001b[39mget_reduction_func(reduction_type)\n\u001b[1;32m    432\u001b[0m \u001b[38;5;28;01mreturn\u001b[39;00m reduction_func(losses, loss_indices, embeddings, labels, \u001b[38;5;241m*\u001b[39m\u001b[38;5;241m*\u001b[39mkwargs)\n",
      "File \u001b[0;32m~/Projects/gsoc24/gsoc24-qml-workspace/src/qml_ssl/losses.py:451\u001b[0m, in \u001b[0;36mBaseReducer.assert_sizes\u001b[0;34m(self, losses, loss_indices, reduction_type)\u001b[0m\n\u001b[1;32m    450\u001b[0m \u001b[38;5;28;01mdef\u001b[39;00m \u001b[38;5;21massert_sizes\u001b[39m(\u001b[38;5;28mself\u001b[39m, losses, loss_indices, reduction_type):\n\u001b[0;32m--> 451\u001b[0m     \u001b[38;5;28;43mgetattr\u001b[39;49m\u001b[43m(\u001b[49m\u001b[38;5;28;43mself\u001b[39;49m\u001b[43m,\u001b[49m\u001b[43m \u001b[49m\u001b[38;5;124;43m\"\u001b[39;49m\u001b[38;5;124;43massert_sizes_\u001b[39;49m\u001b[38;5;132;43;01m{}\u001b[39;49;00m\u001b[38;5;124;43m\"\u001b[39;49m\u001b[38;5;241;43m.\u001b[39;49m\u001b[43mformat\u001b[49m\u001b[43m(\u001b[49m\u001b[43mreduction_type\u001b[49m\u001b[43m)\u001b[49m\u001b[43m)\u001b[49m(losses, loss_indices)\n",
      "File \u001b[0;32m~/Miniconda3/envs/py310_qml/lib/python3.10/site-packages/torch/nn/modules/module.py:1729\u001b[0m, in \u001b[0;36mModule.__getattr__\u001b[0;34m(self, name)\u001b[0m\n\u001b[1;32m   1727\u001b[0m     \u001b[38;5;28;01mif\u001b[39;00m name \u001b[38;5;129;01min\u001b[39;00m modules:\n\u001b[1;32m   1728\u001b[0m         \u001b[38;5;28;01mreturn\u001b[39;00m modules[name]\n\u001b[0;32m-> 1729\u001b[0m \u001b[38;5;28;01mraise\u001b[39;00m \u001b[38;5;167;01mAttributeError\u001b[39;00m(\u001b[38;5;124mf\u001b[39m\u001b[38;5;124m\"\u001b[39m\u001b[38;5;124m'\u001b[39m\u001b[38;5;132;01m{\u001b[39;00m\u001b[38;5;28mtype\u001b[39m(\u001b[38;5;28mself\u001b[39m)\u001b[38;5;241m.\u001b[39m\u001b[38;5;18m__name__\u001b[39m\u001b[38;5;132;01m}\u001b[39;00m\u001b[38;5;124m'\u001b[39m\u001b[38;5;124m object has no attribute \u001b[39m\u001b[38;5;124m'\u001b[39m\u001b[38;5;132;01m{\u001b[39;00mname\u001b[38;5;132;01m}\u001b[39;00m\u001b[38;5;124m'\u001b[39m\u001b[38;5;124m\"\u001b[39m)\n",
      "\u001b[0;31mAttributeError\u001b[0m: 'MeanReducer' object has no attribute 'assert_sizes_pos_pair'"
     ]
    }
   ],
   "source": [
    "trainer_contrastive = pl.Trainer(max_epochs=EPOCH, \n",
    "                            devices=\"auto\",\n",
    "                            callbacks=callbacks,\n",
    "                            logger=logger,)\n",
    "\n",
    "train_result = trainer_contrastive.fit(Contrastive_Graph_pl, train_dataloaders=train_loader, val_dataloaders=val_loader)\n",
    "test_result = trainer_contrastive.test(dataloaders=test_loader)"
   ]
  },
  {
   "cell_type": "code",
   "execution_count": null,
   "metadata": {},
   "outputs": [],
   "source": [
    "embeddings, labels = generate_embeddings(Contrastive_Graph_pl, val_loader)\n",
    "pca_proj(embeddings, labels)\n",
    "# tsne_proj(embeddings, labels)\n",
    "vmf_kde_on_circle(embeddings, labels)"
   ]
  },
  {
   "cell_type": "code",
   "execution_count": null,
   "metadata": {},
   "outputs": [],
   "source": [
    "pretrained_model = GCN_Encoder()\n",
    "# checkpoint_path = './logs/Contrastive_Graph_pl/version_0/checkpoints/epoch=14-step=14070.ckpt'\n",
    "pretrained_model.load_state_dict(Contrastive_Graph_pl.model.state_dict())\n",
    "\n",
    "num_classes = 2  # Adjust this based on your dataset\n",
    "\n",
    "# Create an instance of the LinearProbePL module\n",
    "linear_probe_model = LinearProbePL(pretrained_model=pretrained_model, num_classes=num_classes, learning_rate=0.001)\n",
    "\n",
    "trainer_linear_probe = pl.Trainer(max_epochs=EPOCH, \n",
    "                            devices=\"auto\",\n",
    "                            callbacks=callbacks,\n",
    "                            logger=logger,)\n",
    "\n",
    "train_result = trainer_linear_probe.fit(linear_probe_model, train_dataloaders=train_loader, val_dataloaders=val_loader)\n",
    "test_result = trainer_linear_probe.test(linear_probe_model, dataloaders=test_loader)"
   ]
  },
  {
   "cell_type": "code",
   "execution_count": null,
   "metadata": {},
   "outputs": [],
   "source": [
    "metrics_file = \"./logs/Contrastive_Graph_image_pl/version_0/metrics.csv\"\n",
    "\n",
    "plot_metrics_from_csv(metrics_file)\n"
   ]
  },
  {
   "cell_type": "code",
   "execution_count": null,
   "metadata": {},
   "outputs": [],
   "source": [
    "metrics_file = 'logs/graph_image_pl_2_100/version_0/metrics.csv' \n",
    "\n",
    "plot_metrics_from_csv(metrics_file)"
   ]
  }
 ],
 "metadata": {
  "kernelspec": {
   "display_name": "py39_qml",
   "language": "python",
   "name": "python3"
  },
  "language_info": {
   "codemirror_mode": {
    "name": "ipython",
    "version": 3
   },
   "file_extension": ".py",
   "mimetype": "text/x-python",
   "name": "python",
   "nbconvert_exporter": "python",
   "pygments_lexer": "ipython3",
   "version": "3.10.15"
  }
 },
 "nbformat": 4,
 "nbformat_minor": 2
}
