{
  "nbformat": 4,
  "nbformat_minor": 0,
  "metadata": {
    "colab": {
      "provenance": []
    },
    "kernelspec": {
      "name": "python3",
      "display_name": "Python 3"
    },
    "language_info": {
      "name": "python"
    }
  },
  "cells": [
    {
      "cell_type": "code",
      "source": [
        "import os\n",
        "import numpy as np\n",
        "import torch\n",
        "import torchvision\n",
        "from torchvision.transforms import ToTensor\n",
        "from sklearn.decomposition import PCA\n",
        "import pennylane as qml\n",
        "from torch import nn, optim\n",
        "from torch.optim.lr_scheduler import CosineAnnealingLR\n",
        "import matplotlib.pyplot as plt\n",
        "from torchvision import transforms\n",
        "from torchvision.utils import save_image\n",
        "from scipy.linalg import sqrtm\n",
        "from numpy import cov\n",
        "from numpy import iscomplexobj\n",
        "import h5py\n",
        "import random"
      ],
      "metadata": {
        "id": "u9yA5hMZOde6"
      },
      "execution_count": null,
      "outputs": []
    },
    {
      "cell_type": "markdown",
      "source": [
        "-------------------------------------------------------------------------------------"
      ],
      "metadata": {
        "id": "PHqJH5QNTH2I"
      }
    },
    {
      "cell_type": "code",
      "source": [
        "BATCH_SIZE = 32\n",
        "epochs = 300\n",
        "lr = 1e-3\n",
        "w_decay = 1e-4\n",
        "\n",
        "device = torch.device('cuda' if torch.cuda.is_available() else 'cpu')\n",
        "\n",
        "def data_prepare(data_label, root='./dataset/', download=True):\n",
        "    train_data = torchvision.datasets.MNIST(\n",
        "        root=root,\n",
        "        train=True,\n",
        "        transform=transforms.ToTensor(),\n",
        "        download=download\n",
        "    )\n",
        "\n",
        "    data = []\n",
        "    for img, label in train_data:\n",
        "        if label == data_label:\n",
        "            data.append(img.numpy().squeeze())\n",
        "\n",
        "    return data\n",
        "\n",
        "data = np.array(data_prepare(data_label=0))\n",
        "data = data.reshape(data.shape[0], -1)\n",
        "\n",
        "k = 2\n",
        "pca = PCA(n_components=k)\n",
        "pca.fit(data)\n",
        "pca_data = pca.transform(data)\n",
        "t_pca_data = pca_data.copy()\n",
        "pca_descaler = [[] for _ in range(k)]\n",
        "\n",
        "for i in range(k):\n",
        "    if pca_data[:, i].min() < 0:\n",
        "        pca_descaler[i].append(pca_data[:, i].min())\n",
        "        pca_data[:, i] += np.abs(pca_data[:, i].min())\n",
        "    else:\n",
        "        pca_descaler[i].append(pca_data[:, i].min())\n",
        "        pca_data[:, i] -= pca_data[:, i].min()\n",
        "    pca_descaler[i].append(pca_data[:, i].max())\n",
        "    pca_data[:, i] /= pca_data[:, i].max()\n",
        "\n",
        "pca_data_rot = np.arcsin(np.sqrt(pca_data))\n",
        "\n",
        "def descale_points(d_point, scales=pca_descaler, tfrm=pca):\n",
        "    for col in range(d_point.shape[1]):\n",
        "        d_point[:, col] *= scales[col][1]\n",
        "        d_point[:, col] += scales[col][0]\n",
        "    reconstruction = tfrm.inverse_transform(d_point)\n",
        "    return reconstruction\n",
        "\n",
        "n_qubits = 5\n",
        "dev = qml.device(\"default.qubit\", wires=n_qubits)\n",
        "\n",
        "@qml.qnode(dev)\n",
        "def qnode(inputs, w000, w001, w008, w009, w016, w017, w200, w201, w208, w209, w216, w217):\n",
        "    qml.RY(inputs[0], wires=1)\n",
        "    qml.RY(inputs[1], wires=2)\n",
        "\n",
        "    qml.RY(inputs[2], wires=3)\n",
        "    qml.RY(inputs[3], wires=4)\n",
        "\n",
        "    qml.RX(w000, wires=1)\n",
        "    qml.RX(w001, wires=2)\n",
        "\n",
        "    qml.RY(w008, wires=1)\n",
        "    qml.RY(w009, wires=2)\n",
        "\n",
        "    qml.RZ(w016, wires=1)\n",
        "    qml.RZ(w017, wires=2)\n",
        "    qml.CNOT(wires=[1, 2])\n",
        "    qml.CNOT(wires=[2, 1])\n",
        "\n",
        "    qml.RX(w200, wires=1)\n",
        "    qml.RX(w201, wires=2)\n",
        "\n",
        "    qml.RY(w208, wires=1)\n",
        "    qml.RY(w209, wires=2)\n",
        "\n",
        "    qml.RZ(w216, wires=1)\n",
        "    qml.RZ(w217, wires=2)\n",
        "    qml.CNOT(wires=[1, 2])\n",
        "    qml.CNOT(wires=[2, 1])\n",
        "\n",
        "    qml.Hadamard(0)\n",
        "    qml.CSWAP(wires=[0, 1, 3])\n",
        "    qml.CSWAP(wires=[0, 2, 4])\n",
        "    qml.Hadamard(0)\n",
        "\n",
        "    return qml.probs(wires=[0])\n",
        "\n",
        "weight_shapes = {\"w000\": 1, \"w001\": 1, \"w008\": 1, \"w009\": 1, \"w016\": 1, \"w017\": 1, \"w200\": 1, \"w201\": 1, \"w208\": 1, \"w209\": 1, \"w216\": 1, \"w217\": 1}\n",
        "\n",
        "class MNIST(nn.Module):\n",
        "    def __init__(self):\n",
        "        super().__init__()\n",
        "        self.qlayer = qml.qnn.TorchLayer(qnode, weight_shapes)\n",
        "\n",
        "    def forward(self, x):\n",
        "        out = self.qlayer(x)\n",
        "        return out\n",
        "\n",
        "model = MNIST().to(device)\n",
        "\n",
        "class Logloss(nn.Module):\n",
        "    def __init__(self):\n",
        "        super(Logloss, self).__init__()\n",
        "\n",
        "    def forward(self, output):\n",
        "        return torch.mean(-torch.log(output[0]))"
      ],
      "metadata": {
        "id": "bVNQ4RTPSqT-"
      },
      "execution_count": null,
      "outputs": []
    },
    {
      "cell_type": "code",
      "source": [
        "\n",
        "def train(model, device, optimizer, epoch):\n",
        "    running_loss = 0.0\n",
        "    loss_sum = 0.0\n",
        "    output_sum = 0.0\n",
        "    for i in range(len(pca_data)):\n",
        "        noise = torch.empty(2, dtype=torch.float32).uniform_(0.3, 0.9).to(device)\n",
        "        inputs = torch.Tensor(pca_data_rot[i]).to(device)\n",
        "        inputs = torch.cat((noise, inputs), 0)\n",
        "        optimizer.zero_grad()\n",
        "        outputs = model(inputs)\n",
        "        loss_function = Logloss()\n",
        "        loss = loss_function(outputs)\n",
        "        loss.backward()\n",
        "        optimizer.step()\n",
        "\n",
        "        loss_sum += loss.item()\n",
        "        running_loss += loss.item()\n",
        "        output_sum += outputs[0].item()  # Convert to a scalar\n",
        "        if (i + 1) % 100 == 0:\n",
        "            print('epoch: %d, loss: %.3f' % (epoch, running_loss / 100))\n",
        "            running_loss = 0.0\n",
        "\n",
        "    this_epoch_loss = loss_sum / len(pca_data)\n",
        "    this_epoch_output = output_sum / len(pca_data)\n",
        "    return this_epoch_loss, this_epoch_output\n",
        "\n",
        "def plot_and_save_graphs(loss_list, output_list, epoch):\n",
        "    plt.figure(figsize=(10, 5))\n",
        "\n",
        "    plt.subplot(1, 2, 1)\n",
        "    plt.plot(loss_list, label='Loss')\n",
        "    plt.xlabel('Epoch')\n",
        "    plt.ylabel('Loss')\n",
        "    plt.title('Loss over Epochs')\n",
        "    plt.legend()\n",
        "\n",
        "    plt.subplot(1, 2, 2)\n",
        "    plt.plot(output_list, label='Output')\n",
        "    plt.xlabel('Epoch')\n",
        "    plt.ylabel('Output')\n",
        "    plt.title('Output over Epochs')\n",
        "    plt.legend()\n",
        "\n",
        "    plt.tight_layout()\n",
        "    plt.savefig(f'output_epoch_{epoch}.png')\n",
        "    plt.close()\n",
        "\n",
        "def save_sample_images(model, epoch, sample_interval=10):\n",
        "    if epoch % sample_interval == 0:\n",
        "        num_samples = 10\n",
        "        sample_indices = np.random.choice(len(pca_data), num_samples, replace=False)\n",
        "        samples = pca_data[sample_indices]\n",
        "        descaled_samples = descale_points(samples)\n",
        "\n",
        "        fig, axes = plt.subplots(1, num_samples, figsize=(15, 2))\n",
        "        for i, sample in enumerate(descaled_samples):\n",
        "            axes[i].imshow(sample.reshape(28, 28), cmap='gray')\n",
        "            axes[i].axis('off')\n",
        "        plt.tight_layout()\n",
        "        plt.savefig(f'sample_epoch_{epoch}.png')\n",
        "        plt.close()\n",
        "\n",
        "optimizer = optim.Adam(model.parameters(), lr=lr)\n",
        "scheduler = CosineAnnealingLR(optimizer, T_max=30)\n",
        "highest_acc = 0\n",
        "loss_list = []\n",
        "output_list = []\n",
        "\n",
        "for epoch in range(epochs):\n",
        "    loss, output = train(model, device, optimizer, epoch)\n",
        "    loss_list.append(loss)\n",
        "    output_list.append(output)\n",
        "    torch.save(model.state_dict(), f'./model_epoch_{epoch}.pth')\n",
        "    plot_and_save_graphs(loss_list, output_list, epoch)\n",
        "    save_sample_images(model, epoch, sample_interval=5)\n",
        "\n",
        "    print(\"Loss list:\", loss_list)\n",
        "    print(\"Output list:\", output_list)"
      ],
      "metadata": {
        "id": "S2JLrHwUTMZH"
      },
      "execution_count": null,
      "outputs": []
    },
    {
      "cell_type": "code",
      "source": [
        "n_qubits = 5\n",
        "dev = qml.device(\"default.qubit\", wires=n_qubits)\n",
        "\n",
        "@qml.qnode(dev)\n",
        "def qnode(inputs, w000, w001, w008, w009, w016, w017, w200, w201, w208, w209, w216, w217):\n",
        "\n",
        "    qml.RY(inputs[0], wires=1)\n",
        "    qml.RY(inputs[1], wires=2)\n",
        "    qml.RY(inputs[2], wires=3)\n",
        "    qml.RY(inputs[3], wires=4)\n",
        "\n",
        "\n",
        "    qml.RX(w000, wires=1)\n",
        "    qml.RX(w001, wires=2)\n",
        "    qml.RY(w008, wires=1)\n",
        "    qml.RY(w009, wires=2)\n",
        "    qml.RZ(w016, wires=1)\n",
        "    qml.RZ(w017, wires=2)\n",
        "\n",
        "\n",
        "    qml.CNOT(wires=[1, 2])\n",
        "    qml.CNOT(wires=[2, 1])\n",
        "\n",
        "\n",
        "    qml.RX(w200, wires=1)\n",
        "    qml.RX(w201, wires=2)\n",
        "    qml.RY(w208, wires=1)\n",
        "    qml.RY(w209, wires=2)\n",
        "    qml.RZ(w216, wires=1)\n",
        "    qml.RZ(w217, wires=2)\n",
        "\n",
        "\n",
        "    qml.CNOT(wires=[1, 2])\n",
        "    qml.CNOT(wires=[2, 1])\n",
        "\n",
        "\n",
        "    qml.Hadamard(0)\n",
        "    qml.CSWAP(wires=[0, 1, 3])\n",
        "    qml.CSWAP(wires=[0, 2, 4])\n",
        "    qml.Hadamard(0)\n",
        "\n",
        "    return qml.probs(wires=[0])\n",
        "\n",
        "\n",
        "inputs = np.array([0.1, 0.2, 0.3, 0.4])\n",
        "weights = np.random.random(12)\n",
        "\n",
        "drawer = qml.draw(qnode)\n",
        "print(drawer(inputs, *weights))\n",
        "\n",
        "fig, ax = qml.draw_mpl(qnode)(inputs, *weights)\n",
        "plt.show()"
      ],
      "metadata": {
        "id": "GuisVA9yTSqq"
      },
      "execution_count": null,
      "outputs": []
    },
    {
      "cell_type": "markdown",
      "source": [
        "## Jet Images\n"
      ],
      "metadata": {
        "id": "bMV61DTWFbJv"
      }
    },
    {
      "cell_type": "code",
      "source": [
        "import h5py\n",
        "import torch\n",
        "import torch.nn as nn\n",
        "import torchvision.transforms as transforms\n",
        "import random\n",
        "import matplotlib.pyplot as plt\n",
        "import numpy as np\n",
        "import torch.optim as optim\n",
        "from torch.optim.lr_scheduler import CosineAnnealingLR\n",
        "import pennylane as qml"
      ],
      "metadata": {
        "id": "IhVQ8DAA2x6c"
      },
      "execution_count": null,
      "outputs": []
    },
    {
      "cell_type": "code",
      "source": [
        "device = torch.device('cuda' if torch.cuda.is_available() else 'cpu')"
      ],
      "metadata": {
        "id": "A1mPEOxqsTRK"
      },
      "execution_count": null,
      "outputs": []
    },
    {
      "cell_type": "code",
      "source": [
        "jet_images_path = 'jet-images_Mass60-100_pT250-300_R1.25_Pix25.hdf5'\n",
        "with h5py.File(jet_images_path, 'r') as jet_mass_data:\n",
        "    X_jet = jet_mass_data['image']\n",
        "    print(\"Original shape:\", X_jet.shape)\n",
        "    X_jet = np.array(X_jet)\n",
        "    X_jet = torch.tensor(X_jet, dtype=torch.float32)\n",
        "\n",
        "# Normalize and resize images\n",
        "X_jet = (X_jet - X_jet.min()) / (X_jet.max() - X_jet.min())\n",
        "X_jet = X_jet.unsqueeze(1)\n",
        "X_jet_resized = nn.functional.interpolate(X_jet, size=(16, 16), mode='bilinear', align_corners=False)\n",
        "print(\"Resized shape:\", X_jet_resized.shape)\n",
        "\n",
        "# Sample data\n",
        "indices = random.sample(range(X_jet_resized.shape[0]), 10000)\n",
        "X_jet_sampled = X_jet_resized[indices]\n",
        "print(\"Sampled shape:\", X_jet_sampled.shape)\n",
        "\n",
        "# Flatten the images for PCA\n",
        "X_jet_flat = X_jet_sampled.view(X_jet_sampled.size(0), -1)"
      ],
      "metadata": {
        "id": "ODk4Oo7jsB4B"
      },
      "execution_count": null,
      "outputs": []
    },
    {
      "cell_type": "code",
      "source": [
        "from sklearn.decomposition import PCA\n",
        "\n",
        "k = 2\n",
        "pca = PCA(n_components=k)\n",
        "pca.fit(X_jet_flat)\n",
        "pca_data = pca.transform(X_jet_flat)\n",
        "t_pca_data = pca_data.copy()\n",
        "pca_descaler = [[] for _ in range(k)]\n",
        "\n",
        "for i in range(k):\n",
        "    if pca_data[:, i].min() < 0:\n",
        "        pca_descaler[i].append(pca_data[:, i].min())\n",
        "        pca_data[:, i] += np.abs(pca_data[:, i].min())\n",
        "    else:\n",
        "        pca_descaler[i].append(pca_data[:, i].min())\n",
        "        pca_data[:, i] -= pca_data[:, i].min()\n",
        "    pca_descaler[i].append(pca_data[:, i].max())\n",
        "    pca_data[:, i] /= pca_data[:, i].max()\n",
        "\n",
        "pca_data_rot = np.arcsin(np.sqrt(pca_data))"
      ],
      "metadata": {
        "id": "mu4UGjuKsD_S"
      },
      "execution_count": null,
      "outputs": []
    },
    {
      "cell_type": "code",
      "source": [
        "n_qubits = 5\n",
        "dev = qml.device(\"default.qubit\", wires=n_qubits)\n",
        "\n",
        "@qml.qnode(dev)\n",
        "def qnode(inputs, w000, w001, w008, w009, w016, w017, w200, w201, w208, w209, w216, w217):\n",
        "    qml.RY(inputs[0], wires=1)\n",
        "    qml.RY(inputs[1], wires=2)\n",
        "\n",
        "    qml.RY(inputs[2], wires=3)\n",
        "    qml.RY(inputs[3], wires=4)\n",
        "\n",
        "    qml.RX(w000, wires=1)\n",
        "    qml.RX(w001, wires=2)\n",
        "\n",
        "    qml.RY(w008, wires=1)\n",
        "    qml.RY(w009, wires=2)\n",
        "\n",
        "    qml.RZ(w016, wires=1)\n",
        "    qml.RZ(w017, wires=2)\n",
        "    qml.CNOT(wires=[1, 2])\n",
        "    qml.CNOT(wires=[2, 1])\n",
        "\n",
        "    qml.RX(w200, wires=1)\n",
        "    qml.RX(w201, wires=2)\n",
        "\n",
        "    qml.RY(w208, wires=1)\n",
        "    qml.RY(w209, wires=2)\n",
        "\n",
        "    qml.RZ(w216, wires=1)\n",
        "    qml.RZ(w217, wires=2)\n",
        "    qml.CNOT(wires=[1, 2])\n",
        "    qml.CNOT(wires=[2, 1])\n",
        "\n",
        "    qml.Hadamard(0)\n",
        "    qml.CSWAP(wires=[0, 1, 3])\n",
        "    qml.CSWAP(wires=[0, 2, 4])\n",
        "    qml.Hadamard(0)\n",
        "\n",
        "    return qml.probs(wires=[0])\n",
        "\n",
        "weight_shapes = {\"w000\": 1, \"w001\": 1, \"w008\": 1, \"w009\": 1, \"w016\": 1, \"w017\": 1, \"w200\": 1, \"w201\": 1, \"w208\": 1, \"w209\": 1, \"w216\": 1, \"w217\": 1}\n",
        "\n",
        "class QuantumGAN(nn.Module):\n",
        "    def __init__(self):\n",
        "        super().__init__()\n",
        "        self.qlayer = qml.qnn.TorchLayer(qnode, weight_shapes)\n",
        "\n",
        "    def forward(self, x):\n",
        "        out = self.qlayer(x)\n",
        "        return out\n",
        "\n",
        "model = QuantumGAN().to(device)"
      ],
      "metadata": {
        "id": "kU2HSXzssGg0"
      },
      "execution_count": null,
      "outputs": []
    },
    {
      "cell_type": "code",
      "source": [
        "def plot_and_save_graphs(loss_list, output_list, epoch):\n",
        "    plt.figure(figsize=(10, 5))\n",
        "\n",
        "    plt.subplot(1, 2, 1)\n",
        "    plt.plot(loss_list, label='Loss')\n",
        "    plt.xlabel('Epoch')\n",
        "    plt.ylabel('Loss')\n",
        "    plt.title('Loss over Epochs')\n",
        "    plt.legend()\n",
        "\n",
        "    plt.subplot(1, 2, 2)\n",
        "    plt.plot(output_list, label='Output')\n",
        "    plt.xlabel('Epoch')\n",
        "    plt.ylabel('Output')\n",
        "    plt.title('Output over Epochs')\n",
        "    plt.legend()\n",
        "\n",
        "    plt.tight_layout()\n",
        "    plt.savefig(f'output_Jet_IQGAN_epoch_{epoch}.png')\n",
        "    plt.close()\n",
        "\n",
        "def descale_points(d_point, scales=pca_descaler, tfrm=pca):\n",
        "    for col in range(d_point.shape[1]):\n",
        "        d_point[:, col] *= scales[col][1]\n",
        "        d_point[:, col] += scales[col][0]\n",
        "    reconstruction = tfrm.inverse_transform(d_point)\n",
        "    return reconstruction\n"
      ],
      "metadata": {
        "id": "wBJoDL4UskiX"
      },
      "execution_count": null,
      "outputs": []
    },
    {
      "cell_type": "code",
      "source": [
        "import matplotlib.pyplot as plt\n",
        "def plot_generated_samples(model, epoch, num_samples=16):\n",
        "    with torch.no_grad():\n",
        "        # Generate random latent vectors\n",
        "        z = torch.randn(num_samples, 4).to(device)  # Adjust the size to match the expected input\n",
        "        generated_data = model(z).cpu().numpy()\n",
        "        generated_data = pca.inverse_transform(generated_data)\n",
        "\n",
        "    fig, axes = plt.subplots(1, num_samples, figsize=(num_samples * 2, 2))\n",
        "    for i in range(num_samples):\n",
        "        img = generated_data[i].reshape(16, 16)\n",
        "        axes[i].imshow(img, cmap='viridis')\n",
        "        axes[i].axis('off')\n",
        "    plt.show()\n",
        "    plt.close()"
      ],
      "metadata": {
        "id": "KprHfl5hslVF"
      },
      "execution_count": null,
      "outputs": []
    },
    {
      "cell_type": "code",
      "source": [
        "def save_sample_images(model, epoch, sample_interval=1):\n",
        "    if epoch % sample_interval == 0:\n",
        "        num_samples = 10\n",
        "        sample_indices = np.random.choice(len(pca_data), num_samples, replace=False)\n",
        "        samples = pca_data[sample_indices]\n",
        "        descaled_samples = descale_points(samples)\n",
        "\n",
        "        fig, axes = plt.subplots(1, num_samples, figsize=(15, 2))\n",
        "        for i, sample in enumerate(descaled_samples):\n",
        "            axes[i].imshow(sample.reshape(16, 16), cmap='viridis')\n",
        "            axes[i].axis('off')\n",
        "        plt.tight_layout()\n",
        "        plt.savefig(f'IQGAN_jet_epoch_{epoch}.png')\n",
        "        plt.close()"
      ],
      "metadata": {
        "id": "VAcz1hI7MCTo"
      },
      "execution_count": null,
      "outputs": []
    },
    {
      "cell_type": "code",
      "source": [
        "BATCH_SIZE = 32\n",
        "epochs = 30\n",
        "lr = 1e-3\n",
        "w_decay = 1e-4\n",
        "\n",
        "class Logloss(nn.Module):\n",
        "    def __init__(self):\n",
        "        super(Logloss, self).__init__()\n",
        "\n",
        "    def forward(self, output):\n",
        "        return torch.mean(-torch.log(output[0]))\n",
        "\n",
        "def train(model, device, optimizer, epoch):\n",
        "    running_loss = 0.0\n",
        "    loss_sum = 0.0\n",
        "    output_sum = 0.0\n",
        "    for i in range(len(pca_data)):\n",
        "        noise = torch.empty(2, dtype=torch.float32).uniform_(0.3, 0.9).to(device)\n",
        "        inputs = torch.Tensor(pca_data_rot[i]).to(device)\n",
        "        inputs = torch.cat((noise, inputs), 0)\n",
        "        optimizer.zero_grad()\n",
        "        outputs = model(inputs)\n",
        "        loss_function = Logloss()\n",
        "        loss = loss_function(outputs)\n",
        "        loss.backward()\n",
        "        optimizer.step()\n",
        "\n",
        "        loss_sum += loss.item()\n",
        "        running_loss += loss.item()\n",
        "        output_sum += outputs[0].item()\n",
        "        if (i + 1) % 200 == 0:\n",
        "            print('epoch: %d, loss: %.3f' % (epoch, running_loss / 100))\n",
        "            running_loss = 0.0\n",
        "\n",
        "    this_epoch_loss = loss_sum / len(pca_data)\n",
        "    this_epoch_output = output_sum / len(pca_data)\n",
        "    return this_epoch_loss, this_epoch_output\n",
        "\n",
        "optimizer = optim.Adam(model.parameters(), lr=lr)\n",
        "scheduler = CosineAnnealingLR(optimizer, T_max=30)\n",
        "highest_acc = 0\n",
        "loss_list = []\n",
        "output_list = []\n",
        "\n",
        "for epoch in range(epochs):\n",
        "    loss, output = train(model, device, optimizer, epoch)\n",
        "    loss_list.append(loss)\n",
        "    output_list.append(output)\n",
        "    # torch.save(model.state_dict(), f'./model_epoch_{epoch}.pth')\n",
        "    plot_and_save_graphs(loss_list, output_list, epoch)\n",
        "    save_sample_images(model, epoch, sample_interval=1)\n",
        "    # plot_generated_samples(model, epoch)\n",
        "\n",
        "    print(\"Loss list:\", loss_list)\n",
        "    print(\"Output list:\", output_list)"
      ],
      "metadata": {
        "id": "Wi8ysx7ssJWQ"
      },
      "execution_count": null,
      "outputs": []
    },
    {
      "cell_type": "markdown",
      "source": [
        "## Circuit Experimentation\n"
      ],
      "metadata": {
        "id": "p5SrATTJtYDI"
      }
    },
    {
      "cell_type": "markdown",
      "source": [
        "\n",
        "### Entanglement based"
      ],
      "metadata": {
        "id": "-aCoGzM1ZXiY"
      }
    },
    {
      "cell_type": "markdown",
      "source": [
        "Note that the FID scores aren't the right values and are not comparable with classical ones\n"
      ],
      "metadata": {
        "id": "3r7fNQlogA1E"
      }
    },
    {
      "cell_type": "markdown",
      "source": [
        "#### Full entanglement"
      ],
      "metadata": {
        "id": "VVTJPd3wZYYX"
      }
    },
    {
      "cell_type": "code",
      "source": [
        "k = 2\n",
        "pca = PCA(n_components=k)\n",
        "pca.fit(X_jet_flat)\n",
        "pca_data = pca.transform(X_jet_flat)\n",
        "t_pca_data = pca_data.copy()\n",
        "pca_descaler = [[] for _ in range(k)]\n",
        "\n",
        "for i in range(k):\n",
        "    if pca_data[:, i].min() < 0:\n",
        "        pca_descaler[i].append(pca_data[:, i].min())\n",
        "        pca_data[:, i] += np.abs(pca_data[:, i].min())\n",
        "    else:\n",
        "        pca_descaler[i].append(pca_data[:, i].min())\n",
        "        pca_data[:, i] -= pca_data[:, i].min()\n",
        "    pca_descaler[i].append(pca_data[:, i].max())\n",
        "    pca_data[:, i] /= pca_data[:, i].max()\n",
        "\n",
        "pca_data_rot = np.arcsin(np.sqrt(pca_data))\n",
        "\n",
        "\n",
        "n_qubits = 5\n",
        "dev = qml.device(\"default.qubit\", wires=n_qubits)"
      ],
      "metadata": {
        "id": "2KWWUfXnJqq1"
      },
      "execution_count": null,
      "outputs": []
    },
    {
      "cell_type": "code",
      "source": [
        "@qml.qnode(dev)\n",
        "def qnode(inputs, w000, w001, w008, w009, w016, w017, w200, w201, w208, w209, w216, w217):\n",
        "    # Input encoding\n",
        "    qml.RY(inputs[0], wires=1)\n",
        "    qml.RY(inputs[1], wires=2)\n",
        "\n",
        "    # Parametrized gates\n",
        "    qml.RX(w000, wires=1)\n",
        "    qml.RX(w001, wires=2)\n",
        "\n",
        "    # Full entanglement\n",
        "    qml.CNOT(wires=[1, 2])\n",
        "    qml.CNOT(wires=[1, 3])\n",
        "    qml.CNOT(wires=[1, 4])\n",
        "    qml.CNOT(wires=[2, 3])\n",
        "    qml.CNOT(wires=[2, 4])\n",
        "    qml.CNOT(wires=[3, 4])\n",
        "\n",
        "    # Remaining gates and measurements\n",
        "    qml.Hadamard(0)\n",
        "    qml.CSWAP(wires=[0, 1, 3])\n",
        "    qml.CSWAP(wires=[0, 2, 4])\n",
        "    qml.Hadamard(0)\n",
        "\n",
        "    return qml.probs(wires=[0])\n",
        "\n",
        "weight_shapes = {\"w000\": 1, \"w001\": 1, \"w008\": 1, \"w009\": 1, \"w016\": 1, \"w017\": 1, \"w200\": 1, \"w201\": 1, \"w208\": 1, \"w209\": 1, \"w216\": 1, \"w217\": 1}"
      ],
      "metadata": {
        "id": "3VfANxJVGCwC"
      },
      "execution_count": null,
      "outputs": []
    },
    {
      "cell_type": "code",
      "source": [
        "class QuantumGAN(nn.Module):\n",
        "    def __init__(self):\n",
        "        super().__init__()\n",
        "        self.qlayer = qml.qnn.TorchLayer(qnode, weight_shapes)\n",
        "\n",
        "    def forward(self, x):\n",
        "        out = self.qlayer(x)\n",
        "        return out\n",
        "\n",
        "model = QuantumGAN().to(device)"
      ],
      "metadata": {
        "id": "TECskxRpIFUx"
      },
      "execution_count": null,
      "outputs": []
    },
    {
      "cell_type": "code",
      "source": [
        "selected_jet_image = pca_data_rot[0]\n",
        "\n",
        "@qml.qnode(dev)\n",
        "def encode_jet_image_into_state():\n",
        "    # Input encoding\n",
        "    qml.RY(selected_jet_image[0], wires=1)\n",
        "    qml.RY(selected_jet_image[1], wires=2)\n",
        "\n",
        "    return qml.state()\n",
        "\n",
        "# Get the reference state by running the quantum node\n",
        "reference_state = encode_jet_image_into_state()"
      ],
      "metadata": {
        "id": "l1PiWjmYVC8b"
      },
      "execution_count": null,
      "outputs": []
    },
    {
      "cell_type": "code",
      "source": [
        "def calculate_fidelity(generated_state, reference_state):\n",
        "    fidelity = np.abs(np.dot(np.conj(reference_state), generated_state)) ** 2\n",
        "    return fidelity\n",
        "\n",
        "reference_state = np.array([1, 0])"
      ],
      "metadata": {
        "id": "deqpZR-3Rxm8"
      },
      "execution_count": null,
      "outputs": []
    },
    {
      "cell_type": "code",
      "source": [
        "\n",
        "\n",
        "def generate_samples(model, num_samples=10):\n",
        "    model.eval()\n",
        "    with torch.no_grad():\n",
        "        latent_vectors = np.random.uniform(0, 1, size=(num_samples, k))  # k is 2 as used in PCA\n",
        "        latent_vectors_rot = np.arcsin(np.sqrt(latent_vectors))\n",
        "\n",
        "        generated_samples = []\n",
        "        for vec in latent_vectors_rot:\n",
        "            noise = torch.empty(2, dtype=torch.float32).uniform_(0.3, 0.9).cpu()  # Ensure it's on the CPU\n",
        "            vec_tensor = torch.Tensor(vec).cpu()  # Ensure vec is on the CPU\n",
        "            input_tensor = torch.cat((noise, vec_tensor)).to(device)  # Move concatenated tensor to the device\n",
        "            output = model(input_tensor)\n",
        "            generated_samples.append(output.cpu().numpy())  # Move output back to CPU before converting to NumPy\n",
        "\n",
        "        return np.array(generated_samples)\n",
        "\n",
        "def descale_points(d_point, scales=pca_descaler, tfrm=pca):\n",
        "    for col in range(d_point.shape[1]):\n",
        "        d_point[:, col] *= scales[col][1]\n",
        "        d_point[:, col] += scales[col][0]\n",
        "    reconstruction = tfrm.inverse_transform(d_point)\n",
        "    return reconstruction\n",
        "\n",
        "def visualize_generated_samples(generated_samples, num_samples=10):\n",
        "    descaled_samples = descale_points(generated_samples)  # Descale from PCA back to image space\n",
        "\n",
        "    fig, axes = plt.subplots(1, num_samples, figsize=(15, 2))\n",
        "    for i, sample in enumerate(descaled_samples):\n",
        "        axes[i].imshow(sample.reshape(16, 16), cmap='viridis')\n",
        "        axes[i].axis('off')\n",
        "    plt.tight_layout()\n",
        "    plt.show()\n",
        "\n",
        "def calculate_fid(real_samples, generated_samples):\n",
        "    # Flatten the images\n",
        "    real_samples_flattened = real_samples.reshape(real_samples.shape[0], -1)\n",
        "    generated_samples_flattened = generated_samples.reshape(generated_samples.shape[0], -1)\n",
        "\n",
        "    # Compute the mean and covariance of the real and generated samples\n",
        "    mu_real = np.mean(real_samples_flattened, axis=0)\n",
        "    sigma_real = np.cov(real_samples_flattened, rowvar=False)\n",
        "\n",
        "    mu_gen = np.mean(generated_samples_flattened, axis=0)\n",
        "    sigma_gen = np.cov(generated_samples_flattened, rowvar=False)\n",
        "\n",
        "    # Compute FID using the formula\n",
        "    fid = np.sum((mu_real - mu_gen) ** 2) + np.trace(sigma_real + sigma_gen - 2.0 * sqrtm(sigma_real @ sigma_gen))\n",
        "\n",
        "    # Sometimes sqrtm may result in complex numbers, taking only the real part if necessary\n",
        "    if np.iscomplexobj(fid):\n",
        "        fid = fid.real\n",
        "\n",
        "    return fid\n",
        "\n",
        "def save_sample_images(model, epoch, sample_interval=1):\n",
        "    if epoch % sample_interval == 0:\n",
        "        num_samples = 10\n",
        "        sample_indices = np.random.choice(len(pca_data), num_samples, replace=False)\n",
        "        samples = pca_data[sample_indices]\n",
        "        descaled_samples = descale_points(samples)\n",
        "\n",
        "        fig, axes = plt.subplots(1, num_samples, figsize=(15, 2))\n",
        "        for i, sample in enumerate(descaled_samples):\n",
        "            axes[i].imshow(sample.reshape(16, 16), cmap='viridis')\n",
        "            axes[i].axis('off')\n",
        "        plt.tight_layout()\n",
        "        plt.savefig(f'IQGAN_jet_test1_{epoch}.png')\n",
        "        plt.close()\n",
        "\n",
        "class Logloss(nn.Module):\n",
        "    def __init__(self):\n",
        "        super(Logloss, self).__init__()\n",
        "\n",
        "    def forward(self, output):\n",
        "        return torch.mean(-torch.log(output[0]))\n",
        "\n",
        "def train(model, device, optimizer, epoch):\n",
        "    running_loss = 0.0\n",
        "    loss_sum = 0.0\n",
        "    output_sum = 0.0\n",
        "    fidelity_sum = 0.0\n",
        "    for i in range(len(pca_data)):\n",
        "        noise = torch.empty(2, dtype=torch.float32).uniform_(0.3, 0.9).to(device)\n",
        "        inputs = torch.Tensor(pca_data_rot[i]).to(device)\n",
        "        inputs = torch.cat((noise, inputs), 0)\n",
        "        optimizer.zero_grad()\n",
        "        generated_state = model(inputs)\n",
        "        loss_function = Logloss()\n",
        "        loss = loss_function(generated_state)\n",
        "        loss.backward()\n",
        "        optimizer.step()\n",
        "\n",
        "        loss_sum += loss.item()\n",
        "        running_loss += loss.item()\n",
        "        output_sum += generated_state[0].item()\n",
        "\n",
        "        # Calculate fidelity for each generated state\n",
        "        fidelity = calculate_fidelity(generated_state.cpu().detach().numpy(), reference_state)\n",
        "        fidelity_sum += fidelity\n",
        "\n",
        "        if (i + 1) % 200 == 0:\n",
        "            print('epoch: %d, loss: %.3f, fidelity: %.3f' % (epoch, running_loss / 100, fidelity_sum / 200))\n",
        "            running_loss = 0.0\n",
        "\n",
        "    this_epoch_loss = loss_sum / len(pca_data)\n",
        "    this_epoch_output = output_sum / len(pca_data)\n",
        "    this_epoch_fidelity = fidelity_sum / len(pca_data)\n",
        "\n",
        "    return this_epoch_loss, this_epoch_output, this_epoch_fidelity\n",
        "\n",
        "# Training parameters\n",
        "BATCH_SIZE = 32\n",
        "epochs = 30\n",
        "lr = 1e-3\n",
        "w_decay = 1e-4"
      ],
      "metadata": {
        "id": "qipO4MoOGF1j"
      },
      "execution_count": null,
      "outputs": []
    },
    {
      "cell_type": "code",
      "source": [
        "def plot_and_save_graphs(loss_list, output_list, fidelity_list, epoch):\n",
        "    plt.figure(figsize=(15, 5))\n",
        "\n",
        "    plt.subplot(1, 3, 1)\n",
        "    plt.plot(loss_list, label='Loss')\n",
        "    plt.xlabel('Epoch')\n",
        "    plt.ylabel('Loss')\n",
        "    plt.title('Loss over Epochs')\n",
        "    plt.legend()\n",
        "\n",
        "    plt.subplot(1, 3, 2)\n",
        "    plt.plot(output_list, label='Output')\n",
        "    plt.xlabel('Epoch')\n",
        "    plt.ylabel('Output')\n",
        "    plt.title('Output over Epochs')\n",
        "    plt.legend()\n",
        "\n",
        "    plt.subplot(1, 3, 3)\n",
        "    plt.plot(fidelity_list, label='Fidelity')\n",
        "    plt.xlabel('Epoch')\n",
        "    plt.ylabel('Fidelity')\n",
        "    plt.title('Fidelity over Epochs')\n",
        "    plt.legend()\n",
        "\n",
        "    plt.tight_layout()\n",
        "    plt.savefig(f'IQGAN_jet_test1_plots_{epoch}.png')\n",
        "    plt.close()\n"
      ],
      "metadata": {
        "id": "c47Pcy8iGWsg"
      },
      "execution_count": null,
      "outputs": []
    },
    {
      "cell_type": "code",
      "source": [
        "optimizer = optim.Adam(model.parameters(), lr=lr)\n",
        "scheduler = CosineAnnealingLR(optimizer, T_max=30)\n",
        "highest_acc = 0\n",
        "loss_list = []\n",
        "output_list = []\n",
        "fidelity_list = []\n",
        "fid_list = []\n",
        "\n",
        "for epoch in range(epochs):\n",
        "    loss, output, fidelity = train(model, device, optimizer, epoch)\n",
        "    loss_list.append(loss)\n",
        "    output_list.append(output)\n",
        "    fidelity_list.append(fidelity)\n",
        "\n",
        "    # Generate samples at each epoch and calculate FID\n",
        "    generated_samples = generate_samples(model, num_samples=100)\n",
        "    descaled_generated_samples = descale_points(generated_samples)\n",
        "    descaled_generated_samples = descaled_generated_samples.reshape(100, 16, 16)\n",
        "\n",
        "    # Take a batch of real images for comparison\n",
        "    real_images = X_jet_resized[indices[:100]].cpu().numpy()\n",
        "\n",
        "    fid = calculate_fid(real_images, descaled_generated_samples)\n",
        "    fid_list.append(fid)\n",
        "\n",
        "    print(f'Epoch {epoch}: Loss = {loss}, FID = {fid}')\n",
        "    save_sample_images(model, epoch, sample_interval=1)\n",
        "\n",
        "    print(\"Loss list:\", loss_list)\n",
        "    print(\"Output list:\", output_list)\n",
        "    print(\"FID list:\", fid_list)\n",
        "    print(\"Fidelity list:\", fidelity_list)\n",
        "plot_and_save_graphs(loss_list, output_list, fidelity_list, epoch)"
      ],
      "metadata": {
        "id": "vNcphJyuGcCd"
      },
      "execution_count": null,
      "outputs": []
    },
    {
      "cell_type": "code",
      "source": [
        "fig, ax = qml.draw_mpl(qnode)(inputs=[0.5, 0.2], w000=0.1, w001=0.1, w008=0.1, w009=0.1, w016=0.1, w017=0.1, w200=0.1, w201=0.1, w208=0.1, w209=0.1, w216=0.1, w217=0.1)\n",
        "plt.show()"
      ],
      "metadata": {
        "colab": {
          "base_uri": "https://localhost:8080/",
          "height": 576
        },
        "id": "0cbhXfHzIjLv",
        "outputId": "8115d00f-ebb6-409e-ce9e-29d8d44d9737"
      },
      "execution_count": null,
      "outputs": [
        {
          "output_type": "display_data",
          "data": {
            "text/plain": [
              "<Figure size 1400x600 with 1 Axes>"
            ],
            "image/png": "[encoded data removed]"
          },
          "metadata": {}
        }
      ]
    },
    {
      "cell_type": "code",
      "source": [
        "circuit_specs = qml.specs(qnode)\n",
        "print(circuit_specs(inputs=[0.5, 0.2], w000=0.1, w001=0.1, w008=0.1, w009=0.1, w016=0.1, w017=0.1, w200=0.1, w201=0.1, w208=0.1, w209=0.1, w216=0.1, w217=0.1))"
      ],
      "metadata": {
        "colab": {
          "base_uri": "https://localhost:8080/"
        },
        "id": "0ZIbMED0K6il",
        "outputId": "810f3ac0-6dd3-443a-e640-1650bea40b61"
      },
      "execution_count": null,
      "outputs": [
        {
          "output_type": "stream",
          "name": "stdout",
          "text": [
            "{'resources': Resources(num_wires=5, num_gates=14, gate_types=defaultdict(<class 'int'>, {'RY': 2, 'RX': 2, 'CNOT': 6, 'Hadamard': 2, 'CSWAP': 2}), gate_sizes=defaultdict(<class 'int'>, {1: 6, 2: 6, 3: 2}), depth=10, shots=Shots(total_shots=None, shot_vector=())), 'errors': {}, 'num_observables': 1, 'num_diagonalizing_gates': 0, 'num_trainable_params': 0, 'num_device_wires': 5, 'device_name': 'default.qubit', 'expansion_strategy': 'gradient', 'gradient_options': {}, 'interface': 'torch', 'diff_method': 'best', 'gradient_fn': 'backprop'}\n"
          ]
        }
      ]
    },
    {
      "cell_type": "markdown",
      "source": [
        "#### Circular Entanglement"
      ],
      "metadata": {
        "id": "pgYs74YfZfrt"
      }
    },
    {
      "cell_type": "code",
      "source": [
        "@qml.qnode(dev)\n",
        "def qnode(inputs, w000, w001, w008, w009, w016, w017, w200, w201, w208, w209, w216, w217):\n",
        "    # Input encoding\n",
        "    qml.RY(inputs[0], wires=1)\n",
        "    qml.RY(inputs[1], wires=2)\n",
        "\n",
        "    # Parametrized gates\n",
        "    qml.RX(w000, wires=1)\n",
        "    qml.RX(w001, wires=2)\n",
        "\n",
        "    # Circular entanglement\n",
        "    qml.CNOT(wires=[1, 2])\n",
        "    qml.CNOT(wires=[2, 3])\n",
        "    qml.CNOT(wires=[3, 4])\n",
        "    qml.CNOT(wires=[4, 1])\n",
        "\n",
        "    # Remaining gates and measurements\n",
        "    qml.Hadamard(0)\n",
        "    qml.CSWAP(wires=[0, 1, 3])\n",
        "    qml.CSWAP(wires=[0, 2, 4])\n",
        "    qml.Hadamard(0)\n",
        "\n",
        "    return qml.probs(wires=[0])\n",
        "\n",
        "weight_shapes = {\"w000\": 1, \"w001\": 1, \"w008\": 1, \"w009\": 1, \"w016\": 1, \"w017\": 1, \"w200\": 1, \"w201\": 1, \"w208\": 1, \"w209\": 1, \"w216\": 1, \"w217\": 1}"
      ],
      "metadata": {
        "id": "RlS6k4Q2Zfew"
      },
      "execution_count": null,
      "outputs": []
    },
    {
      "cell_type": "code",
      "source": [
        "class QuantumGAN(nn.Module):\n",
        "    def __init__(self):\n",
        "        super().__init__()\n",
        "        self.qlayer = qml.qnn.TorchLayer(qnode, weight_shapes)\n",
        "\n",
        "    def forward(self, x):\n",
        "        out = self.qlayer(x)\n",
        "        return out\n",
        "\n",
        "model = QuantumGAN().to(device)"
      ],
      "metadata": {
        "id": "PSL_PyoAZskp"
      },
      "execution_count": null,
      "outputs": []
    },
    {
      "cell_type": "code",
      "source": [
        "def save_sample_images(model, epoch, sample_interval=1):\n",
        "    if epoch % sample_interval == 0:\n",
        "        num_samples = 10\n",
        "        sample_indices = np.random.choice(len(pca_data), num_samples, replace=False)\n",
        "        samples = pca_data[sample_indices]\n",
        "        descaled_samples = descale_points(samples)\n",
        "\n",
        "        fig, axes = plt.subplots(1, num_samples, figsize=(15, 2))\n",
        "        for i, sample in enumerate(descaled_samples):\n",
        "            axes[i].imshow(sample.reshape(16, 16), cmap='viridis')\n",
        "            axes[i].axis('off')\n",
        "        plt.tight_layout()\n",
        "        plt.savefig(f'IQGAN_jet_test2_{epoch}.png')\n",
        "        plt.close()\n"
      ],
      "metadata": {
        "id": "1tYCFBmMZwQT"
      },
      "execution_count": null,
      "outputs": []
    },
    {
      "cell_type": "code",
      "source": [
        "def plot_and_save_graphs(loss_list, output_list, fidelity_list, epoch):\n",
        "    plt.figure(figsize=(15, 5))\n",
        "\n",
        "    plt.subplot(1, 3, 1)\n",
        "    plt.plot(loss_list, label='Loss')\n",
        "    plt.xlabel('Epoch')\n",
        "    plt.ylabel('Loss')\n",
        "    plt.title('Loss over Epochs')\n",
        "    plt.legend()\n",
        "\n",
        "    plt.subplot(1, 3, 2)\n",
        "    plt.plot(output_list, label='Output')\n",
        "    plt.xlabel('Epoch')\n",
        "    plt.ylabel('Output')\n",
        "    plt.title('Output over Epochs')\n",
        "    plt.legend()\n",
        "\n",
        "    plt.subplot(1, 3, 3)\n",
        "    plt.plot(fidelity_list, label='Fidelity')\n",
        "    plt.xlabel('Epoch')\n",
        "    plt.ylabel('Fidelity')\n",
        "    plt.title('Fidelity over Epochs')\n",
        "    plt.legend()\n",
        "\n",
        "    plt.tight_layout()\n",
        "    plt.savefig(f'IQGAN_jet_test2_plots_{epoch}.png')\n",
        "    plt.close()\n"
      ],
      "metadata": {
        "id": "XROZEWuYZ-Sc"
      },
      "execution_count": null,
      "outputs": []
    },
    {
      "cell_type": "code",
      "source": [
        "optimizer = optim.Adam(model.parameters(), lr=lr)\n",
        "scheduler = CosineAnnealingLR(optimizer, T_max=30)\n",
        "highest_acc = 0\n",
        "loss_list = []\n",
        "output_list = []\n",
        "fidelity_list = []\n",
        "fid_list = []\n",
        "\n",
        "for epoch in range(epochs):\n",
        "    loss, output, fidelity = train(model, device, optimizer, epoch)\n",
        "    loss_list.append(loss)\n",
        "    output_list.append(output)\n",
        "    fidelity_list.append(fidelity)\n",
        "\n",
        "    # Generate samples at each epoch and calculate FID\n",
        "    generated_samples = generate_samples(model, num_samples=100)\n",
        "    descaled_generated_samples = descale_points(generated_samples)\n",
        "    descaled_generated_samples = descaled_generated_samples.reshape(100, 16, 16)\n",
        "\n",
        "    # Take a batch of real images for comparison\n",
        "    real_images = X_jet_resized[indices[:100]].cpu().numpy()\n",
        "\n",
        "    fid = calculate_fid(real_images, descaled_generated_samples)\n",
        "    fid_list.append(fid)\n",
        "\n",
        "    print(f'Epoch {epoch}: Loss = {loss}, FID = {fid}')\n",
        "    save_sample_images(model, epoch, sample_interval=1)\n",
        "\n",
        "    print(\"Loss list:\", loss_list)\n",
        "    print(\"Output list:\", output_list)\n",
        "    print(\"FID list:\", fid_list)\n",
        "    print(\"Fidelity list:\", fidelity_list)\n",
        "plot_and_save_graphs(loss_list, output_list, fidelity_list, epoch)"
      ],
      "metadata": {
        "id": "v0t_u2K5aFs1"
      },
      "execution_count": null,
      "outputs": []
    },
    {
      "cell_type": "code",
      "source": [
        "fig, ax = qml.draw_mpl(qnode)(inputs=[0.5, 0.2], w000=0.1, w001=0.1, w008=0.1, w009=0.1, w016=0.1, w017=0.1, w200=0.1, w201=0.1, w208=0.1, w209=0.1, w216=0.1, w217=0.1)\n",
        "plt.show()"
      ],
      "metadata": {
        "colab": {
          "base_uri": "https://localhost:8080/",
          "height": 636
        },
        "id": "Ksg-uUjVdb7T",
        "outputId": "411ee97d-a463-442e-bab7-5d084528a971"
      },
      "execution_count": null,
      "outputs": [
        {
          "output_type": "display_data",
          "data": {
            "text/plain": [
              "<Figure size 1200x600 with 1 Axes>"
            ],
            "image/png": "[encoded data removed]"
          },
          "metadata": {}
        }
      ]
    },
    {
      "cell_type": "code",
      "source": [
        "circuit_specs = qml.specs(qnode)\n",
        "print(circuit_specs(inputs=[0.5, 0.2], w000=0.1, w001=0.1, w008=0.1, w009=0.1, w016=0.1, w017=0.1, w200=0.1, w201=0.1, w208=0.1, w209=0.1, w216=0.1, w217=0.1))"
      ],
      "metadata": {
        "colab": {
          "base_uri": "https://localhost:8080/"
        },
        "id": "KNmPSZISdcNf",
        "outputId": "4f87908b-ae28-44f4-bbfa-65d3276868f8"
      },
      "execution_count": null,
      "outputs": [
        {
          "output_type": "stream",
          "name": "stdout",
          "text": [
            "{'resources': Resources(num_wires=5, num_gates=12, gate_types=defaultdict(<class 'int'>, {'RY': 2, 'RX': 2, 'CNOT': 4, 'Hadamard': 2, 'CSWAP': 2}), gate_sizes=defaultdict(<class 'int'>, {1: 6, 2: 4, 3: 2}), depth=9, shots=Shots(total_shots=None, shot_vector=())), 'errors': {}, 'num_observables': 1, 'num_diagonalizing_gates': 0, 'num_trainable_params': 0, 'num_device_wires': 5, 'device_name': 'default.qubit', 'expansion_strategy': 'gradient', 'gradient_options': {}, 'interface': 'torch', 'diff_method': 'best', 'gradient_fn': 'backprop'}\n"
          ]
        }
      ]
    },
    {
      "cell_type": "markdown",
      "source": [
        "#### Random Entanglement"
      ],
      "metadata": {
        "id": "t6an6mqQdh-E"
      }
    },
    {
      "cell_type": "code",
      "source": [
        "@qml.qnode(dev)\n",
        "def qnode(inputs, w000, w001, w008, w009, w016, w017, w200, w201, w208, w209, w216, w217):\n",
        "    # Input encoding\n",
        "    qml.RY(inputs[0], wires=1)\n",
        "    qml.RY(inputs[1], wires=2)\n",
        "\n",
        "    # Parametrized gates\n",
        "    qml.RX(w000, wires=1)\n",
        "    qml.RX(w001, wires=2)\n",
        "\n",
        "    # Random entanglement\n",
        "    qml.CNOT(wires=[1, 3])\n",
        "    qml.CNOT(wires=[2, 4])\n",
        "    qml.CNOT(wires=[3, 1])\n",
        "    qml.CNOT(wires=[4, 2])\n",
        "\n",
        "    # Remaining gates and measurements\n",
        "    qml.Hadamard(0)\n",
        "    qml.CSWAP(wires=[0, 1, 3])\n",
        "    qml.CSWAP(wires=[0, 2, 4])\n",
        "    qml.Hadamard(0)\n",
        "\n",
        "    return qml.probs(wires=[0])\n",
        "\n",
        "weight_shapes = {\"w000\": 1, \"w001\": 1, \"w008\": 1, \"w009\": 1, \"w016\": 1, \"w017\": 1, \"w200\": 1, \"w201\": 1, \"w208\": 1, \"w209\": 1, \"w216\": 1, \"w217\": 1}"
      ],
      "metadata": {
        "id": "BeVTXGkYdhXW"
      },
      "execution_count": null,
      "outputs": []
    },
    {
      "cell_type": "code",
      "source": [
        "class QuantumGAN(nn.Module):\n",
        "    def __init__(self):\n",
        "        super().__init__()\n",
        "        self.qlayer = qml.qnn.TorchLayer(qnode, weight_shapes)\n",
        "\n",
        "    def forward(self, x):\n",
        "        out = self.qlayer(x)\n",
        "        return out\n",
        "\n",
        "model = QuantumGAN().to(device)"
      ],
      "metadata": {
        "id": "nkLSAj1tdqLp"
      },
      "execution_count": null,
      "outputs": []
    },
    {
      "cell_type": "code",
      "source": [
        "def save_sample_images(model, epoch, sample_interval=1):\n",
        "    if epoch % sample_interval == 0:\n",
        "        num_samples = 10\n",
        "        sample_indices = np.random.choice(len(pca_data), num_samples, replace=False)\n",
        "        samples = pca_data[sample_indices]\n",
        "        descaled_samples = descale_points(samples)\n",
        "\n",
        "        fig, axes = plt.subplots(1, num_samples, figsize=(15, 2))\n",
        "        for i, sample in enumerate(descaled_samples):\n",
        "            axes[i].imshow(sample.reshape(16, 16), cmap='viridis')\n",
        "            axes[i].axis('off')\n",
        "        plt.tight_layout()\n",
        "        plt.savefig(f'IQGAN_jet_test_{epoch}.png')\n",
        "        plt.close()\n"
      ],
      "metadata": {
        "id": "V4aQYbtSdre-"
      },
      "execution_count": null,
      "outputs": []
    },
    {
      "cell_type": "code",
      "source": [
        "def plot_and_save_graphs(loss_list, output_list, fidelity_list, epoch):\n",
        "    plt.figure(figsize=(15, 5))\n",
        "\n",
        "    plt.subplot(1, 3, 1)\n",
        "    plt.plot(loss_list, label='Loss')\n",
        "    plt.xlabel('Epoch')\n",
        "    plt.ylabel('Loss')\n",
        "    plt.title('Loss over Epochs')\n",
        "    plt.legend()\n",
        "\n",
        "    plt.subplot(1, 3, 2)\n",
        "    plt.plot(output_list, label='Output')\n",
        "    plt.xlabel('Epoch')\n",
        "    plt.ylabel('Output')\n",
        "    plt.title('Output over Epochs')\n",
        "    plt.legend()\n",
        "\n",
        "    plt.subplot(1, 3, 3)\n",
        "    plt.plot(fidelity_list, label='Fidelity')\n",
        "    plt.xlabel('Epoch')\n",
        "    plt.ylabel('Fidelity')\n",
        "    plt.title('Fidelity over Epochs')\n",
        "    plt.legend()\n",
        "\n",
        "    plt.tight_layout()\n",
        "    plt.savefig(f'IQGAN_jet_test3_plots_{epoch}.png')\n",
        "    plt.close()\n"
      ],
      "metadata": {
        "id": "xTsjDefyduDg"
      },
      "execution_count": null,
      "outputs": []
    },
    {
      "cell_type": "code",
      "source": [
        "optimizer = optim.Adam(model.parameters(), lr=lr)\n",
        "scheduler = CosineAnnealingLR(optimizer, T_max=30)\n",
        "highest_acc = 0\n",
        "loss_list = []\n",
        "output_list = []\n",
        "fidelity_list = []\n",
        "fid_list = []\n",
        "\n",
        "for epoch in range(epochs):\n",
        "    loss, output, fidelity = train(model, device, optimizer, epoch)\n",
        "    loss_list.append(loss)\n",
        "    output_list.append(output)\n",
        "    fidelity_list.append(fidelity)\n",
        "\n",
        "    # Generate samples at each epoch and calculate FID\n",
        "    generated_samples = generate_samples(model, num_samples=100)\n",
        "    descaled_generated_samples = descale_points(generated_samples)\n",
        "    descaled_generated_samples = descaled_generated_samples.reshape(100, 16, 16)\n",
        "\n",
        "    # Take a batch of real images for comparison\n",
        "    real_images = X_jet_resized[indices[:100]].cpu().numpy()\n",
        "\n",
        "    fid = calculate_fid(real_images, descaled_generated_samples)\n",
        "    fid_list.append(fid)\n",
        "\n",
        "    print(f'Epoch {epoch}: Loss = {loss}, FID = {fid}')\n",
        "    save_sample_images(model, epoch, sample_interval=1)\n",
        "\n",
        "    print(\"Loss list:\", loss_list)\n",
        "    print(\"Output list:\", output_list)\n",
        "    print(\"FID list:\", fid_list)\n",
        "    print(\"Fidelity list:\", fidelity_list)\n",
        "plot_and_save_graphs(loss_list, output_list, fidelity_list, epoch)"
      ],
      "metadata": {
        "id": "-G_RB9c5dwL6"
      },
      "execution_count": null,
      "outputs": []
    },
    {
      "cell_type": "code",
      "source": [
        "fig, ax = qml.draw_mpl(qnode)(inputs=[0.5, 0.2], w000=0.1, w001=0.1, w008=0.1, w009=0.1, w016=0.1, w017=0.1, w200=0.1, w201=0.1, w208=0.1, w209=0.1, w216=0.1, w217=0.1)\n",
        "plt.show()"
      ],
      "metadata": {
        "colab": {
          "base_uri": "https://localhost:8080/"
        },
        "id": "JYnLd9BcdyTi",
        "outputId": "f7a41c3a-9429-4b3c-c3a2-7a3ffc1ce192"
      },
      "execution_count": null,
      "outputs": [
        {
          "output_type": "display_data",
          "data": {
            "text/plain": [
              "<Figure size 1200x600 with 1 Axes>"
            ],
            "image/png": "[encoded data removed]"
          },
          "metadata": {}
        }
      ]
    },
    {
      "cell_type": "code",
      "source": [
        "circuit_specs = qml.specs(qnode)\n",
        "print(circuit_specs(inputs=[0.5, 0.2], w000=0.1, w001=0.1, w008=0.1, w009=0.1, w016=0.1, w017=0.1, w200=0.1, w201=0.1, w208=0.1, w209=0.1, w216=0.1, w217=0.1))"
      ],
      "metadata": {
        "colab": {
          "base_uri": "https://localhost:8080/"
        },
        "id": "Unz4p2Psh0yU",
        "outputId": "5605064b-3042-4768-af4a-a90bf930c078"
      },
      "execution_count": null,
      "outputs": [
        {
          "output_type": "stream",
          "name": "stdout",
          "text": [
            "{'resources': Resources(num_wires=5, num_gates=12, gate_types=defaultdict(<class 'int'>, {'RY': 2, 'RX': 2, 'CNOT': 4, 'Hadamard': 2, 'CSWAP': 2}), gate_sizes=defaultdict(<class 'int'>, {1: 6, 2: 4, 3: 2}), depth=7, shots=Shots(total_shots=None, shot_vector=())), 'errors': {}, 'num_observables': 1, 'num_diagonalizing_gates': 0, 'num_trainable_params': 0, 'num_device_wires': 5, 'device_name': 'default.qubit', 'expansion_strategy': 'gradient', 'gradient_options': {}, 'interface': 'torch', 'diff_method': 'best', 'gradient_fn': 'backprop'}\n"
          ]
        }
      ]
    },
    {
      "cell_type": "markdown",
      "source": [
        "#### Linear chain Entanglement"
      ],
      "metadata": {
        "id": "0ZFxQSLxh7FH"
      }
    },
    {
      "cell_type": "code",
      "source": [
        "@qml.qnode(dev)\n",
        "def qnode(inputs, w000, w001, w008, w009, w016, w017, w200, w201, w208, w209, w216, w217):\n",
        "    # Input encoding\n",
        "    qml.RY(inputs[0], wires=1)\n",
        "    qml.RY(inputs[1], wires=2)\n",
        "\n",
        "    # Parametrized gates\n",
        "    qml.RX(w000, wires=1)\n",
        "    qml.RX(w001, wires=2)\n",
        "\n",
        "    # Linear chain entanglement\n",
        "    qml.CNOT(wires=[1, 2])\n",
        "    qml.CNOT(wires=[2, 3])\n",
        "    qml.CNOT(wires=[3, 4])\n",
        "\n",
        "    # Remaining gates and measurements\n",
        "    qml.Hadamard(0)\n",
        "    qml.CSWAP(wires=[0, 1, 3])\n",
        "    qml.CSWAP(wires=[0, 2, 4])\n",
        "    qml.Hadamard(0)\n",
        "\n",
        "    return qml.probs(wires=[0])\n",
        "\n",
        "weight_shapes = {\"w000\": 1, \"w001\": 1, \"w008\": 1, \"w009\": 1, \"w016\": 1, \"w017\": 1, \"w200\": 1, \"w201\": 1, \"w208\": 1, \"w209\": 1, \"w216\": 1, \"w217\": 1}"
      ],
      "metadata": {
        "id": "h_4Dsc-ph4e5"
      },
      "execution_count": null,
      "outputs": []
    },
    {
      "cell_type": "code",
      "source": [
        "class QuantumGAN(nn.Module):\n",
        "    def __init__(self):\n",
        "        super().__init__()\n",
        "        self.qlayer = qml.qnn.TorchLayer(qnode, weight_shapes)\n",
        "\n",
        "    def forward(self, x):\n",
        "        out = self.qlayer(x)\n",
        "        return out\n",
        "\n",
        "model = QuantumGAN().to(device)"
      ],
      "metadata": {
        "id": "cduFAz6fiGuM"
      },
      "execution_count": null,
      "outputs": []
    },
    {
      "cell_type": "code",
      "source": [
        "def save_sample_images(model, epoch, sample_interval=1):\n",
        "    if epoch % sample_interval == 0:\n",
        "        num_samples = 10\n",
        "        sample_indices = np.random.choice(len(pca_data), num_samples, replace=False)\n",
        "        samples = pca_data[sample_indices]\n",
        "        descaled_samples = descale_points(samples)\n",
        "\n",
        "        fig, axes = plt.subplots(1, num_samples, figsize=(15, 2))\n",
        "        for i, sample in enumerate(descaled_samples):\n",
        "            axes[i].imshow(sample.reshape(16, 16), cmap='viridis')\n",
        "            axes[i].axis('off')\n",
        "        plt.tight_layout()\n",
        "        plt.savefig(f'IQGAN_jet_test4_{epoch}.png')\n",
        "        plt.close()\n"
      ],
      "metadata": {
        "id": "TFS0QIehiME6"
      },
      "execution_count": null,
      "outputs": []
    },
    {
      "cell_type": "code",
      "source": [
        "def plot_and_save_graphs(loss_list, output_list, fidelity_list, epoch):\n",
        "    plt.figure(figsize=(15, 5))\n",
        "\n",
        "    plt.subplot(1, 3, 1)\n",
        "    plt.plot(loss_list, label='Loss')\n",
        "    plt.xlabel('Epoch')\n",
        "    plt.ylabel('Loss')\n",
        "    plt.title('Loss over Epochs')\n",
        "    plt.legend()\n",
        "\n",
        "    plt.subplot(1, 3, 2)\n",
        "    plt.plot(output_list, label='Output')\n",
        "    plt.xlabel('Epoch')\n",
        "    plt.ylabel('Output')\n",
        "    plt.title('Output over Epochs')\n",
        "    plt.legend()\n",
        "\n",
        "    plt.subplot(1, 3, 3)\n",
        "    plt.plot(fidelity_list, label='Fidelity')\n",
        "    plt.xlabel('Epoch')\n",
        "    plt.ylabel('Fidelity')\n",
        "    plt.title('Fidelity over Epochs')\n",
        "    plt.legend()\n",
        "\n",
        "    plt.tight_layout()\n",
        "    plt.savefig(f'IQGAN_jet_test4_plots_{epoch}.png')\n",
        "    plt.close()\n"
      ],
      "metadata": {
        "id": "DgjhSUUCiN1s"
      },
      "execution_count": null,
      "outputs": []
    },
    {
      "cell_type": "code",
      "source": [
        "optimizer = optim.Adam(model.parameters(), lr=lr)\n",
        "scheduler = CosineAnnealingLR(optimizer, T_max=30)\n",
        "highest_acc = 0\n",
        "loss_list = []\n",
        "output_list = []\n",
        "fidelity_list = []\n",
        "fid_list = []\n",
        "\n",
        "for epoch in range(epochs):\n",
        "    loss, output, fidelity = train(model, device, optimizer, epoch)\n",
        "    loss_list.append(loss)\n",
        "    output_list.append(output)\n",
        "    fidelity_list.append(fidelity)\n",
        "\n",
        "    # Generate samples at each epoch and calculate FID\n",
        "    generated_samples = generate_samples(model, num_samples=100)\n",
        "    descaled_generated_samples = descale_points(generated_samples)\n",
        "    descaled_generated_samples = descaled_generated_samples.reshape(100, 16, 16)\n",
        "\n",
        "    # Take a batch of real images for comparison\n",
        "    real_images = X_jet_resized[indices[:100]].cpu().numpy()\n",
        "\n",
        "    fid = calculate_fid(real_images, descaled_generated_samples)\n",
        "    fid_list.append(fid)\n",
        "\n",
        "    print(f'Epoch {epoch}: Loss = {loss}, FID = {fid}')\n",
        "    save_sample_images(model, epoch, sample_interval=1)\n",
        "\n",
        "    print(\"Loss list:\", loss_list)\n",
        "    print(\"Output list:\", output_list)\n",
        "    print(\"FID list:\", fid_list)\n",
        "    print(\"Fidelity list:\", fidelity_list)\n",
        "plot_and_save_graphs(loss_list, output_list, fidelity_list, epoch)"
      ],
      "metadata": {
        "id": "T1NJrqAuiRL5"
      },
      "execution_count": null,
      "outputs": []
    },
    {
      "cell_type": "code",
      "source": [
        "fig, ax = qml.draw_mpl(qnode)(inputs=[0.5, 0.2], w000=0.1, w001=0.1, w008=0.1, w009=0.1, w016=0.1, w017=0.1, w200=0.1, w201=0.1, w208=0.1, w209=0.1, w216=0.1, w217=0.1)\n",
        "plt.show()"
      ],
      "metadata": {
        "colab": {
          "base_uri": "https://localhost:8080/",
          "height": 636
        },
        "id": "yxVk_8xjiTMK",
        "outputId": "b6a48388-77bb-4da1-b692-78a167a8ac20"
      },
      "execution_count": null,
      "outputs": [
        {
          "output_type": "display_data",
          "data": {
            "text/plain": [
              "<Figure size 1100x600 with 1 Axes>"
            ],
            "image/png": "[encoded data removed]"
          },
          "metadata": {}
        }
      ]
    },
    {
      "cell_type": "code",
      "source": [
        "circuit_specs = qml.specs(qnode)\n",
        "print(circuit_specs(inputs=[0.5, 0.2], w000=0.1, w001=0.1, w008=0.1, w009=0.1, w016=0.1, w017=0.1, w200=0.1, w201=0.1, w208=0.1, w209=0.1, w216=0.1, w217=0.1))"
      ],
      "metadata": {
        "colab": {
          "base_uri": "https://localhost:8080/"
        },
        "id": "MAJ8XVUkmd8D",
        "outputId": "4ae178cf-cc0d-4b0a-9bd4-6cc4ee0f6655"
      },
      "execution_count": null,
      "outputs": [
        {
          "output_type": "stream",
          "name": "stdout",
          "text": [
            "{'resources': Resources(num_wires=5, num_gates=11, gate_types=defaultdict(<class 'int'>, {'RY': 2, 'RX': 2, 'CNOT': 3, 'Hadamard': 2, 'CSWAP': 2}), gate_sizes=defaultdict(<class 'int'>, {1: 6, 2: 3, 3: 2}), depth=8, shots=Shots(total_shots=None, shot_vector=())), 'errors': {}, 'num_observables': 1, 'num_diagonalizing_gates': 0, 'num_trainable_params': 0, 'num_device_wires': 5, 'device_name': 'default.qubit', 'expansion_strategy': 'gradient', 'gradient_options': {}, 'interface': 'torch', 'diff_method': 'best', 'gradient_fn': 'backprop'}\n"
          ]
        }
      ]
    }
  ]
}