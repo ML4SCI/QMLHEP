{
 "cells": [
  {
   "cell_type": "code",
   "execution_count": null,
   "metadata": {},
   "outputs": [
    {
     "name": "stdout",
     "output_type": "stream",
     "text": [
      "torch.Size([1000, 8, 8, 4])\n"
     ]
    }
   ],
   "source": [
    "import numpy as np\n",
    "import h5py\n",
    "import torch\n",
    "from angle_encoding_script import angle_encoding\n",
    "\n",
    "filename = \"../../../data/QG3_normalized_16x16_100k\"\n",
    "data_X, data_y = np.array(h5py.File(filename, \"r\")['X']), np.array(h5py.File(filename, \"r\")['y'])\n",
    "\n",
    "num_samples = 1000\n",
    "\n",
    "encoded_data = [angle_encoding(data_X, sample) for sample in range(num_samples)]\n",
    "encoded_data = torch.tensor(np.array(encoded_data), dtype=torch.float32)\n",
    "print(encoded_data.shape)\n",
    "\n",
    "\n",
    "torch.save(encoded_data, \"../../../data/Q3_16x16_1k_encoded.pt\")"
   ]
  }
 ],
 "metadata": {
  "kernelspec": {
   "display_name": ".venv",
   "language": "python",
   "name": "python3"
  },
  "language_info": {
   "codemirror_mode": {
    "name": "ipython",
    "version": 3
   },
   "file_extension": ".py",
   "mimetype": "text/x-python",
   "name": "python",
   "nbconvert_exporter": "python",
   "pygments_lexer": "ipython3",
   "version": "3.11.1"
  }
 },
 "nbformat": 4,
 "nbformat_minor": 2
}
