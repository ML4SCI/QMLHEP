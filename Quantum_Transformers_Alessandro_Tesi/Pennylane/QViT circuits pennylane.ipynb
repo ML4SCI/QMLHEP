{
  "cells": [
    {
      "cell_type": "markdown",
      "metadata": {},
      "source": [
        "# Implementation of Quantum Vision Transformers paper circuits\n",
        "\n",
        "This project aims to implement the concepts outlined in the paper *Quantum Vision Transformers* by El Amine Cherrat, Iordanis Kerenidis, Natansh Mathur, Jonas Landman, Martin Strahm, Yun Yvonna Li, harnessing the power of quantum computing to enhance the capabilities of vision transformers. \n",
        "\n",
        "This work is primarily based on Pennylane\n",
        "\n",
        "I also draw inspiration and insights from last year's Google Summer of Code (GSoC) projects focused on Quantum Vision Transformers. These projects, documented in detail on [Sal's GSoC blog](https://salcc.github.io/blog/gsoc23/) and [Eyüp B. Ünlü's Medium post](https://medium.com/@eyupb.unlu/gsoc-2023-with-ml4sci-quantum-transformer-for-high-energy-physics-analysis-final-report-cd9ed594e4a2).\n"
      ]
    },
    {
      "cell_type": "code",
      "execution_count": 1,
      "metadata": {
        "colab": {
          "base_uri": "https://localhost:8080/"
        },
        "id": "RIdY1qOsgkDY",
        "outputId": "3f83f59b-09d4-4efc-cc5b-c7e6e6b00f65"
      },
      "outputs": [
        {
          "name": "stdout",
          "output_type": "stream",
          "text": [
            "Requirement already satisfied: pennylane in /usr/local/lib/python3.10/dist-packages (0.37.0)\n",
            "Requirement already satisfied: numpy<2.0 in /usr/local/lib/python3.10/dist-packages (from pennylane) (1.26.4)\n",
            "Requirement already satisfied: scipy in /usr/local/lib/python3.10/dist-packages (from pennylane) (1.13.1)\n",
            "Requirement already satisfied: networkx in /usr/local/lib/python3.10/dist-packages (from pennylane) (3.3)\n",
            "Requirement already satisfied: rustworkx in /usr/local/lib/python3.10/dist-packages (from pennylane) (0.15.1)\n",
            "Requirement already satisfied: autograd in /usr/local/lib/python3.10/dist-packages (from pennylane) (1.6.2)\n",
            "Requirement already satisfied: toml in /usr/local/lib/python3.10/dist-packages (from pennylane) (0.10.2)\n",
            "Requirement already satisfied: appdirs in /usr/local/lib/python3.10/dist-packages (from pennylane) (1.4.4)\n",
            "Requirement already satisfied: semantic-version>=2.7 in /usr/local/lib/python3.10/dist-packages (from pennylane) (2.10.0)\n",
            "Requirement already satisfied: autoray>=0.6.11 in /usr/local/lib/python3.10/dist-packages (from pennylane) (0.6.12)\n",
            "Requirement already satisfied: cachetools in /usr/local/lib/python3.10/dist-packages (from pennylane) (5.4.0)\n",
            "Requirement already satisfied: pennylane-lightning>=0.37 in /usr/local/lib/python3.10/dist-packages (from pennylane) (0.37.0)\n",
            "Requirement already satisfied: requests in /usr/local/lib/python3.10/dist-packages (from pennylane) (2.32.3)\n",
            "Requirement already satisfied: typing-extensions in /usr/local/lib/python3.10/dist-packages (from pennylane) (4.12.2)\n",
            "Requirement already satisfied: packaging in /usr/local/lib/python3.10/dist-packages (from pennylane) (24.1)\n",
            "Requirement already satisfied: future>=0.15.2 in /usr/local/lib/python3.10/dist-packages (from autograd->pennylane) (1.0.0)\n",
            "Requirement already satisfied: charset-normalizer<4,>=2 in /usr/local/lib/python3.10/dist-packages (from requests->pennylane) (3.3.2)\n",
            "Requirement already satisfied: idna<4,>=2.5 in /usr/local/lib/python3.10/dist-packages (from requests->pennylane) (3.7)\n",
            "Requirement already satisfied: urllib3<3,>=1.21.1 in /usr/local/lib/python3.10/dist-packages (from requests->pennylane) (2.0.7)\n",
            "Requirement already satisfied: certifi>=2017.4.17 in /usr/local/lib/python3.10/dist-packages (from requests->pennylane) (2024.7.4)\n"
          ]
        }
      ],
      "source": [
        "!pip install pennylane"
      ]
    },
    {
      "cell_type": "code",
      "execution_count": 2,
      "metadata": {
        "id": "vsrPV4xZoNI-"
      },
      "outputs": [],
      "source": [
        "import pennylane as qml\n",
        "from pennylane.operation import Operation\n",
        "import numpy as np\n",
        "import tensorflow as tf"
      ]
    },
    {
      "cell_type": "markdown",
      "metadata": {
        "id": "d6ExdNKU1q69"
      },
      "source": [
        "## RBS GATE"
      ]
    },
    {
      "cell_type": "code",
      "execution_count": 3,
      "metadata": {
        "id": "SrxJWnK6Q25l"
      },
      "outputs": [],
      "source": [
        "class RBSGate(Operation):\n",
        "    num_params = 1\n",
        "    num_wires = 2\n",
        "    par_domain = 'R'\n",
        "\n",
        "    def __init__(self, theta, wires):\n",
        "        super().__init__(theta, wires=wires)\n",
        "        self.theta = theta\n",
        "\n",
        "    @staticmethod\n",
        "    def compute_matrix(theta):\n",
        "        cos = np.cos(theta)\n",
        "        sin = np.sin(theta)\n",
        "        return np.array([\n",
        "            [1, 0, 0, 0],\n",
        "            [0, cos, sin, 0],\n",
        "            [0, -sin, cos, 0],\n",
        "            [0, 0, 0, 1]\n",
        "        ])\n",
        "\n",
        "    def adjoint(self):\n",
        "        return RBSGate(-self.parameters[0], wires=self.wires)\n",
        "\n",
        "    def label(self, decimals=None, base_label=None, **kwargs):\n",
        "        theta = self.parameters[0]\n",
        "        return f\"RBS({theta:.2f})\"\n",
        "\n",
        "# Test the custom gate\n",
        "theta = np.pi / 4\n",
        "\n",
        "# Step 2: Create a quantum device\n",
        "dev = qml.device('default.qubit', wires=2)\n",
        "\n",
        "# Step 3: Construct the circuit using the custom gate\n",
        "@qml.qnode(dev)\n",
        "def circuit():\n",
        "    qml.PauliX(wires=0)\n",
        "    RBSGate(theta, wires=[0, 1])\n",
        "    return qml.state()"
      ]
    },
    {
      "cell_type": "code",
      "execution_count": 4,
      "metadata": {
        "colab": {
          "base_uri": "https://localhost:8080/"
        },
        "id": "quLiAVjsn8Cu",
        "outputId": "1642b3f8-d52c-48fd-ec2b-bbc305bcb074"
      },
      "outputs": [
        {
          "name": "stdout",
          "output_type": "stream",
          "text": [
            "State vector:\n",
            "[0.        +0.j 0.70710678+0.j 0.70710678+0.j 0.        +0.j]\n",
            "Circuit diagram:\n",
            "0: ──X─╭RBS(0.79)─┤  State\n",
            "1: ────╰RBS(0.79)─┤  State\n"
          ]
        }
      ],
      "source": [
        "# Execute the circuit and print the results\n",
        "state = circuit()\n",
        "print(\"State vector:\")\n",
        "print(state)\n",
        "\n",
        "# Draw the circuit\n",
        "print(\"Circuit diagram:\")\n",
        "print(qml.draw(circuit)())"
      ]
    },
    {
      "cell_type": "code",
      "execution_count": 5,
      "metadata": {
        "colab": {
          "base_uri": "https://localhost:8080/"
        },
        "id": "_Hqx9cWRgmy6",
        "outputId": "fea7ae70-99d4-4063-c72c-3df944a33c73"
      },
      "outputs": [
        {
          "name": "stdout",
          "output_type": "stream",
          "text": [
            "Unitary matrix from Pennylane:\n",
            "[[ 1.          0.          0.          0.        ]\n",
            " [ 0.          0.70710678  0.70710678  0.        ]\n",
            " [ 0.         -0.70710678  0.70710678  0.        ]\n",
            " [ 0.          0.          0.          1.        ]]\n"
          ]
        }
      ],
      "source": [
        "# Extracting and printing the unitary matrix\n",
        "@qml.qnode(dev)\n",
        "def unitary_circuit():\n",
        "    RBSGate(theta, wires=[0, 1])\n",
        "    return qml.state()\n",
        "\n",
        "unitary_matrix = qml.matrix(unitary_circuit)()\n",
        "print(\"Unitary matrix from Pennylane:\")\n",
        "print(unitary_matrix)\n"
      ]
    },
    {
      "cell_type": "markdown",
      "metadata": {
        "id": "H4YvHRw-1tvm"
      },
      "source": [
        "## Vector Loader"
      ]
    },
    {
      "cell_type": "code",
      "execution_count": 6,
      "metadata": {
        "id": "3Md5r9LTidxa"
      },
      "outputs": [],
      "source": [
        "def convert_array(X):\n",
        "    alphas = tf.zeros(X.shape[:-1] + (X.shape[-1]-1,), dtype=X.dtype)\n",
        "    X_normd =  tf.linalg.l2_normalize(X, axis=-1)\n",
        "    for i in range(X.shape[-1]-1):\n",
        "        prod_sin_alphas = tf.reduce_prod(tf.sin(alphas[..., :i]), axis=-1)\n",
        "        updated_value = tf.acos(X_normd[..., i] / (prod_sin_alphas))\n",
        "        indices = tf.constant([[i]])\n",
        "        updates = tf.reshape(updated_value, [1])\n",
        "        alphas = tf.tensor_scatter_nd_update(alphas, indices, updates)\n",
        "    return alphas"
      ]
    },
    {
      "cell_type": "code",
      "execution_count": 7,
      "metadata": {
        "colab": {
          "base_uri": "https://localhost:8080/"
        },
        "id": "gzDUYmDln4YB",
        "outputId": "861dd03c-be01-4c38-d6b6-a65bb0e45a76"
      },
      "outputs": [
        {
          "data": {
            "text/plain": [
              "<tf.Tensor: shape=(2,), dtype=float32, numpy=array([1.3002466 , 0.98279375], dtype=float32)>"
            ]
          },
          "execution_count": 7,
          "metadata": {},
          "output_type": "execute_result"
        }
      ],
      "source": [
        "# Define array and convert to parameters\n",
        "array = tf.constant([1.0, 2.0, 3.0])\n",
        "alphas = convert_array(array)\n",
        "alphas"
      ]
    },
    {
      "cell_type": "code",
      "execution_count": 8,
      "metadata": {
        "id": "SCbLQtXrnEmd"
      },
      "outputs": [],
      "source": [
        "def vector_loader(alphas, wires=None, is_x=True, is_conjugate=False):\n",
        "    if wires is None:\n",
        "        wires = list(range(len(alphas) + 1))\n",
        "    if is_x and not is_conjugate:\n",
        "        qml.PauliX(wires=wires[0])\n",
        "    if is_conjugate:\n",
        "        for i in range(len(wires) - 2, -1, -1):\n",
        "            RBSGate(-alphas[i], wires=[wires[i], wires[i+1]])\n",
        "    else:\n",
        "        for i in range(len(wires) - 1):\n",
        "            RBSGate(alphas[i], wires=[wires[i], wires[i+1]])\n",
        "    if is_x and is_conjugate:\n",
        "        qml.PauliX(wires=wires[0])\n",
        "\n",
        "# Step 3: Create a quantum device\n",
        "dev = qml.device('default.qubit', wires=4)\n",
        "\n",
        "# Step 4: Construct the circuit using the custom gate\n",
        "@qml.qnode(dev)\n",
        "def pennylane_circuit():\n",
        "    vector_loader(alphas.numpy(), is_x=True, is_conjugate=False)\n",
        "    vector_loader(alphas.numpy(), is_x=True, is_conjugate=True)\n",
        "    return qml.state()"
      ]
    },
    {
      "cell_type": "code",
      "execution_count": 9,
      "metadata": {
        "colab": {
          "base_uri": "https://localhost:8080/"
        },
        "id": "_yrjXpxwnQjf",
        "outputId": "85abb8bf-2657-4901-8896-0a657ef33814"
      },
      "outputs": [
        {
          "name": "stdout",
          "output_type": "stream",
          "text": [
            "State vector:\n",
            "[ 9.99999996e-01+0.j  0.00000000e+00+0.j  0.00000000e+00+0.j\n",
            "  0.00000000e+00+0.j  0.00000000e+00+0.j  0.00000000e+00+0.j\n",
            "  0.00000000e+00+0.j  0.00000000e+00+0.j  0.00000000e+00+0.j\n",
            "  0.00000000e+00+0.j  0.00000000e+00+0.j  0.00000000e+00+0.j\n",
            " -4.66223021e-09+0.j  0.00000000e+00+0.j  0.00000000e+00+0.j\n",
            "  0.00000000e+00+0.j]\n",
            "Circuit diagram:\n",
            "0: ──X─╭RBS(1.30)────────────────────────╭RBS(-1.30)──X─┤  State\n",
            "1: ────╰RBS(1.30)─╭RBS(0.98)─╭RBS(-0.98)─╰RBS(-1.30)────┤  State\n",
            "2: ───────────────╰RBS(0.98)─╰RBS(-0.98)────────────────┤  State\n"
          ]
        }
      ],
      "source": [
        "# Execute the circuit and print the results -> expected |000>\n",
        "state = pennylane_circuit()\n",
        "print(\"State vector:\")\n",
        "print(state)\n",
        "\n",
        "# Draw the circuit\n",
        "print(\"Circuit diagram:\")\n",
        "print(qml.draw(pennylane_circuit)())"
      ]
    },
    {
      "cell_type": "markdown",
      "metadata": {
        "id": "aGT0ZQnC1ww8"
      },
      "source": [
        "## Matrix Loader"
      ]
    },
    {
      "cell_type": "code",
      "execution_count": 10,
      "metadata": {
        "colab": {
          "base_uri": "https://localhost:8080/"
        },
        "id": "1y-l4km_o0pN",
        "outputId": "1d5dd13c-6c66-48a8-d5c7-e9d5fb478fd8"
      },
      "outputs": [
        {
          "data": {
            "text/plain": [
              "(<tf.Tensor: shape=(2,), dtype=float32, numpy=array([1.3473037, 1.0086055], dtype=float32)>,\n",
              " <tf.Tensor: shape=(3, 2), dtype=float32, numpy=\n",
              " array([[1.3002466 , 0.98279375],\n",
              "        [1.0974779 , 0.87605804],\n",
              "        [1.0442266 , 0.84415406]], dtype=float32)>)"
            ]
          },
          "execution_count": 10,
          "metadata": {},
          "output_type": "execute_result"
        }
      ],
      "source": [
        "def convert_matrix(X):\n",
        "    mag_alphas = convert_array(tf.sqrt(tf.reduce_sum(X**2, axis=1)))\n",
        "    alphas = tf.TensorArray(dtype=X.dtype, size=X.shape[0])\n",
        "    for i in range(X.shape[0]):\n",
        "        alphas = alphas.write(i, convert_array(X[i]))\n",
        "    alphas = alphas.stack()\n",
        "    return mag_alphas, alphas\n",
        "\n",
        "# Define the array and convert to parameters\n",
        "matrix = tf.constant([\n",
        "    [1.0, 2.0, 3.0],\n",
        "    [4.0, 5.0, 6.0],\n",
        "    [7.0, 8.0, 9.0]\n",
        "])\n",
        "mag_alphas, alphas = convert_matrix(matrix)\n",
        "mag_alphas, alphas"
      ]
    },
    {
      "cell_type": "code",
      "execution_count": 11,
      "metadata": {
        "colab": {
          "base_uri": "https://localhost:8080/"
        },
        "id": "iLTDIwT3sy2N",
        "outputId": "9c37a6f5-7b4c-40e3-b692-d0c5208e5ae2"
      },
      "outputs": [
        {
          "name": "stdout",
          "output_type": "stream",
          "text": [
            "Circuit diagram:\n",
            "0: ──X─╭RBS(1.35)────────────╭●────────────────────────────────────────────────────────────\n",
            "1: ────╰RBS(1.35)─╭RBS(1.01)─│────────────────────────────────────────────────╭●───────────\n",
            "2: ───────────────╰RBS(1.01)─│────────────────────────────────────────────────│────────────\n",
            "3: ──X───────────────────────╰X─╭RBS(1.30)────────────────────────╭RBS(-1.10)─╰X─╭RBS(1.10)\n",
            "4: ─────────────────────────────╰RBS(1.30)─╭RBS(0.98)─╭RBS(-0.88)─╰RBS(-1.10)────╰RBS(1.10)\n",
            "5: ────────────────────────────────────────╰RBS(0.98)─╰RBS(-0.88)──────────────────────────\n",
            "\n",
            "──────────────────────────────────────────────────────────────┤  State\n",
            "──────────────────────────────────────────────────────────────┤  State\n",
            "─────────────────────────────────────╭●───────────────────────┤  State\n",
            "─────────────────────────╭RBS(-1.04)─╰X─╭RBS(1.04)────────────┤  State\n",
            "──╭RBS(0.88)─╭RBS(-0.84)─╰RBS(-1.04)────╰RBS(1.04)─╭RBS(0.84)─┤  State\n",
            "──╰RBS(0.88)─╰RBS(-0.84)───────────────────────────╰RBS(0.84)─┤  State\n"
          ]
        }
      ],
      "source": [
        "def matrix_loader(mag_alphas, alphas, mag_wires, wires):\n",
        "      qml.PauliX(wires=mag_wires[0])\n",
        "      qml.PauliX(wires=wires[0])\n",
        "      vector_loader(mag_alphas, wires=mag_wires, is_x=False)\n",
        "      for i in range(len(mag_wires)):\n",
        "          qml.CNOT(wires=[mag_wires[i], wires[0]])\n",
        "          vector_loader(alphas[i], wires=wires, is_x=False)\n",
        "          if i != len(mag_alphas):\n",
        "              vector_loader(alphas[i+1], wires=wires, is_x=False, is_conjugate=True)\n",
        "\n",
        "# Define the quantum device\n",
        "dev = qml.device('default.qubit', wires=6)\n",
        "\n",
        "# Define the QNode for the circuit\n",
        "@qml.qnode(dev)\n",
        "def pennylane_circuit():\n",
        "    matrix_loader(mag_alphas.numpy(), alphas.numpy(), [0,1,2], [3,4,5])\n",
        "    return qml.state()\n",
        "\n",
        "# Execute the circuit and print the results\n",
        "#state = pennylane_circuit()\n",
        "#print(\"State vector:\")\n",
        "#print(state)\n",
        "\n",
        "# Draw the circuit\n",
        "print(\"Circuit diagram:\")\n",
        "print(qml.draw(pennylane_circuit)())\n"
      ]
    },
    {
      "cell_type": "markdown",
      "metadata": {
        "id": "XgWSeEXs1za-"
      },
      "source": [
        "## Butterfly Circuit"
      ]
    },
    {
      "cell_type": "code",
      "execution_count": 12,
      "metadata": {
        "colab": {
          "base_uri": "https://localhost:8080/"
        },
        "id": "QX5hkgb_s0uE",
        "outputId": "19df1edb-a0ae-4801-a72c-c7f9e0c98524"
      },
      "outputs": [
        {
          "name": "stdout",
          "output_type": "stream",
          "text": [
            "Circuit diagram:\n",
            "0: ─╭RBS(0.00)───────────────────────╭RBS(4.00)────────────╭RBS(6.00)─────────────┤  State\n",
            "1: ─│──────────╭RBS(1.00)────────────│──────────╭RBS(5.00)─╰RBS(6.00)─────────────┤  State\n",
            "2: ─│──────────│──────────╭RBS(2.00)─╰RBS(4.00)─│──────────╭RBS(7.00)─────────────┤  State\n",
            "3: ─│──────────│──────────│──────────╭RBS(3.00)─╰RBS(5.00)─╰RBS(7.00)─────────────┤  State\n",
            "4: ─╰RBS(0.00)─│──────────│──────────│──────────╭RBS(8.00)────────────╭RBS(10.00)─┤  State\n",
            "5: ────────────╰RBS(1.00)─│──────────│──────────│──────────╭RBS(9.00)─╰RBS(10.00)─┤  State\n",
            "6: ───────────────────────╰RBS(2.00)─│──────────╰RBS(8.00)─│──────────╭RBS(11.00)─┤  State\n",
            "7: ──────────────────────────────────╰RBS(3.00)────────────╰RBS(9.00)─╰RBS(11.00)─┤  State\n"
          ]
        }
      ],
      "source": [
        "def butterfly_circuit(parameters, wires=None):\n",
        "    # If wires is None, use all qubits in the circuit\n",
        "    if wires is None:\n",
        "        length = qml.device.wires\n",
        "    else:\n",
        "        # If wires is not None, ensure it's a list of qubits\n",
        "        length = len(wires)\n",
        "    if length > 1:\n",
        "        n = length // 2\n",
        "        x = 0\n",
        "        for i in range(n):\n",
        "            RBSGate(parameters[x], wires=([wires[i], wires[i + n]]))\n",
        "            x += 1\n",
        "        butterfly_circuit(parameters[x: (len(parameters) // 2 + x // 2)], wires=wires[:n])\n",
        "        butterfly_circuit(parameters[(len(parameters) // 2 + x // 2):], wires=wires[n:])\n",
        "\n",
        "# Define the quantum device\n",
        "dev = qml.device('default.qubit', wires=8)\n",
        "\n",
        "# Example usage\n",
        "parameters = np.array([x for x in range(12)])\n",
        "\n",
        "@qml.qnode(dev)\n",
        "def pennylane_circuit():\n",
        "    butterfly_circuit(parameters, wires=range(8))\n",
        "    return qml.state()\n",
        "\n",
        "# Draw the circuit\n",
        "print(\"Circuit diagram:\")\n",
        "print(qml.draw(pennylane_circuit)())\n"
      ]
    },
    {
      "cell_type": "code",
      "execution_count": 13,
      "metadata": {
        "id": "DwGJPZFG2UU_"
      },
      "outputs": [],
      "source": [
        "def pyramid_circuit(parameters, wires=None):\n",
        "    # If wires is None, use all qubits in the circuit\n",
        "    if wires is None:\n",
        "        length = len(qml.device.wires)\n",
        "    else:\n",
        "        # If wires is not None, ensure it's a list of qubits\n",
        "        length = len(wires)\n",
        "\n",
        "    k = 0\n",
        "\n",
        "    for i in range(2 * length - 2):\n",
        "        j = length - abs(length - 1 - i)\n",
        "\n",
        "        if i % 2:\n",
        "            for _ in range(j):\n",
        "                if _ % 2 == 0 and k < len(parameters):\n",
        "                    RBSGate(parameters[k], wires=([wires[_], wires[_ + 1]]))\n",
        "                    k += 1\n",
        "        else:\n",
        "            for _ in range(j):\n",
        "                if _ % 2 and k < len(parameters):\n",
        "                    RBSGate(parameters[k], wires=([wires[_], wires[_ + 1]]))\n",
        "                    k += 1"
      ]
    },
    {
      "cell_type": "code",
      "execution_count": 14,
      "metadata": {
        "colab": {
          "base_uri": "https://localhost:8080/"
        },
        "id": "xcdXRQjYEJAD",
        "outputId": "ad527b27-0515-4431-db45-9065fd7d1aeb"
      },
      "outputs": [
        {
          "name": "stdout",
          "output_type": "stream",
          "text": [
            "Circuit diagram:\n",
            "0: ─╭RBS(0.00)────────────╭RBS(2.00)────────────╭RBS(5.00)─┤  State\n",
            "1: ─╰RBS(0.00)─╭RBS(1.00)─╰RBS(2.00)─╭RBS(4.00)─╰RBS(5.00)─┤  State\n",
            "2: ────────────╰RBS(1.00)─╭RBS(3.00)─╰RBS(4.00)────────────┤  State\n",
            "3: ───────────────────────╰RBS(3.00)───────────────────────┤  State\n"
          ]
        }
      ],
      "source": [
        "# Define the quantum device\n",
        "dev = qml.device('default.qubit', wires=4)\n",
        "\n",
        "# Example usage\n",
        "parameters = np.array([x for x in range(6)])\n",
        "\n",
        "@qml.qnode(dev)\n",
        "def pennylane_circuit():\n",
        "    pyramid_circuit(parameters, wires=range(4))\n",
        "    return qml.state()\n",
        "\n",
        "# Execute the circuit and print the results\n",
        "#state = pennylane_circuit()\n",
        "#print(\"State vector:\")\n",
        "#aprint(state)\n",
        "\n",
        "# Draw the circuit\n",
        "print(\"Circuit diagram:\")\n",
        "print(qml.draw(pennylane_circuit)())"
      ]
    }
  ],
  "metadata": {
    "colab": {
      "provenance": []
    },
    "kernelspec": {
      "display_name": "Python 3",
      "name": "python3"
    },
    "language_info": {
      "name": "python"
    }
  },
  "nbformat": 4,
  "nbformat_minor": 0
}
