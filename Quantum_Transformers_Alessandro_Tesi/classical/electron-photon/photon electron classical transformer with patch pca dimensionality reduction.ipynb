{
  "cells": [
    {
      "cell_type": "markdown",
      "metadata": {},
      "source": [
        "# Photon - Electron vision transformer\n",
        "The Classical Vision Transformer is used as a benchmark for the Quantum Vision Transformer, which can handle images with a maximum resolution of 16 pixels. To accommodate this, I divided each image into four patches and applied PCA to each patch of the dataset. The same PCA transformation was used for every patch, reducing them to four dimensions each. Subsequently, I built the model using a Transformer implemented with TensorFlow."
      ]
    },
    {
      "cell_type": "markdown",
      "metadata": {},
      "source": []
    },
    {
      "cell_type": "code",
      "execution_count": 2,
      "metadata": {
        "colab": {
          "base_uri": "https://localhost:8080/"
        },
        "id": "zRJ7i99GAU1j",
        "outputId": "7309475c-a5c9-4c23-bfa2-bb3970123abd"
      },
      "outputs": [
        {
          "name": "stdout",
          "output_type": "stream",
          "text": [
            "Photon file keys:  ['X', 'y']\n",
            "Electron file keys:  ['X', 'y']\n"
          ]
        },
        {
          "data": {
            "text/plain": [
              "((249000, 32, 32, 2), (249000,), (249000, 32, 32, 2), (249000,))"
            ]
          },
          "execution_count": 2,
          "metadata": {},
          "output_type": "execute_result"
        }
      ],
      "source": [
        "import h5py\n",
        "\n",
        "with h5py.File('photon.hdf5', 'r') as photon_file:\n",
        "    print(\"Photon file keys: \", list(photon_file.keys()))\n",
        "    photon_data = photon_file['X'][:]\n",
        "    photon_labels = photon_file['y'][:]\n",
        "\n",
        "with h5py.File('electron.hdf5', 'r') as electron_file:\n",
        "    print(\"Electron file keys: \", list(electron_file.keys()))\n",
        "    electron_data = electron_file['X'][:]\n",
        "    electron_labels = electron_file['y'][:]\n",
        "\n",
        "electron_data.shape, electron_labels.shape, photon_data.shape, photon_labels.shape"
      ]
    },
    {
      "cell_type": "code",
      "execution_count": 3,
      "metadata": {
        "colab": {
          "base_uri": "https://localhost:8080/"
        },
        "id": "THuBtH2kHW0q",
        "outputId": "7e759060-d42b-4eb0-fc0a-f89a68e61c5f"
      },
      "outputs": [
        {
          "name": "stdout",
          "output_type": "stream",
          "text": [
            "Default GPU Device: /device:GPU:0\n"
          ]
        }
      ],
      "source": [
        "import numpy as np\n",
        "import matplotlib.pyplot as plt\n",
        "import warnings\n",
        "warnings.filterwarnings('ignore')\n",
        "import tensorflow as tf\n",
        "from tensorflow.keras import Model\n",
        "from tensorflow.keras.datasets import mnist\n",
        "from tensorflow.keras.utils import to_categorical\n",
        "from tensorflow.keras.layers import Add, Dense, Dropout, Embedding, GlobalAveragePooling1D, Input, Layer, LayerNormalization, MultiHeadAttention\n",
        "from tensorflow.keras.optimizers import Adam\n",
        "from tensorflow.keras.losses import CategoricalCrossentropy\n",
        "from tensorflow.keras.metrics import CategoricalAccuracy\n",
        "from tensorflow.keras.layers import AveragePooling2D, MaxPooling2D\n",
        "from sklearn.model_selection import train_test_split\n",
        "from sklearn.decomposition import PCA\n",
        "\n",
        "print(\"Default GPU Device: {}\".format(tf.test.gpu_device_name()))"
      ]
    },
    {
      "cell_type": "code",
      "execution_count": 4,
      "metadata": {
        "colab": {
          "base_uri": "https://localhost:8080/"
        },
        "id": "BJ2V5e-iTYbA",
        "outputId": "5c41be2a-15c1-4e51-9924-0d02f050638a"
      },
      "outputs": [
        {
          "name": "stdout",
          "output_type": "stream",
          "text": [
            "Training images shape: (80000, 32, 32, 2)\n",
            "Training labels shape: (80000,)\n",
            "Testing images shape: (20000, 32, 32, 2)\n",
            "Testing labels shape: (20000,)\n"
          ]
        }
      ],
      "source": [
        "# Combine the data and labels from both photon and electron datasets\n",
        "all_data = np.concatenate([photon_data[:50000], electron_data[:50000]], axis=0)\n",
        "all_labels = np.concatenate([photon_labels[:50000], electron_labels[:50000]], axis=0)\n",
        "\n",
        "# Split the combined dataset into training and testing sets\n",
        "train_images, test_images, train_labels, test_labels = train_test_split(\n",
        "    all_data, all_labels, test_size=0.2, random_state=42  # 20% data as test set\n",
        ")\n",
        "\n",
        "print(\"Training images shape:\", train_images.shape)\n",
        "print(\"Training labels shape:\", train_labels.shape)\n",
        "print(\"Testing images shape:\", test_images.shape)\n",
        "print(\"Testing labels shape:\", test_labels.shape)"
      ]
    },
    {
      "cell_type": "code",
      "execution_count": 5,
      "metadata": {
        "colab": {
          "base_uri": "https://localhost:8080/"
        },
        "id": "5-ztFcrCYdeg",
        "outputId": "ececcbfb-6649-43cd-9b97-434dcc41a687"
      },
      "outputs": [
        {
          "data": {
            "text/plain": [
              "(80000, 512)"
            ]
          },
          "execution_count": 5,
          "metadata": {},
          "output_type": "execute_result"
        }
      ],
      "source": [
        "np.concatenate([train_images[:, :16, :16, 0], train_images[:, :16, :16, 1]], axis=1).reshape(80000, -1).shape"
      ]
    },
    {
      "cell_type": "code",
      "execution_count": 6,
      "metadata": {
        "colab": {
          "base_uri": "https://localhost:8080/"
        },
        "id": "BpL7IUV9bSxn",
        "outputId": "5541bc32-0b4b-40c2-a4e4-aa3993e08293"
      },
      "outputs": [
        {
          "data": {
            "text/plain": [
              "((80000, 4), (80000, 4), (80000, 4), (80000, 4))"
            ]
          },
          "execution_count": 6,
          "metadata": {},
          "output_type": "execute_result"
        }
      ],
      "source": [
        "# Extract quadrants\n",
        "first_quadrant_train = np.concatenate([train_images[:, :16, :16, 0], train_images[:, :16, :16, 1]], axis=1).reshape(80000, -1)\n",
        "second_quadrant_train = np.concatenate([train_images[:, :16, 16:, 0], train_images[:, :16, 16:, 1]], axis=1).reshape(80000, -1)\n",
        "third_quadrant_train = np.concatenate([train_images[:, 16:, :16, 0], train_images[:, 16:, :16, 1]], axis=1).reshape(80000, -1)\n",
        "fourth_quadrant_train = np.concatenate([train_images[:, 16:, 16:, 0], train_images[:, 16:, 16:, 1]], axis=1).reshape(80000, -1)\n",
        "\n",
        "# Concatenate quadrants along columns\n",
        "concatenated_data = np.concatenate([first_quadrant_train, second_quadrant_train, third_quadrant_train, fourth_quadrant_train], axis=0)\n",
        "\n",
        "# Apply PCA\n",
        "pca = PCA(n_components=4)\n",
        "concatenated_pca = pca.fit_transform(concatenated_data)\n",
        "\n",
        "# Transform each quadrant separately using the same PCA\n",
        "first_quadrant_pca_train = pca.transform(first_quadrant_train)\n",
        "second_quadrant_pca_train = pca.transform(second_quadrant_train)\n",
        "third_quadrant_pca_train = pca.transform(third_quadrant_train)\n",
        "fourth_quadrant_pca_train = pca.transform(fourth_quadrant_train)\n",
        "\n",
        "# Display the shape of the transformed quadrants\n",
        "first_quadrant_pca_train.shape, second_quadrant_pca_train.shape, third_quadrant_pca_train.shape, fourth_quadrant_pca_train.shape"
      ]
    },
    {
      "cell_type": "code",
      "execution_count": 7,
      "metadata": {
        "id": "APk_CeFzcYch"
      },
      "outputs": [],
      "source": [
        "patch_pca_train = np.concatenate([first_quadrant_pca_train[:, :2], second_quadrant_pca_train[:, :2],\n",
        "                                  first_quadrant_pca_train[:, 2:], second_quadrant_pca_train[:, 2:],\n",
        "                                  third_quadrant_pca_train[:, :2], fourth_quadrant_pca_train[:, :2],\n",
        "                                  third_quadrant_pca_train[:, 2:], fourth_quadrant_pca_train[:, 2:]], axis=1).reshape(-1, 4, 4, 1)"
      ]
    },
    {
      "cell_type": "code",
      "execution_count": 8,
      "metadata": {
        "id": "kK6g02YtchH-"
      },
      "outputs": [],
      "source": [
        "# Extract quadrants\n",
        "first_quadrant_test = np.concatenate([test_images[:, :16, :16, 0], test_images[:, :16, :16, 1]], axis=1).reshape(20000, -1)\n",
        "second_quadrant_test = np.concatenate([test_images[:, :16, 16:, 0], test_images[:, :16, 16:, 1]], axis=1).reshape(20000, -1)\n",
        "third_quadrant_test = np.concatenate([test_images[:, 16:, :16, 0], test_images[:, 16:, :16, 1]], axis=1).reshape(20000, -1)\n",
        "fourth_quadrant_test = np.concatenate([test_images[:, 16:, 16:, 0], test_images[:, 16:, 16:, 1]], axis=1).reshape(20000, -1)"
      ]
    },
    {
      "cell_type": "code",
      "execution_count": 9,
      "metadata": {
        "id": "uMM7CySdc3up"
      },
      "outputs": [],
      "source": [
        "# Transform each quadrant separately using the same PCA\n",
        "first_quadrant_pca_test = pca.transform(first_quadrant_test)\n",
        "second_quadrant_pca_test = pca.transform(second_quadrant_test)\n",
        "third_quadrant_pca_test = pca.transform(third_quadrant_test)\n",
        "fourth_quadrant_pca_test = pca.transform(fourth_quadrant_test)\n",
        "\n",
        "patch_pca_test = np.concatenate([first_quadrant_pca_test[:, :2], second_quadrant_pca_test[:, :2],\n",
        "                                  first_quadrant_pca_test[:, 2:], second_quadrant_pca_test[:, 2:],\n",
        "                                  third_quadrant_pca_test[:, :2], fourth_quadrant_pca_test[:, :2],\n",
        "                                  third_quadrant_pca_test[:, 2:], fourth_quadrant_pca_test[:, 2:]], axis=1).reshape(-1, 4, 4, 1)"
      ]
    },
    {
      "cell_type": "code",
      "execution_count": 10,
      "metadata": {
        "id": "vPTzrYkWc46q"
      },
      "outputs": [],
      "source": [
        "# Convert the labels to one-hot encoded vectors\n",
        "train_labels = to_categorical(train_labels, 2)\n",
        "test_labels = to_categorical(test_labels, 2)"
      ]
    },
    {
      "cell_type": "code",
      "execution_count": 11,
      "metadata": {
        "id": "DNF7XGGAdAiE"
      },
      "outputs": [],
      "source": [
        "class PatchExtractor(Layer):\n",
        "    def __init__(self, patch_size=2):\n",
        "        super(PatchExtractor, self).__init__()\n",
        "        self.patch_size = patch_size  # Initialize patch size\n",
        "\n",
        "    def call(self, images):\n",
        "        # Calculate the batch size from the images tensor\n",
        "        batch_size = tf.shape(images)[0]\n",
        "        # Extract patches from images\n",
        "        patches = tf.image.extract_patches(\n",
        "            images=images,\n",
        "            sizes=[1, self.patch_size, self.patch_size, 1],  # Size of patches to extract\n",
        "            strides=[1, self.patch_size, self.patch_size, 1],  # Stride for each patch\n",
        "            rates=[1, 1, 1, 1],  # Dilation rate, set to 1 meaning no dilation\n",
        "            padding=\"VALID\",  # Use valid padding, no padding is applied\n",
        "        )\n",
        "        # Reshape the patches to have the patch dimension flattened\n",
        "        patches = tf.reshape(patches, [batch_size, -1, patches.shape[-1]])\n",
        "        return patches"
      ]
    },
    {
      "cell_type": "code",
      "execution_count": 12,
      "metadata": {
        "id": "qXJ7hru8dGPM"
      },
      "outputs": [],
      "source": [
        "class PatchEncoder(Layer):\n",
        "    def __init__(self, num_patches=4, projection_dim=2*2):\n",
        "        super(PatchEncoder, self).__init__()\n",
        "        self.num_patches = num_patches  # Total number of patches\n",
        "        self.projection_dim = projection_dim  # Dimension to project each patch onto\n",
        "        # Initialize weights for the class token\n",
        "        w_init = tf.random_normal_initializer()\n",
        "        self.class_token = tf.Variable(initial_value=w_init(shape=(1, projection_dim), dtype=\"float32\"), trainable=True)\n",
        "        self.projection = Dense(units=projection_dim)  # Dense layer to project patch features\n",
        "        self.position_embedding = Embedding(input_dim=num_patches + 1, output_dim=projection_dim)  # Positional embeddings\n",
        "\n",
        "    def call(self, patches):\n",
        "        batch_size = tf.shape(patches)[0]  # Calculate the batch size\n",
        "        # Repeat the class token for each item in the batch\n",
        "        class_token = tf.tile(self.class_token, multiples=[batch_size, 1])\n",
        "        class_token = tf.reshape(class_token, (batch_size, 1, self.projection_dim))\n",
        "        # Project the patches to the specified dimension\n",
        "        patches_embed = self.projection(patches)\n",
        "        # Concatenate the class token with the projected patches\n",
        "        patches_embed = tf.concat([class_token, patches_embed], axis=1)\n",
        "        # Calculate positional embeddings for all patches + class token\n",
        "        positions = tf.range(start=0, limit=self.num_patches + 1, delta=1)\n",
        "        positions_embed = self.position_embedding(positions)\n",
        "        # Add positional embeddings to the concatenated embeddings\n",
        "        encoded = patches_embed + positions_embed\n",
        "        return encoded"
      ]
    },
    {
      "cell_type": "code",
      "execution_count": 13,
      "metadata": {
        "id": "f7ZgQAhXdI08"
      },
      "outputs": [],
      "source": [
        "class MLP(Layer):\n",
        "    def __init__(self, hidden_features, out_features, dropout_rate=0.1):\n",
        "        super(MLP, self).__init__()\n",
        "        # First dense layer with GELU activation\n",
        "        self.dense1 = Dense(hidden_features, activation=tf.nn.gelu)\n",
        "        # Second dense layer for output features\n",
        "        self.dense2 = Dense(out_features)\n",
        "        # Dropout layer\n",
        "        self.dropout = Dropout(dropout_rate)\n",
        "\n",
        "    def call(self, x):\n",
        "        # Apply first dense layer\n",
        "        x = self.dense1(x)\n",
        "        # Apply dropout\n",
        "        x = self.dropout(x)\n",
        "        # Apply second dense layer\n",
        "        x = self.dense2(x)\n",
        "        # Apply dropout again\n",
        "        y = self.dropout(x)\n",
        "        return y"
      ]
    },
    {
      "cell_type": "code",
      "execution_count": 14,
      "metadata": {
        "id": "tMDDPRgwdLUl"
      },
      "outputs": [],
      "source": [
        "class Block(Layer):\n",
        "    def __init__(self, projection_dim, num_heads=4, dropout_rate=0.1):\n",
        "        super(Block, self).__init__()\n",
        "        # First layer normalization\n",
        "        self.norm1 = LayerNormalization(epsilon=1e-6)\n",
        "        # Multi-head attention layer\n",
        "        self.attn = MultiHeadAttention(num_heads=num_heads, key_dim=projection_dim, dropout=dropout_rate)\n",
        "        # Second layer normalization\n",
        "        self.norm2 = LayerNormalization(epsilon=1e-6)\n",
        "        # MLP for further processing\n",
        "        self.mlp = MLP(projection_dim * 2, projection_dim, dropout_rate)\n",
        "\n",
        "    def call(self, x):\n",
        "        # Apply first layer normalization\n",
        "        x1 = self.norm1(x)\n",
        "        # Apply multi-head attention\n",
        "        attention_output = self.attn(x1, x1)\n",
        "        # Add residual connection after attention\n",
        "        x2 = Add()([attention_output, x])\n",
        "        # Apply second layer normalization\n",
        "        x3 = self.norm2(x2)\n",
        "        # Apply MLP\n",
        "        x3 = self.mlp(x3)\n",
        "        # Add residual connection after MLP\n",
        "        y = Add()([x3, x2])\n",
        "        return y"
      ]
    },
    {
      "cell_type": "code",
      "execution_count": 15,
      "metadata": {
        "id": "uVZlld_kdN_4"
      },
      "outputs": [],
      "source": [
        "class TransformerEncoder(Layer):\n",
        "    def __init__(self, projection_dim, num_heads=4, num_blocks=3, dropout_rate=0.1):\n",
        "        super(TransformerEncoder, self).__init__()\n",
        "        # Define blocks of transformer encoder\n",
        "        self.blocks = [Block(projection_dim, num_heads, dropout_rate) for _ in range(num_blocks)]\n",
        "        # Final layer normalization\n",
        "        self.norm = LayerNormalization(epsilon=1e-6)\n",
        "        # Final dropout layer\n",
        "        self.dropout = Dropout(0.1)\n",
        "\n",
        "    def call(self, x):\n",
        "        # Pass input through each block\n",
        "        for block in self.blocks:\n",
        "            x = block(x)\n",
        "        # Apply final layer normalization\n",
        "        x = self.norm(x)\n",
        "        # Apply final dropout\n",
        "        y = self.dropout(x)\n",
        "        return y"
      ]
    },
    {
      "cell_type": "code",
      "execution_count": 16,
      "metadata": {
        "colab": {
          "base_uri": "https://localhost:8080/"
        },
        "id": "kexrDuvxdQKN",
        "outputId": "ba1b6309-9367-49fd-d1ff-8e91cca4ea5f"
      },
      "outputs": [
        {
          "name": "stdout",
          "output_type": "stream",
          "text": [
            "Model: \"model\"\n",
            "_________________________________________________________________\n",
            " Layer (type)                Output Shape              Param #   \n",
            "=================================================================\n",
            " input_1 (InputLayer)        [(None, 4, 4, 1)]         0         \n",
            "                                                                 \n",
            " patch_extractor (PatchExtr  (None, None, 4)           0         \n",
            " actor)                                                          \n",
            "                                                                 \n",
            " patch_encoder (PatchEncode  (None, 5, 4)              44        \n",
            " r)                                                              \n",
            "                                                                 \n",
            " transformer_encoder (Trans  (None, 5, 4)              1208      \n",
            " formerEncoder)                                                  \n",
            "                                                                 \n",
            " global_average_pooling1d (  (None, 4)                 0         \n",
            " GlobalAveragePooling1D)                                         \n",
            "                                                                 \n",
            " dense_7 (Dense)             (None, 2)                 10        \n",
            "                                                                 \n",
            "=================================================================\n",
            "Total params: 1262 (4.93 KB)\n",
            "Trainable params: 1262 (4.93 KB)\n",
            "Non-trainable params: 0 (0.00 Byte)\n",
            "_________________________________________________________________\n"
          ]
        }
      ],
      "source": [
        "def create_VisionTransformer(num_classes, num_patches=4, projection_dim=2*2, input_shape=(4, 4, 1)):\n",
        "    inputs = Input(shape=input_shape)\n",
        "    # Patch extractor\n",
        "    patches = PatchExtractor()(inputs)\n",
        "    # Patch encoder\n",
        "    patches_embed = PatchEncoder(num_patches, projection_dim)(patches)\n",
        "    # Transformer encoder\n",
        "    representation = TransformerEncoder(projection_dim)(patches_embed)\n",
        "    representation = GlobalAveragePooling1D()(representation)\n",
        "    # MLP to classify outputs\n",
        "    logits = Dense(num_classes, activation='softmax')(representation)\n",
        "    # Create model\n",
        "    model = Model(inputs=inputs, outputs=logits)\n",
        "    return model\n",
        "model = create_VisionTransformer(2)\n",
        "model.summary()"
      ]
    },
    {
      "cell_type": "code",
      "execution_count": 17,
      "metadata": {
        "id": "RN6g5aqydT_T"
      },
      "outputs": [],
      "source": [
        "model.compile(\n",
        "    optimizer=tf.keras.optimizers.Adam(learning_rate=0.001),\n",
        "    loss=tf.keras.losses.CategoricalCrossentropy(),\n",
        "    metrics=['accuracy', tf.keras.metrics.AUC(name='auc')]\n",
        ")"
      ]
    },
    {
      "cell_type": "code",
      "execution_count": 18,
      "metadata": {
        "colab": {
          "base_uri": "https://localhost:8080/"
        },
        "id": "BwF7G9GJdVrn",
        "outputId": "12d38175-f8a1-4d0f-b454-674bef46c114"
      },
      "outputs": [
        {
          "name": "stdout",
          "output_type": "stream",
          "text": [
            "Epoch 1/10\n",
            "2500/2500 [==============================] - 49s 14ms/step - loss: 0.6939 - accuracy: 0.5114 - auc: 0.5156 - val_loss: 0.6862 - val_accuracy: 0.5504 - val_auc: 0.5692\n",
            "Epoch 2/10\n",
            "2500/2500 [==============================] - 35s 14ms/step - loss: 0.6846 - accuracy: 0.5612 - auc: 0.5745 - val_loss: 0.6813 - val_accuracy: 0.5691 - val_auc: 0.5928\n",
            "Epoch 3/10\n",
            "2500/2500 [==============================] - 34s 13ms/step - loss: 0.6807 - accuracy: 0.5695 - auc: 0.5882 - val_loss: 0.6792 - val_accuracy: 0.5746 - val_auc: 0.5932\n",
            "Epoch 4/10\n",
            "2500/2500 [==============================] - 36s 14ms/step - loss: 0.6795 - accuracy: 0.5705 - auc: 0.5901 - val_loss: 0.6773 - val_accuracy: 0.5742 - val_auc: 0.5934\n",
            "Epoch 5/10\n",
            "2500/2500 [==============================] - 35s 14ms/step - loss: 0.6790 - accuracy: 0.5697 - auc: 0.5905 - val_loss: 0.6770 - val_accuracy: 0.5732 - val_auc: 0.5968\n",
            "Epoch 6/10\n",
            "2500/2500 [==============================] - 34s 14ms/step - loss: 0.6780 - accuracy: 0.5726 - auc: 0.5931 - val_loss: 0.6768 - val_accuracy: 0.5705 - val_auc: 0.5955\n",
            "Epoch 7/10\n",
            "2500/2500 [==============================] - 35s 14ms/step - loss: 0.6778 - accuracy: 0.5716 - auc: 0.5939 - val_loss: 0.6779 - val_accuracy: 0.5736 - val_auc: 0.5944\n",
            "Epoch 8/10\n",
            "2500/2500 [==============================] - 35s 14ms/step - loss: 0.6776 - accuracy: 0.5726 - auc: 0.5932 - val_loss: 0.6775 - val_accuracy: 0.5727 - val_auc: 0.5939\n",
            "Epoch 9/10\n",
            "2500/2500 [==============================] - 35s 14ms/step - loss: 0.6779 - accuracy: 0.5726 - auc: 0.5931 - val_loss: 0.6771 - val_accuracy: 0.5720 - val_auc: 0.5953\n",
            "Epoch 10/10\n",
            "2500/2500 [==============================] - 35s 14ms/step - loss: 0.6774 - accuracy: 0.5737 - auc: 0.5935 - val_loss: 0.6767 - val_accuracy: 0.5727 - val_auc: 0.5965\n"
          ]
        }
      ],
      "source": [
        "history = model.fit(\n",
        "    patch_pca_train, train_labels,\n",
        "    epochs=10,\n",
        "    batch_size=32,\n",
        "    validation_data=(patch_pca_test, test_labels)\n",
        ")"
      ]
    },
    {
      "cell_type": "code",
      "execution_count": 19,
      "metadata": {
        "colab": {
          "base_uri": "https://localhost:8080/",
          "height": 372
        },
        "id": "HnP2o4LOdZt1",
        "outputId": "261779b1-5007-4d08-d59d-f5aa979cb370"
      },
      "outputs": [
        {
          "data": {
            "image/png": "[encoded data removed]",
            "text/plain": [
              "<Figure size 1200x500 with 2 Axes>"
            ]
          },
          "metadata": {},
          "output_type": "display_data"
        }
      ],
      "source": [
        "# Plot the training and validation loss\n",
        "plt.figure(figsize=(12, 5))\n",
        "\n",
        "plt.subplot(1, 2, 1)\n",
        "plt.plot(history.history['loss'], label='Training Loss')\n",
        "plt.plot(history.history['val_loss'], label='Validation Loss')\n",
        "plt.title('Training and Validation Loss')\n",
        "plt.xlabel('Epoch')\n",
        "plt.ylabel('Loss')\n",
        "plt.legend()\n",
        "\n",
        "# Plot the training and validation accuracy\n",
        "plt.subplot(1, 2, 2)\n",
        "plt.plot(history.history['accuracy'], label='Training Accuracy')\n",
        "plt.plot(history.history['val_accuracy'], label='Validation Accuracy')\n",
        "plt.title('Training and Validation Accuracy')\n",
        "plt.xlabel('Epoch')\n",
        "plt.ylabel('Accuracy')\n",
        "plt.legend()\n",
        "\n",
        "plt.show()"
      ]
    }
  ],
  "metadata": {
    "accelerator": "GPU",
    "colab": {
      "gpuType": "T4",
      "provenance": []
    },
    "kernelspec": {
      "display_name": "Python 3",
      "name": "python3"
    },
    "language_info": {
      "name": "python"
    }
  },
  "nbformat": 4,
  "nbformat_minor": 0
}
