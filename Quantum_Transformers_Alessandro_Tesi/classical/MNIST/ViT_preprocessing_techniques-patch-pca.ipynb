{
 "cells": [
  {
   "cell_type": "markdown",
   "id": "ebe41ac4",
   "metadata": {
    "id": "ebe41ac4"
   },
   "source": [
    "#  Vision Transformer\n",
    "The Classical Vision Transformer is used as a benchmark for the Quantum Vision Transformer, which can handle images with a maximum resolution of 16 pixels. To accommodate this, I divided each image into four patches and applied PCA to each patch of the dataset. The same PCA transformation was used for every patch, reducing them to four dimensions each. Subsequently, I built the model using a Transformer implemented with TensorFlow."
   ]
  },
  {
   "cell_type": "code",
   "execution_count": 1,
   "id": "01c02840",
   "metadata": {
    "colab": {
     "base_uri": "https://localhost:8080/"
    },
    "id": "01c02840",
    "outputId": "aa8d50d9-9888-4bd8-9ca1-ae8a03ef587b"
   },
   "outputs": [
    {
     "name": "stderr",
     "output_type": "stream",
     "text": [
      "2024-06-05 15:38:00.176814: I tensorflow/core/platform/cpu_feature_guard.cc:193] This TensorFlow binary is optimized with oneAPI Deep Neural Network Library (oneDNN) to use the following CPU instructions in performance-critical operations:  AVX2 FMA\n",
      "To enable them in other operations, rebuild TensorFlow with the appropriate compiler flags.\n",
      "2024-06-05 15:38:00.904156: W tensorflow/compiler/xla/stream_executor/platform/default/dso_loader.cc:64] Could not load dynamic library 'libcudart.so.11.0'; dlerror: libcudart.so.11.0: cannot open shared object file: No such file or directory\n",
      "2024-06-05 15:38:00.904511: I tensorflow/compiler/xla/stream_executor/cuda/cudart_stub.cc:29] Ignore above cudart dlerror if you do not have a GPU set up on your machine.\n",
      "2024-06-05 15:38:02.153057: W tensorflow/compiler/xla/stream_executor/platform/default/dso_loader.cc:64] Could not load dynamic library 'libnvinfer.so.7'; dlerror: libnvinfer.so.7: cannot open shared object file: No such file or directory\n",
      "2024-06-05 15:38:02.154046: W tensorflow/compiler/xla/stream_executor/platform/default/dso_loader.cc:64] Could not load dynamic library 'libnvinfer_plugin.so.7'; dlerror: libnvinfer_plugin.so.7: cannot open shared object file: No such file or directory\n",
      "2024-06-05 15:38:02.154078: W tensorflow/compiler/tf2tensorrt/utils/py_utils.cc:38] TF-TRT Warning: Cannot dlopen some TensorRT libraries. If you would like to use Nvidia GPU with TensorRT, please make sure the missing libraries mentioned above are installed properly.\n"
     ]
    },
    {
     "name": "stdout",
     "output_type": "stream",
     "text": [
      "Default GPU Device: \n"
     ]
    },
    {
     "name": "stderr",
     "output_type": "stream",
     "text": [
      "2024-06-05 15:38:04.643939: I tensorflow/core/platform/cpu_feature_guard.cc:193] This TensorFlow binary is optimized with oneAPI Deep Neural Network Library (oneDNN) to use the following CPU instructions in performance-critical operations:  AVX2 FMA\n",
      "To enable them in other operations, rebuild TensorFlow with the appropriate compiler flags.\n",
      "2024-06-05 15:38:05.920855: I tensorflow/compiler/xla/stream_executor/cuda/cuda_gpu_executor.cc:967] could not open file to read NUMA node: /sys/bus/pci/devices/0000:01:00.0/numa_node\n",
      "Your kernel may have been built without NUMA support.\n",
      "2024-06-05 15:38:05.921377: W tensorflow/compiler/xla/stream_executor/platform/default/dso_loader.cc:64] Could not load dynamic library 'libcudart.so.11.0'; dlerror: libcudart.so.11.0: cannot open shared object file: No such file or directory\n",
      "2024-06-05 15:38:05.921460: W tensorflow/compiler/xla/stream_executor/platform/default/dso_loader.cc:64] Could not load dynamic library 'libcublas.so.11'; dlerror: libcublas.so.11: cannot open shared object file: No such file or directory\n",
      "2024-06-05 15:38:05.921512: W tensorflow/compiler/xla/stream_executor/platform/default/dso_loader.cc:64] Could not load dynamic library 'libcublasLt.so.11'; dlerror: libcublasLt.so.11: cannot open shared object file: No such file or directory\n",
      "2024-06-05 15:38:05.921571: W tensorflow/compiler/xla/stream_executor/platform/default/dso_loader.cc:64] Could not load dynamic library 'libcufft.so.10'; dlerror: libcufft.so.10: cannot open shared object file: No such file or directory\n",
      "2024-06-05 15:38:05.921624: W tensorflow/compiler/xla/stream_executor/platform/default/dso_loader.cc:64] Could not load dynamic library 'libcurand.so.10'; dlerror: libcurand.so.10: cannot open shared object file: No such file or directory\n",
      "2024-06-05 15:38:05.921678: W tensorflow/compiler/xla/stream_executor/platform/default/dso_loader.cc:64] Could not load dynamic library 'libcusolver.so.11'; dlerror: libcusolver.so.11: cannot open shared object file: No such file or directory\n",
      "2024-06-05 15:38:05.921730: W tensorflow/compiler/xla/stream_executor/platform/default/dso_loader.cc:64] Could not load dynamic library 'libcusparse.so.11'; dlerror: libcusparse.so.11: cannot open shared object file: No such file or directory\n",
      "2024-06-05 15:38:05.921779: W tensorflow/compiler/xla/stream_executor/platform/default/dso_loader.cc:64] Could not load dynamic library 'libcudnn.so.8'; dlerror: libcudnn.so.8: cannot open shared object file: No such file or directory\n",
      "2024-06-05 15:38:05.921815: W tensorflow/core/common_runtime/gpu/gpu_device.cc:1934] Cannot dlopen some GPU libraries. Please make sure the missing libraries mentioned above are installed properly if you would like to use GPU. Follow the guide at https://www.tensorflow.org/install/gpu for how to download and setup the required libraries for your platform.\n",
      "Skipping registering GPU devices...\n"
     ]
    }
   ],
   "source": [
    "import numpy as np\n",
    "import matplotlib.pyplot as plt\n",
    "import warnings\n",
    "warnings.filterwarnings('ignore')\n",
    "import tensorflow as tf\n",
    "from tensorflow.keras import Model\n",
    "from tensorflow.keras.datasets import mnist\n",
    "from tensorflow.keras.utils import to_categorical\n",
    "from tensorflow.keras.layers import Add, Dense, Dropout, Embedding, GlobalAveragePooling1D, Input, Layer, LayerNormalization, MultiHeadAttention\n",
    "from tensorflow.keras.optimizers import Adam\n",
    "from tensorflow.keras.losses import CategoricalCrossentropy\n",
    "from tensorflow.keras.metrics import CategoricalAccuracy\n",
    "from tensorflow.keras.layers import AveragePooling2D, MaxPooling2D\n",
    "from sklearn.decomposition import PCA\n",
    "\n",
    "print(\"Default GPU Device: {}\".format(tf.test.gpu_device_name()))"
   ]
  },
  {
   "cell_type": "code",
   "execution_count": 2,
   "id": "0nhu6AtYeBiX",
   "metadata": {
    "id": "0nhu6AtYeBiX"
   },
   "outputs": [],
   "source": [
    "# Load MNIST data\n",
    "(train_images, train_labels), (test_images, test_labels) = tf.keras.datasets.mnist.load_data()\n",
    "\n",
    "# Expand the dimensions and convert to float32: from (60000, 28, 28) to (60000, 28, 28, 1)\n",
    "train_images = train_images.reshape((-1, 28, 28, 1)).astype('float32')\n",
    "test_images = test_images.reshape((-1, 28, 28, 1)).astype('float32')\n",
    "\n",
    "# Normalize the images to the range 0-1 (optional but recommended)\n",
    "train_images /= 255.0\n",
    "test_images /= 255.0"
   ]
  },
  {
   "cell_type": "code",
   "execution_count": 3,
   "id": "b3f836eb-64d0-464e-bfd7-599f7e8a5097",
   "metadata": {},
   "outputs": [
    {
     "data": {
      "image/png": "[encoded data removed]",
      "text/plain": [
       "<Figure size 400x400 with 4 Axes>"
      ]
     },
     "metadata": {},
     "output_type": "display_data"
    }
   ],
   "source": [
    "# Extracting all quadrants for all images\n",
    "# First quadrant\n",
    "first_quadrant = train_images[:, :14, :14]\n",
    "\n",
    "# Second quadrant\n",
    "second_quadrant = train_images[:, :14, 14:]\n",
    "\n",
    "# Third quadrant\n",
    "third_quadrant = train_images[:, 14:, :14]\n",
    "\n",
    "# Fourth quadrant\n",
    "fourth_quadrant = train_images[:, 14:, 14:]\n",
    "\n",
    "# Visualize the first image from each quadrant\n",
    "fig, axs = plt.subplots(2, 2, figsize=(4,4))\n",
    "\n",
    "# First quadrant\n",
    "axs[0][0].imshow(first_quadrant[0], cmap='gray')\n",
    "axs[0][0].set_title(\"First Quadrant\")\n",
    "axs[0][0].axis('off')\n",
    "\n",
    "# Second quadrant\n",
    "axs[0][1].imshow(second_quadrant[0], cmap='gray')\n",
    "axs[0][1].set_title(\"Second Quadrant\")\n",
    "axs[0][1].axis('off')\n",
    "\n",
    "# Third quadrant\n",
    "axs[1][0].imshow(third_quadrant[0], cmap='gray')\n",
    "axs[1][0].set_title(\"Third Quadrant\")\n",
    "axs[1][0].axis('off')\n",
    "\n",
    "# Fourth quadrant\n",
    "axs[1][1].imshow(fourth_quadrant[0], cmap='gray')\n",
    "axs[1][1].set_title(\"Fourth Quadrant\")\n",
    "axs[1][1].axis('off')\n",
    "\n",
    "plt.show()"
   ]
  },
  {
   "cell_type": "code",
   "execution_count": 4,
   "id": "469b5ff1-78d2-4f7a-8b42-336bc910ee06",
   "metadata": {},
   "outputs": [
    {
     "data": {
      "text/plain": [
       "((60000, 4), (60000, 4), (60000, 4), (60000, 4))"
      ]
     },
     "execution_count": 4,
     "metadata": {},
     "output_type": "execute_result"
    }
   ],
   "source": [
    "# Extract quadrants\n",
    "first_quadrant_train = train_images[:, :14, :14].reshape(len(train_images), -1)\n",
    "second_quadrant_train = train_images[:, :14, 14:].reshape(len(train_images), -1)\n",
    "third_quadrant_train = train_images[:, 14:, :14].reshape(len(train_images), -1)\n",
    "fourth_quadrant_train = train_images[:, 14:, 14:].reshape(len(train_images), -1)\n",
    "\n",
    "# Concatenate quadrants along columns\n",
    "concatenated_data = np.concatenate([first_quadrant_train, second_quadrant_train, third_quadrant_train, fourth_quadrant_train], axis=0)\n",
    "\n",
    "# Apply PCA\n",
    "pca = PCA(n_components=4)  # Adjust n_components as needed\n",
    "concatenated_pca = pca.fit_transform(concatenated_data)\n",
    "\n",
    "# Transform each quadrant separately using the same PCA\n",
    "first_quadrant_pca_train = pca.transform(first_quadrant_train)\n",
    "second_quadrant_pca_train = pca.transform(second_quadrant_train)\n",
    "third_quadrant_pca_train = pca.transform(third_quadrant_train)\n",
    "fourth_quadrant_pca_train = pca.transform(fourth_quadrant_train)\n",
    "\n",
    "# Display the shape of the transformed quadrants\n",
    "first_quadrant_pca_train.shape, second_quadrant_pca_train.shape, third_quadrant_pca_train.shape, fourth_quadrant_pca_train.shape"
   ]
  },
  {
   "cell_type": "code",
   "execution_count": 5,
   "id": "d3051f4f-dfb2-46ab-94d1-62e1e882f075",
   "metadata": {},
   "outputs": [
    {
     "data": {
      "text/plain": [
       "array([-2.6445653 ,  0.35014266, -0.70551884,  1.057409  ], dtype=float32)"
      ]
     },
     "execution_count": 5,
     "metadata": {},
     "output_type": "execute_result"
    }
   ],
   "source": [
    "first_quadrant_pca_train[0]"
   ]
  },
  {
   "cell_type": "code",
   "execution_count": 6,
   "id": "d8ff1cbd-178d-42d3-88ad-8b04ad22219b",
   "metadata": {},
   "outputs": [
    {
     "data": {
      "text/plain": [
       "(60000, 2)"
      ]
     },
     "execution_count": 6,
     "metadata": {},
     "output_type": "execute_result"
    }
   ],
   "source": [
    "first_quadrant_pca_train[:, :2].shape"
   ]
  },
  {
   "cell_type": "code",
   "execution_count": 7,
   "id": "2bf9201f-d5ca-4fea-812c-0ae672eee619",
   "metadata": {},
   "outputs": [],
   "source": [
    "patch_pca_train = np.concatenate([first_quadrant_pca_train[:, :2], second_quadrant_pca_train[:, :2],\n",
    "                                  first_quadrant_pca_train[:, 2:], second_quadrant_pca_train[:, 2:],\n",
    "                                  third_quadrant_pca_train[:, :2], fourth_quadrant_pca_train[:, :2],\n",
    "                                  third_quadrant_pca_train[:, 2:], fourth_quadrant_pca_train[:, 2:]], axis=1).reshape(-1, 4, 4, 1)"
   ]
  },
  {
   "cell_type": "code",
   "execution_count": 8,
   "id": "123bbc53-ead4-4b5a-9b63-ebf00a70ef2e",
   "metadata": {},
   "outputs": [
    {
     "data": {
      "text/plain": [
       "(60000, 4, 4, 1)"
      ]
     },
     "execution_count": 8,
     "metadata": {},
     "output_type": "execute_result"
    }
   ],
   "source": [
    "patch_pca_train.shape"
   ]
  },
  {
   "cell_type": "code",
   "execution_count": 9,
   "id": "0cc210ba-0161-4dad-9b3d-2f746c654ff4",
   "metadata": {
    "scrolled": true
   },
   "outputs": [
    {
     "data": {
      "text/plain": [
       "array([[[-2.6445653 ],\n",
       "        [ 0.35014266],\n",
       "        [ 1.7708893 ],\n",
       "        [ 0.50121963]],\n",
       "\n",
       "       [[-0.70551884],\n",
       "        [ 1.057409  ],\n",
       "        [ 0.9536693 ],\n",
       "        [ 0.22071795]],\n",
       "\n",
       "       [[-2.091967  ],\n",
       "        [ 1.0617951 ],\n",
       "        [ 2.3493533 ],\n",
       "        [-2.286068  ]],\n",
       "\n",
       "       [[-0.07526828],\n",
       "        [ 1.4326128 ],\n",
       "        [-0.49839413],\n",
       "        [ 0.8869436 ]]], dtype=float32)"
      ]
     },
     "execution_count": 9,
     "metadata": {},
     "output_type": "execute_result"
    }
   ],
   "source": [
    "patch_pca_train[0]"
   ]
  },
  {
   "cell_type": "code",
   "execution_count": 10,
   "id": "e11c4d8f-e9f7-4aba-a451-e283758fddcb",
   "metadata": {},
   "outputs": [],
   "source": [
    "# Extract quadrants\n",
    "first_quadrant_test = test_images[:, :14, :14].reshape(len(test_images), -1)\n",
    "second_quadrant_test = test_images[:, :14, 14:].reshape(len(test_images), -1)\n",
    "third_quadrant_test = test_images[:, 14:, :14].reshape(len(test_images), -1)\n",
    "fourth_quadrant_test = test_images[:, 14:, 14:].reshape(len(test_images), -1)\n",
    "\n",
    "# Transform each quadrant separately using the same PCA\n",
    "first_quadrant_pca_test = pca.transform(first_quadrant_test)\n",
    "second_quadrant_pca_test = pca.transform(second_quadrant_test)\n",
    "third_quadrant_pca_test = pca.transform(third_quadrant_test)\n",
    "fourth_quadrant_pca_test = pca.transform(fourth_quadrant_test)\n",
    "\n",
    "patch_pca_test = np.concatenate([first_quadrant_pca_test[:, :2], second_quadrant_pca_test[:, :2],\n",
    "                                  first_quadrant_pca_test[:, 2:], second_quadrant_pca_test[:, 2:],\n",
    "                                  third_quadrant_pca_test[:, :2], fourth_quadrant_pca_test[:, :2],\n",
    "                                  third_quadrant_pca_test[:, 2:], fourth_quadrant_pca_test[:, 2:]], axis=1).reshape(-1, 4, 4, 1)"
   ]
  },
  {
   "cell_type": "code",
   "execution_count": 11,
   "id": "409cb158",
   "metadata": {
    "id": "409cb158"
   },
   "outputs": [],
   "source": [
    "# Convert the labels to one-hot encoded vectors\n",
    "train_labels = to_categorical(train_labels, 10)\n",
    "test_labels = to_categorical(test_labels, 10)"
   ]
  },
  {
   "cell_type": "code",
   "execution_count": 12,
   "id": "5c122518",
   "metadata": {
    "id": "5c122518"
   },
   "outputs": [],
   "source": [
    "class PatchExtractor(Layer):\n",
    "    def __init__(self, patch_size=2):\n",
    "        super(PatchExtractor, self).__init__()\n",
    "        self.patch_size = patch_size  # Initialize patch size\n",
    "\n",
    "    def call(self, images):\n",
    "        # Calculate the batch size from the images tensor\n",
    "        batch_size = tf.shape(images)[0]\n",
    "        # Extract patches from images\n",
    "        patches = tf.image.extract_patches(\n",
    "            images=images,\n",
    "            sizes=[1, self.patch_size, self.patch_size, 1],  # Size of patches to extract\n",
    "            strides=[1, self.patch_size, self.patch_size, 1],  # Stride for each patch\n",
    "            rates=[1, 1, 1, 1],  # Dilation rate, set to 1 meaning no dilation\n",
    "            padding=\"VALID\",  # Use valid padding, no padding is applied\n",
    "        )\n",
    "        # Reshape the patches to have the patch dimension flattened\n",
    "        patches = tf.reshape(patches, [batch_size, -1, patches.shape[-1]])\n",
    "        return patches"
   ]
  },
  {
   "cell_type": "code",
   "execution_count": 13,
   "id": "a20e038f",
   "metadata": {
    "colab": {
     "base_uri": "https://localhost:8080/"
    },
    "id": "a20e038f",
    "outputId": "29056934-397e-4c69-a910-d1351d129c2b"
   },
   "outputs": [
    {
     "name": "stderr",
     "output_type": "stream",
     "text": [
      "2024-06-05 15:38:21.442755: I tensorflow/compiler/xla/stream_executor/cuda/cuda_gpu_executor.cc:967] could not open file to read NUMA node: /sys/bus/pci/devices/0000:01:00.0/numa_node\n",
      "Your kernel may have been built without NUMA support.\n",
      "2024-06-05 15:38:22.066818: W tensorflow/core/common_runtime/gpu/gpu_device.cc:1934] Cannot dlopen some GPU libraries. Please make sure the missing libraries mentioned above are installed properly if you would like to use GPU. Follow the guide at https://www.tensorflow.org/install/gpu for how to download and setup the required libraries for your platform.\n",
      "Skipping registering GPU devices...\n"
     ]
    },
    {
     "data": {
      "text/plain": [
       "TensorShape([1, 4, 4])"
      ]
     },
     "execution_count": 13,
     "metadata": {},
     "output_type": "execute_result"
    }
   ],
   "source": [
    "image = patch_pca_train[0]  # Select the first image of the dataset\n",
    "batch = tf.expand_dims(image, 0)  # Adds the batch dimension\n",
    "# Now use PatchExtractor\n",
    "patches = PatchExtractor(patch_size=2)(batch)\n",
    "\n",
    "patches.shape"
   ]
  },
  {
   "cell_type": "code",
   "execution_count": 14,
   "id": "941b4d4d",
   "metadata": {
    "colab": {
     "base_uri": "https://localhost:8080/",
     "height": 406
    },
    "id": "941b4d4d",
    "outputId": "050b8e8d-f0b5-4345-a078-215ac5b138d7"
   },
   "outputs": [
    {
     "data": {
      "image/png": "[encoded data removed]",
      "text/plain": [
       "<Figure size 640x480 with 4 Axes>"
      ]
     },
     "metadata": {},
     "output_type": "display_data"
    }
   ],
   "source": [
    "# Calculate the number of patches per side (sqrt) to organize the subplot grid\n",
    "n = int(np.sqrt(patches.shape[1]))\n",
    "\n",
    "# Visualize each patch\n",
    "for i, patch in enumerate(patches[0]):\n",
    "    ax = plt.subplot(n, n, i + 1)\n",
    "    # Since the patch is flattened, we reshape it back to its original size (4x4 here), and there's only one channel for grayscale\n",
    "    patch_img = tf.reshape(patch, (2, 2))\n",
    "    ax.imshow(patch_img.numpy(), cmap='gray')\n",
    "    ax.axis(\"off\")\n",
    "\n",
    "plt.show()"
   ]
  },
  {
   "cell_type": "code",
   "execution_count": 15,
   "id": "9b57d56b",
   "metadata": {
    "id": "9b57d56b"
   },
   "outputs": [],
   "source": [
    "class PatchEncoder(Layer):\n",
    "    def __init__(self, num_patches=4, projection_dim=2*2):\n",
    "        super(PatchEncoder, self).__init__()\n",
    "        self.num_patches = num_patches  # Total number of patches\n",
    "        self.projection_dim = projection_dim  # Dimension to project each patch onto\n",
    "        # Initialize weights for the class token\n",
    "        w_init = tf.random_normal_initializer()\n",
    "        self.class_token = tf.Variable(initial_value=w_init(shape=(1, projection_dim), dtype=\"float32\"), trainable=True)\n",
    "        self.projection = Dense(units=projection_dim)  # Dense layer to project patch features\n",
    "        self.position_embedding = Embedding(input_dim=num_patches + 1, output_dim=projection_dim)  # Positional embeddings\n",
    "\n",
    "    def call(self, patches):\n",
    "        batch_size = tf.shape(patches)[0]  # Calculate the batch size\n",
    "        # Repeat the class token for each item in the batch\n",
    "        class_token = tf.tile(self.class_token, multiples=[batch_size, 1])\n",
    "        class_token = tf.reshape(class_token, (batch_size, 1, self.projection_dim))\n",
    "        # Project the patches to the specified dimension\n",
    "        patches_embed = self.projection(patches)\n",
    "        # Concatenate the class token with the projected patches\n",
    "        patches_embed = tf.concat([class_token, patches_embed], axis=1)\n",
    "        # Calculate positional embeddings for all patches + class token\n",
    "        positions = tf.range(start=0, limit=self.num_patches + 1, delta=1)\n",
    "        positions_embed = self.position_embedding(positions)\n",
    "        # Add positional embeddings to the concatenated embeddings\n",
    "        encoded = patches_embed + positions_embed\n",
    "        return encoded"
   ]
  },
  {
   "cell_type": "code",
   "execution_count": 16,
   "id": "26bedcd4",
   "metadata": {
    "colab": {
     "base_uri": "https://localhost:8080/"
    },
    "id": "26bedcd4",
    "outputId": "78aa32c7-b55a-4c3b-e3f7-6e9e70a88a23"
   },
   "outputs": [
    {
     "data": {
      "text/plain": [
       "TensorShape([1, 5, 4])"
      ]
     },
     "execution_count": 16,
     "metadata": {},
     "output_type": "execute_result"
    }
   ],
   "source": [
    "embeddings = PatchEncoder()(patches)\n",
    "embeddings.shape"
   ]
  },
  {
   "cell_type": "code",
   "execution_count": 17,
   "id": "15603a42",
   "metadata": {
    "colab": {
     "base_uri": "https://localhost:8080/"
    },
    "id": "15603a42",
    "outputId": "11e9fe52-0a68-4318-dc9c-533b3631c6b5"
   },
   "outputs": [
    {
     "data": {
      "text/plain": [
       "TensorShape([1, 5, 4])"
      ]
     },
     "execution_count": 17,
     "metadata": {},
     "output_type": "execute_result"
    }
   ],
   "source": [
    "class MLP(Layer):\n",
    "    def __init__(self, hidden_features, out_features, dropout_rate=0.1):\n",
    "        super(MLP, self).__init__()\n",
    "        # First dense layer with GELU activation\n",
    "        self.dense1 = Dense(hidden_features, activation=tf.nn.gelu)\n",
    "        # Second dense layer for output features\n",
    "        self.dense2 = Dense(out_features)\n",
    "        # Dropout layer\n",
    "        self.dropout = Dropout(dropout_rate)\n",
    "\n",
    "    def call(self, x):\n",
    "        # Apply first dense layer\n",
    "        x = self.dense1(x)\n",
    "        # Apply dropout\n",
    "        x = self.dropout(x)\n",
    "        # Apply second dense layer\n",
    "        x = self.dense2(x)\n",
    "        # Apply dropout again\n",
    "        y = self.dropout(x)\n",
    "        return y\n",
    "\n",
    "mlp = MLP(4*2, 4)\n",
    "y = mlp(tf.zeros((1, 5, 4)))\n",
    "y.shape"
   ]
  },
  {
   "cell_type": "code",
   "execution_count": 18,
   "id": "b729abea",
   "metadata": {
    "colab": {
     "base_uri": "https://localhost:8080/"
    },
    "id": "b729abea",
    "outputId": "d9ec3efe-3725-4818-b9bf-4196291679bf"
   },
   "outputs": [
    {
     "data": {
      "text/plain": [
       "TensorShape([1, 5, 4])"
      ]
     },
     "execution_count": 18,
     "metadata": {},
     "output_type": "execute_result"
    }
   ],
   "source": [
    "class Block(Layer):\n",
    "    def __init__(self, projection_dim, num_heads=4, dropout_rate=0.1):\n",
    "        super(Block, self).__init__()\n",
    "        # First layer normalization\n",
    "        self.norm1 = LayerNormalization(epsilon=1e-6)\n",
    "        # Multi-head attention layer\n",
    "        self.attn = MultiHeadAttention(num_heads=num_heads, key_dim=projection_dim, dropout=dropout_rate)\n",
    "        # Second layer normalization\n",
    "        self.norm2 = LayerNormalization(epsilon=1e-6)\n",
    "        # MLP for further processing\n",
    "        self.mlp = MLP(projection_dim * 2, projection_dim, dropout_rate)\n",
    "\n",
    "    def call(self, x):\n",
    "        # Apply first layer normalization\n",
    "        x1 = self.norm1(x)\n",
    "        # Apply multi-head attention\n",
    "        attention_output = self.attn(x1, x1)\n",
    "        # Add residual connection after attention\n",
    "        x2 = Add()([attention_output, x])\n",
    "        # Apply second layer normalization\n",
    "        x3 = self.norm2(x2)\n",
    "        # Apply MLP\n",
    "        x3 = self.mlp(x3)\n",
    "        # Add residual connection after MLP\n",
    "        y = Add()([x3, x2])\n",
    "        return y\n",
    "\n",
    "block = Block(4)\n",
    "y = block(tf.zeros((1, 5, 4)))\n",
    "y.shape"
   ]
  },
  {
   "cell_type": "code",
   "execution_count": 19,
   "id": "959647bd",
   "metadata": {
    "colab": {
     "base_uri": "https://localhost:8080/"
    },
    "id": "959647bd",
    "outputId": "6e851997-5448-45e2-cbbc-e6ac25de96ac"
   },
   "outputs": [
    {
     "data": {
      "text/plain": [
       "TensorShape([1, 5, 4])"
      ]
     },
     "execution_count": 19,
     "metadata": {},
     "output_type": "execute_result"
    }
   ],
   "source": [
    "class TransformerEncoder(Layer):\n",
    "    def __init__(self, projection_dim, num_heads=4, num_blocks=3, dropout_rate=0.1):\n",
    "        super(TransformerEncoder, self).__init__()\n",
    "        # Define blocks of transformer encoder\n",
    "        self.blocks = [Block(projection_dim, num_heads, dropout_rate) for _ in range(num_blocks)]\n",
    "        # Final layer normalization\n",
    "        self.norm = LayerNormalization(epsilon=1e-6)\n",
    "        # Final dropout layer\n",
    "        self.dropout = Dropout(0.1)\n",
    "\n",
    "    def call(self, x):\n",
    "        # Pass input through each block\n",
    "        for block in self.blocks:\n",
    "            x = block(x)\n",
    "        # Apply final layer normalization\n",
    "        x = self.norm(x)\n",
    "        # Apply final dropout\n",
    "        y = self.dropout(x)\n",
    "        return y\n",
    "\n",
    "transformer = TransformerEncoder(4)\n",
    "y = transformer(embeddings)\n",
    "y.shape"
   ]
  },
  {
   "cell_type": "code",
   "execution_count": 20,
   "id": "6a582971",
   "metadata": {
    "colab": {
     "base_uri": "https://localhost:8080/"
    },
    "id": "6a582971",
    "outputId": "28b3616f-1c39-4b38-d6bd-4957a1482601"
   },
   "outputs": [
    {
     "name": "stdout",
     "output_type": "stream",
     "text": [
      "Model: \"model\"\n",
      "_________________________________________________________________\n",
      " Layer (type)                Output Shape              Param #   \n",
      "=================================================================\n",
      " input_1 (InputLayer)        [(None, 4, 4, 1)]         0         \n",
      "                                                                 \n",
      " patch_extractor_1 (PatchExt  (None, None, 4)          0         \n",
      " ractor)                                                         \n",
      "                                                                 \n",
      " patch_encoder_1 (PatchEncod  (None, 5, 4)             44        \n",
      " er)                                                             \n",
      "                                                                 \n",
      " transformer_encoder_1 (Tran  (None, 5, 4)             1208      \n",
      " sformerEncoder)                                                 \n",
      "                                                                 \n",
      " global_average_pooling1d (G  (None, 4)                0         \n",
      " lobalAveragePooling1D)                                          \n",
      "                                                                 \n",
      " dense_18 (Dense)            (None, 10)                50        \n",
      "                                                                 \n",
      "=================================================================\n",
      "Total params: 1,302\n",
      "Trainable params: 1,302\n",
      "Non-trainable params: 0\n",
      "_________________________________________________________________\n"
     ]
    }
   ],
   "source": [
    "def create_VisionTransformer(num_classes, num_patches=4, projection_dim=2*2, input_shape=(4, 4, 1)):\n",
    "    inputs = Input(shape=input_shape)\n",
    "    # Patch extractor\n",
    "    patches = PatchExtractor()(inputs)\n",
    "    # Patch encoder\n",
    "    patches_embed = PatchEncoder(num_patches, projection_dim)(patches)\n",
    "    # Transformer encoder\n",
    "    representation = TransformerEncoder(projection_dim)(patches_embed)\n",
    "    representation = GlobalAveragePooling1D()(representation)\n",
    "    # MLP to classify outputs\n",
    "    logits = Dense(num_classes, activation='softmax')(representation)\n",
    "    # Create model\n",
    "    model = Model(inputs=inputs, outputs=logits)\n",
    "    return model\n",
    "model = create_VisionTransformer(10)\n",
    "model.summary()"
   ]
  },
  {
   "cell_type": "code",
   "execution_count": 21,
   "id": "324d596b",
   "metadata": {
    "id": "324d596b"
   },
   "outputs": [],
   "source": [
    "model.compile(\n",
    "    optimizer=tf.keras.optimizers.Adam(learning_rate=0.001),\n",
    "    loss=tf.keras.losses.CategoricalCrossentropy(),\n",
    "    metrics=['accuracy', tf.keras.metrics.AUC(name='auc')]\n",
    ")"
   ]
  },
  {
   "cell_type": "code",
   "execution_count": 22,
   "id": "4e2d02c8",
   "metadata": {
    "colab": {
     "base_uri": "https://localhost:8080/"
    },
    "id": "4e2d02c8",
    "outputId": "929bd9f1-cbbf-4b83-aac4-7e50eefb829d"
   },
   "outputs": [
    {
     "name": "stdout",
     "output_type": "stream",
     "text": [
      "Epoch 1/4\n",
      "1875/1875 [==============================] - 54s 22ms/step - loss: 1.6763 - accuracy: 0.4044 - auc: 0.8313 - val_loss: 1.2154 - val_accuracy: 0.5743 - val_auc: 0.9180\n",
      "Epoch 2/4\n",
      "1875/1875 [==============================] - 38s 20ms/step - loss: 1.2009 - accuracy: 0.5852 - auc: 0.9182 - val_loss: 1.0423 - val_accuracy: 0.6493 - val_auc: 0.9386\n",
      "Epoch 3/4\n",
      "1875/1875 [==============================] - 41s 22ms/step - loss: 1.1062 - accuracy: 0.6204 - auc: 0.9305 - val_loss: 0.9690 - val_accuracy: 0.6704 - val_auc: 0.9464\n",
      "Epoch 4/4\n",
      "1875/1875 [==============================] - 38s 20ms/step - loss: 1.0676 - accuracy: 0.6338 - auc: 0.9350 - val_loss: 0.9493 - val_accuracy: 0.6768 - val_auc: 0.9491\n"
     ]
    }
   ],
   "source": [
    "history = model.fit(\n",
    "    patch_pca_train, train_labels,\n",
    "    epochs=4,\n",
    "    batch_size=32,\n",
    "    validation_data=(patch_pca_test, test_labels)\n",
    ")"
   ]
  },
  {
   "cell_type": "code",
   "execution_count": 23,
   "id": "xik58ODqcFmy",
   "metadata": {
    "colab": {
     "base_uri": "https://localhost:8080/",
     "height": 487
    },
    "id": "xik58ODqcFmy",
    "outputId": "e0797fd2-5c3f-42c2-99b8-460e987e7c8f"
   },
   "outputs": [
    {
     "data": {
      "image/png": "[encoded data removed]",
      "text/plain": [
       "<Figure size 1200x500 with 2 Axes>"
      ]
     },
     "metadata": {},
     "output_type": "display_data"
    }
   ],
   "source": [
    "# Plot the training and validation loss\n",
    "plt.figure(figsize=(12, 5))\n",
    "\n",
    "plt.subplot(1, 2, 1)\n",
    "plt.plot(history.history['loss'], label='Training Loss')\n",
    "plt.plot(history.history['val_loss'], label='Validation Loss')\n",
    "plt.title('Training and Validation Loss')\n",
    "plt.xlabel('Epoch')\n",
    "plt.ylabel('Loss')\n",
    "plt.legend()\n",
    "\n",
    "# Plot the training and validation accuracy\n",
    "plt.subplot(1, 2, 2)\n",
    "plt.plot(history.history['accuracy'], label='Training Accuracy')\n",
    "plt.plot(history.history['val_accuracy'], label='Validation Accuracy')\n",
    "plt.title('Training and Validation Accuracy')\n",
    "plt.xlabel('Epoch')\n",
    "plt.ylabel('Accuracy')\n",
    "plt.legend()\n",
    "\n",
    "plt.show()"
   ]
  }
 ],
 "metadata": {
  "accelerator": "GPU",
  "colab": {
   "gpuType": "T4",
   "provenance": []
  },
  "kernelspec": {
   "display_name": "Python (quantum_env)",
   "language": "python",
   "name": "quantum_env"
  },
  "language_info": {
   "codemirror_mode": {
    "name": "ipython",
    "version": 3
   },
   "file_extension": ".py",
   "mimetype": "text/x-python",
   "name": "python",
   "nbconvert_exporter": "python",
   "pygments_lexer": "ipython3",
   "version": "3.8.18"
  }
 },
 "nbformat": 4,
 "nbformat_minor": 5
}
