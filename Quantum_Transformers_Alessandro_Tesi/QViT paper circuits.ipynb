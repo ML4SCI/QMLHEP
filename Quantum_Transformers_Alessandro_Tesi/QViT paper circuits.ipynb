{
 "cells": [
  {
   "cell_type": "markdown",
   "id": "8728cc0f-2d15-45b5-958c-f4c45ebdb8f7",
   "metadata": {},
   "source": [
    "# Implementation of Quantum Vision Transformers paper circuits\n",
    "\n",
    "This project aims to implement the concepts outlined in the paper *Quantum Vision Transformers* by El Amine Cherrat, Iordanis Kerenidis, Natansh Mathur, Jonas Landman, Martin Strahm, Yun Yvonna Li, harnessing the power of quantum computing to enhance the capabilities of vision transformers. \n",
    "\n",
    "This work is primarily based on TensorFlow Quantum, a robust software framework that facilitates the construction, simulation, and training of quantum machine learning models. *TensorFlow Quantum: A Software Framework for Quantum Machine Learning* by Michael Broughton, Guillaume Verdon, Trevor McCourt, Antonio J. Martinez, Jae Hyeon Yoo, Sergei V. Isakov, Philip Massey, Ramin Halavati, Murphy Yuezhen Niu, Alexander Zlokapa, Evan Peters, Owen Lockwood, Andrea Skolik, Sofiene Jerbi, Vedran Dunjko, Martin Leib, Michael Streif, David Von Dollen, Hongxiang Chen, Shuxiang Cao, Roeland Wiersema, Hsin-Yuan Huang, Jarrod R. McClean, Ryan Babbush, Sergio Boixo, Dave Bacon, Alan K. Ho, Hartmut Neven, Masoud Mohseni.\n",
    "\n",
    "I also draw inspiration and insights from last year's Google Summer of Code (GSoC) projects focused on Quantum Vision Transformers. These projects, documented in detail on [Sal's GSoC blog](https://salcc.github.io/blog/gsoc23/) and [Eyüp B. Ünlü's Medium post](https://medium.com/@eyupb.unlu/gsoc-2023-with-ml4sci-quantum-transformer-for-high-energy-physics-analysis-final-report-cd9ed594e4a2).\n"
   ]
  },
  {
   "cell_type": "code",
   "execution_count": 1,
   "id": "bdca92cf-d330-4508-946b-e30676a677ad",
   "metadata": {},
   "outputs": [],
   "source": [
    "import cirq\n",
    "from cirq import ops\n",
    "from cirq.contrib.svg import SVGCircuit\n",
    "import numpy as np\n",
    "import matplotlib as plt\n",
    "import os\n",
    "os.environ['TF_CPP_MIN_LOG_LEVEL'] = '2'\n",
    "import tensorflow as tf\n",
    "import tensorflow_quantum as tfq\n",
    "import sympy"
   ]
  },
  {
   "cell_type": "markdown",
   "id": "a7c2fb4a-1cb4-41ed-afc0-da908cd5adb2",
   "metadata": {},
   "source": [
    "# RBS GATE"
   ]
  },
  {
   "cell_type": "code",
   "execution_count": 2,
   "id": "f59425be-6935-4421-91fc-0d596d89e38a",
   "metadata": {},
   "outputs": [],
   "source": [
    "class RBSGate(cirq.Gate):\n",
    "    def __init__(self, theta):\n",
    "        super(RBSGate, self).__init__()\n",
    "        self.theta = theta\n",
    "\n",
    "    def _num_qubits_(self):\n",
    "        return 2\n",
    "\n",
    "    def _decompose_(self, qubits):\n",
    "        q0, q1 = qubits\n",
    "        yield cirq.H(q0), cirq.H(q1)\n",
    "        yield cirq.CZ(q0, q1)\n",
    "        yield cirq.ry(self.theta / 2)(q0), cirq.ry(-self.theta / 2)(q1)\n",
    "        yield cirq.CZ(q0, q1)\n",
    "        yield cirq.H(q0), cirq.H(q1)\n",
    "\n",
    "    def _unitary_(self):\n",
    "        cos = np.cos(self.theta)\n",
    "        sin = np.sin(self.theta)\n",
    "        return np.array([\n",
    "            [1, 0, 0,0],\n",
    "            [0, cos, sin, 0],\n",
    "            [0, -sin, cos, 0],\n",
    "            [0, 0, 0, 1]\n",
    "        ])\n",
    "    \n",
    "    def _circuit_diagram_info_(self, args):\n",
    "        return \"[RBS({:.2f})]\".format(self.theta), \"[RBS({:.2f})]\".format(self.theta)"
   ]
  },
  {
   "cell_type": "code",
   "execution_count": 3,
   "id": "03ea04bb-9f46-4d85-941b-c3d2b98ef249",
   "metadata": {
    "scrolled": true
   },
   "outputs": [
    {
     "name": "stdout",
     "output_type": "stream",
     "text": [
      "Unitary matrix\n",
      "[[ 1.        +0.j  0.        +0.j  0.        +0.j  0.        +0.j]\n",
      " [ 0.        +0.j  0.70710678+0.j  0.70710678+0.j  0.        +0.j]\n",
      " [ 0.        +0.j -0.70710678+0.j  0.70710678+0.j  0.        +0.j]\n",
      " [ 0.        +0.j  0.        +0.j  0.        +0.j  1.        +0.j]]\n",
      "RBS Gate\n"
     ]
    },
    {
     "data": {
      "image/svg+xml": [
       "<svg xmlns=\"http://www.w3.org/2000/svg\" width=\"201.28023437500002\" height=\"100.0\"><line x1=\"30.0\" x2=\"171.28023437500002\" y1=\"25.0\" y2=\"25.0\" stroke=\"#1967d2\" stroke-width=\"1\" /><line x1=\"30.0\" x2=\"171.28023437500002\" y1=\"75.0\" y2=\"75.0\" stroke=\"#1967d2\" stroke-width=\"1\" /><line x1=\"110.64011718750001\" x2=\"110.64011718750001\" y1=\"25.0\" y2=\"75.0\" stroke=\"black\" stroke-width=\"3\" /><rect x=\"10.0\" y=\"5.0\" width=\"40\" height=\"40\" stroke=\"black\" fill=\"white\" stroke-width=\"0\" /><text x=\"30.0\" y=\"25.0\" dominant-baseline=\"middle\" text-anchor=\"middle\" font-size=\"14px\" font-family=\"Arial\">0: </text><rect x=\"10.0\" y=\"55.0\" width=\"40\" height=\"40\" stroke=\"black\" fill=\"white\" stroke-width=\"0\" /><text x=\"30.0\" y=\"75.0\" dominant-baseline=\"middle\" text-anchor=\"middle\" font-size=\"14px\" font-family=\"Arial\">1: </text><rect x=\"70.0\" y=\"5.0\" width=\"81.280234375\" height=\"40\" stroke=\"black\" fill=\"white\" stroke-width=\"1\" /><text x=\"110.64011718750001\" y=\"25.0\" dominant-baseline=\"middle\" text-anchor=\"middle\" font-size=\"14px\" font-family=\"Arial\">[RBS(0.79)]</text><rect x=\"70.0\" y=\"55.0\" width=\"81.280234375\" height=\"40\" stroke=\"black\" fill=\"white\" stroke-width=\"1\" /><text x=\"110.64011718750001\" y=\"75.0\" dominant-baseline=\"middle\" text-anchor=\"middle\" font-size=\"14px\" font-family=\"Arial\">[RBS(0.79)]</text></svg>"
      ],
      "text/plain": [
       "<cirq.contrib.svg.svg.SVGCircuit at 0x7f132ea957c0>"
      ]
     },
     "execution_count": 3,
     "metadata": {},
     "output_type": "execute_result"
    }
   ],
   "source": [
    "# Define qubits and tetha\n",
    "q0, q1 = cirq.LineQubit.range(2)\n",
    "theta = np.pi/4\n",
    "\n",
    "# Create circuit and apply RBS gate\n",
    "circuit = cirq.Circuit()\n",
    "circuit.append(RBSGate(theta)(q0, q1))\n",
    "\n",
    "print(\"Unitary matrix\")\n",
    "print(cirq.unitary(circuit))\n",
    "print(\"RBS Gate\")\n",
    "SVGCircuit(circuit)"
   ]
  },
  {
   "cell_type": "code",
   "execution_count": 4,
   "id": "221ed20f-b87f-432e-88e1-46703e90e546",
   "metadata": {},
   "outputs": [
    {
     "name": "stdout",
     "output_type": "stream",
     "text": [
      "RBS Gate decomposed\n"
     ]
    },
    {
     "data": {
      "image/svg+xml": [
       "<svg xmlns=\"http://www.w3.org/2000/svg\" width=\"573.7173828125\" height=\"100.0\"><line x1=\"30.0\" x2=\"543.7173828125\" y1=\"25.0\" y2=\"25.0\" stroke=\"#1967d2\" stroke-width=\"1\" /><line x1=\"30.0\" x2=\"543.7173828125\" y1=\"75.0\" y2=\"75.0\" stroke=\"#1967d2\" stroke-width=\"1\" /><line x1=\"214.7667578125\" x2=\"214.7667578125\" y1=\"25.0\" y2=\"75.0\" stroke=\"black\" stroke-width=\"3\" /><line x1=\"378.950625\" x2=\"378.950625\" y1=\"25.0\" y2=\"75.0\" stroke=\"black\" stroke-width=\"3\" /><rect x=\"10.0\" y=\"5.0\" width=\"40\" height=\"40\" stroke=\"black\" fill=\"white\" stroke-width=\"0\" /><text x=\"30.0\" y=\"25.0\" dominant-baseline=\"middle\" text-anchor=\"middle\" font-size=\"14px\" font-family=\"Arial\">0: </text><rect x=\"10.0\" y=\"55.0\" width=\"40\" height=\"40\" stroke=\"black\" fill=\"white\" stroke-width=\"0\" /><text x=\"30.0\" y=\"75.0\" dominant-baseline=\"middle\" text-anchor=\"middle\" font-size=\"14px\" font-family=\"Arial\">1: </text><rect x=\"70.0\" y=\"5.0\" width=\"44.7667578125\" height=\"40\" stroke=\"black\" fill=\"white\" stroke-width=\"1\" /><text x=\"92.38337890625\" y=\"25.0\" dominant-baseline=\"middle\" text-anchor=\"middle\" font-size=\"14px\" font-family=\"Arial\">Y^0.5</text><rect x=\"70.0\" y=\"55.0\" width=\"44.7667578125\" height=\"40\" stroke=\"black\" fill=\"white\" stroke-width=\"1\" /><text x=\"92.38337890625\" y=\"75.0\" dominant-baseline=\"middle\" text-anchor=\"middle\" font-size=\"14px\" font-family=\"Arial\">Y^0.5</text><rect x=\"134.7667578125\" y=\"5.0\" width=\"40\" height=\"40\" stroke=\"black\" fill=\"white\" stroke-width=\"1\" /><text x=\"154.7667578125\" y=\"25.0\" dominant-baseline=\"middle\" text-anchor=\"middle\" font-size=\"18px\" font-family=\"Arial\">X</text><rect x=\"134.7667578125\" y=\"55.0\" width=\"40\" height=\"40\" stroke=\"black\" fill=\"white\" stroke-width=\"1\" /><text x=\"154.7667578125\" y=\"75.0\" dominant-baseline=\"middle\" text-anchor=\"middle\" font-size=\"18px\" font-family=\"Arial\">X</text><circle cx=\"214.7667578125\" cy=\"25.0\" r=\"10.0\" /><circle cx=\"214.7667578125\" cy=\"75.0\" r=\"10.0\" /><rect x=\"254.76675781249997\" y=\"5.0\" width=\"84.18386718750001\" height=\"40\" stroke=\"black\" fill=\"white\" stroke-width=\"1\" /><text x=\"296.85869140625\" y=\"25.0\" dominant-baseline=\"middle\" text-anchor=\"middle\" font-size=\"14px\" font-family=\"Arial\">Ry(0.125π)</text><rect x=\"254.76675781249997\" y=\"55.0\" width=\"84.18386718750001\" height=\"40\" stroke=\"black\" fill=\"white\" stroke-width=\"1\" /><text x=\"296.85869140625\" y=\"75.0\" dominant-baseline=\"middle\" text-anchor=\"middle\" font-size=\"14px\" font-family=\"Arial\">Ry(-0.125π)</text><circle cx=\"378.950625\" cy=\"25.0\" r=\"10.0\" /><circle cx=\"378.950625\" cy=\"75.0\" r=\"10.0\" /><rect x=\"418.950625\" y=\"5.0\" width=\"44.7667578125\" height=\"40\" stroke=\"black\" fill=\"white\" stroke-width=\"1\" /><text x=\"441.33400390625\" y=\"25.0\" dominant-baseline=\"middle\" text-anchor=\"middle\" font-size=\"14px\" font-family=\"Arial\">Y^0.5</text><rect x=\"418.950625\" y=\"55.0\" width=\"44.7667578125\" height=\"40\" stroke=\"black\" fill=\"white\" stroke-width=\"1\" /><text x=\"441.33400390625\" y=\"75.0\" dominant-baseline=\"middle\" text-anchor=\"middle\" font-size=\"14px\" font-family=\"Arial\">Y^0.5</text><rect x=\"483.7173828125\" y=\"5.0\" width=\"40\" height=\"40\" stroke=\"black\" fill=\"white\" stroke-width=\"1\" /><text x=\"503.7173828125\" y=\"25.0\" dominant-baseline=\"middle\" text-anchor=\"middle\" font-size=\"18px\" font-family=\"Arial\">X</text><rect x=\"483.7173828125\" y=\"55.0\" width=\"40\" height=\"40\" stroke=\"black\" fill=\"white\" stroke-width=\"1\" /><text x=\"503.7173828125\" y=\"75.0\" dominant-baseline=\"middle\" text-anchor=\"middle\" font-size=\"18px\" font-family=\"Arial\">X</text></svg>"
      ],
      "text/plain": [
       "<cirq.contrib.svg.svg.SVGCircuit at 0x7f12ed3f05e0>"
      ]
     },
     "execution_count": 4,
     "metadata": {},
     "output_type": "execute_result"
    }
   ],
   "source": [
    "# Decompose the circuit\n",
    "decomposed_circuit = cirq.decompose(circuit)\n",
    "    \n",
    "print(\"RBS Gate decomposed\")\n",
    "SVGCircuit(cirq.Circuit(decomposed_circuit))"
   ]
  },
  {
   "cell_type": "markdown",
   "id": "b53cd3e0-1b3c-4c14-ba35-8b4999a1eb7b",
   "metadata": {},
   "source": [
    "## Functions to convert arrays and matrices to parameters "
   ]
  },
  {
   "cell_type": "code",
   "execution_count": 5,
   "id": "b03bf286-3a4d-4180-9ce9-a8f8ae2dfa19",
   "metadata": {},
   "outputs": [],
   "source": [
    "def convert_array(X):\n",
    "    alphas = tf.zeros(X.shape[:-1] + (X.shape[-1]-1,), dtype=X.dtype)\n",
    "    X_normd = X / (tf.sqrt(tf.reduce_sum(X**2, axis=-1, keepdims=True))+ 1e-10) # 1e-10 is added to prevent divisions by 0\n",
    "    for i in range(X.shape[-1]-1):\n",
    "        if i == 0:\n",
    "            alphas = tf.tensor_scatter_nd_update(alphas, [[i]], [tf.acos(X_normd[..., i])])\n",
    "        elif i < (X.shape[-1]-2):\n",
    "            prod_sin_alphas = tf.reduce_prod(tf.sin(alphas[..., :i]), axis=-1)\n",
    "            updated_value = tf.acos(X_normd[..., i] / (prod_sin_alphas + 1e-10)) # 1e-10 is added to prevent divisions by 0\n",
    "            alphas = tf.tensor_scatter_nd_update(alphas, [[i]], [updated_value])\n",
    "        else:\n",
    "            updated_value = tf.atan2(X_normd[..., -1], X_normd[..., -2])\n",
    "            alphas = tf.tensor_scatter_nd_update(alphas, [[i]], [updated_value])\n",
    "    return alphas\n",
    "\n",
    "def convert_matrix(X):\n",
    "    mag_alphas = convert_array(tf.sqrt(tf.reduce_sum(X**2, axis=1)))\n",
    "    alphas = tf.TensorArray(dtype=X.dtype, size=X.shape[0])\n",
    "    for i in range(X.shape[0]):\n",
    "        alphas = alphas.write(i, convert_array(X[i]))\n",
    "    alphas = alphas.stack()\n",
    "    return mag_alphas, alphas"
   ]
  },
  {
   "cell_type": "markdown",
   "id": "68ce4579-c337-4470-9e08-f3b4fb6f3b76",
   "metadata": {},
   "source": [
    "## Vector loader"
   ]
  },
  {
   "cell_type": "code",
   "execution_count": 6,
   "id": "73255141-908c-4eba-a308-8ec92c5deb04",
   "metadata": {},
   "outputs": [],
   "source": [
    "def vector_loader(circuit, alphas, wires=None, is_x=True, is_conjugate=False):\n",
    "    # Loads the vector to the given wires\n",
    "    # alpha: the parametrized data. Parametrization can be achieved using convert_array function.\n",
    "    # wires: indicates which wires the operation is performed on. The default is [0,1,2,...,len(alpha)].\n",
    "    # is_x:  Whether to apply hadamard gate to the first gate or not. The default is True\n",
    "    # is_conjugate : is True if conjugate is being applied. The default is False\n",
    "    if wires is None:\n",
    "        wires = [i for i in range(len(alphas) + 1)]\n",
    "    if is_x and not is_conjugate:\n",
    "        circuit.append(cirq.X(cirq.LineQubit(wires[0])))\n",
    "    if is_conjugate:\n",
    "        # Make sure to handle the index range correctly\n",
    "        for i in range(len(wires) - 2, -1, -1):\n",
    "            rbs_gate = RBSGate(-alphas[i])\n",
    "            circuit.append(rbs_gate.on(cirq.LineQubit( wires[i]), cirq.LineQubit( wires[i+1])))\n",
    "    else:\n",
    "        for i in range(len(wires) - 1):\n",
    "            rbs_gate = RBSGate(alphas[i])\n",
    "            circuit.append(rbs_gate.on(cirq.LineQubit(wires[i]), cirq.LineQubit(wires[i+1])))\n",
    "    if is_x and is_conjugate:\n",
    "        circuit.append(cirq.X(cirq.LineQubit(wires[0])))"
   ]
  },
  {
   "cell_type": "code",
   "execution_count": 7,
   "id": "f518c4ff-8ac5-4bd6-8d5f-298958054011",
   "metadata": {
    "scrolled": true
   },
   "outputs": [
    {
     "data": {
      "image/svg+xml": [
       "<svg xmlns=\"http://www.w3.org/2000/svg\" width=\"634.4451562500001\" height=\"150.0\"><line x1=\"30.0\" x2=\"604.4451562500001\" y1=\"25.0\" y2=\"25.0\" stroke=\"#1967d2\" stroke-width=\"1\" /><line x1=\"30.0\" x2=\"604.4451562500001\" y1=\"75.0\" y2=\"75.0\" stroke=\"#1967d2\" stroke-width=\"1\" /><line x1=\"30.0\" x2=\"604.4451562500001\" y1=\"125.0\" y2=\"125.0\" stroke=\"#1967d2\" stroke-width=\"1\" /><line x1=\"170.6401171875\" x2=\"170.6401171875\" y1=\"25.0\" y2=\"75.0\" stroke=\"black\" stroke-width=\"3\" /><line x1=\"271.9203515625\" x2=\"271.9203515625\" y1=\"75.0\" y2=\"125.0\" stroke=\"black\" stroke-width=\"3\" /><line x1=\"375.531640625\" x2=\"375.531640625\" y1=\"75.0\" y2=\"125.0\" stroke=\"black\" stroke-width=\"3\" /><line x1=\"481.47398437500004\" x2=\"481.47398437500004\" y1=\"25.0\" y2=\"75.0\" stroke=\"black\" stroke-width=\"3\" /><rect x=\"10.0\" y=\"5.0\" width=\"40\" height=\"40\" stroke=\"black\" fill=\"white\" stroke-width=\"0\" /><text x=\"30.0\" y=\"25.0\" dominant-baseline=\"middle\" text-anchor=\"middle\" font-size=\"14px\" font-family=\"Arial\">0: </text><rect x=\"10.0\" y=\"55.0\" width=\"40\" height=\"40\" stroke=\"black\" fill=\"white\" stroke-width=\"0\" /><text x=\"30.0\" y=\"75.0\" dominant-baseline=\"middle\" text-anchor=\"middle\" font-size=\"14px\" font-family=\"Arial\">1: </text><rect x=\"10.0\" y=\"105.0\" width=\"40\" height=\"40\" stroke=\"black\" fill=\"white\" stroke-width=\"0\" /><text x=\"30.0\" y=\"125.0\" dominant-baseline=\"middle\" text-anchor=\"middle\" font-size=\"14px\" font-family=\"Arial\">2: </text><rect x=\"70.0\" y=\"5.0\" width=\"40\" height=\"40\" stroke=\"black\" fill=\"white\" stroke-width=\"1\" /><text x=\"90.0\" y=\"25.0\" dominant-baseline=\"middle\" text-anchor=\"middle\" font-size=\"18px\" font-family=\"Arial\">X</text><rect x=\"130.0\" y=\"5.0\" width=\"81.280234375\" height=\"40\" stroke=\"black\" fill=\"white\" stroke-width=\"1\" /><text x=\"170.6401171875\" y=\"25.0\" dominant-baseline=\"middle\" text-anchor=\"middle\" font-size=\"14px\" font-family=\"Arial\">[RBS(1.30)]</text><rect x=\"130.0\" y=\"55.0\" width=\"81.280234375\" height=\"40\" stroke=\"black\" fill=\"white\" stroke-width=\"1\" /><text x=\"170.6401171875\" y=\"75.0\" dominant-baseline=\"middle\" text-anchor=\"middle\" font-size=\"14px\" font-family=\"Arial\">[RBS(1.30)]</text><rect x=\"231.280234375\" y=\"55.0\" width=\"81.280234375\" height=\"40\" stroke=\"black\" fill=\"white\" stroke-width=\"1\" /><text x=\"271.9203515625\" y=\"75.0\" dominant-baseline=\"middle\" text-anchor=\"middle\" font-size=\"14px\" font-family=\"Arial\">[RBS(0.98)]</text><rect x=\"231.280234375\" y=\"105.0\" width=\"81.280234375\" height=\"40\" stroke=\"black\" fill=\"white\" stroke-width=\"1\" /><text x=\"271.9203515625\" y=\"125.0\" dominant-baseline=\"middle\" text-anchor=\"middle\" font-size=\"14px\" font-family=\"Arial\">[RBS(0.98)]</text><rect x=\"332.56046875000004\" y=\"55.0\" width=\"85.94234375\" height=\"40\" stroke=\"black\" fill=\"white\" stroke-width=\"1\" /><text x=\"375.531640625\" y=\"75.0\" dominant-baseline=\"middle\" text-anchor=\"middle\" font-size=\"14px\" font-family=\"Arial\">[RBS(-0.98)]</text><rect x=\"332.56046875000004\" y=\"105.0\" width=\"85.94234375\" height=\"40\" stroke=\"black\" fill=\"white\" stroke-width=\"1\" /><text x=\"375.531640625\" y=\"125.0\" dominant-baseline=\"middle\" text-anchor=\"middle\" font-size=\"14px\" font-family=\"Arial\">[RBS(-0.98)]</text><rect x=\"438.50281250000006\" y=\"5.0\" width=\"85.94234375\" height=\"40\" stroke=\"black\" fill=\"white\" stroke-width=\"1\" /><text x=\"481.47398437500004\" y=\"25.0\" dominant-baseline=\"middle\" text-anchor=\"middle\" font-size=\"14px\" font-family=\"Arial\">[RBS(-1.30)]</text><rect x=\"438.50281250000006\" y=\"55.0\" width=\"85.94234375\" height=\"40\" stroke=\"black\" fill=\"white\" stroke-width=\"1\" /><text x=\"481.47398437500004\" y=\"75.0\" dominant-baseline=\"middle\" text-anchor=\"middle\" font-size=\"14px\" font-family=\"Arial\">[RBS(-1.30)]</text><rect x=\"544.4451562500001\" y=\"5.0\" width=\"40\" height=\"40\" stroke=\"black\" fill=\"white\" stroke-width=\"1\" /><text x=\"564.4451562500001\" y=\"25.0\" dominant-baseline=\"middle\" text-anchor=\"middle\" font-size=\"18px\" font-family=\"Arial\">X</text></svg>"
      ],
      "text/plain": [
       "<cirq.contrib.svg.svg.SVGCircuit at 0x7f12ed3fcdc0>"
      ]
     },
     "execution_count": 7,
     "metadata": {},
     "output_type": "execute_result"
    }
   ],
   "source": [
    "#define array and convert to parameters\n",
    "array = tf.constant([1.0, 2.0, 3.0])\n",
    "alphas = convert_array(array)\n",
    "\n",
    "#Circuit to load the array\n",
    "circuit = cirq.Circuit()\n",
    "qubits = [cirq.LineQubit(i) for i in range(4)]\n",
    "vector_loader(circuit, alphas)\n",
    "vector_loader(circuit, alphas, is_conjugate=True)\n",
    "SVGCircuit(circuit)"
   ]
  },
  {
   "cell_type": "code",
   "execution_count": 8,
   "id": "2c85844e-bcc1-41b7-b06c-41b5d61d2f7b",
   "metadata": {},
   "outputs": [
    {
     "data": {
      "text/plain": [
       "array([[ 1.+0.j,  0.+0.j,  0.+0.j,  0.+0.j,  0.+0.j,  0.+0.j, -0.+0.j,\n",
       "         0.+0.j],\n",
       "       [ 0.+0.j,  1.+0.j,  0.+0.j,  0.+0.j,  0.+0.j,  0.+0.j,  0.+0.j,\n",
       "         0.+0.j],\n",
       "       [ 0.+0.j,  0.+0.j,  1.+0.j,  0.+0.j,  0.+0.j,  0.+0.j,  0.+0.j,\n",
       "         0.+0.j],\n",
       "       [ 0.+0.j,  0.+0.j,  0.+0.j,  1.+0.j,  0.+0.j,  0.+0.j,  0.+0.j,\n",
       "         0.+0.j],\n",
       "       [ 0.+0.j,  0.+0.j,  0.+0.j,  0.+0.j,  1.+0.j,  0.+0.j,  0.+0.j,\n",
       "         0.+0.j],\n",
       "       [ 0.+0.j,  0.+0.j,  0.+0.j,  0.+0.j,  0.+0.j,  1.+0.j,  0.+0.j,\n",
       "         0.+0.j],\n",
       "       [-0.+0.j,  0.+0.j,  0.+0.j,  0.+0.j,  0.+0.j,  0.+0.j,  1.+0.j,\n",
       "         0.+0.j],\n",
       "       [ 0.+0.j,  0.+0.j,  0.+0.j,  0.+0.j,  0.+0.j,  0.+0.j,  0.+0.j,\n",
       "         1.+0.j]])"
      ]
     },
     "execution_count": 8,
     "metadata": {},
     "output_type": "execute_result"
    }
   ],
   "source": [
    " np.round(cirq.unitary(circuit), decimals=2) #Load <x1| Load|x1> = I"
   ]
  },
  {
   "cell_type": "markdown",
   "id": "b9506846-b074-40e7-9ce4-3b955bc8ecc0",
   "metadata": {},
   "source": [
    "## Matrix loader"
   ]
  },
  {
   "cell_type": "code",
   "execution_count": 9,
   "id": "c93bc5bd-d042-477e-8259-897fbe889707",
   "metadata": {},
   "outputs": [],
   "source": [
    "def matrix_loader(circuit, mag_alphas, alphas, mag_wires, wires, is_conjugate=False):\n",
    "    if not is_conjugate:\n",
    "        vector_loader(circuit, mag_alphas, wires=mag_wires, is_x=False)\n",
    "        for i in range(len(mag_wires)):\n",
    "            circuit.append(cirq.CNOT(cirq.LineQubit(mag_wires[i]), cirq.LineQubit(wires[0])))\n",
    "            vector_loader(circuit, alphas[i], wires=wires, is_x=False)\n",
    "            if i != len(mag_alphas):\n",
    "                vector_loader(circuit, alphas[i+1], wires=wires, is_x=False, is_conjugate=True)\n",
    "    else:\n",
    "        for i in reversed(range(len(mag_wires))):\n",
    "            if i != len(mag_alphas):\n",
    "                vector_loader(circuit, alphas[i+1], wires=wires, is_x=False, is_conjugate=False)\n",
    "            vector_loader(circuit, alphas[i], wires=wires, is_x=False, is_conjugate=True)\n",
    "            circuit.append(cirq.CNOT(cirq.LineQubit(mag_wires[i]), cirq.LineQubit(wires[0])))\n",
    "        vector_loader(circuit, mag_alphas, wires=mag_wires, is_x=False, is_conjugate=True)"
   ]
  },
  {
   "cell_type": "code",
   "execution_count": 10,
   "id": "67ab0af3-a584-4307-86de-7f42a23037f4",
   "metadata": {},
   "outputs": [
    {
     "data": {
      "image/svg+xml": [
       "<svg xmlns=\"http://www.w3.org/2000/svg\" width=\"1464.84859375\" height=\"300.0\"><line x1=\"35.418671875\" x2=\"1434.84859375\" y1=\"25.0\" y2=\"25.0\" stroke=\"#1967d2\" stroke-width=\"1\" /><line x1=\"35.418671875\" x2=\"1434.84859375\" y1=\"75.0\" y2=\"75.0\" stroke=\"#1967d2\" stroke-width=\"1\" /><line x1=\"35.418671875\" x2=\"1434.84859375\" y1=\"125.0\" y2=\"125.0\" stroke=\"#1967d2\" stroke-width=\"1\" /><line x1=\"35.418671875\" x2=\"1434.84859375\" y1=\"175.0\" y2=\"175.0\" stroke=\"#1967d2\" stroke-width=\"1\" /><line x1=\"35.418671875\" x2=\"1434.84859375\" y1=\"225.0\" y2=\"225.0\" stroke=\"#1967d2\" stroke-width=\"1\" /><line x1=\"35.418671875\" x2=\"1434.84859375\" y1=\"275.0\" y2=\"275.0\" stroke=\"#1967d2\" stroke-width=\"1\" /><line x1=\"121.47746093750001\" x2=\"121.47746093750001\" y1=\"175.0\" y2=\"225.0\" stroke=\"black\" stroke-width=\"3\" /><line x1=\"222.75769531250003\" x2=\"222.75769531250003\" y1=\"225.0\" y2=\"275.0\" stroke=\"black\" stroke-width=\"3\" /><line x1=\"222.75769531250003\" x2=\"222.75769531250003\" y1=\"25.0\" y2=\"175.0\" stroke=\"black\" stroke-width=\"3\" /><line x1=\"324.0379296875\" x2=\"324.0379296875\" y1=\"25.0\" y2=\"75.0\" stroke=\"black\" stroke-width=\"3\" /><line x1=\"425.31816406250005\" x2=\"425.31816406250005\" y1=\"75.0\" y2=\"125.0\" stroke=\"black\" stroke-width=\"3\" /><line x1=\"528.9294531250001\" x2=\"528.9294531250001\" y1=\"75.0\" y2=\"125.0\" stroke=\"black\" stroke-width=\"3\" /><line x1=\"634.8717968750001\" x2=\"634.8717968750001\" y1=\"25.0\" y2=\"75.0\" stroke=\"black\" stroke-width=\"3\" /><line x1=\"717.8429687500001\" x2=\"717.8429687500001\" y1=\"25.0\" y2=\"225.0\" stroke=\"black\" stroke-width=\"3\" /><line x1=\"798.4830859375\" x2=\"798.4830859375\" y1=\"25.0\" y2=\"75.0\" stroke=\"black\" stroke-width=\"3\" /><line x1=\"899.7633203125\" x2=\"899.7633203125\" y1=\"75.0\" y2=\"125.0\" stroke=\"black\" stroke-width=\"3\" /><line x1=\"1003.374609375\" x2=\"1003.374609375\" y1=\"75.0\" y2=\"125.0\" stroke=\"black\" stroke-width=\"3\" /><line x1=\"1109.316953125\" x2=\"1109.316953125\" y1=\"25.0\" y2=\"75.0\" stroke=\"black\" stroke-width=\"3\" /><line x1=\"1192.288125\" x2=\"1192.288125\" y1=\"25.0\" y2=\"275.0\" stroke=\"black\" stroke-width=\"3\" /><line x1=\"1272.9282421875\" x2=\"1272.9282421875\" y1=\"25.0\" y2=\"75.0\" stroke=\"black\" stroke-width=\"3\" /><line x1=\"1374.2084765625\" x2=\"1374.2084765625\" y1=\"75.0\" y2=\"125.0\" stroke=\"black\" stroke-width=\"3\" /><rect x=\"10.0\" y=\"5.0\" width=\"50.83734375\" height=\"40\" stroke=\"black\" fill=\"white\" stroke-width=\"0\" /><text x=\"35.418671875\" y=\"25.0\" dominant-baseline=\"middle\" text-anchor=\"middle\" font-size=\"14px\" font-family=\"Arial\">0: </text><rect x=\"10.0\" y=\"55.0\" width=\"50.83734375\" height=\"40\" stroke=\"black\" fill=\"white\" stroke-width=\"0\" /><text x=\"35.418671875\" y=\"75.0\" dominant-baseline=\"middle\" text-anchor=\"middle\" font-size=\"14px\" font-family=\"Arial\">1: </text><rect x=\"10.0\" y=\"105.0\" width=\"50.83734375\" height=\"40\" stroke=\"black\" fill=\"white\" stroke-width=\"0\" /><text x=\"35.418671875\" y=\"125.0\" dominant-baseline=\"middle\" text-anchor=\"middle\" font-size=\"14px\" font-family=\"Arial\">2: </text><rect x=\"10.0\" y=\"155.0\" width=\"50.83734375\" height=\"40\" stroke=\"black\" fill=\"white\" stroke-width=\"0\" /><text x=\"35.418671875\" y=\"175.0\" dominant-baseline=\"middle\" text-anchor=\"middle\" font-size=\"14px\" font-family=\"Arial\">||X||_0: </text><rect x=\"10.0\" y=\"205.0\" width=\"50.83734375\" height=\"40\" stroke=\"black\" fill=\"white\" stroke-width=\"0\" /><text x=\"35.418671875\" y=\"225.0\" dominant-baseline=\"middle\" text-anchor=\"middle\" font-size=\"14px\" font-family=\"Arial\">||X||_1: </text><rect x=\"10.0\" y=\"255.0\" width=\"50.83734375\" height=\"40\" stroke=\"black\" fill=\"white\" stroke-width=\"0\" /><text x=\"35.418671875\" y=\"275.0\" dominant-baseline=\"middle\" text-anchor=\"middle\" font-size=\"14px\" font-family=\"Arial\">||X||_2: </text><rect x=\"80.83734375\" y=\"155.0\" width=\"81.280234375\" height=\"40\" stroke=\"black\" fill=\"white\" stroke-width=\"1\" /><text x=\"121.47746093750001\" y=\"175.0\" dominant-baseline=\"middle\" text-anchor=\"middle\" font-size=\"14px\" font-family=\"Arial\">[RBS(1.35)]</text><rect x=\"80.83734375\" y=\"205.0\" width=\"81.280234375\" height=\"40\" stroke=\"black\" fill=\"white\" stroke-width=\"1\" /><text x=\"121.47746093750001\" y=\"225.0\" dominant-baseline=\"middle\" text-anchor=\"middle\" font-size=\"14px\" font-family=\"Arial\">[RBS(1.35)]</text><rect x=\"182.11757812500002\" y=\"205.0\" width=\"81.280234375\" height=\"40\" stroke=\"black\" fill=\"white\" stroke-width=\"1\" /><text x=\"222.75769531250003\" y=\"225.0\" dominant-baseline=\"middle\" text-anchor=\"middle\" font-size=\"14px\" font-family=\"Arial\">[RBS(1.01)]</text><rect x=\"182.11757812500002\" y=\"255.0\" width=\"81.280234375\" height=\"40\" stroke=\"black\" fill=\"white\" stroke-width=\"1\" /><text x=\"222.75769531250003\" y=\"275.0\" dominant-baseline=\"middle\" text-anchor=\"middle\" font-size=\"14px\" font-family=\"Arial\">[RBS(1.01)]</text><circle cx=\"222.75769531250003\" cy=\"175.0\" r=\"10.0\" /><rect x=\"182.11757812500002\" y=\"5.0\" width=\"81.280234375\" height=\"40\" stroke=\"black\" fill=\"white\" stroke-width=\"1\" /><text x=\"222.75769531250003\" y=\"25.0\" dominant-baseline=\"middle\" text-anchor=\"middle\" font-size=\"18px\" font-family=\"Arial\">X</text><rect x=\"283.39781250000004\" y=\"5.0\" width=\"81.280234375\" height=\"40\" stroke=\"black\" fill=\"white\" stroke-width=\"1\" /><text x=\"324.0379296875\" y=\"25.0\" dominant-baseline=\"middle\" text-anchor=\"middle\" font-size=\"14px\" font-family=\"Arial\">[RBS(1.30)]</text><rect x=\"283.39781250000004\" y=\"55.0\" width=\"81.280234375\" height=\"40\" stroke=\"black\" fill=\"white\" stroke-width=\"1\" /><text x=\"324.0379296875\" y=\"75.0\" dominant-baseline=\"middle\" text-anchor=\"middle\" font-size=\"14px\" font-family=\"Arial\">[RBS(1.30)]</text><rect x=\"384.67804687500006\" y=\"55.0\" width=\"81.280234375\" height=\"40\" stroke=\"black\" fill=\"white\" stroke-width=\"1\" /><text x=\"425.31816406250005\" y=\"75.0\" dominant-baseline=\"middle\" text-anchor=\"middle\" font-size=\"14px\" font-family=\"Arial\">[RBS(0.98)]</text><rect x=\"384.67804687500006\" y=\"105.0\" width=\"81.280234375\" height=\"40\" stroke=\"black\" fill=\"white\" stroke-width=\"1\" /><text x=\"425.31816406250005\" y=\"125.0\" dominant-baseline=\"middle\" text-anchor=\"middle\" font-size=\"14px\" font-family=\"Arial\">[RBS(0.98)]</text><rect x=\"485.95828125000014\" y=\"55.0\" width=\"85.94234375\" height=\"40\" stroke=\"black\" fill=\"white\" stroke-width=\"1\" /><text x=\"528.9294531250001\" y=\"75.0\" dominant-baseline=\"middle\" text-anchor=\"middle\" font-size=\"14px\" font-family=\"Arial\">[RBS(-0.88)]</text><rect x=\"485.95828125000014\" y=\"105.0\" width=\"85.94234375\" height=\"40\" stroke=\"black\" fill=\"white\" stroke-width=\"1\" /><text x=\"528.9294531250001\" y=\"125.0\" dominant-baseline=\"middle\" text-anchor=\"middle\" font-size=\"14px\" font-family=\"Arial\">[RBS(-0.88)]</text><rect x=\"591.9006250000001\" y=\"5.0\" width=\"85.94234375\" height=\"40\" stroke=\"black\" fill=\"white\" stroke-width=\"1\" /><text x=\"634.8717968750001\" y=\"25.0\" dominant-baseline=\"middle\" text-anchor=\"middle\" font-size=\"14px\" font-family=\"Arial\">[RBS(-1.10)]</text><rect x=\"591.9006250000001\" y=\"55.0\" width=\"85.94234375\" height=\"40\" stroke=\"black\" fill=\"white\" stroke-width=\"1\" /><text x=\"634.8717968750001\" y=\"75.0\" dominant-baseline=\"middle\" text-anchor=\"middle\" font-size=\"14px\" font-family=\"Arial\">[RBS(-1.10)]</text><circle cx=\"717.8429687500001\" cy=\"225.0\" r=\"10.0\" /><rect x=\"697.8429687500001\" y=\"5.0\" width=\"40\" height=\"40\" stroke=\"black\" fill=\"white\" stroke-width=\"1\" /><text x=\"717.8429687500001\" y=\"25.0\" dominant-baseline=\"middle\" text-anchor=\"middle\" font-size=\"18px\" font-family=\"Arial\">X</text><rect x=\"757.8429687500001\" y=\"5.0\" width=\"81.280234375\" height=\"40\" stroke=\"black\" fill=\"white\" stroke-width=\"1\" /><text x=\"798.4830859375\" y=\"25.0\" dominant-baseline=\"middle\" text-anchor=\"middle\" font-size=\"14px\" font-family=\"Arial\">[RBS(1.10)]</text><rect x=\"757.8429687500001\" y=\"55.0\" width=\"81.280234375\" height=\"40\" stroke=\"black\" fill=\"white\" stroke-width=\"1\" /><text x=\"798.4830859375\" y=\"75.0\" dominant-baseline=\"middle\" text-anchor=\"middle\" font-size=\"14px\" font-family=\"Arial\">[RBS(1.10)]</text><rect x=\"859.123203125\" y=\"55.0\" width=\"81.280234375\" height=\"40\" stroke=\"black\" fill=\"white\" stroke-width=\"1\" /><text x=\"899.7633203125\" y=\"75.0\" dominant-baseline=\"middle\" text-anchor=\"middle\" font-size=\"14px\" font-family=\"Arial\">[RBS(0.88)]</text><rect x=\"859.123203125\" y=\"105.0\" width=\"81.280234375\" height=\"40\" stroke=\"black\" fill=\"white\" stroke-width=\"1\" /><text x=\"899.7633203125\" y=\"125.0\" dominant-baseline=\"middle\" text-anchor=\"middle\" font-size=\"14px\" font-family=\"Arial\">[RBS(0.88)]</text><rect x=\"960.4034375\" y=\"55.0\" width=\"85.94234375\" height=\"40\" stroke=\"black\" fill=\"white\" stroke-width=\"1\" /><text x=\"1003.374609375\" y=\"75.0\" dominant-baseline=\"middle\" text-anchor=\"middle\" font-size=\"14px\" font-family=\"Arial\">[RBS(-0.84)]</text><rect x=\"960.4034375\" y=\"105.0\" width=\"85.94234375\" height=\"40\" stroke=\"black\" fill=\"white\" stroke-width=\"1\" /><text x=\"1003.374609375\" y=\"125.0\" dominant-baseline=\"middle\" text-anchor=\"middle\" font-size=\"14px\" font-family=\"Arial\">[RBS(-0.84)]</text><rect x=\"1066.34578125\" y=\"5.0\" width=\"85.94234375\" height=\"40\" stroke=\"black\" fill=\"white\" stroke-width=\"1\" /><text x=\"1109.316953125\" y=\"25.0\" dominant-baseline=\"middle\" text-anchor=\"middle\" font-size=\"14px\" font-family=\"Arial\">[RBS(-1.04)]</text><rect x=\"1066.34578125\" y=\"55.0\" width=\"85.94234375\" height=\"40\" stroke=\"black\" fill=\"white\" stroke-width=\"1\" /><text x=\"1109.316953125\" y=\"75.0\" dominant-baseline=\"middle\" text-anchor=\"middle\" font-size=\"14px\" font-family=\"Arial\">[RBS(-1.04)]</text><circle cx=\"1192.288125\" cy=\"275.0\" r=\"10.0\" /><rect x=\"1172.288125\" y=\"5.0\" width=\"40\" height=\"40\" stroke=\"black\" fill=\"white\" stroke-width=\"1\" /><text x=\"1192.288125\" y=\"25.0\" dominant-baseline=\"middle\" text-anchor=\"middle\" font-size=\"18px\" font-family=\"Arial\">X</text><rect x=\"1232.288125\" y=\"5.0\" width=\"81.280234375\" height=\"40\" stroke=\"black\" fill=\"white\" stroke-width=\"1\" /><text x=\"1272.9282421875\" y=\"25.0\" dominant-baseline=\"middle\" text-anchor=\"middle\" font-size=\"14px\" font-family=\"Arial\">[RBS(1.04)]</text><rect x=\"1232.288125\" y=\"55.0\" width=\"81.280234375\" height=\"40\" stroke=\"black\" fill=\"white\" stroke-width=\"1\" /><text x=\"1272.9282421875\" y=\"75.0\" dominant-baseline=\"middle\" text-anchor=\"middle\" font-size=\"14px\" font-family=\"Arial\">[RBS(1.04)]</text><rect x=\"1333.568359375\" y=\"55.0\" width=\"81.280234375\" height=\"40\" stroke=\"black\" fill=\"white\" stroke-width=\"1\" /><text x=\"1374.2084765625\" y=\"75.0\" dominant-baseline=\"middle\" text-anchor=\"middle\" font-size=\"14px\" font-family=\"Arial\">[RBS(0.84)]</text><rect x=\"1333.568359375\" y=\"105.0\" width=\"81.280234375\" height=\"40\" stroke=\"black\" fill=\"white\" stroke-width=\"1\" /><text x=\"1374.2084765625\" y=\"125.0\" dominant-baseline=\"middle\" text-anchor=\"middle\" font-size=\"14px\" font-family=\"Arial\">[RBS(0.84)]</text></svg>"
      ],
      "text/plain": [
       "<cirq.contrib.svg.svg.SVGCircuit at 0x7f12ed3826d0>"
      ]
     },
     "execution_count": 10,
     "metadata": {},
     "output_type": "execute_result"
    }
   ],
   "source": [
    "#define matrix and convert to parameters\n",
    "matrix = tf.constant([\n",
    "    [1.0, 2.0, 3.0],\n",
    "    [4.0, 5.0, 6.0],\n",
    "    [7.0, 8.0, 9.0]\n",
    "])\n",
    "mag_alphas, alphas = convert_matrix(matrix)\n",
    "\n",
    "#Circuit to load the matrix\n",
    "circuit = cirq.Circuit()\n",
    "nrow, ncolumn = matrix.shape\n",
    "mag_wires = ['||X||_'+str(i) for i in range(nrow)]\n",
    "wires = [str(i) for i in range(ncolumn)]\n",
    "matrix_loader(circuit, mag_alphas , alphas, mag_wires, wires, is_conjugate=False)\n",
    "\n",
    "SVGCircuit(circuit)"
   ]
  },
  {
   "cell_type": "markdown",
   "id": "c26dfc5e-50ac-4903-bed5-439868cb53c5",
   "metadata": {},
   "source": [
    "# Quantum Orthogonal Layers"
   ]
  },
  {
   "cell_type": "markdown",
   "id": "1c594a78-9327-4f27-849e-b6c959acd90e",
   "metadata": {},
   "source": [
    "## Pyramid Circuit \n",
    "*Classical and Quantum Algorithms for Orthogonal Neural Networks* by Iordanis Kerenidis, Jonas Landman and Natansh Mathur"
   ]
  },
  {
   "cell_type": "code",
   "execution_count": 11,
   "id": "f24c4de3-81c3-4a20-a365-16f074c6c7f1",
   "metadata": {},
   "outputs": [],
   "source": [
    "def pyramid_circuit(circuit, parameters, wires=None):\n",
    "    # If wires is None, use all qubits in the circuit\n",
    "    if wires is None:\n",
    "        wires = list(circuit.all_qubits())\n",
    "        length = len(wires)\n",
    "    else:\n",
    "        # If wires is not None, ensure it's a list of qubits\n",
    "        length = len(wires)\n",
    "\n",
    "    k = 0  \n",
    "\n",
    "    for i in range(2 * length - 2):\n",
    "        j = length - abs(length - 1 - i)\n",
    "\n",
    "        if i % 2:\n",
    "            for _ in range(j):\n",
    "                if _ % 2 == 0 and k < len(parameters):\n",
    "                    circuit.append(RBSGate(parameters[k]).on(wires[_], wires[_ + 1]))\n",
    "                    k += 1\n",
    "        else:\n",
    "            for _ in range(j):\n",
    "                if _ % 2 and k < len(parameters):\n",
    "                    circuit.append(RBSGate(parameters[k]).on(wires[_], wires[_ + 1]))\n",
    "                    k += 1"
   ]
  },
  {
   "cell_type": "code",
   "execution_count": 12,
   "id": "262f3f6d-f4e7-4127-a2ce-2462b761e931",
   "metadata": {},
   "outputs": [
    {
     "data": {
      "image/svg+xml": [
       "<svg xmlns=\"http://www.w3.org/2000/svg\" width=\"606.401171875\" height=\"200.0\"><line x1=\"30.0\" x2=\"576.401171875\" y1=\"25.0\" y2=\"25.0\" stroke=\"#1967d2\" stroke-width=\"1\" /><line x1=\"30.0\" x2=\"576.401171875\" y1=\"75.0\" y2=\"75.0\" stroke=\"#1967d2\" stroke-width=\"1\" /><line x1=\"30.0\" x2=\"576.401171875\" y1=\"125.0\" y2=\"125.0\" stroke=\"#1967d2\" stroke-width=\"1\" /><line x1=\"30.0\" x2=\"576.401171875\" y1=\"175.0\" y2=\"175.0\" stroke=\"#1967d2\" stroke-width=\"1\" /><line x1=\"110.64011718750001\" x2=\"110.64011718750001\" y1=\"25.0\" y2=\"75.0\" stroke=\"black\" stroke-width=\"3\" /><line x1=\"211.92035156250003\" x2=\"211.92035156250003\" y1=\"75.0\" y2=\"125.0\" stroke=\"black\" stroke-width=\"3\" /><line x1=\"313.2005859375\" x2=\"313.2005859375\" y1=\"25.0\" y2=\"75.0\" stroke=\"black\" stroke-width=\"3\" /><line x1=\"313.2005859375\" x2=\"313.2005859375\" y1=\"125.0\" y2=\"175.0\" stroke=\"black\" stroke-width=\"3\" /><line x1=\"414.48082031250004\" x2=\"414.48082031250004\" y1=\"75.0\" y2=\"125.0\" stroke=\"black\" stroke-width=\"3\" /><line x1=\"515.7610546875001\" x2=\"515.7610546875001\" y1=\"25.0\" y2=\"75.0\" stroke=\"black\" stroke-width=\"3\" /><rect x=\"10.0\" y=\"5.0\" width=\"40\" height=\"40\" stroke=\"black\" fill=\"white\" stroke-width=\"0\" /><text x=\"30.0\" y=\"25.0\" dominant-baseline=\"middle\" text-anchor=\"middle\" font-size=\"14px\" font-family=\"Arial\">0: </text><rect x=\"10.0\" y=\"55.0\" width=\"40\" height=\"40\" stroke=\"black\" fill=\"white\" stroke-width=\"0\" /><text x=\"30.0\" y=\"75.0\" dominant-baseline=\"middle\" text-anchor=\"middle\" font-size=\"14px\" font-family=\"Arial\">1: </text><rect x=\"10.0\" y=\"105.0\" width=\"40\" height=\"40\" stroke=\"black\" fill=\"white\" stroke-width=\"0\" /><text x=\"30.0\" y=\"125.0\" dominant-baseline=\"middle\" text-anchor=\"middle\" font-size=\"14px\" font-family=\"Arial\">2: </text><rect x=\"10.0\" y=\"155.0\" width=\"40\" height=\"40\" stroke=\"black\" fill=\"white\" stroke-width=\"0\" /><text x=\"30.0\" y=\"175.0\" dominant-baseline=\"middle\" text-anchor=\"middle\" font-size=\"14px\" font-family=\"Arial\">3: </text><rect x=\"70.0\" y=\"5.0\" width=\"81.280234375\" height=\"40\" stroke=\"black\" fill=\"white\" stroke-width=\"1\" /><text x=\"110.64011718750001\" y=\"25.0\" dominant-baseline=\"middle\" text-anchor=\"middle\" font-size=\"14px\" font-family=\"Arial\">[RBS(0.00)]</text><rect x=\"70.0\" y=\"55.0\" width=\"81.280234375\" height=\"40\" stroke=\"black\" fill=\"white\" stroke-width=\"1\" /><text x=\"110.64011718750001\" y=\"75.0\" dominant-baseline=\"middle\" text-anchor=\"middle\" font-size=\"14px\" font-family=\"Arial\">[RBS(0.00)]</text><rect x=\"171.28023437500002\" y=\"55.0\" width=\"81.280234375\" height=\"40\" stroke=\"black\" fill=\"white\" stroke-width=\"1\" /><text x=\"211.92035156250003\" y=\"75.0\" dominant-baseline=\"middle\" text-anchor=\"middle\" font-size=\"14px\" font-family=\"Arial\">[RBS(1.00)]</text><rect x=\"171.28023437500002\" y=\"105.0\" width=\"81.280234375\" height=\"40\" stroke=\"black\" fill=\"white\" stroke-width=\"1\" /><text x=\"211.92035156250003\" y=\"125.0\" dominant-baseline=\"middle\" text-anchor=\"middle\" font-size=\"14px\" font-family=\"Arial\">[RBS(1.00)]</text><rect x=\"272.56046875000004\" y=\"5.0\" width=\"81.280234375\" height=\"40\" stroke=\"black\" fill=\"white\" stroke-width=\"1\" /><text x=\"313.2005859375\" y=\"25.0\" dominant-baseline=\"middle\" text-anchor=\"middle\" font-size=\"14px\" font-family=\"Arial\">[RBS(2.00)]</text><rect x=\"272.56046875000004\" y=\"55.0\" width=\"81.280234375\" height=\"40\" stroke=\"black\" fill=\"white\" stroke-width=\"1\" /><text x=\"313.2005859375\" y=\"75.0\" dominant-baseline=\"middle\" text-anchor=\"middle\" font-size=\"14px\" font-family=\"Arial\">[RBS(2.00)]</text><rect x=\"272.56046875000004\" y=\"105.0\" width=\"81.280234375\" height=\"40\" stroke=\"black\" fill=\"white\" stroke-width=\"1\" /><text x=\"313.2005859375\" y=\"125.0\" dominant-baseline=\"middle\" text-anchor=\"middle\" font-size=\"14px\" font-family=\"Arial\">[RBS(3.00)]</text><rect x=\"272.56046875000004\" y=\"155.0\" width=\"81.280234375\" height=\"40\" stroke=\"black\" fill=\"white\" stroke-width=\"1\" /><text x=\"313.2005859375\" y=\"175.0\" dominant-baseline=\"middle\" text-anchor=\"middle\" font-size=\"14px\" font-family=\"Arial\">[RBS(3.00)]</text><rect x=\"373.84070312500006\" y=\"55.0\" width=\"81.280234375\" height=\"40\" stroke=\"black\" fill=\"white\" stroke-width=\"1\" /><text x=\"414.48082031250004\" y=\"75.0\" dominant-baseline=\"middle\" text-anchor=\"middle\" font-size=\"14px\" font-family=\"Arial\">[RBS(4.00)]</text><rect x=\"373.84070312500006\" y=\"105.0\" width=\"81.280234375\" height=\"40\" stroke=\"black\" fill=\"white\" stroke-width=\"1\" /><text x=\"414.48082031250004\" y=\"125.0\" dominant-baseline=\"middle\" text-anchor=\"middle\" font-size=\"14px\" font-family=\"Arial\">[RBS(4.00)]</text><rect x=\"475.1209375000001\" y=\"5.0\" width=\"81.280234375\" height=\"40\" stroke=\"black\" fill=\"white\" stroke-width=\"1\" /><text x=\"515.7610546875001\" y=\"25.0\" dominant-baseline=\"middle\" text-anchor=\"middle\" font-size=\"14px\" font-family=\"Arial\">[RBS(5.00)]</text><rect x=\"475.1209375000001\" y=\"55.0\" width=\"81.280234375\" height=\"40\" stroke=\"black\" fill=\"white\" stroke-width=\"1\" /><text x=\"515.7610546875001\" y=\"75.0\" dominant-baseline=\"middle\" text-anchor=\"middle\" font-size=\"14px\" font-family=\"Arial\">[RBS(5.00)]</text></svg>"
      ],
      "text/plain": [
       "<cirq.contrib.svg.svg.SVGCircuit at 0x7f12ede79eb0>"
      ]
     },
     "execution_count": 12,
     "metadata": {},
     "output_type": "execute_result"
    }
   ],
   "source": [
    "# Example usage\n",
    "parameters = np.array([x for x in range(6)])  \n",
    "circuit = cirq.Circuit()\n",
    "qubits = [cirq.LineQubit(i) for i in range(4)]\n",
    "# Call the pyramid_circuit function\n",
    "pyramid_circuit(circuit, parameters, wires=qubits)\n",
    "SVGCircuit(circuit)"
   ]
  },
  {
   "cell_type": "markdown",
   "id": "5ec0eeeb-5de4-42b7-9c41-4fc2b354543b",
   "metadata": {},
   "source": [
    "## X Circuit"
   ]
  },
  {
   "cell_type": "code",
   "execution_count": 13,
   "id": "7edf9887-b650-4919-8c4b-15bdd7c83d03",
   "metadata": {},
   "outputs": [],
   "source": [
    "def x_circuit(circuit, parameters, wires=None):\n",
    "    # If wires is None, use all qubits in the circuit\n",
    "    if wires is None:\n",
    "        wires = list(circuit.all_qubits())\n",
    "        length = len(wires)\n",
    "    else:\n",
    "        # If wires is not None, ensure it's a list of qubits\n",
    "        length = len(wires)\n",
    "\n",
    "    k = 0  \n",
    "\n",
    "    for i in range(len(wires) - 1):\n",
    "        j = len(wires) - 2 - i\n",
    "        \n",
    "        if i == j:\n",
    "            circuit.append(RBSGate(parameters[k]).on(wires[j], wires[j + 1]))\n",
    "            k += 1\n",
    "        else:\n",
    "            circuit.append(RBSGate(parameters[k]).on(wires[i], wires[i + 1]))\n",
    "            k += 1\n",
    "            circuit.append(RBSGate(parameters[k]).on(wires[j], wires[j + 1]))\n",
    "            k += 1"
   ]
  },
  {
   "cell_type": "code",
   "execution_count": 14,
   "id": "9e940e03-29a5-472d-b291-e84f6982743f",
   "metadata": {},
   "outputs": [
    {
     "data": {
      "image/svg+xml": [
       "<svg xmlns=\"http://www.w3.org/2000/svg\" width=\"606.401171875\" height=\"300.0\"><line x1=\"30.0\" x2=\"576.401171875\" y1=\"25.0\" y2=\"25.0\" stroke=\"#1967d2\" stroke-width=\"1\" /><line x1=\"30.0\" x2=\"576.401171875\" y1=\"75.0\" y2=\"75.0\" stroke=\"#1967d2\" stroke-width=\"1\" /><line x1=\"30.0\" x2=\"576.401171875\" y1=\"125.0\" y2=\"125.0\" stroke=\"#1967d2\" stroke-width=\"1\" /><line x1=\"30.0\" x2=\"576.401171875\" y1=\"175.0\" y2=\"175.0\" stroke=\"#1967d2\" stroke-width=\"1\" /><line x1=\"30.0\" x2=\"576.401171875\" y1=\"225.0\" y2=\"225.0\" stroke=\"#1967d2\" stroke-width=\"1\" /><line x1=\"30.0\" x2=\"576.401171875\" y1=\"275.0\" y2=\"275.0\" stroke=\"#1967d2\" stroke-width=\"1\" /><line x1=\"110.64011718750001\" x2=\"110.64011718750001\" y1=\"25.0\" y2=\"75.0\" stroke=\"black\" stroke-width=\"3\" /><line x1=\"110.64011718750001\" x2=\"110.64011718750001\" y1=\"225.0\" y2=\"275.0\" stroke=\"black\" stroke-width=\"3\" /><line x1=\"211.92035156250003\" x2=\"211.92035156250003\" y1=\"75.0\" y2=\"125.0\" stroke=\"black\" stroke-width=\"3\" /><line x1=\"211.92035156250003\" x2=\"211.92035156250003\" y1=\"175.0\" y2=\"225.0\" stroke=\"black\" stroke-width=\"3\" /><line x1=\"313.2005859375\" x2=\"313.2005859375\" y1=\"125.0\" y2=\"175.0\" stroke=\"black\" stroke-width=\"3\" /><line x1=\"414.48082031250004\" x2=\"414.48082031250004\" y1=\"175.0\" y2=\"225.0\" stroke=\"black\" stroke-width=\"3\" /><line x1=\"414.48082031250004\" x2=\"414.48082031250004\" y1=\"75.0\" y2=\"125.0\" stroke=\"black\" stroke-width=\"3\" /><line x1=\"515.7610546875001\" x2=\"515.7610546875001\" y1=\"225.0\" y2=\"275.0\" stroke=\"black\" stroke-width=\"3\" /><line x1=\"515.7610546875001\" x2=\"515.7610546875001\" y1=\"25.0\" y2=\"75.0\" stroke=\"black\" stroke-width=\"3\" /><rect x=\"10.0\" y=\"5.0\" width=\"40\" height=\"40\" stroke=\"black\" fill=\"white\" stroke-width=\"0\" /><text x=\"30.0\" y=\"25.0\" dominant-baseline=\"middle\" text-anchor=\"middle\" font-size=\"14px\" font-family=\"Arial\">0: </text><rect x=\"10.0\" y=\"55.0\" width=\"40\" height=\"40\" stroke=\"black\" fill=\"white\" stroke-width=\"0\" /><text x=\"30.0\" y=\"75.0\" dominant-baseline=\"middle\" text-anchor=\"middle\" font-size=\"14px\" font-family=\"Arial\">1: </text><rect x=\"10.0\" y=\"105.0\" width=\"40\" height=\"40\" stroke=\"black\" fill=\"white\" stroke-width=\"0\" /><text x=\"30.0\" y=\"125.0\" dominant-baseline=\"middle\" text-anchor=\"middle\" font-size=\"14px\" font-family=\"Arial\">2: </text><rect x=\"10.0\" y=\"155.0\" width=\"40\" height=\"40\" stroke=\"black\" fill=\"white\" stroke-width=\"0\" /><text x=\"30.0\" y=\"175.0\" dominant-baseline=\"middle\" text-anchor=\"middle\" font-size=\"14px\" font-family=\"Arial\">3: </text><rect x=\"10.0\" y=\"205.0\" width=\"40\" height=\"40\" stroke=\"black\" fill=\"white\" stroke-width=\"0\" /><text x=\"30.0\" y=\"225.0\" dominant-baseline=\"middle\" text-anchor=\"middle\" font-size=\"14px\" font-family=\"Arial\">4: </text><rect x=\"10.0\" y=\"255.0\" width=\"40\" height=\"40\" stroke=\"black\" fill=\"white\" stroke-width=\"0\" /><text x=\"30.0\" y=\"275.0\" dominant-baseline=\"middle\" text-anchor=\"middle\" font-size=\"14px\" font-family=\"Arial\">5: </text><rect x=\"70.0\" y=\"5.0\" width=\"81.280234375\" height=\"40\" stroke=\"black\" fill=\"white\" stroke-width=\"1\" /><text x=\"110.64011718750001\" y=\"25.0\" dominant-baseline=\"middle\" text-anchor=\"middle\" font-size=\"14px\" font-family=\"Arial\">[RBS(0.00)]</text><rect x=\"70.0\" y=\"55.0\" width=\"81.280234375\" height=\"40\" stroke=\"black\" fill=\"white\" stroke-width=\"1\" /><text x=\"110.64011718750001\" y=\"75.0\" dominant-baseline=\"middle\" text-anchor=\"middle\" font-size=\"14px\" font-family=\"Arial\">[RBS(0.00)]</text><rect x=\"70.0\" y=\"205.0\" width=\"81.280234375\" height=\"40\" stroke=\"black\" fill=\"white\" stroke-width=\"1\" /><text x=\"110.64011718750001\" y=\"225.0\" dominant-baseline=\"middle\" text-anchor=\"middle\" font-size=\"14px\" font-family=\"Arial\">[RBS(1.00)]</text><rect x=\"70.0\" y=\"255.0\" width=\"81.280234375\" height=\"40\" stroke=\"black\" fill=\"white\" stroke-width=\"1\" /><text x=\"110.64011718750001\" y=\"275.0\" dominant-baseline=\"middle\" text-anchor=\"middle\" font-size=\"14px\" font-family=\"Arial\">[RBS(1.00)]</text><rect x=\"171.28023437500002\" y=\"55.0\" width=\"81.280234375\" height=\"40\" stroke=\"black\" fill=\"white\" stroke-width=\"1\" /><text x=\"211.92035156250003\" y=\"75.0\" dominant-baseline=\"middle\" text-anchor=\"middle\" font-size=\"14px\" font-family=\"Arial\">[RBS(2.00)]</text><rect x=\"171.28023437500002\" y=\"105.0\" width=\"81.280234375\" height=\"40\" stroke=\"black\" fill=\"white\" stroke-width=\"1\" /><text x=\"211.92035156250003\" y=\"125.0\" dominant-baseline=\"middle\" text-anchor=\"middle\" font-size=\"14px\" font-family=\"Arial\">[RBS(2.00)]</text><rect x=\"171.28023437500002\" y=\"155.0\" width=\"81.280234375\" height=\"40\" stroke=\"black\" fill=\"white\" stroke-width=\"1\" /><text x=\"211.92035156250003\" y=\"175.0\" dominant-baseline=\"middle\" text-anchor=\"middle\" font-size=\"14px\" font-family=\"Arial\">[RBS(3.00)]</text><rect x=\"171.28023437500002\" y=\"205.0\" width=\"81.280234375\" height=\"40\" stroke=\"black\" fill=\"white\" stroke-width=\"1\" /><text x=\"211.92035156250003\" y=\"225.0\" dominant-baseline=\"middle\" text-anchor=\"middle\" font-size=\"14px\" font-family=\"Arial\">[RBS(3.00)]</text><rect x=\"272.56046875000004\" y=\"105.0\" width=\"81.280234375\" height=\"40\" stroke=\"black\" fill=\"white\" stroke-width=\"1\" /><text x=\"313.2005859375\" y=\"125.0\" dominant-baseline=\"middle\" text-anchor=\"middle\" font-size=\"14px\" font-family=\"Arial\">[RBS(4.00)]</text><rect x=\"272.56046875000004\" y=\"155.0\" width=\"81.280234375\" height=\"40\" stroke=\"black\" fill=\"white\" stroke-width=\"1\" /><text x=\"313.2005859375\" y=\"175.0\" dominant-baseline=\"middle\" text-anchor=\"middle\" font-size=\"14px\" font-family=\"Arial\">[RBS(4.00)]</text><rect x=\"373.84070312500006\" y=\"155.0\" width=\"81.280234375\" height=\"40\" stroke=\"black\" fill=\"white\" stroke-width=\"1\" /><text x=\"414.48082031250004\" y=\"175.0\" dominant-baseline=\"middle\" text-anchor=\"middle\" font-size=\"14px\" font-family=\"Arial\">[RBS(5.00)]</text><rect x=\"373.84070312500006\" y=\"205.0\" width=\"81.280234375\" height=\"40\" stroke=\"black\" fill=\"white\" stroke-width=\"1\" /><text x=\"414.48082031250004\" y=\"225.0\" dominant-baseline=\"middle\" text-anchor=\"middle\" font-size=\"14px\" font-family=\"Arial\">[RBS(5.00)]</text><rect x=\"373.84070312500006\" y=\"55.0\" width=\"81.280234375\" height=\"40\" stroke=\"black\" fill=\"white\" stroke-width=\"1\" /><text x=\"414.48082031250004\" y=\"75.0\" dominant-baseline=\"middle\" text-anchor=\"middle\" font-size=\"14px\" font-family=\"Arial\">[RBS(6.00)]</text><rect x=\"373.84070312500006\" y=\"105.0\" width=\"81.280234375\" height=\"40\" stroke=\"black\" fill=\"white\" stroke-width=\"1\" /><text x=\"414.48082031250004\" y=\"125.0\" dominant-baseline=\"middle\" text-anchor=\"middle\" font-size=\"14px\" font-family=\"Arial\">[RBS(6.00)]</text><rect x=\"475.1209375000001\" y=\"205.0\" width=\"81.280234375\" height=\"40\" stroke=\"black\" fill=\"white\" stroke-width=\"1\" /><text x=\"515.7610546875001\" y=\"225.0\" dominant-baseline=\"middle\" text-anchor=\"middle\" font-size=\"14px\" font-family=\"Arial\">[RBS(7.00)]</text><rect x=\"475.1209375000001\" y=\"255.0\" width=\"81.280234375\" height=\"40\" stroke=\"black\" fill=\"white\" stroke-width=\"1\" /><text x=\"515.7610546875001\" y=\"275.0\" dominant-baseline=\"middle\" text-anchor=\"middle\" font-size=\"14px\" font-family=\"Arial\">[RBS(7.00)]</text><rect x=\"475.1209375000001\" y=\"5.0\" width=\"81.280234375\" height=\"40\" stroke=\"black\" fill=\"white\" stroke-width=\"1\" /><text x=\"515.7610546875001\" y=\"25.0\" dominant-baseline=\"middle\" text-anchor=\"middle\" font-size=\"14px\" font-family=\"Arial\">[RBS(8.00)]</text><rect x=\"475.1209375000001\" y=\"55.0\" width=\"81.280234375\" height=\"40\" stroke=\"black\" fill=\"white\" stroke-width=\"1\" /><text x=\"515.7610546875001\" y=\"75.0\" dominant-baseline=\"middle\" text-anchor=\"middle\" font-size=\"14px\" font-family=\"Arial\">[RBS(8.00)]</text></svg>"
      ],
      "text/plain": [
       "<cirq.contrib.svg.svg.SVGCircuit at 0x7f12ed391490>"
      ]
     },
     "execution_count": 14,
     "metadata": {},
     "output_type": "execute_result"
    }
   ],
   "source": [
    "# Example usage\n",
    "parameters = np.array([x for x in range(9)])  # Example vector of angles\n",
    "circuit = cirq.Circuit()\n",
    "qubits = [cirq.LineQubit(i) for i in range(6)]\n",
    "# Call the x_circuit function\n",
    "x_circuit(circuit, parameters, wires=qubits)\n",
    "SVGCircuit(circuit)"
   ]
  },
  {
   "cell_type": "markdown",
   "id": "17595c06-ae6c-4cc0-9f01-14bba649983d",
   "metadata": {},
   "source": [
    "## Butterfly Circuit"
   ]
  },
  {
   "cell_type": "code",
   "execution_count": 15,
   "id": "d69220ec-4b8e-4699-afd9-c46cf0d28f1d",
   "metadata": {},
   "outputs": [],
   "source": [
    "def butterfly_circuit(circuit, parameters, wires=None):\n",
    "    # If wires is None, use all qubits in the circuit\n",
    "    if wires is None:\n",
    "        wires = list(circuit.all_qubits())\n",
    "        length = len(wires)\n",
    "    else:\n",
    "        # If wires is not None, ensure it's a list of qubits\n",
    "        length = len(wires)\n",
    "    if length > 1:\n",
    "        n=length//2\n",
    "        x = 0\n",
    "        for i in range(n):\n",
    "            circuit.append(RBSGate(parameters[x])(wires[i], wires[i+n]))\n",
    "            x += 1\n",
    "        butterfly_circuit(circuit, parameters[x: (len(parameters)//2 + x//2) ], wires = wires[:n])\n",
    "        butterfly_circuit(circuit, parameters[(len(parameters)//2 + x//2):], wires = wires[n:])"
   ]
  },
  {
   "cell_type": "code",
   "execution_count": 16,
   "id": "d750a99b-9937-46a0-bb93-12a536c5fb96",
   "metadata": {
    "scrolled": true
   },
   "outputs": [
    {
     "name": "stdout",
     "output_type": "stream",
     "text": [
      "ERROR! Session/line number was not unique in database. History logging moved to new session 39\n"
     ]
    },
    {
     "data": {
      "image/svg+xml": [
       "<svg xmlns=\"http://www.w3.org/2000/svg\" width=\"736.7477734375001\" height=\"440.0\"><line x1=\"30.0\" x2=\"706.7477734375001\" y1=\"45.0\" y2=\"45.0\" stroke=\"#1967d2\" stroke-width=\"1\" /><line x1=\"30.0\" x2=\"706.7477734375001\" y1=\"95.0\" y2=\"95.0\" stroke=\"#1967d2\" stroke-width=\"1\" /><line x1=\"30.0\" x2=\"706.7477734375001\" y1=\"145.0\" y2=\"145.0\" stroke=\"#1967d2\" stroke-width=\"1\" /><line x1=\"30.0\" x2=\"706.7477734375001\" y1=\"195.0\" y2=\"195.0\" stroke=\"#1967d2\" stroke-width=\"1\" /><line x1=\"30.0\" x2=\"706.7477734375001\" y1=\"245.0\" y2=\"245.0\" stroke=\"#1967d2\" stroke-width=\"1\" /><line x1=\"30.0\" x2=\"706.7477734375001\" y1=\"295.0\" y2=\"295.0\" stroke=\"#1967d2\" stroke-width=\"1\" /><line x1=\"30.0\" x2=\"706.7477734375001\" y1=\"345.0\" y2=\"345.0\" stroke=\"#1967d2\" stroke-width=\"1\" /><line x1=\"30.0\" x2=\"706.7477734375001\" y1=\"395.0\" y2=\"395.0\" stroke=\"#1967d2\" stroke-width=\"1\" /><line x1=\"405.1209375000001\" x2=\"577.6814062500001\" y1=\"5.0\" y2=\"5.0\" stroke=\"black\" stroke-width=\"1\" /><line x1=\"405.1209375000001\" x2=\"577.6814062500001\" y1=\"435.0\" y2=\"435.0\" stroke=\"black\" stroke-width=\"1\" /><line x1=\"60.0\" x2=\"395.1209375000001\" y1=\"5.0\" y2=\"5.0\" stroke=\"black\" stroke-width=\"1\" /><line x1=\"60.0\" x2=\"395.1209375000001\" y1=\"435.0\" y2=\"435.0\" stroke=\"black\" stroke-width=\"1\" /><line x1=\"100.64011718750001\" x2=\"100.64011718750001\" y1=\"45.0\" y2=\"245.0\" stroke=\"black\" stroke-width=\"3\" /><line x1=\"181.92035156250003\" x2=\"181.92035156250003\" y1=\"95.0\" y2=\"295.0\" stroke=\"black\" stroke-width=\"3\" /><line x1=\"263.2005859375\" x2=\"263.2005859375\" y1=\"145.0\" y2=\"345.0\" stroke=\"black\" stroke-width=\"3\" /><line x1=\"344.48082031250004\" x2=\"344.48082031250004\" y1=\"195.0\" y2=\"395.0\" stroke=\"black\" stroke-width=\"3\" /><line x1=\"445.76105468750006\" x2=\"445.76105468750006\" y1=\"45.0\" y2=\"145.0\" stroke=\"black\" stroke-width=\"3\" /><line x1=\"527.0412890625001\" x2=\"527.0412890625001\" y1=\"95.0\" y2=\"195.0\" stroke=\"black\" stroke-width=\"3\" /><line x1=\"445.76105468750006\" x2=\"445.76105468750006\" y1=\"245.0\" y2=\"345.0\" stroke=\"black\" stroke-width=\"3\" /><line x1=\"527.0412890625001\" x2=\"527.0412890625001\" y1=\"295.0\" y2=\"395.0\" stroke=\"black\" stroke-width=\"3\" /><line x1=\"642.2145898437501\" x2=\"642.2145898437501\" y1=\"45.0\" y2=\"95.0\" stroke=\"black\" stroke-width=\"3\" /><line x1=\"642.2145898437501\" x2=\"642.2145898437501\" y1=\"145.0\" y2=\"195.0\" stroke=\"black\" stroke-width=\"3\" /><line x1=\"642.2145898437501\" x2=\"642.2145898437501\" y1=\"245.0\" y2=\"295.0\" stroke=\"black\" stroke-width=\"3\" /><line x1=\"642.2145898437501\" x2=\"642.2145898437501\" y1=\"345.0\" y2=\"395.0\" stroke=\"black\" stroke-width=\"3\" /><line x1=\"405.1209375000001\" x2=\"405.1209375000001\" y1=\"5.0\" y2=\"15.0\" stroke=\"black\" stroke-width=\"3\" /><line x1=\"577.6814062500001\" x2=\"577.6814062500001\" y1=\"5.0\" y2=\"15.0\" stroke=\"black\" stroke-width=\"3\" /><line x1=\"405.1209375000001\" x2=\"405.1209375000001\" y1=\"425.0\" y2=\"435.0\" stroke=\"black\" stroke-width=\"3\" /><line x1=\"577.6814062500001\" x2=\"577.6814062500001\" y1=\"425.0\" y2=\"435.0\" stroke=\"black\" stroke-width=\"3\" /><line x1=\"60.0\" x2=\"60.0\" y1=\"5.0\" y2=\"15.0\" stroke=\"black\" stroke-width=\"3\" /><line x1=\"395.1209375000001\" x2=\"395.1209375000001\" y1=\"5.0\" y2=\"15.0\" stroke=\"black\" stroke-width=\"3\" /><line x1=\"60.0\" x2=\"60.0\" y1=\"425.0\" y2=\"435.0\" stroke=\"black\" stroke-width=\"3\" /><line x1=\"395.1209375000001\" x2=\"395.1209375000001\" y1=\"425.0\" y2=\"435.0\" stroke=\"black\" stroke-width=\"3\" /><rect x=\"10.0\" y=\"25.0\" width=\"40\" height=\"40\" stroke=\"black\" fill=\"white\" stroke-width=\"0\" /><text x=\"30.0\" y=\"45.0\" dominant-baseline=\"middle\" text-anchor=\"middle\" font-size=\"14px\" font-family=\"Arial\">0: </text><rect x=\"10.0\" y=\"75.0\" width=\"40\" height=\"40\" stroke=\"black\" fill=\"white\" stroke-width=\"0\" /><text x=\"30.0\" y=\"95.0\" dominant-baseline=\"middle\" text-anchor=\"middle\" font-size=\"14px\" font-family=\"Arial\">1: </text><rect x=\"10.0\" y=\"125.0\" width=\"40\" height=\"40\" stroke=\"black\" fill=\"white\" stroke-width=\"0\" /><text x=\"30.0\" y=\"145.0\" dominant-baseline=\"middle\" text-anchor=\"middle\" font-size=\"14px\" font-family=\"Arial\">2: </text><rect x=\"10.0\" y=\"175.0\" width=\"40\" height=\"40\" stroke=\"black\" fill=\"white\" stroke-width=\"0\" /><text x=\"30.0\" y=\"195.0\" dominant-baseline=\"middle\" text-anchor=\"middle\" font-size=\"14px\" font-family=\"Arial\">3: </text><rect x=\"10.0\" y=\"225.0\" width=\"40\" height=\"40\" stroke=\"black\" fill=\"white\" stroke-width=\"0\" /><text x=\"30.0\" y=\"245.0\" dominant-baseline=\"middle\" text-anchor=\"middle\" font-size=\"14px\" font-family=\"Arial\">4: </text><rect x=\"10.0\" y=\"275.0\" width=\"40\" height=\"40\" stroke=\"black\" fill=\"white\" stroke-width=\"0\" /><text x=\"30.0\" y=\"295.0\" dominant-baseline=\"middle\" text-anchor=\"middle\" font-size=\"14px\" font-family=\"Arial\">5: </text><rect x=\"10.0\" y=\"325.0\" width=\"40\" height=\"40\" stroke=\"black\" fill=\"white\" stroke-width=\"0\" /><text x=\"30.0\" y=\"345.0\" dominant-baseline=\"middle\" text-anchor=\"middle\" font-size=\"14px\" font-family=\"Arial\">6: </text><rect x=\"10.0\" y=\"375.0\" width=\"40\" height=\"40\" stroke=\"black\" fill=\"white\" stroke-width=\"0\" /><text x=\"30.0\" y=\"395.0\" dominant-baseline=\"middle\" text-anchor=\"middle\" font-size=\"14px\" font-family=\"Arial\">7: </text><rect x=\"60.00000000000001\" y=\"25.0\" width=\"81.280234375\" height=\"40\" stroke=\"black\" fill=\"white\" stroke-width=\"1\" /><text x=\"100.64011718750001\" y=\"45.0\" dominant-baseline=\"middle\" text-anchor=\"middle\" font-size=\"14px\" font-family=\"Arial\">[RBS(0.00)]</text><rect x=\"60.00000000000001\" y=\"225.0\" width=\"81.280234375\" height=\"40\" stroke=\"black\" fill=\"white\" stroke-width=\"1\" /><text x=\"100.64011718750001\" y=\"245.0\" dominant-baseline=\"middle\" text-anchor=\"middle\" font-size=\"14px\" font-family=\"Arial\">[RBS(0.00)]</text><rect x=\"141.28023437500002\" y=\"75.0\" width=\"81.280234375\" height=\"40\" stroke=\"black\" fill=\"white\" stroke-width=\"1\" /><text x=\"181.92035156250003\" y=\"95.0\" dominant-baseline=\"middle\" text-anchor=\"middle\" font-size=\"14px\" font-family=\"Arial\">[RBS(1.00)]</text><rect x=\"141.28023437500002\" y=\"275.0\" width=\"81.280234375\" height=\"40\" stroke=\"black\" fill=\"white\" stroke-width=\"1\" /><text x=\"181.92035156250003\" y=\"295.0\" dominant-baseline=\"middle\" text-anchor=\"middle\" font-size=\"14px\" font-family=\"Arial\">[RBS(1.00)]</text><rect x=\"222.56046875\" y=\"125.0\" width=\"81.280234375\" height=\"40\" stroke=\"black\" fill=\"white\" stroke-width=\"1\" /><text x=\"263.2005859375\" y=\"145.0\" dominant-baseline=\"middle\" text-anchor=\"middle\" font-size=\"14px\" font-family=\"Arial\">[RBS(2.00)]</text><rect x=\"222.56046875\" y=\"325.0\" width=\"81.280234375\" height=\"40\" stroke=\"black\" fill=\"white\" stroke-width=\"1\" /><text x=\"263.2005859375\" y=\"345.0\" dominant-baseline=\"middle\" text-anchor=\"middle\" font-size=\"14px\" font-family=\"Arial\">[RBS(2.00)]</text><rect x=\"303.84070312500006\" y=\"175.0\" width=\"81.280234375\" height=\"40\" stroke=\"black\" fill=\"white\" stroke-width=\"1\" /><text x=\"344.48082031250004\" y=\"195.0\" dominant-baseline=\"middle\" text-anchor=\"middle\" font-size=\"14px\" font-family=\"Arial\">[RBS(3.00)]</text><rect x=\"303.84070312500006\" y=\"375.0\" width=\"81.280234375\" height=\"40\" stroke=\"black\" fill=\"white\" stroke-width=\"1\" /><text x=\"344.48082031250004\" y=\"395.0\" dominant-baseline=\"middle\" text-anchor=\"middle\" font-size=\"14px\" font-family=\"Arial\">[RBS(3.00)]</text><rect x=\"405.1209375000001\" y=\"25.0\" width=\"81.280234375\" height=\"40\" stroke=\"black\" fill=\"white\" stroke-width=\"1\" /><text x=\"445.76105468750006\" y=\"45.0\" dominant-baseline=\"middle\" text-anchor=\"middle\" font-size=\"14px\" font-family=\"Arial\">[RBS(4.00)]</text><rect x=\"405.1209375000001\" y=\"125.0\" width=\"81.280234375\" height=\"40\" stroke=\"black\" fill=\"white\" stroke-width=\"1\" /><text x=\"445.76105468750006\" y=\"145.0\" dominant-baseline=\"middle\" text-anchor=\"middle\" font-size=\"14px\" font-family=\"Arial\">[RBS(4.00)]</text><rect x=\"486.40117187500016\" y=\"75.0\" width=\"81.280234375\" height=\"40\" stroke=\"black\" fill=\"white\" stroke-width=\"1\" /><text x=\"527.0412890625001\" y=\"95.0\" dominant-baseline=\"middle\" text-anchor=\"middle\" font-size=\"14px\" font-family=\"Arial\">[RBS(5.00)]</text><rect x=\"486.40117187500016\" y=\"175.0\" width=\"81.280234375\" height=\"40\" stroke=\"black\" fill=\"white\" stroke-width=\"1\" /><text x=\"527.0412890625001\" y=\"195.0\" dominant-baseline=\"middle\" text-anchor=\"middle\" font-size=\"14px\" font-family=\"Arial\">[RBS(5.00)]</text><rect x=\"405.1209375000001\" y=\"225.0\" width=\"81.280234375\" height=\"40\" stroke=\"black\" fill=\"white\" stroke-width=\"1\" /><text x=\"445.76105468750006\" y=\"245.0\" dominant-baseline=\"middle\" text-anchor=\"middle\" font-size=\"14px\" font-family=\"Arial\">[RBS(8.00)]</text><rect x=\"405.1209375000001\" y=\"325.0\" width=\"81.280234375\" height=\"40\" stroke=\"black\" fill=\"white\" stroke-width=\"1\" /><text x=\"445.76105468750006\" y=\"345.0\" dominant-baseline=\"middle\" text-anchor=\"middle\" font-size=\"14px\" font-family=\"Arial\">[RBS(8.00)]</text><rect x=\"486.40117187500016\" y=\"275.0\" width=\"81.280234375\" height=\"40\" stroke=\"black\" fill=\"white\" stroke-width=\"1\" /><text x=\"527.0412890625001\" y=\"295.0\" dominant-baseline=\"middle\" text-anchor=\"middle\" font-size=\"14px\" font-family=\"Arial\">[RBS(9.00)]</text><rect x=\"486.40117187500016\" y=\"375.0\" width=\"81.280234375\" height=\"40\" stroke=\"black\" fill=\"white\" stroke-width=\"1\" /><text x=\"527.0412890625001\" y=\"395.0\" dominant-baseline=\"middle\" text-anchor=\"middle\" font-size=\"14px\" font-family=\"Arial\">[RBS(9.00)]</text><rect x=\"597.6814062500001\" y=\"25.0\" width=\"89.0663671875\" height=\"40\" stroke=\"black\" fill=\"white\" stroke-width=\"1\" /><text x=\"642.2145898437501\" y=\"45.0\" dominant-baseline=\"middle\" text-anchor=\"middle\" font-size=\"14px\" font-family=\"Arial\">[RBS(6.00)]</text><rect x=\"597.6814062500001\" y=\"75.0\" width=\"89.0663671875\" height=\"40\" stroke=\"black\" fill=\"white\" stroke-width=\"1\" /><text x=\"642.2145898437501\" y=\"95.0\" dominant-baseline=\"middle\" text-anchor=\"middle\" font-size=\"14px\" font-family=\"Arial\">[RBS(6.00)]</text><rect x=\"597.6814062500001\" y=\"125.0\" width=\"89.0663671875\" height=\"40\" stroke=\"black\" fill=\"white\" stroke-width=\"1\" /><text x=\"642.2145898437501\" y=\"145.0\" dominant-baseline=\"middle\" text-anchor=\"middle\" font-size=\"14px\" font-family=\"Arial\">[RBS(7.00)]</text><rect x=\"597.6814062500001\" y=\"175.0\" width=\"89.0663671875\" height=\"40\" stroke=\"black\" fill=\"white\" stroke-width=\"1\" /><text x=\"642.2145898437501\" y=\"195.0\" dominant-baseline=\"middle\" text-anchor=\"middle\" font-size=\"14px\" font-family=\"Arial\">[RBS(7.00)]</text><rect x=\"597.6814062500001\" y=\"225.0\" width=\"89.0663671875\" height=\"40\" stroke=\"black\" fill=\"white\" stroke-width=\"1\" /><text x=\"642.2145898437501\" y=\"245.0\" dominant-baseline=\"middle\" text-anchor=\"middle\" font-size=\"14px\" font-family=\"Arial\">[RBS(10.00)]</text><rect x=\"597.6814062500001\" y=\"275.0\" width=\"89.0663671875\" height=\"40\" stroke=\"black\" fill=\"white\" stroke-width=\"1\" /><text x=\"642.2145898437501\" y=\"295.0\" dominant-baseline=\"middle\" text-anchor=\"middle\" font-size=\"14px\" font-family=\"Arial\">[RBS(10.00)]</text><rect x=\"597.6814062500001\" y=\"325.0\" width=\"89.0663671875\" height=\"40\" stroke=\"black\" fill=\"white\" stroke-width=\"1\" /><text x=\"642.2145898437501\" y=\"345.0\" dominant-baseline=\"middle\" text-anchor=\"middle\" font-size=\"14px\" font-family=\"Arial\">[RBS(11.00)]</text><rect x=\"597.6814062500001\" y=\"375.0\" width=\"89.0663671875\" height=\"40\" stroke=\"black\" fill=\"white\" stroke-width=\"1\" /><text x=\"642.2145898437501\" y=\"395.0\" dominant-baseline=\"middle\" text-anchor=\"middle\" font-size=\"14px\" font-family=\"Arial\">[RBS(11.00)]</text></svg>"
      ],
      "text/plain": [
       "<cirq.contrib.svg.svg.SVGCircuit at 0x7f12ed39dca0>"
      ]
     },
     "execution_count": 16,
     "metadata": {},
     "output_type": "execute_result"
    }
   ],
   "source": [
    "# Example usage\n",
    "parameters = np.array([x for x in range(12)])\n",
    "circuit = cirq.Circuit()\n",
    "qubits = [cirq.LineQubit(i) for i in range(8)]\n",
    "# Call the butterfly_circuit function\n",
    "butterfly_circuit(circuit, parameters, wires=qubits)\n",
    "SVGCircuit(circuit)"
   ]
  },
  {
   "cell_type": "markdown",
   "id": "5fa7dff4-30dd-4cfb-91bb-d926393ac84b",
   "metadata": {},
   "source": [
    "# Quantum Transformer"
   ]
  },
  {
   "cell_type": "markdown",
   "id": "d09462ec-4da9-4b13-9bbe-641649a9a81c",
   "metadata": {},
   "source": [
    "## Orthogonal Patch-wise Neural Network"
   ]
  },
  {
   "cell_type": "code",
   "execution_count": 17,
   "id": "65967e4c-6ad4-435b-961a-e4fc87de4241",
   "metadata": {},
   "outputs": [],
   "source": [
    "def orthogonal_patch_wise_NN_circuit(circuit, patch, parameters, wires=None):\n",
    "    if wires==None:\n",
    "        wires = list(circuit.all_qubits())[:len(patch)]\n",
    "    # Load the vector (patch) onto the circuit\n",
    "    alphas = convert_array(patch)\n",
    "    vector_loader(circuit, alphas, wires=[qubit.x for qubit in wires])\n",
    "\n",
    "    # Apply the butterfly circuit to create the orthogonal layer\n",
    "    butterfly_circuit(circuit, parameters, wires=wires)"
   ]
  },
  {
   "cell_type": "code",
   "execution_count": 18,
   "id": "9daf8a3f-9ac3-45f3-8b02-4911807145e4",
   "metadata": {},
   "outputs": [
    {
     "data": {
      "image/svg+xml": [
       "<svg xmlns=\"http://www.w3.org/2000/svg\" width=\"747.68140625\" height=\"240.0\"><line x1=\"30.0\" x2=\"717.68140625\" y1=\"45.0\" y2=\"45.0\" stroke=\"#1967d2\" stroke-width=\"1\" /><line x1=\"30.0\" x2=\"717.68140625\" y1=\"95.0\" y2=\"95.0\" stroke=\"#1967d2\" stroke-width=\"1\" /><line x1=\"30.0\" x2=\"717.68140625\" y1=\"145.0\" y2=\"145.0\" stroke=\"#1967d2\" stroke-width=\"1\" /><line x1=\"30.0\" x2=\"717.68140625\" y1=\"195.0\" y2=\"195.0\" stroke=\"#1967d2\" stroke-width=\"1\" /><line x1=\"423.84070312500006\" x2=\"596.401171875\" y1=\"5.0\" y2=\"5.0\" stroke=\"black\" stroke-width=\"1\" /><line x1=\"423.84070312500006\" x2=\"596.401171875\" y1=\"235.0\" y2=\"235.0\" stroke=\"black\" stroke-width=\"1\" /><line x1=\"170.6401171875\" x2=\"170.6401171875\" y1=\"45.0\" y2=\"95.0\" stroke=\"black\" stroke-width=\"3\" /><line x1=\"271.9203515625\" x2=\"271.9203515625\" y1=\"95.0\" y2=\"145.0\" stroke=\"black\" stroke-width=\"3\" /><line x1=\"373.2005859375\" x2=\"373.2005859375\" y1=\"145.0\" y2=\"195.0\" stroke=\"black\" stroke-width=\"3\" /><line x1=\"464.48082031250004\" x2=\"464.48082031250004\" y1=\"45.0\" y2=\"145.0\" stroke=\"black\" stroke-width=\"3\" /><line x1=\"545.7610546875001\" x2=\"545.7610546875001\" y1=\"95.0\" y2=\"195.0\" stroke=\"black\" stroke-width=\"3\" /><line x1=\"657.0412890625\" x2=\"657.0412890625\" y1=\"45.0\" y2=\"95.0\" stroke=\"black\" stroke-width=\"3\" /><line x1=\"657.0412890625\" x2=\"657.0412890625\" y1=\"145.0\" y2=\"195.0\" stroke=\"black\" stroke-width=\"3\" /><line x1=\"423.84070312500006\" x2=\"423.84070312500006\" y1=\"5.0\" y2=\"15.0\" stroke=\"black\" stroke-width=\"3\" /><line x1=\"596.401171875\" x2=\"596.401171875\" y1=\"5.0\" y2=\"15.0\" stroke=\"black\" stroke-width=\"3\" /><line x1=\"423.84070312500006\" x2=\"423.84070312500006\" y1=\"225.0\" y2=\"235.0\" stroke=\"black\" stroke-width=\"3\" /><line x1=\"596.401171875\" x2=\"596.401171875\" y1=\"225.0\" y2=\"235.0\" stroke=\"black\" stroke-width=\"3\" /><rect x=\"10.0\" y=\"25.0\" width=\"40\" height=\"40\" stroke=\"black\" fill=\"white\" stroke-width=\"0\" /><text x=\"30.0\" y=\"45.0\" dominant-baseline=\"middle\" text-anchor=\"middle\" font-size=\"14px\" font-family=\"Arial\">0: </text><rect x=\"10.0\" y=\"75.0\" width=\"40\" height=\"40\" stroke=\"black\" fill=\"white\" stroke-width=\"0\" /><text x=\"30.0\" y=\"95.0\" dominant-baseline=\"middle\" text-anchor=\"middle\" font-size=\"14px\" font-family=\"Arial\">1: </text><rect x=\"10.0\" y=\"125.0\" width=\"40\" height=\"40\" stroke=\"black\" fill=\"white\" stroke-width=\"0\" /><text x=\"30.0\" y=\"145.0\" dominant-baseline=\"middle\" text-anchor=\"middle\" font-size=\"14px\" font-family=\"Arial\">2: </text><rect x=\"10.0\" y=\"175.0\" width=\"40\" height=\"40\" stroke=\"black\" fill=\"white\" stroke-width=\"0\" /><text x=\"30.0\" y=\"195.0\" dominant-baseline=\"middle\" text-anchor=\"middle\" font-size=\"14px\" font-family=\"Arial\">3: </text><rect x=\"70.0\" y=\"25.0\" width=\"40\" height=\"40\" stroke=\"black\" fill=\"white\" stroke-width=\"1\" /><text x=\"90.0\" y=\"45.0\" dominant-baseline=\"middle\" text-anchor=\"middle\" font-size=\"18px\" font-family=\"Arial\">X</text><rect x=\"130.0\" y=\"25.0\" width=\"81.280234375\" height=\"40\" stroke=\"black\" fill=\"white\" stroke-width=\"1\" /><text x=\"170.6401171875\" y=\"45.0\" dominant-baseline=\"middle\" text-anchor=\"middle\" font-size=\"14px\" font-family=\"Arial\">[RBS(1.39)]</text><rect x=\"130.0\" y=\"75.0\" width=\"81.280234375\" height=\"40\" stroke=\"black\" fill=\"white\" stroke-width=\"1\" /><text x=\"170.6401171875\" y=\"95.0\" dominant-baseline=\"middle\" text-anchor=\"middle\" font-size=\"14px\" font-family=\"Arial\">[RBS(1.39)]</text><rect x=\"231.280234375\" y=\"75.0\" width=\"81.280234375\" height=\"40\" stroke=\"black\" fill=\"white\" stroke-width=\"1\" /><text x=\"271.9203515625\" y=\"95.0\" dominant-baseline=\"middle\" text-anchor=\"middle\" font-size=\"14px\" font-family=\"Arial\">[RBS(1.19)]</text><rect x=\"231.280234375\" y=\"125.0\" width=\"81.280234375\" height=\"40\" stroke=\"black\" fill=\"white\" stroke-width=\"1\" /><text x=\"271.9203515625\" y=\"145.0\" dominant-baseline=\"middle\" text-anchor=\"middle\" font-size=\"14px\" font-family=\"Arial\">[RBS(1.19)]</text><rect x=\"332.56046875000004\" y=\"125.0\" width=\"81.280234375\" height=\"40\" stroke=\"black\" fill=\"white\" stroke-width=\"1\" /><text x=\"373.2005859375\" y=\"145.0\" dominant-baseline=\"middle\" text-anchor=\"middle\" font-size=\"14px\" font-family=\"Arial\">[RBS(0.93)]</text><rect x=\"332.56046875000004\" y=\"175.0\" width=\"81.280234375\" height=\"40\" stroke=\"black\" fill=\"white\" stroke-width=\"1\" /><text x=\"373.2005859375\" y=\"195.0\" dominant-baseline=\"middle\" text-anchor=\"middle\" font-size=\"14px\" font-family=\"Arial\">[RBS(0.93)]</text><rect x=\"423.84070312500006\" y=\"25.0\" width=\"81.280234375\" height=\"40\" stroke=\"black\" fill=\"white\" stroke-width=\"1\" /><text x=\"464.48082031250004\" y=\"45.0\" dominant-baseline=\"middle\" text-anchor=\"middle\" font-size=\"14px\" font-family=\"Arial\">[RBS(0.58)]</text><rect x=\"423.84070312500006\" y=\"125.0\" width=\"81.280234375\" height=\"40\" stroke=\"black\" fill=\"white\" stroke-width=\"1\" /><text x=\"464.48082031250004\" y=\"145.0\" dominant-baseline=\"middle\" text-anchor=\"middle\" font-size=\"14px\" font-family=\"Arial\">[RBS(0.58)]</text><rect x=\"505.1209375000001\" y=\"75.0\" width=\"81.280234375\" height=\"40\" stroke=\"black\" fill=\"white\" stroke-width=\"1\" /><text x=\"545.7610546875001\" y=\"95.0\" dominant-baseline=\"middle\" text-anchor=\"middle\" font-size=\"14px\" font-family=\"Arial\">[RBS(0.34)]</text><rect x=\"505.1209375000001\" y=\"175.0\" width=\"81.280234375\" height=\"40\" stroke=\"black\" fill=\"white\" stroke-width=\"1\" /><text x=\"545.7610546875001\" y=\"195.0\" dominant-baseline=\"middle\" text-anchor=\"middle\" font-size=\"14px\" font-family=\"Arial\">[RBS(0.34)]</text><rect x=\"616.401171875\" y=\"25.0\" width=\"81.280234375\" height=\"40\" stroke=\"black\" fill=\"white\" stroke-width=\"1\" /><text x=\"657.0412890625\" y=\"45.0\" dominant-baseline=\"middle\" text-anchor=\"middle\" font-size=\"14px\" font-family=\"Arial\">[RBS(0.54)]</text><rect x=\"616.401171875\" y=\"75.0\" width=\"81.280234375\" height=\"40\" stroke=\"black\" fill=\"white\" stroke-width=\"1\" /><text x=\"657.0412890625\" y=\"95.0\" dominant-baseline=\"middle\" text-anchor=\"middle\" font-size=\"14px\" font-family=\"Arial\">[RBS(0.54)]</text><rect x=\"616.401171875\" y=\"125.0\" width=\"81.280234375\" height=\"40\" stroke=\"black\" fill=\"white\" stroke-width=\"1\" /><text x=\"657.0412890625\" y=\"145.0\" dominant-baseline=\"middle\" text-anchor=\"middle\" font-size=\"14px\" font-family=\"Arial\">[RBS(0.83)]</text><rect x=\"616.401171875\" y=\"175.0\" width=\"81.280234375\" height=\"40\" stroke=\"black\" fill=\"white\" stroke-width=\"1\" /><text x=\"657.0412890625\" y=\"195.0\" dominant-baseline=\"middle\" text-anchor=\"middle\" font-size=\"14px\" font-family=\"Arial\">[RBS(0.83)]</text></svg>"
      ],
      "text/plain": [
       "<cirq.contrib.svg.svg.SVGCircuit at 0x7f12ed3b0ca0>"
      ]
     },
     "execution_count": 18,
     "metadata": {},
     "output_type": "execute_result"
    }
   ],
   "source": [
    "# Example 2x2 patch\n",
    "patch = tf.constant([[1, 2],\n",
    "                     [3, 4]], dtype=tf.float32) \n",
    "\n",
    "# Flatten the patch\n",
    "flat_patch = tf.reshape(patch, [-1]) \n",
    "\n",
    "parameters = tf.constant(np.random.rand(4), dtype=tf.float32)\n",
    "\n",
    "# Create the quantum circuit using the orthogonal_patch_wise_NN function\n",
    "circuit = cirq.Circuit()\n",
    "Qubits = [cirq.LineQubit(i) for i in range(4)]\n",
    "orthogonal_patch_wise_NN_circuit(circuit, flat_patch, parameters, wires=Qubits)\n",
    "SVGCircuit(circuit)"
   ]
  },
  {
   "cell_type": "markdown",
   "id": "cb872be0-1086-42fc-8853-efd9b666c84b",
   "metadata": {},
   "source": [
    "## Quantum Orthogonal Transformer"
   ]
  },
  {
   "cell_type": "code",
   "execution_count": 19,
   "id": "35d99a96-44f8-404c-a623-fcdc9253127f",
   "metadata": {},
   "outputs": [],
   "source": [
    "def build_attention_element_circuit(alpha_j, alpha_i, orthogonal_layer_parameters):\n",
    "    #define circuit\n",
    "    circuit = cirq.Circuit()\n",
    "    Qubits = [cirq.LineQubit(i) for i in range(len(alpha_j))]\n",
    "\n",
    "    # Load|xj> - W - Load<xi|\n",
    "    vector_loader(circuit, alpha_j)\n",
    "    butterfly_circuit(circuit, orthogonal_layer_parameters)\n",
    "    vector_loader(circuit, alpha_i, is_conjugate=True)\n",
    "    return circuit"
   ]
  },
  {
   "cell_type": "code",
   "execution_count": 20,
   "id": "be42d2cf-07e0-497c-855b-e074472424d7",
   "metadata": {},
   "outputs": [
    {
     "data": {
      "image/svg+xml": [
       "<svg xmlns=\"http://www.w3.org/2000/svg\" width=\"1206.7886718749999\" height=\"240.0\"><line x1=\"30.0\" x2=\"1176.7886718749999\" y1=\"45.0\" y2=\"45.0\" stroke=\"#1967d2\" stroke-width=\"1\" /><line x1=\"30.0\" x2=\"1176.7886718749999\" y1=\"95.0\" y2=\"95.0\" stroke=\"#1967d2\" stroke-width=\"1\" /><line x1=\"30.0\" x2=\"1176.7886718749999\" y1=\"145.0\" y2=\"145.0\" stroke=\"#1967d2\" stroke-width=\"1\" /><line x1=\"30.0\" x2=\"1176.7886718749999\" y1=\"195.0\" y2=\"195.0\" stroke=\"#1967d2\" stroke-width=\"1\" /><line x1=\"606.401171875\" x2=\"778.961640625\" y1=\"5.0\" y2=\"5.0\" stroke=\"black\" stroke-width=\"1\" /><line x1=\"606.401171875\" x2=\"778.961640625\" y1=\"235.0\" y2=\"235.0\" stroke=\"black\" stroke-width=\"1\" /><line x1=\"423.84070312500006\" x2=\"596.401171875\" y1=\"5.0\" y2=\"5.0\" stroke=\"black\" stroke-width=\"1\" /><line x1=\"423.84070312500006\" x2=\"596.401171875\" y1=\"235.0\" y2=\"235.0\" stroke=\"black\" stroke-width=\"1\" /><line x1=\"170.6401171875\" x2=\"170.6401171875\" y1=\"45.0\" y2=\"95.0\" stroke=\"black\" stroke-width=\"3\" /><line x1=\"271.9203515625\" x2=\"271.9203515625\" y1=\"95.0\" y2=\"145.0\" stroke=\"black\" stroke-width=\"3\" /><line x1=\"373.2005859375\" x2=\"373.2005859375\" y1=\"145.0\" y2=\"195.0\" stroke=\"black\" stroke-width=\"3\" /><line x1=\"464.48082031250004\" x2=\"464.48082031250004\" y1=\"95.0\" y2=\"195.0\" stroke=\"black\" stroke-width=\"3\" /><line x1=\"545.7610546875001\" x2=\"545.7610546875001\" y1=\"45.0\" y2=\"145.0\" stroke=\"black\" stroke-width=\"3\" /><line x1=\"647.0412890625\" x2=\"647.0412890625\" y1=\"95.0\" y2=\"145.0\" stroke=\"black\" stroke-width=\"3\" /><line x1=\"728.3215234375\" x2=\"728.3215234375\" y1=\"45.0\" y2=\"195.0\" stroke=\"black\" stroke-width=\"3\" /><line x1=\"841.9328125\" x2=\"841.9328125\" y1=\"145.0\" y2=\"195.0\" stroke=\"black\" stroke-width=\"3\" /><line x1=\"947.8751562499999\" x2=\"947.8751562499999\" y1=\"95.0\" y2=\"145.0\" stroke=\"black\" stroke-width=\"3\" /><line x1=\"1053.8174999999999\" x2=\"1053.8174999999999\" y1=\"45.0\" y2=\"95.0\" stroke=\"black\" stroke-width=\"3\" /><line x1=\"606.401171875\" x2=\"606.401171875\" y1=\"5.0\" y2=\"15.0\" stroke=\"black\" stroke-width=\"3\" /><line x1=\"778.961640625\" x2=\"778.961640625\" y1=\"5.0\" y2=\"15.0\" stroke=\"black\" stroke-width=\"3\" /><line x1=\"606.401171875\" x2=\"606.401171875\" y1=\"225.0\" y2=\"235.0\" stroke=\"black\" stroke-width=\"3\" /><line x1=\"778.961640625\" x2=\"778.961640625\" y1=\"225.0\" y2=\"235.0\" stroke=\"black\" stroke-width=\"3\" /><line x1=\"423.84070312500006\" x2=\"423.84070312500006\" y1=\"5.0\" y2=\"15.0\" stroke=\"black\" stroke-width=\"3\" /><line x1=\"596.401171875\" x2=\"596.401171875\" y1=\"5.0\" y2=\"15.0\" stroke=\"black\" stroke-width=\"3\" /><line x1=\"423.84070312500006\" x2=\"423.84070312500006\" y1=\"225.0\" y2=\"235.0\" stroke=\"black\" stroke-width=\"3\" /><line x1=\"596.401171875\" x2=\"596.401171875\" y1=\"225.0\" y2=\"235.0\" stroke=\"black\" stroke-width=\"3\" /><rect x=\"10.0\" y=\"25.0\" width=\"40\" height=\"40\" stroke=\"black\" fill=\"white\" stroke-width=\"0\" /><text x=\"30.0\" y=\"45.0\" dominant-baseline=\"middle\" text-anchor=\"middle\" font-size=\"14px\" font-family=\"Arial\">0: </text><rect x=\"10.0\" y=\"75.0\" width=\"40\" height=\"40\" stroke=\"black\" fill=\"white\" stroke-width=\"0\" /><text x=\"30.0\" y=\"95.0\" dominant-baseline=\"middle\" text-anchor=\"middle\" font-size=\"14px\" font-family=\"Arial\">1: </text><rect x=\"10.0\" y=\"125.0\" width=\"40\" height=\"40\" stroke=\"black\" fill=\"white\" stroke-width=\"0\" /><text x=\"30.0\" y=\"145.0\" dominant-baseline=\"middle\" text-anchor=\"middle\" font-size=\"14px\" font-family=\"Arial\">2: </text><rect x=\"10.0\" y=\"175.0\" width=\"40\" height=\"40\" stroke=\"black\" fill=\"white\" stroke-width=\"0\" /><text x=\"30.0\" y=\"195.0\" dominant-baseline=\"middle\" text-anchor=\"middle\" font-size=\"14px\" font-family=\"Arial\">3: </text><rect x=\"70.0\" y=\"25.0\" width=\"40\" height=\"40\" stroke=\"black\" fill=\"white\" stroke-width=\"1\" /><text x=\"90.0\" y=\"45.0\" dominant-baseline=\"middle\" text-anchor=\"middle\" font-size=\"18px\" font-family=\"Arial\">X</text><rect x=\"130.0\" y=\"25.0\" width=\"81.280234375\" height=\"40\" stroke=\"black\" fill=\"white\" stroke-width=\"1\" /><text x=\"170.6401171875\" y=\"45.0\" dominant-baseline=\"middle\" text-anchor=\"middle\" font-size=\"14px\" font-family=\"Arial\">[RBS(0.00)]</text><rect x=\"130.0\" y=\"75.0\" width=\"81.280234375\" height=\"40\" stroke=\"black\" fill=\"white\" stroke-width=\"1\" /><text x=\"170.6401171875\" y=\"95.0\" dominant-baseline=\"middle\" text-anchor=\"middle\" font-size=\"14px\" font-family=\"Arial\">[RBS(0.00)]</text><rect x=\"231.280234375\" y=\"75.0\" width=\"81.280234375\" height=\"40\" stroke=\"black\" fill=\"white\" stroke-width=\"1\" /><text x=\"271.9203515625\" y=\"95.0\" dominant-baseline=\"middle\" text-anchor=\"middle\" font-size=\"14px\" font-family=\"Arial\">[RBS(1.00)]</text><rect x=\"231.280234375\" y=\"125.0\" width=\"81.280234375\" height=\"40\" stroke=\"black\" fill=\"white\" stroke-width=\"1\" /><text x=\"271.9203515625\" y=\"145.0\" dominant-baseline=\"middle\" text-anchor=\"middle\" font-size=\"14px\" font-family=\"Arial\">[RBS(1.00)]</text><rect x=\"332.56046875000004\" y=\"125.0\" width=\"81.280234375\" height=\"40\" stroke=\"black\" fill=\"white\" stroke-width=\"1\" /><text x=\"373.2005859375\" y=\"145.0\" dominant-baseline=\"middle\" text-anchor=\"middle\" font-size=\"14px\" font-family=\"Arial\">[RBS(2.00)]</text><rect x=\"332.56046875000004\" y=\"175.0\" width=\"81.280234375\" height=\"40\" stroke=\"black\" fill=\"white\" stroke-width=\"1\" /><text x=\"373.2005859375\" y=\"195.0\" dominant-baseline=\"middle\" text-anchor=\"middle\" font-size=\"14px\" font-family=\"Arial\">[RBS(2.00)]</text><rect x=\"423.84070312500006\" y=\"75.0\" width=\"81.280234375\" height=\"40\" stroke=\"black\" fill=\"white\" stroke-width=\"1\" /><text x=\"464.48082031250004\" y=\"95.0\" dominant-baseline=\"middle\" text-anchor=\"middle\" font-size=\"14px\" font-family=\"Arial\">[RBS(0.00)]</text><rect x=\"423.84070312500006\" y=\"175.0\" width=\"81.280234375\" height=\"40\" stroke=\"black\" fill=\"white\" stroke-width=\"1\" /><text x=\"464.48082031250004\" y=\"195.0\" dominant-baseline=\"middle\" text-anchor=\"middle\" font-size=\"14px\" font-family=\"Arial\">[RBS(0.00)]</text><rect x=\"505.1209375000001\" y=\"125.0\" width=\"81.280234375\" height=\"40\" stroke=\"black\" fill=\"white\" stroke-width=\"1\" /><text x=\"545.7610546875001\" y=\"145.0\" dominant-baseline=\"middle\" text-anchor=\"middle\" font-size=\"14px\" font-family=\"Arial\">[RBS(1.00)]</text><rect x=\"505.1209375000001\" y=\"25.0\" width=\"81.280234375\" height=\"40\" stroke=\"black\" fill=\"white\" stroke-width=\"1\" /><text x=\"545.7610546875001\" y=\"45.0\" dominant-baseline=\"middle\" text-anchor=\"middle\" font-size=\"14px\" font-family=\"Arial\">[RBS(1.00)]</text><rect x=\"606.401171875\" y=\"75.0\" width=\"81.280234375\" height=\"40\" stroke=\"black\" fill=\"white\" stroke-width=\"1\" /><text x=\"647.0412890625\" y=\"95.0\" dominant-baseline=\"middle\" text-anchor=\"middle\" font-size=\"14px\" font-family=\"Arial\">[RBS(2.00)]</text><rect x=\"606.401171875\" y=\"125.0\" width=\"81.280234375\" height=\"40\" stroke=\"black\" fill=\"white\" stroke-width=\"1\" /><text x=\"647.0412890625\" y=\"145.0\" dominant-baseline=\"middle\" text-anchor=\"middle\" font-size=\"14px\" font-family=\"Arial\">[RBS(2.00)]</text><rect x=\"687.68140625\" y=\"175.0\" width=\"81.280234375\" height=\"40\" stroke=\"black\" fill=\"white\" stroke-width=\"1\" /><text x=\"728.3215234375\" y=\"195.0\" dominant-baseline=\"middle\" text-anchor=\"middle\" font-size=\"14px\" font-family=\"Arial\">[RBS(3.00)]</text><rect x=\"687.68140625\" y=\"25.0\" width=\"81.280234375\" height=\"40\" stroke=\"black\" fill=\"white\" stroke-width=\"1\" /><text x=\"728.3215234375\" y=\"45.0\" dominant-baseline=\"middle\" text-anchor=\"middle\" font-size=\"14px\" font-family=\"Arial\">[RBS(3.00)]</text><rect x=\"798.961640625\" y=\"125.0\" width=\"85.94234375\" height=\"40\" stroke=\"black\" fill=\"white\" stroke-width=\"1\" /><text x=\"841.9328125\" y=\"145.0\" dominant-baseline=\"middle\" text-anchor=\"middle\" font-size=\"14px\" font-family=\"Arial\">[RBS(-5.00)]</text><rect x=\"798.961640625\" y=\"175.0\" width=\"85.94234375\" height=\"40\" stroke=\"black\" fill=\"white\" stroke-width=\"1\" /><text x=\"841.9328125\" y=\"195.0\" dominant-baseline=\"middle\" text-anchor=\"middle\" font-size=\"14px\" font-family=\"Arial\">[RBS(-5.00)]</text><rect x=\"904.9039843749999\" y=\"75.0\" width=\"85.94234375\" height=\"40\" stroke=\"black\" fill=\"white\" stroke-width=\"1\" /><text x=\"947.8751562499999\" y=\"95.0\" dominant-baseline=\"middle\" text-anchor=\"middle\" font-size=\"14px\" font-family=\"Arial\">[RBS(-4.00)]</text><rect x=\"904.9039843749999\" y=\"125.0\" width=\"85.94234375\" height=\"40\" stroke=\"black\" fill=\"white\" stroke-width=\"1\" /><text x=\"947.8751562499999\" y=\"145.0\" dominant-baseline=\"middle\" text-anchor=\"middle\" font-size=\"14px\" font-family=\"Arial\">[RBS(-4.00)]</text><rect x=\"1010.8463281249999\" y=\"25.0\" width=\"85.94234375\" height=\"40\" stroke=\"black\" fill=\"white\" stroke-width=\"1\" /><text x=\"1053.8174999999999\" y=\"45.0\" dominant-baseline=\"middle\" text-anchor=\"middle\" font-size=\"14px\" font-family=\"Arial\">[RBS(-3.00)]</text><rect x=\"1010.8463281249999\" y=\"75.0\" width=\"85.94234375\" height=\"40\" stroke=\"black\" fill=\"white\" stroke-width=\"1\" /><text x=\"1053.8174999999999\" y=\"95.0\" dominant-baseline=\"middle\" text-anchor=\"middle\" font-size=\"14px\" font-family=\"Arial\">[RBS(-3.00)]</text><rect x=\"1116.7886718749999\" y=\"25.0\" width=\"40\" height=\"40\" stroke=\"black\" fill=\"white\" stroke-width=\"1\" /><text x=\"1136.7886718749999\" y=\"45.0\" dominant-baseline=\"middle\" text-anchor=\"middle\" font-size=\"18px\" font-family=\"Arial\">X</text></svg>"
      ],
      "text/plain": [
       "<cirq.contrib.svg.svg.SVGCircuit at 0x7f12ed3b0b20>"
      ]
     },
     "execution_count": 20,
     "metadata": {},
     "output_type": "execute_result"
    }
   ],
   "source": [
    "alpha_i_symbols = [i for i in range(3)]\n",
    "alpha_j_symbols = [j for j in range(3,6)]\n",
    "parameter_symbols = [k for k in range(4)]\n",
    "\n",
    "SVGCircuit(build_attention_element_circuit(alpha_i_symbols, alpha_j_symbols, parameter_symbols))"
   ]
  },
  {
   "cell_type": "markdown",
   "id": "045ada78-4da6-48a3-9751-43b92e1550b0",
   "metadata": {},
   "source": [
    "##  Compound Transformer"
   ]
  },
  {
   "cell_type": "code",
   "execution_count": 21,
   "id": "3f345857-7b4c-4dc9-ba62-c2512d83c83f",
   "metadata": {},
   "outputs": [
    {
     "data": {
      "image/svg+xml": [
       "<svg xmlns=\"http://www.w3.org/2000/svg\" width=\"2132.8371875\" height=\"340.0\"><line x1=\"30.0\" x2=\"2102.8371875\" y1=\"45.0\" y2=\"45.0\" stroke=\"#1967d2\" stroke-width=\"1\" /><line x1=\"30.0\" x2=\"2102.8371875\" y1=\"95.0\" y2=\"95.0\" stroke=\"#1967d2\" stroke-width=\"1\" /><line x1=\"30.0\" x2=\"2102.8371875\" y1=\"145.0\" y2=\"145.0\" stroke=\"#1967d2\" stroke-width=\"1\" /><line x1=\"30.0\" x2=\"2102.8371875\" y1=\"195.0\" y2=\"195.0\" stroke=\"#1967d2\" stroke-width=\"1\" /><line x1=\"30.0\" x2=\"2102.8371875\" y1=\"245.0\" y2=\"245.0\" stroke=\"#1967d2\" stroke-width=\"1\" /><line x1=\"30.0\" x2=\"2102.8371875\" y1=\"295.0\" y2=\"295.0\" stroke=\"#1967d2\" stroke-width=\"1\" /><line x1=\"161.28023437500002\" x2=\"292.56046875000004\" y1=\"5.0\" y2=\"5.0\" stroke=\"black\" stroke-width=\"1\" /><line x1=\"161.28023437500002\" x2=\"292.56046875000004\" y1=\"335.0\" y2=\"335.0\" stroke=\"black\" stroke-width=\"1\" /><line x1=\"110.64011718750001\" x2=\"110.64011718750001\" y1=\"45.0\" y2=\"95.0\" stroke=\"black\" stroke-width=\"3\" /><line x1=\"201.92035156250003\" x2=\"201.92035156250003\" y1=\"95.0\" y2=\"145.0\" stroke=\"black\" stroke-width=\"3\" /><line x1=\"262.56046875000004\" x2=\"262.56046875000004\" y1=\"45.0\" y2=\"195.0\" stroke=\"black\" stroke-width=\"3\" /><line x1=\"353.2005859375\" x2=\"353.2005859375\" y1=\"195.0\" y2=\"245.0\" stroke=\"black\" stroke-width=\"3\" /><line x1=\"454.48082031250004\" x2=\"454.48082031250004\" y1=\"245.0\" y2=\"295.0\" stroke=\"black\" stroke-width=\"3\" /><line x1=\"558.0921093750001\" x2=\"558.0921093750001\" y1=\"245.0\" y2=\"295.0\" stroke=\"black\" stroke-width=\"3\" /><line x1=\"664.034453125\" x2=\"664.034453125\" y1=\"195.0\" y2=\"245.0\" stroke=\"black\" stroke-width=\"3\" /><line x1=\"747.005625\" x2=\"747.005625\" y1=\"95.0\" y2=\"195.0\" stroke=\"black\" stroke-width=\"3\" /><line x1=\"827.6457421875\" x2=\"827.6457421875\" y1=\"195.0\" y2=\"245.0\" stroke=\"black\" stroke-width=\"3\" /><line x1=\"827.6457421875\" x2=\"827.6457421875\" y1=\"45.0\" y2=\"95.0\" stroke=\"black\" stroke-width=\"3\" /><line x1=\"928.9259765625\" x2=\"928.9259765625\" y1=\"245.0\" y2=\"295.0\" stroke=\"black\" stroke-width=\"3\" /><line x1=\"1032.537265625\" x2=\"1032.537265625\" y1=\"245.0\" y2=\"295.0\" stroke=\"black\" stroke-width=\"3\" /><line x1=\"1138.4796093749999\" x2=\"1138.4796093749999\" y1=\"195.0\" y2=\"245.0\" stroke=\"black\" stroke-width=\"3\" /><line x1=\"1221.4507812499999\" x2=\"1221.4507812499999\" y1=\"145.0\" y2=\"195.0\" stroke=\"black\" stroke-width=\"3\" /><line x1=\"1302.0908984374998\" x2=\"1302.0908984374998\" y1=\"195.0\" y2=\"245.0\" stroke=\"black\" stroke-width=\"3\" /><line x1=\"1302.0908984374998\" x2=\"1302.0908984374998\" y1=\"95.0\" y2=\"145.0\" stroke=\"black\" stroke-width=\"3\" /><line x1=\"1403.3711328124998\" x2=\"1403.3711328124998\" y1=\"245.0\" y2=\"295.0\" stroke=\"black\" stroke-width=\"3\" /><line x1=\"1403.3711328124998\" x2=\"1403.3711328124998\" y1=\"45.0\" y2=\"95.0\" stroke=\"black\" stroke-width=\"3\" /><line x1=\"1403.3711328124998\" x2=\"1403.3711328124998\" y1=\"145.0\" y2=\"195.0\" stroke=\"black\" stroke-width=\"3\" /><line x1=\"1504.6513671874998\" x2=\"1504.6513671874998\" y1=\"95.0\" y2=\"145.0\" stroke=\"black\" stroke-width=\"3\" /><line x1=\"1504.6513671874998\" x2=\"1504.6513671874998\" y1=\"195.0\" y2=\"245.0\" stroke=\"black\" stroke-width=\"3\" /><line x1=\"1605.9316015624997\" x2=\"1605.9316015624997\" y1=\"45.0\" y2=\"95.0\" stroke=\"black\" stroke-width=\"3\" /><line x1=\"1605.9316015624997\" x2=\"1605.9316015624997\" y1=\"145.0\" y2=\"195.0\" stroke=\"black\" stroke-width=\"3\" /><line x1=\"1605.9316015624997\" x2=\"1605.9316015624997\" y1=\"245.0\" y2=\"295.0\" stroke=\"black\" stroke-width=\"3\" /><line x1=\"1711.1049023437497\" x2=\"1711.1049023437497\" y1=\"95.0\" y2=\"145.0\" stroke=\"black\" stroke-width=\"3\" /><line x1=\"1711.1049023437497\" x2=\"1711.1049023437497\" y1=\"195.0\" y2=\"245.0\" stroke=\"black\" stroke-width=\"3\" /><line x1=\"1820.1712695312497\" x2=\"1820.1712695312497\" y1=\"45.0\" y2=\"95.0\" stroke=\"black\" stroke-width=\"3\" /><line x1=\"1820.1712695312497\" x2=\"1820.1712695312497\" y1=\"145.0\" y2=\"195.0\" stroke=\"black\" stroke-width=\"3\" /><line x1=\"1929.2376367187496\" x2=\"1929.2376367187496\" y1=\"95.0\" y2=\"145.0\" stroke=\"black\" stroke-width=\"3\" /><line x1=\"2038.3040039062496\" x2=\"2038.3040039062496\" y1=\"45.0\" y2=\"95.0\" stroke=\"black\" stroke-width=\"3\" /><line x1=\"161.28023437500002\" x2=\"161.28023437500002\" y1=\"5.0\" y2=\"15.0\" stroke=\"black\" stroke-width=\"3\" /><line x1=\"292.56046875000004\" x2=\"292.56046875000004\" y1=\"5.0\" y2=\"15.0\" stroke=\"black\" stroke-width=\"3\" /><line x1=\"161.28023437500002\" x2=\"161.28023437500002\" y1=\"325.0\" y2=\"335.0\" stroke=\"black\" stroke-width=\"3\" /><line x1=\"292.56046875000004\" x2=\"292.56046875000004\" y1=\"325.0\" y2=\"335.0\" stroke=\"black\" stroke-width=\"3\" /><rect x=\"10.0\" y=\"25.0\" width=\"40\" height=\"40\" stroke=\"black\" fill=\"white\" stroke-width=\"0\" /><text x=\"30.0\" y=\"45.0\" dominant-baseline=\"middle\" text-anchor=\"middle\" font-size=\"14px\" font-family=\"Arial\">0: </text><rect x=\"10.0\" y=\"75.0\" width=\"40\" height=\"40\" stroke=\"black\" fill=\"white\" stroke-width=\"0\" /><text x=\"30.0\" y=\"95.0\" dominant-baseline=\"middle\" text-anchor=\"middle\" font-size=\"14px\" font-family=\"Arial\">1: </text><rect x=\"10.0\" y=\"125.0\" width=\"40\" height=\"40\" stroke=\"black\" fill=\"white\" stroke-width=\"0\" /><text x=\"30.0\" y=\"145.0\" dominant-baseline=\"middle\" text-anchor=\"middle\" font-size=\"14px\" font-family=\"Arial\">2: </text><rect x=\"10.0\" y=\"175.0\" width=\"40\" height=\"40\" stroke=\"black\" fill=\"white\" stroke-width=\"0\" /><text x=\"30.0\" y=\"195.0\" dominant-baseline=\"middle\" text-anchor=\"middle\" font-size=\"14px\" font-family=\"Arial\">3: </text><rect x=\"10.0\" y=\"225.0\" width=\"40\" height=\"40\" stroke=\"black\" fill=\"white\" stroke-width=\"0\" /><text x=\"30.0\" y=\"245.0\" dominant-baseline=\"middle\" text-anchor=\"middle\" font-size=\"14px\" font-family=\"Arial\">4: </text><rect x=\"10.0\" y=\"275.0\" width=\"40\" height=\"40\" stroke=\"black\" fill=\"white\" stroke-width=\"0\" /><text x=\"30.0\" y=\"295.0\" dominant-baseline=\"middle\" text-anchor=\"middle\" font-size=\"14px\" font-family=\"Arial\">5: </text><rect x=\"70.0\" y=\"25.0\" width=\"81.280234375\" height=\"40\" stroke=\"black\" fill=\"white\" stroke-width=\"1\" /><text x=\"110.64011718750001\" y=\"45.0\" dominant-baseline=\"middle\" text-anchor=\"middle\" font-size=\"14px\" font-family=\"Arial\">[RBS(1.35)]</text><rect x=\"70.0\" y=\"75.0\" width=\"81.280234375\" height=\"40\" stroke=\"black\" fill=\"white\" stroke-width=\"1\" /><text x=\"110.64011718750001\" y=\"95.0\" dominant-baseline=\"middle\" text-anchor=\"middle\" font-size=\"14px\" font-family=\"Arial\">[RBS(1.35)]</text><rect x=\"161.28023437500002\" y=\"75.0\" width=\"81.280234375\" height=\"40\" stroke=\"black\" fill=\"white\" stroke-width=\"1\" /><text x=\"201.92035156250003\" y=\"95.0\" dominant-baseline=\"middle\" text-anchor=\"middle\" font-size=\"14px\" font-family=\"Arial\">[RBS(1.01)]</text><rect x=\"161.28023437500002\" y=\"125.0\" width=\"81.280234375\" height=\"40\" stroke=\"black\" fill=\"white\" stroke-width=\"1\" /><text x=\"201.92035156250003\" y=\"145.0\" dominant-baseline=\"middle\" text-anchor=\"middle\" font-size=\"14px\" font-family=\"Arial\">[RBS(1.01)]</text><circle cx=\"262.56046875000004\" cy=\"45.0\" r=\"10.0\" /><rect x=\"242.56046875000004\" y=\"175.0\" width=\"40\" height=\"40\" stroke=\"black\" fill=\"white\" stroke-width=\"1\" /><text x=\"262.56046875000004\" y=\"195.0\" dominant-baseline=\"middle\" text-anchor=\"middle\" font-size=\"18px\" font-family=\"Arial\">X</text><rect x=\"312.56046875000004\" y=\"175.0\" width=\"81.280234375\" height=\"40\" stroke=\"black\" fill=\"white\" stroke-width=\"1\" /><text x=\"353.2005859375\" y=\"195.0\" dominant-baseline=\"middle\" text-anchor=\"middle\" font-size=\"14px\" font-family=\"Arial\">[RBS(1.30)]</text><rect x=\"312.56046875000004\" y=\"225.0\" width=\"81.280234375\" height=\"40\" stroke=\"black\" fill=\"white\" stroke-width=\"1\" /><text x=\"353.2005859375\" y=\"245.0\" dominant-baseline=\"middle\" text-anchor=\"middle\" font-size=\"14px\" font-family=\"Arial\">[RBS(1.30)]</text><rect x=\"413.84070312500006\" y=\"225.0\" width=\"81.280234375\" height=\"40\" stroke=\"black\" fill=\"white\" stroke-width=\"1\" /><text x=\"454.48082031250004\" y=\"245.0\" dominant-baseline=\"middle\" text-anchor=\"middle\" font-size=\"14px\" font-family=\"Arial\">[RBS(0.98)]</text><rect x=\"413.84070312500006\" y=\"275.0\" width=\"81.280234375\" height=\"40\" stroke=\"black\" fill=\"white\" stroke-width=\"1\" /><text x=\"454.48082031250004\" y=\"295.0\" dominant-baseline=\"middle\" text-anchor=\"middle\" font-size=\"14px\" font-family=\"Arial\">[RBS(0.98)]</text><rect x=\"515.1209375000001\" y=\"225.0\" width=\"85.94234375\" height=\"40\" stroke=\"black\" fill=\"white\" stroke-width=\"1\" /><text x=\"558.0921093750001\" y=\"245.0\" dominant-baseline=\"middle\" text-anchor=\"middle\" font-size=\"14px\" font-family=\"Arial\">[RBS(-0.88)]</text><rect x=\"515.1209375000001\" y=\"275.0\" width=\"85.94234375\" height=\"40\" stroke=\"black\" fill=\"white\" stroke-width=\"1\" /><text x=\"558.0921093750001\" y=\"295.0\" dominant-baseline=\"middle\" text-anchor=\"middle\" font-size=\"14px\" font-family=\"Arial\">[RBS(-0.88)]</text><rect x=\"621.06328125\" y=\"175.0\" width=\"85.94234375\" height=\"40\" stroke=\"black\" fill=\"white\" stroke-width=\"1\" /><text x=\"664.034453125\" y=\"195.0\" dominant-baseline=\"middle\" text-anchor=\"middle\" font-size=\"14px\" font-family=\"Arial\">[RBS(-1.10)]</text><rect x=\"621.06328125\" y=\"225.0\" width=\"85.94234375\" height=\"40\" stroke=\"black\" fill=\"white\" stroke-width=\"1\" /><text x=\"664.034453125\" y=\"245.0\" dominant-baseline=\"middle\" text-anchor=\"middle\" font-size=\"14px\" font-family=\"Arial\">[RBS(-1.10)]</text><circle cx=\"747.005625\" cy=\"95.0\" r=\"10.0\" /><rect x=\"727.005625\" y=\"175.0\" width=\"40\" height=\"40\" stroke=\"black\" fill=\"white\" stroke-width=\"1\" /><text x=\"747.005625\" y=\"195.0\" dominant-baseline=\"middle\" text-anchor=\"middle\" font-size=\"18px\" font-family=\"Arial\">X</text><rect x=\"787.005625\" y=\"175.0\" width=\"81.280234375\" height=\"40\" stroke=\"black\" fill=\"white\" stroke-width=\"1\" /><text x=\"827.6457421875\" y=\"195.0\" dominant-baseline=\"middle\" text-anchor=\"middle\" font-size=\"14px\" font-family=\"Arial\">[RBS(1.10)]</text><rect x=\"787.005625\" y=\"225.0\" width=\"81.280234375\" height=\"40\" stroke=\"black\" fill=\"white\" stroke-width=\"1\" /><text x=\"827.6457421875\" y=\"245.0\" dominant-baseline=\"middle\" text-anchor=\"middle\" font-size=\"14px\" font-family=\"Arial\">[RBS(1.10)]</text><rect x=\"787.005625\" y=\"25.0\" width=\"81.280234375\" height=\"40\" stroke=\"black\" fill=\"white\" stroke-width=\"1\" /><text x=\"827.6457421875\" y=\"45.0\" dominant-baseline=\"middle\" text-anchor=\"middle\" font-size=\"14px\" font-family=\"Arial\">[RBS(0.00)]</text><rect x=\"787.005625\" y=\"75.0\" width=\"81.280234375\" height=\"40\" stroke=\"black\" fill=\"white\" stroke-width=\"1\" /><text x=\"827.6457421875\" y=\"95.0\" dominant-baseline=\"middle\" text-anchor=\"middle\" font-size=\"14px\" font-family=\"Arial\">[RBS(0.00)]</text><rect x=\"888.285859375\" y=\"225.0\" width=\"81.280234375\" height=\"40\" stroke=\"black\" fill=\"white\" stroke-width=\"1\" /><text x=\"928.9259765625\" y=\"245.0\" dominant-baseline=\"middle\" text-anchor=\"middle\" font-size=\"14px\" font-family=\"Arial\">[RBS(0.88)]</text><rect x=\"888.285859375\" y=\"275.0\" width=\"81.280234375\" height=\"40\" stroke=\"black\" fill=\"white\" stroke-width=\"1\" /><text x=\"928.9259765625\" y=\"295.0\" dominant-baseline=\"middle\" text-anchor=\"middle\" font-size=\"14px\" font-family=\"Arial\">[RBS(0.88)]</text><rect x=\"989.5660937499999\" y=\"225.0\" width=\"85.94234375\" height=\"40\" stroke=\"black\" fill=\"white\" stroke-width=\"1\" /><text x=\"1032.537265625\" y=\"245.0\" dominant-baseline=\"middle\" text-anchor=\"middle\" font-size=\"14px\" font-family=\"Arial\">[RBS(-0.84)]</text><rect x=\"989.5660937499999\" y=\"275.0\" width=\"85.94234375\" height=\"40\" stroke=\"black\" fill=\"white\" stroke-width=\"1\" /><text x=\"1032.537265625\" y=\"295.0\" dominant-baseline=\"middle\" text-anchor=\"middle\" font-size=\"14px\" font-family=\"Arial\">[RBS(-0.84)]</text><rect x=\"1095.5084375\" y=\"175.0\" width=\"85.94234375\" height=\"40\" stroke=\"black\" fill=\"white\" stroke-width=\"1\" /><text x=\"1138.4796093749999\" y=\"195.0\" dominant-baseline=\"middle\" text-anchor=\"middle\" font-size=\"14px\" font-family=\"Arial\">[RBS(-1.04)]</text><rect x=\"1095.5084375\" y=\"225.0\" width=\"85.94234375\" height=\"40\" stroke=\"black\" fill=\"white\" stroke-width=\"1\" /><text x=\"1138.4796093749999\" y=\"245.0\" dominant-baseline=\"middle\" text-anchor=\"middle\" font-size=\"14px\" font-family=\"Arial\">[RBS(-1.04)]</text><circle cx=\"1221.4507812499999\" cy=\"145.0\" r=\"10.0\" /><rect x=\"1201.4507812499999\" y=\"175.0\" width=\"40\" height=\"40\" stroke=\"black\" fill=\"white\" stroke-width=\"1\" /><text x=\"1221.4507812499999\" y=\"195.0\" dominant-baseline=\"middle\" text-anchor=\"middle\" font-size=\"18px\" font-family=\"Arial\">X</text><rect x=\"1261.4507812499999\" y=\"175.0\" width=\"81.280234375\" height=\"40\" stroke=\"black\" fill=\"white\" stroke-width=\"1\" /><text x=\"1302.0908984374998\" y=\"195.0\" dominant-baseline=\"middle\" text-anchor=\"middle\" font-size=\"14px\" font-family=\"Arial\">[RBS(1.04)]</text><rect x=\"1261.4507812499999\" y=\"225.0\" width=\"81.280234375\" height=\"40\" stroke=\"black\" fill=\"white\" stroke-width=\"1\" /><text x=\"1302.0908984374998\" y=\"245.0\" dominant-baseline=\"middle\" text-anchor=\"middle\" font-size=\"14px\" font-family=\"Arial\">[RBS(1.04)]</text><rect x=\"1261.4507812499999\" y=\"75.0\" width=\"81.280234375\" height=\"40\" stroke=\"black\" fill=\"white\" stroke-width=\"1\" /><text x=\"1302.0908984374998\" y=\"95.0\" dominant-baseline=\"middle\" text-anchor=\"middle\" font-size=\"14px\" font-family=\"Arial\">[RBS(1.00)]</text><rect x=\"1261.4507812499999\" y=\"125.0\" width=\"81.280234375\" height=\"40\" stroke=\"black\" fill=\"white\" stroke-width=\"1\" /><text x=\"1302.0908984374998\" y=\"145.0\" dominant-baseline=\"middle\" text-anchor=\"middle\" font-size=\"14px\" font-family=\"Arial\">[RBS(1.00)]</text><rect x=\"1362.7310156249998\" y=\"225.0\" width=\"81.280234375\" height=\"40\" stroke=\"black\" fill=\"white\" stroke-width=\"1\" /><text x=\"1403.3711328124998\" y=\"245.0\" dominant-baseline=\"middle\" text-anchor=\"middle\" font-size=\"14px\" font-family=\"Arial\">[RBS(0.84)]</text><rect x=\"1362.7310156249998\" y=\"275.0\" width=\"81.280234375\" height=\"40\" stroke=\"black\" fill=\"white\" stroke-width=\"1\" /><text x=\"1403.3711328124998\" y=\"295.0\" dominant-baseline=\"middle\" text-anchor=\"middle\" font-size=\"14px\" font-family=\"Arial\">[RBS(0.84)]</text><rect x=\"1362.7310156249998\" y=\"25.0\" width=\"81.280234375\" height=\"40\" stroke=\"black\" fill=\"white\" stroke-width=\"1\" /><text x=\"1403.3711328124998\" y=\"45.0\" dominant-baseline=\"middle\" text-anchor=\"middle\" font-size=\"14px\" font-family=\"Arial\">[RBS(2.00)]</text><rect x=\"1362.7310156249998\" y=\"75.0\" width=\"81.280234375\" height=\"40\" stroke=\"black\" fill=\"white\" stroke-width=\"1\" /><text x=\"1403.3711328124998\" y=\"95.0\" dominant-baseline=\"middle\" text-anchor=\"middle\" font-size=\"14px\" font-family=\"Arial\">[RBS(2.00)]</text><rect x=\"1362.7310156249998\" y=\"125.0\" width=\"81.280234375\" height=\"40\" stroke=\"black\" fill=\"white\" stroke-width=\"1\" /><text x=\"1403.3711328124998\" y=\"145.0\" dominant-baseline=\"middle\" text-anchor=\"middle\" font-size=\"14px\" font-family=\"Arial\">[RBS(3.00)]</text><rect x=\"1362.7310156249998\" y=\"175.0\" width=\"81.280234375\" height=\"40\" stroke=\"black\" fill=\"white\" stroke-width=\"1\" /><text x=\"1403.3711328124998\" y=\"195.0\" dominant-baseline=\"middle\" text-anchor=\"middle\" font-size=\"14px\" font-family=\"Arial\">[RBS(3.00)]</text><rect x=\"1464.0112499999998\" y=\"75.0\" width=\"81.280234375\" height=\"40\" stroke=\"black\" fill=\"white\" stroke-width=\"1\" /><text x=\"1504.6513671874998\" y=\"95.0\" dominant-baseline=\"middle\" text-anchor=\"middle\" font-size=\"14px\" font-family=\"Arial\">[RBS(4.00)]</text><rect x=\"1464.0112499999998\" y=\"125.0\" width=\"81.280234375\" height=\"40\" stroke=\"black\" fill=\"white\" stroke-width=\"1\" /><text x=\"1504.6513671874998\" y=\"145.0\" dominant-baseline=\"middle\" text-anchor=\"middle\" font-size=\"14px\" font-family=\"Arial\">[RBS(4.00)]</text><rect x=\"1464.0112499999998\" y=\"175.0\" width=\"81.280234375\" height=\"40\" stroke=\"black\" fill=\"white\" stroke-width=\"1\" /><text x=\"1504.6513671874998\" y=\"195.0\" dominant-baseline=\"middle\" text-anchor=\"middle\" font-size=\"14px\" font-family=\"Arial\">[RBS(5.00)]</text><rect x=\"1464.0112499999998\" y=\"225.0\" width=\"81.280234375\" height=\"40\" stroke=\"black\" fill=\"white\" stroke-width=\"1\" /><text x=\"1504.6513671874998\" y=\"245.0\" dominant-baseline=\"middle\" text-anchor=\"middle\" font-size=\"14px\" font-family=\"Arial\">[RBS(5.00)]</text><rect x=\"1565.2914843749998\" y=\"25.0\" width=\"81.280234375\" height=\"40\" stroke=\"black\" fill=\"white\" stroke-width=\"1\" /><text x=\"1605.9316015624997\" y=\"45.0\" dominant-baseline=\"middle\" text-anchor=\"middle\" font-size=\"14px\" font-family=\"Arial\">[RBS(6.00)]</text><rect x=\"1565.2914843749998\" y=\"75.0\" width=\"81.280234375\" height=\"40\" stroke=\"black\" fill=\"white\" stroke-width=\"1\" /><text x=\"1605.9316015624997\" y=\"95.0\" dominant-baseline=\"middle\" text-anchor=\"middle\" font-size=\"14px\" font-family=\"Arial\">[RBS(6.00)]</text><rect x=\"1565.2914843749998\" y=\"125.0\" width=\"81.280234375\" height=\"40\" stroke=\"black\" fill=\"white\" stroke-width=\"1\" /><text x=\"1605.9316015624997\" y=\"145.0\" dominant-baseline=\"middle\" text-anchor=\"middle\" font-size=\"14px\" font-family=\"Arial\">[RBS(7.00)]</text><rect x=\"1565.2914843749998\" y=\"175.0\" width=\"81.280234375\" height=\"40\" stroke=\"black\" fill=\"white\" stroke-width=\"1\" /><text x=\"1605.9316015624997\" y=\"195.0\" dominant-baseline=\"middle\" text-anchor=\"middle\" font-size=\"14px\" font-family=\"Arial\">[RBS(7.00)]</text><rect x=\"1565.2914843749998\" y=\"225.0\" width=\"81.280234375\" height=\"40\" stroke=\"black\" fill=\"white\" stroke-width=\"1\" /><text x=\"1605.9316015624997\" y=\"245.0\" dominant-baseline=\"middle\" text-anchor=\"middle\" font-size=\"14px\" font-family=\"Arial\">[RBS(8.00)]</text><rect x=\"1565.2914843749998\" y=\"275.0\" width=\"81.280234375\" height=\"40\" stroke=\"black\" fill=\"white\" stroke-width=\"1\" /><text x=\"1605.9316015624997\" y=\"295.0\" dominant-baseline=\"middle\" text-anchor=\"middle\" font-size=\"14px\" font-family=\"Arial\">[RBS(8.00)]</text><rect x=\"1666.5717187499997\" y=\"75.0\" width=\"89.0663671875\" height=\"40\" stroke=\"black\" fill=\"white\" stroke-width=\"1\" /><text x=\"1711.1049023437497\" y=\"95.0\" dominant-baseline=\"middle\" text-anchor=\"middle\" font-size=\"14px\" font-family=\"Arial\">[RBS(9.00)]</text><rect x=\"1666.5717187499997\" y=\"125.0\" width=\"89.0663671875\" height=\"40\" stroke=\"black\" fill=\"white\" stroke-width=\"1\" /><text x=\"1711.1049023437497\" y=\"145.0\" dominant-baseline=\"middle\" text-anchor=\"middle\" font-size=\"14px\" font-family=\"Arial\">[RBS(9.00)]</text><rect x=\"1666.5717187499997\" y=\"175.0\" width=\"89.0663671875\" height=\"40\" stroke=\"black\" fill=\"white\" stroke-width=\"1\" /><text x=\"1711.1049023437497\" y=\"195.0\" dominant-baseline=\"middle\" text-anchor=\"middle\" font-size=\"14px\" font-family=\"Arial\">[RBS(10.00)]</text><rect x=\"1666.5717187499997\" y=\"225.0\" width=\"89.0663671875\" height=\"40\" stroke=\"black\" fill=\"white\" stroke-width=\"1\" /><text x=\"1711.1049023437497\" y=\"245.0\" dominant-baseline=\"middle\" text-anchor=\"middle\" font-size=\"14px\" font-family=\"Arial\">[RBS(10.00)]</text><rect x=\"1775.6380859374997\" y=\"25.0\" width=\"89.0663671875\" height=\"40\" stroke=\"black\" fill=\"white\" stroke-width=\"1\" /><text x=\"1820.1712695312497\" y=\"45.0\" dominant-baseline=\"middle\" text-anchor=\"middle\" font-size=\"14px\" font-family=\"Arial\">[RBS(11.00)]</text><rect x=\"1775.6380859374997\" y=\"75.0\" width=\"89.0663671875\" height=\"40\" stroke=\"black\" fill=\"white\" stroke-width=\"1\" /><text x=\"1820.1712695312497\" y=\"95.0\" dominant-baseline=\"middle\" text-anchor=\"middle\" font-size=\"14px\" font-family=\"Arial\">[RBS(11.00)]</text><rect x=\"1775.6380859374997\" y=\"125.0\" width=\"89.0663671875\" height=\"40\" stroke=\"black\" fill=\"white\" stroke-width=\"1\" /><text x=\"1820.1712695312497\" y=\"145.0\" dominant-baseline=\"middle\" text-anchor=\"middle\" font-size=\"14px\" font-family=\"Arial\">[RBS(12.00)]</text><rect x=\"1775.6380859374997\" y=\"175.0\" width=\"89.0663671875\" height=\"40\" stroke=\"black\" fill=\"white\" stroke-width=\"1\" /><text x=\"1820.1712695312497\" y=\"195.0\" dominant-baseline=\"middle\" text-anchor=\"middle\" font-size=\"14px\" font-family=\"Arial\">[RBS(12.00)]</text><rect x=\"1884.7044531249996\" y=\"75.0\" width=\"89.0663671875\" height=\"40\" stroke=\"black\" fill=\"white\" stroke-width=\"1\" /><text x=\"1929.2376367187496\" y=\"95.0\" dominant-baseline=\"middle\" text-anchor=\"middle\" font-size=\"14px\" font-family=\"Arial\">[RBS(13.00)]</text><rect x=\"1884.7044531249996\" y=\"125.0\" width=\"89.0663671875\" height=\"40\" stroke=\"black\" fill=\"white\" stroke-width=\"1\" /><text x=\"1929.2376367187496\" y=\"145.0\" dominant-baseline=\"middle\" text-anchor=\"middle\" font-size=\"14px\" font-family=\"Arial\">[RBS(13.00)]</text><rect x=\"1993.7708203124996\" y=\"25.0\" width=\"89.0663671875\" height=\"40\" stroke=\"black\" fill=\"white\" stroke-width=\"1\" /><text x=\"2038.3040039062496\" y=\"45.0\" dominant-baseline=\"middle\" text-anchor=\"middle\" font-size=\"14px\" font-family=\"Arial\">[RBS(14.00)]</text><rect x=\"1993.7708203124996\" y=\"75.0\" width=\"89.0663671875\" height=\"40\" stroke=\"black\" fill=\"white\" stroke-width=\"1\" /><text x=\"2038.3040039062496\" y=\"95.0\" dominant-baseline=\"middle\" text-anchor=\"middle\" font-size=\"14px\" font-family=\"Arial\">[RBS(14.00)]</text></svg>"
      ],
      "text/plain": [
       "<cirq.contrib.svg.svg.SVGCircuit at 0x7f12ed340430>"
      ]
     },
     "execution_count": 21,
     "metadata": {},
     "output_type": "execute_result"
    }
   ],
   "source": [
    "def Compound_transformer(Matrix, orthogonal_layer_parameters):\n",
    "    circuit = cirq.Circuit()\n",
    "    N_qubits = matrix.shape[0] + matrix.shape[1]\n",
    "    \n",
    "    mag_alphas, alphas = convert_matrix(matrix)\n",
    "    mag_wires = [i for i in range(matrix.shape[0])]\n",
    "    wires = [i + matrix.shape[0] for i in range( matrix.shape[1])]\n",
    "    matrix_loader(circuit, mag_alphas , alphas, mag_wires, wires)\n",
    "    \n",
    "    qubits = [cirq.LineQubit(i) for i in range(N_qubits)]\n",
    "    pyramid_circuit(circuit, orthogonal_layer_parameters, wires=qubits)\n",
    "    return circuit\n",
    "\n",
    "#define matrix \n",
    "matrix = tf.constant([\n",
    "    [1.0, 2.0, 3.0],\n",
    "    [4.0, 5.0, 6.0],\n",
    "    [7.0, 8.0, 9.0]\n",
    "])\n",
    "\n",
    "orthogonal_layer_parameters = np.array([i for i in range(6 * 5 // 2)]) #N(N-1)/2 gates needed for a pyramid circuit\n",
    "\n",
    "SVGCircuit(Compound_transformer(matrix, orthogonal_layer_parameters))"
   ]
  }
 ],
 "metadata": {
  "kernelspec": {
   "display_name": "Python (quantum_env)",
   "language": "python",
   "name": "quantum_env"
  },
  "language_info": {
   "codemirror_mode": {
    "name": "ipython",
    "version": 3
   },
   "file_extension": ".py",
   "mimetype": "text/x-python",
   "name": "python",
   "nbconvert_exporter": "python",
   "pygments_lexer": "ipython3",
   "version": "3.8.18"
  }
 },
 "nbformat": 4,
 "nbformat_minor": 5
}
