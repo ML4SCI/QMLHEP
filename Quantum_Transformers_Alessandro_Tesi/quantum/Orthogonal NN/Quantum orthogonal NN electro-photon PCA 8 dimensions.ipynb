{
 "cells": [
  {
   "cell_type": "code",
   "execution_count": 1,
   "id": "976661d9-7221-4ccd-ac64-8e94b8f8988d",
   "metadata": {},
   "outputs": [],
   "source": [
    "import os\n",
    "os.environ['TF_CPP_MIN_LOG_LEVEL'] = '2'\n",
    "\n",
    "import tensorflow as tf\n",
    "import tensorflow_quantum as tfq\n",
    "\n",
    "import h5py\n",
    "import cirq\n",
    "import sympy\n",
    "import numpy as np\n",
    "from sklearn.decomposition import PCA\n",
    "import seaborn as sns\n",
    "import collections\n",
    "\n",
    "# visualization tools\n",
    "%matplotlib inline\n",
    "import matplotlib.pyplot as plt\n",
    "from cirq.contrib.svg import SVGCircuit\n",
    "from Quantum_circuits import *"
   ]
  },
  {
   "cell_type": "code",
   "execution_count": 2,
   "id": "e2415f81-88e4-4d89-bbb7-72852d465a46",
   "metadata": {},
   "outputs": [
    {
     "data": {
      "text/plain": [
       "((5000, 32, 32, 2), (5000,))"
      ]
     },
     "execution_count": 2,
     "metadata": {},
     "output_type": "execute_result"
    }
   ],
   "source": [
    "# Load electron data\n",
    "with h5py.File('electron.hdf5', 'r') as electron_file:\n",
    "    electron_data = electron_file['X'][:2500] \n",
    "    electron_labels = electron_file['y'][:2500]\n",
    "\n",
    "# Load photon data\n",
    "with h5py.File('photon.hdf5', 'r') as photon_file:\n",
    "    photon_data = photon_file['X'][:2500] \n",
    "    photon_labels = photon_file['y'][:2500]\n",
    "\n",
    "# Concatenate data and labels\n",
    "combined_data = np.concatenate([electron_data, photon_data])\n",
    "combined_labels = np.concatenate([electron_labels, photon_labels])\n",
    "\n",
    "# Shuffle the combined dataset\n",
    "indices = np.arange(combined_data.shape[0])\n",
    "np.random.shuffle(indices)\n",
    "shuffled_data = combined_data[indices]\n",
    "shuffled_labels = combined_labels[indices]\n",
    "\n",
    "shuffled_data.shape, shuffled_labels.shape"
   ]
  },
  {
   "cell_type": "code",
   "execution_count": 3,
   "id": "c934c005-cde9-4e59-a28a-01c8ee2ebae7",
   "metadata": {},
   "outputs": [],
   "source": [
    "# Reshape the data to (2000, 2048)\n",
    "data_flattened_train = shuffled_data[:4000].reshape(4000, 32 * 32 * 2)\n",
    "data_flattened_test = shuffled_data[4000:].reshape(1000, 32 * 32 * 2)\n",
    "y_train = shuffled_labels[:4000]\n",
    "y_test = shuffled_labels[4000:]\n",
    "\n",
    "# Initialize PCA to reduce the dimensions to 8\n",
    "pca = PCA(n_components=8)\n",
    "\n",
    "# Fit PCA on the data and transform it\n",
    "x_train_small = pca.fit_transform(data_flattened_train)\n",
    "x_test_small = pca.transform(data_flattened_test)"
   ]
  },
  {
   "cell_type": "code",
   "execution_count": 4,
   "id": "eb03273b-187a-4634-8c5c-f86e6b327532",
   "metadata": {},
   "outputs": [
    {
     "data": {
      "text/plain": [
       "((4000, 8), (1000, 8))"
      ]
     },
     "execution_count": 4,
     "metadata": {},
     "output_type": "execute_result"
    }
   ],
   "source": [
    "x_train_small.shape, x_test_small.shape"
   ]
  },
  {
   "cell_type": "code",
   "execution_count": 5,
   "id": "ec79d555-e25a-408d-ab93-9d528742e792",
   "metadata": {},
   "outputs": [],
   "source": [
    "def build_rbs(circuit, q0, q1, symbol):\n",
    "    circuit.append(cirq.Moment([cirq.H(q0), cirq.H(q1)]))\n",
    "    circuit.append(cirq.CZ(q0, q1))\n",
    "    circuit.append(cirq.Moment([cirq.ry(symbol / 2)(q0), cirq.ry(-symbol / 2)(q1)]))\n",
    "    circuit.append(cirq.CZ(q0, q1))\n",
    "    circuit.append(cirq.Moment([cirq.H(q0), cirq.H(q1)]))"
   ]
  },
  {
   "cell_type": "code",
   "execution_count": 6,
   "id": "ecbc9276-aa60-4a86-a2e1-b9a08d88c313",
   "metadata": {},
   "outputs": [],
   "source": [
    "def convert_to_circuit(image):\n",
    "    circuit = cirq.Circuit()\n",
    "    qubits = [cirq.LineQubit(i) for i in range(8)]\n",
    "    \n",
    "    values = np.ndarray.flatten(image)\n",
    "    array = tf.constant(values)\n",
    "    alphas = convert_array(array)\n",
    "    vector_loader(circuit, alphas, is_x=True, is_conjugate=False)\n",
    "    return cirq.Circuit(cirq.decompose(circuit))\n",
    "convert_to_circuit(x_train_small[0])\n",
    "x_train_circ = [convert_to_circuit(x) for x in x_train_small]\n",
    "x_test_circ = [convert_to_circuit(x) for x in x_test_small]"
   ]
  },
  {
   "cell_type": "code",
   "execution_count": 7,
   "id": "a2dcca6b-bc21-4370-988e-4345f22e50c0",
   "metadata": {},
   "outputs": [
    {
     "data": {
      "image/svg+xml": [
       "<svg xmlns=\"http://www.w3.org/2000/svg\" width=\"3439.7927734375\" height=\"400.0\"><line x1=\"30.0\" x2=\"3409.7927734375\" y1=\"25.0\" y2=\"25.0\" stroke=\"#1967d2\" stroke-width=\"1\" /><line x1=\"30.0\" x2=\"3409.7927734375\" y1=\"75.0\" y2=\"75.0\" stroke=\"#1967d2\" stroke-width=\"1\" /><line x1=\"30.0\" x2=\"3409.7927734375\" y1=\"125.0\" y2=\"125.0\" stroke=\"#1967d2\" stroke-width=\"1\" /><line x1=\"30.0\" x2=\"3409.7927734375\" y1=\"175.0\" y2=\"175.0\" stroke=\"#1967d2\" stroke-width=\"1\" /><line x1=\"30.0\" x2=\"3409.7927734375\" y1=\"225.0\" y2=\"225.0\" stroke=\"#1967d2\" stroke-width=\"1\" /><line x1=\"30.0\" x2=\"3409.7927734375\" y1=\"275.0\" y2=\"275.0\" stroke=\"#1967d2\" stroke-width=\"1\" /><line x1=\"30.0\" x2=\"3409.7927734375\" y1=\"325.0\" y2=\"325.0\" stroke=\"#1967d2\" stroke-width=\"1\" /><line x1=\"30.0\" x2=\"3409.7927734375\" y1=\"375.0\" y2=\"375.0\" stroke=\"#1967d2\" stroke-width=\"1\" /><line x1=\"279.533515625\" x2=\"279.533515625\" y1=\"25.0\" y2=\"75.0\" stroke=\"black\" stroke-width=\"3\" /><line x1=\"443.71738281250003\" x2=\"443.71738281250003\" y1=\"25.0\" y2=\"75.0\" stroke=\"black\" stroke-width=\"3\" /><line x1=\"753.2508984375\" x2=\"753.2508984375\" y1=\"75.0\" y2=\"125.0\" stroke=\"black\" stroke-width=\"3\" /><line x1=\"915.369765625\" x2=\"915.369765625\" y1=\"75.0\" y2=\"125.0\" stroke=\"black\" stroke-width=\"3\" /><line x1=\"1224.90328125\" x2=\"1224.90328125\" y1=\"125.0\" y2=\"175.0\" stroke=\"black\" stroke-width=\"3\" /><line x1=\"1381.301015625\" x2=\"1381.301015625\" y1=\"125.0\" y2=\"175.0\" stroke=\"black\" stroke-width=\"3\" /><line x1=\"1690.8345312499998\" x2=\"1690.8345312499998\" y1=\"175.0\" y2=\"225.0\" stroke=\"black\" stroke-width=\"3\" /><line x1=\"1839.4461328124999\" x2=\"1839.4461328124999\" y1=\"175.0\" y2=\"225.0\" stroke=\"black\" stroke-width=\"3\" /><line x1=\"2148.9796484374997\" x2=\"2148.9796484374997\" y1=\"225.0\" y2=\"275.0\" stroke=\"black\" stroke-width=\"3\" /><line x1=\"2313.1635156249995\" x2=\"2313.1635156249995\" y1=\"225.0\" y2=\"275.0\" stroke=\"black\" stroke-width=\"3\" /><line x1=\"2622.69703125\" x2=\"2622.69703125\" y1=\"275.0\" y2=\"325.0\" stroke=\"black\" stroke-width=\"3\" /><line x1=\"2771.3086328124996\" x2=\"2771.3086328124996\" y1=\"275.0\" y2=\"325.0\" stroke=\"black\" stroke-width=\"3\" /><line x1=\"3080.8421484375\" x2=\"3080.8421484375\" y1=\"325.0\" y2=\"375.0\" stroke=\"black\" stroke-width=\"3\" /><line x1=\"3245.0260156249997\" x2=\"3245.0260156249997\" y1=\"325.0\" y2=\"375.0\" stroke=\"black\" stroke-width=\"3\" /><rect x=\"10.0\" y=\"5.0\" width=\"40\" height=\"40\" stroke=\"black\" fill=\"white\" stroke-width=\"0\" /><text x=\"30.0\" y=\"25.0\" dominant-baseline=\"middle\" text-anchor=\"middle\" font-size=\"14px\" font-family=\"Arial\">0: </text><rect x=\"10.0\" y=\"55.0\" width=\"40\" height=\"40\" stroke=\"black\" fill=\"white\" stroke-width=\"0\" /><text x=\"30.0\" y=\"75.0\" dominant-baseline=\"middle\" text-anchor=\"middle\" font-size=\"14px\" font-family=\"Arial\">1: </text><rect x=\"10.0\" y=\"105.0\" width=\"40\" height=\"40\" stroke=\"black\" fill=\"white\" stroke-width=\"0\" /><text x=\"30.0\" y=\"125.0\" dominant-baseline=\"middle\" text-anchor=\"middle\" font-size=\"14px\" font-family=\"Arial\">2: </text><rect x=\"10.0\" y=\"155.0\" width=\"40\" height=\"40\" stroke=\"black\" fill=\"white\" stroke-width=\"0\" /><text x=\"30.0\" y=\"175.0\" dominant-baseline=\"middle\" text-anchor=\"middle\" font-size=\"14px\" font-family=\"Arial\">3: </text><rect x=\"10.0\" y=\"205.0\" width=\"40\" height=\"40\" stroke=\"black\" fill=\"white\" stroke-width=\"0\" /><text x=\"30.0\" y=\"225.0\" dominant-baseline=\"middle\" text-anchor=\"middle\" font-size=\"14px\" font-family=\"Arial\">4: </text><rect x=\"10.0\" y=\"255.0\" width=\"40\" height=\"40\" stroke=\"black\" fill=\"white\" stroke-width=\"0\" /><text x=\"30.0\" y=\"275.0\" dominant-baseline=\"middle\" text-anchor=\"middle\" font-size=\"14px\" font-family=\"Arial\">5: </text><rect x=\"10.0\" y=\"305.0\" width=\"40\" height=\"40\" stroke=\"black\" fill=\"white\" stroke-width=\"0\" /><text x=\"30.0\" y=\"325.0\" dominant-baseline=\"middle\" text-anchor=\"middle\" font-size=\"14px\" font-family=\"Arial\">6: </text><rect x=\"10.0\" y=\"355.0\" width=\"40\" height=\"40\" stroke=\"black\" fill=\"white\" stroke-width=\"0\" /><text x=\"30.0\" y=\"375.0\" dominant-baseline=\"middle\" text-anchor=\"middle\" font-size=\"14px\" font-family=\"Arial\">7: </text><rect x=\"70.0\" y=\"5.0\" width=\"44.7667578125\" height=\"40\" stroke=\"black\" fill=\"white\" stroke-width=\"1\" /><text x=\"92.38337890625\" y=\"25.0\" dominant-baseline=\"middle\" text-anchor=\"middle\" font-size=\"18px\" font-family=\"Arial\">X</text><rect x=\"70.0\" y=\"55.0\" width=\"44.7667578125\" height=\"40\" stroke=\"black\" fill=\"white\" stroke-width=\"1\" /><text x=\"92.38337890625\" y=\"75.0\" dominant-baseline=\"middle\" text-anchor=\"middle\" font-size=\"14px\" font-family=\"Arial\">Y^0.5</text><rect x=\"70.0\" y=\"105.0\" width=\"44.7667578125\" height=\"40\" stroke=\"black\" fill=\"white\" stroke-width=\"1\" /><text x=\"92.38337890625\" y=\"125.0\" dominant-baseline=\"middle\" text-anchor=\"middle\" font-size=\"14px\" font-family=\"Arial\">Y^0.5</text><rect x=\"70.0\" y=\"155.0\" width=\"44.7667578125\" height=\"40\" stroke=\"black\" fill=\"white\" stroke-width=\"1\" /><text x=\"92.38337890625\" y=\"175.0\" dominant-baseline=\"middle\" text-anchor=\"middle\" font-size=\"14px\" font-family=\"Arial\">Y^0.5</text><rect x=\"70.0\" y=\"205.0\" width=\"44.7667578125\" height=\"40\" stroke=\"black\" fill=\"white\" stroke-width=\"1\" /><text x=\"92.38337890625\" y=\"225.0\" dominant-baseline=\"middle\" text-anchor=\"middle\" font-size=\"14px\" font-family=\"Arial\">Y^0.5</text><rect x=\"70.0\" y=\"255.0\" width=\"44.7667578125\" height=\"40\" stroke=\"black\" fill=\"white\" stroke-width=\"1\" /><text x=\"92.38337890625\" y=\"275.0\" dominant-baseline=\"middle\" text-anchor=\"middle\" font-size=\"14px\" font-family=\"Arial\">Y^0.5</text><rect x=\"70.0\" y=\"305.0\" width=\"44.7667578125\" height=\"40\" stroke=\"black\" fill=\"white\" stroke-width=\"1\" /><text x=\"92.38337890625\" y=\"325.0\" dominant-baseline=\"middle\" text-anchor=\"middle\" font-size=\"14px\" font-family=\"Arial\">Y^0.5</text><rect x=\"70.0\" y=\"355.0\" width=\"44.7667578125\" height=\"40\" stroke=\"black\" fill=\"white\" stroke-width=\"1\" /><text x=\"92.38337890625\" y=\"375.0\" dominant-baseline=\"middle\" text-anchor=\"middle\" font-size=\"14px\" font-family=\"Arial\">Y^0.5</text><rect x=\"134.76675781249997\" y=\"5.0\" width=\"44.7667578125\" height=\"40\" stroke=\"black\" fill=\"white\" stroke-width=\"1\" /><text x=\"157.15013671875\" y=\"25.0\" dominant-baseline=\"middle\" text-anchor=\"middle\" font-size=\"14px\" font-family=\"Arial\">Y^0.5</text><rect x=\"134.76675781249997\" y=\"55.0\" width=\"44.7667578125\" height=\"40\" stroke=\"black\" fill=\"white\" stroke-width=\"1\" /><text x=\"157.15013671875\" y=\"75.0\" dominant-baseline=\"middle\" text-anchor=\"middle\" font-size=\"18px\" font-family=\"Arial\">X</text><rect x=\"134.76675781249997\" y=\"105.0\" width=\"44.7667578125\" height=\"40\" stroke=\"black\" fill=\"white\" stroke-width=\"1\" /><text x=\"157.15013671875\" y=\"125.0\" dominant-baseline=\"middle\" text-anchor=\"middle\" font-size=\"18px\" font-family=\"Arial\">X</text><rect x=\"134.76675781249997\" y=\"155.0\" width=\"44.7667578125\" height=\"40\" stroke=\"black\" fill=\"white\" stroke-width=\"1\" /><text x=\"157.15013671875\" y=\"175.0\" dominant-baseline=\"middle\" text-anchor=\"middle\" font-size=\"18px\" font-family=\"Arial\">X</text><rect x=\"134.76675781249997\" y=\"205.0\" width=\"44.7667578125\" height=\"40\" stroke=\"black\" fill=\"white\" stroke-width=\"1\" /><text x=\"157.15013671875\" y=\"225.0\" dominant-baseline=\"middle\" text-anchor=\"middle\" font-size=\"18px\" font-family=\"Arial\">X</text><rect x=\"134.76675781249997\" y=\"255.0\" width=\"44.7667578125\" height=\"40\" stroke=\"black\" fill=\"white\" stroke-width=\"1\" /><text x=\"157.15013671875\" y=\"275.0\" dominant-baseline=\"middle\" text-anchor=\"middle\" font-size=\"18px\" font-family=\"Arial\">X</text><rect x=\"134.76675781249997\" y=\"305.0\" width=\"44.7667578125\" height=\"40\" stroke=\"black\" fill=\"white\" stroke-width=\"1\" /><text x=\"157.15013671875\" y=\"325.0\" dominant-baseline=\"middle\" text-anchor=\"middle\" font-size=\"18px\" font-family=\"Arial\">X</text><rect x=\"134.76675781249997\" y=\"355.0\" width=\"44.7667578125\" height=\"40\" stroke=\"black\" fill=\"white\" stroke-width=\"1\" /><text x=\"157.15013671875\" y=\"375.0\" dominant-baseline=\"middle\" text-anchor=\"middle\" font-size=\"18px\" font-family=\"Arial\">X</text><rect x=\"199.533515625\" y=\"5.0\" width=\"40\" height=\"40\" stroke=\"black\" fill=\"white\" stroke-width=\"1\" /><text x=\"219.533515625\" y=\"25.0\" dominant-baseline=\"middle\" text-anchor=\"middle\" font-size=\"18px\" font-family=\"Arial\">X</text><circle cx=\"279.533515625\" cy=\"25.0\" r=\"10.0\" /><circle cx=\"279.533515625\" cy=\"75.0\" r=\"10.0\" /><rect x=\"319.533515625\" y=\"5.0\" width=\"84.18386718750001\" height=\"40\" stroke=\"black\" fill=\"white\" stroke-width=\"1\" /><text x=\"361.62544921875\" y=\"25.0\" dominant-baseline=\"middle\" text-anchor=\"middle\" font-size=\"14px\" font-family=\"Arial\">Ry(0.286π)</text><rect x=\"319.533515625\" y=\"55.0\" width=\"84.18386718750001\" height=\"40\" stroke=\"black\" fill=\"white\" stroke-width=\"1\" /><text x=\"361.62544921875\" y=\"75.0\" dominant-baseline=\"middle\" text-anchor=\"middle\" font-size=\"14px\" font-family=\"Arial\">Ry(-0.286π)</text><circle cx=\"443.71738281250003\" cy=\"25.0\" r=\"10.0\" /><circle cx=\"443.71738281250003\" cy=\"75.0\" r=\"10.0\" /><rect x=\"483.71738281250003\" y=\"5.0\" width=\"44.7667578125\" height=\"40\" stroke=\"black\" fill=\"white\" stroke-width=\"1\" /><text x=\"506.10076171875005\" y=\"25.0\" dominant-baseline=\"middle\" text-anchor=\"middle\" font-size=\"14px\" font-family=\"Arial\">Y^0.5</text><rect x=\"483.71738281250003\" y=\"55.0\" width=\"44.7667578125\" height=\"40\" stroke=\"black\" fill=\"white\" stroke-width=\"1\" /><text x=\"506.10076171875005\" y=\"75.0\" dominant-baseline=\"middle\" text-anchor=\"middle\" font-size=\"14px\" font-family=\"Arial\">Y^0.5</text><rect x=\"548.484140625\" y=\"5.0\" width=\"40\" height=\"40\" stroke=\"black\" fill=\"white\" stroke-width=\"1\" /><text x=\"568.484140625\" y=\"25.0\" dominant-baseline=\"middle\" text-anchor=\"middle\" font-size=\"18px\" font-family=\"Arial\">X</text><rect x=\"548.484140625\" y=\"55.0\" width=\"40\" height=\"40\" stroke=\"black\" fill=\"white\" stroke-width=\"1\" /><text x=\"568.484140625\" y=\"75.0\" dominant-baseline=\"middle\" text-anchor=\"middle\" font-size=\"18px\" font-family=\"Arial\">X</text><rect x=\"608.484140625\" y=\"55.0\" width=\"44.7667578125\" height=\"40\" stroke=\"black\" fill=\"white\" stroke-width=\"1\" /><text x=\"630.86751953125\" y=\"75.0\" dominant-baseline=\"middle\" text-anchor=\"middle\" font-size=\"14px\" font-family=\"Arial\">Y^0.5</text><rect x=\"673.2508984375\" y=\"55.0\" width=\"40\" height=\"40\" stroke=\"black\" fill=\"white\" stroke-width=\"1\" /><text x=\"693.2508984375\" y=\"75.0\" dominant-baseline=\"middle\" text-anchor=\"middle\" font-size=\"18px\" font-family=\"Arial\">X</text><circle cx=\"753.2508984375\" cy=\"75.0\" r=\"10.0\" /><circle cx=\"753.2508984375\" cy=\"125.0\" r=\"10.0\" /><rect x=\"793.2508984375\" y=\"55.0\" width=\"82.1188671875\" height=\"40\" stroke=\"black\" fill=\"white\" stroke-width=\"1\" /><text x=\"834.31033203125\" y=\"75.0\" dominant-baseline=\"middle\" text-anchor=\"middle\" font-size=\"14px\" font-family=\"Arial\">Ry(0.111π)</text><rect x=\"793.2508984375\" y=\"105.0\" width=\"82.1188671875\" height=\"40\" stroke=\"black\" fill=\"white\" stroke-width=\"1\" /><text x=\"834.31033203125\" y=\"125.0\" dominant-baseline=\"middle\" text-anchor=\"middle\" font-size=\"14px\" font-family=\"Arial\">Ry(-0.111π)</text><circle cx=\"915.369765625\" cy=\"75.0\" r=\"10.0\" /><circle cx=\"915.369765625\" cy=\"125.0\" r=\"10.0\" /><rect x=\"955.369765625\" y=\"55.0\" width=\"44.7667578125\" height=\"40\" stroke=\"black\" fill=\"white\" stroke-width=\"1\" /><text x=\"977.75314453125\" y=\"75.0\" dominant-baseline=\"middle\" text-anchor=\"middle\" font-size=\"14px\" font-family=\"Arial\">Y^0.5</text><rect x=\"955.369765625\" y=\"105.0\" width=\"44.7667578125\" height=\"40\" stroke=\"black\" fill=\"white\" stroke-width=\"1\" /><text x=\"977.75314453125\" y=\"125.0\" dominant-baseline=\"middle\" text-anchor=\"middle\" font-size=\"14px\" font-family=\"Arial\">Y^0.5</text><rect x=\"1020.1365234375\" y=\"55.0\" width=\"40\" height=\"40\" stroke=\"black\" fill=\"white\" stroke-width=\"1\" /><text x=\"1040.1365234375\" y=\"75.0\" dominant-baseline=\"middle\" text-anchor=\"middle\" font-size=\"18px\" font-family=\"Arial\">X</text><rect x=\"1020.1365234375\" y=\"105.0\" width=\"40\" height=\"40\" stroke=\"black\" fill=\"white\" stroke-width=\"1\" /><text x=\"1040.1365234375\" y=\"125.0\" dominant-baseline=\"middle\" text-anchor=\"middle\" font-size=\"18px\" font-family=\"Arial\">X</text><rect x=\"1080.1365234375\" y=\"105.0\" width=\"44.7667578125\" height=\"40\" stroke=\"black\" fill=\"white\" stroke-width=\"1\" /><text x=\"1102.5199023437501\" y=\"125.0\" dominant-baseline=\"middle\" text-anchor=\"middle\" font-size=\"14px\" font-family=\"Arial\">Y^0.5</text><rect x=\"1144.90328125\" y=\"105.0\" width=\"40\" height=\"40\" stroke=\"black\" fill=\"white\" stroke-width=\"1\" /><text x=\"1164.90328125\" y=\"125.0\" dominant-baseline=\"middle\" text-anchor=\"middle\" font-size=\"18px\" font-family=\"Arial\">X</text><circle cx=\"1224.90328125\" cy=\"125.0\" r=\"10.0\" /><circle cx=\"1224.90328125\" cy=\"175.0\" r=\"10.0\" /><rect x=\"1264.90328125\" y=\"105.0\" width=\"76.397734375\" height=\"40\" stroke=\"black\" fill=\"white\" stroke-width=\"1\" /><text x=\"1303.1021484374999\" y=\"125.0\" dominant-baseline=\"middle\" text-anchor=\"middle\" font-size=\"14px\" font-family=\"Arial\">Ry(0.39π)</text><rect x=\"1264.90328125\" y=\"155.0\" width=\"76.397734375\" height=\"40\" stroke=\"black\" fill=\"white\" stroke-width=\"1\" /><text x=\"1303.1021484374999\" y=\"175.0\" dominant-baseline=\"middle\" text-anchor=\"middle\" font-size=\"14px\" font-family=\"Arial\">Ry(-0.39π)</text><circle cx=\"1381.301015625\" cy=\"125.0\" r=\"10.0\" /><circle cx=\"1381.301015625\" cy=\"175.0\" r=\"10.0\" /><rect x=\"1421.301015625\" y=\"105.0\" width=\"44.7667578125\" height=\"40\" stroke=\"black\" fill=\"white\" stroke-width=\"1\" /><text x=\"1443.68439453125\" y=\"125.0\" dominant-baseline=\"middle\" text-anchor=\"middle\" font-size=\"14px\" font-family=\"Arial\">Y^0.5</text><rect x=\"1421.301015625\" y=\"155.0\" width=\"44.7667578125\" height=\"40\" stroke=\"black\" fill=\"white\" stroke-width=\"1\" /><text x=\"1443.68439453125\" y=\"175.0\" dominant-baseline=\"middle\" text-anchor=\"middle\" font-size=\"14px\" font-family=\"Arial\">Y^0.5</text><rect x=\"1486.0677734375\" y=\"105.0\" width=\"40\" height=\"40\" stroke=\"black\" fill=\"white\" stroke-width=\"1\" /><text x=\"1506.0677734375\" y=\"125.0\" dominant-baseline=\"middle\" text-anchor=\"middle\" font-size=\"18px\" font-family=\"Arial\">X</text><rect x=\"1486.0677734375\" y=\"155.0\" width=\"40\" height=\"40\" stroke=\"black\" fill=\"white\" stroke-width=\"1\" /><text x=\"1506.0677734375\" y=\"175.0\" dominant-baseline=\"middle\" text-anchor=\"middle\" font-size=\"18px\" font-family=\"Arial\">X</text><rect x=\"1546.0677734375\" y=\"155.0\" width=\"44.7667578125\" height=\"40\" stroke=\"black\" fill=\"white\" stroke-width=\"1\" /><text x=\"1568.45115234375\" y=\"175.0\" dominant-baseline=\"middle\" text-anchor=\"middle\" font-size=\"14px\" font-family=\"Arial\">Y^0.5</text><rect x=\"1610.8345312499998\" y=\"155.0\" width=\"40\" height=\"40\" stroke=\"black\" fill=\"white\" stroke-width=\"1\" /><text x=\"1630.8345312499998\" y=\"175.0\" dominant-baseline=\"middle\" text-anchor=\"middle\" font-size=\"18px\" font-family=\"Arial\">X</text><circle cx=\"1690.8345312499998\" cy=\"175.0\" r=\"10.0\" /><circle cx=\"1690.8345312499998\" cy=\"225.0\" r=\"10.0\" /><rect x=\"1730.8345312499998\" y=\"155.0\" width=\"68.6116015625\" height=\"40\" stroke=\"black\" fill=\"white\" stroke-width=\"1\" /><text x=\"1765.1403320312497\" y=\"175.0\" dominant-baseline=\"middle\" text-anchor=\"middle\" font-size=\"14px\" font-family=\"Arial\">Ry(0.2π)</text><rect x=\"1730.8345312499998\" y=\"205.0\" width=\"68.6116015625\" height=\"40\" stroke=\"black\" fill=\"white\" stroke-width=\"1\" /><text x=\"1765.1403320312497\" y=\"225.0\" dominant-baseline=\"middle\" text-anchor=\"middle\" font-size=\"14px\" font-family=\"Arial\">Ry(-0.2π)</text><circle cx=\"1839.4461328124999\" cy=\"175.0\" r=\"10.0\" /><circle cx=\"1839.4461328124999\" cy=\"225.0\" r=\"10.0\" /><rect x=\"1879.4461328124999\" y=\"155.0\" width=\"44.7667578125\" height=\"40\" stroke=\"black\" fill=\"white\" stroke-width=\"1\" /><text x=\"1901.82951171875\" y=\"175.0\" dominant-baseline=\"middle\" text-anchor=\"middle\" font-size=\"14px\" font-family=\"Arial\">Y^0.5</text><rect x=\"1879.4461328124999\" y=\"205.0\" width=\"44.7667578125\" height=\"40\" stroke=\"black\" fill=\"white\" stroke-width=\"1\" /><text x=\"1901.82951171875\" y=\"225.0\" dominant-baseline=\"middle\" text-anchor=\"middle\" font-size=\"14px\" font-family=\"Arial\">Y^0.5</text><rect x=\"1944.2128906249998\" y=\"155.0\" width=\"40\" height=\"40\" stroke=\"black\" fill=\"white\" stroke-width=\"1\" /><text x=\"1964.2128906249998\" y=\"175.0\" dominant-baseline=\"middle\" text-anchor=\"middle\" font-size=\"18px\" font-family=\"Arial\">X</text><rect x=\"1944.2128906249998\" y=\"205.0\" width=\"40\" height=\"40\" stroke=\"black\" fill=\"white\" stroke-width=\"1\" /><text x=\"1964.2128906249998\" y=\"225.0\" dominant-baseline=\"middle\" text-anchor=\"middle\" font-size=\"18px\" font-family=\"Arial\">X</text><rect x=\"2004.2128906249998\" y=\"205.0\" width=\"44.7667578125\" height=\"40\" stroke=\"black\" fill=\"white\" stroke-width=\"1\" /><text x=\"2026.5962695312498\" y=\"225.0\" dominant-baseline=\"middle\" text-anchor=\"middle\" font-size=\"14px\" font-family=\"Arial\">Y^0.5</text><rect x=\"2068.9796484374997\" y=\"205.0\" width=\"40\" height=\"40\" stroke=\"black\" fill=\"white\" stroke-width=\"1\" /><text x=\"2088.9796484374997\" y=\"225.0\" dominant-baseline=\"middle\" text-anchor=\"middle\" font-size=\"18px\" font-family=\"Arial\">X</text><circle cx=\"2148.9796484374997\" cy=\"225.0\" r=\"10.0\" /><circle cx=\"2148.9796484374997\" cy=\"275.0\" r=\"10.0\" /><rect x=\"2188.9796484374997\" y=\"205.0\" width=\"84.18386718750001\" height=\"40\" stroke=\"black\" fill=\"white\" stroke-width=\"1\" /><text x=\"2231.07158203125\" y=\"225.0\" dominant-baseline=\"middle\" text-anchor=\"middle\" font-size=\"14px\" font-family=\"Arial\">Ry(0.227π)</text><rect x=\"2188.9796484374997\" y=\"255.0\" width=\"84.18386718750001\" height=\"40\" stroke=\"black\" fill=\"white\" stroke-width=\"1\" /><text x=\"2231.07158203125\" y=\"275.0\" dominant-baseline=\"middle\" text-anchor=\"middle\" font-size=\"14px\" font-family=\"Arial\">Ry(-0.227π)</text><circle cx=\"2313.1635156249995\" cy=\"225.0\" r=\"10.0\" /><circle cx=\"2313.1635156249995\" cy=\"275.0\" r=\"10.0\" /><rect x=\"2353.1635156249995\" y=\"205.0\" width=\"44.7667578125\" height=\"40\" stroke=\"black\" fill=\"white\" stroke-width=\"1\" /><text x=\"2375.5468945312496\" y=\"225.0\" dominant-baseline=\"middle\" text-anchor=\"middle\" font-size=\"14px\" font-family=\"Arial\">Y^0.5</text><rect x=\"2353.1635156249995\" y=\"255.0\" width=\"44.7667578125\" height=\"40\" stroke=\"black\" fill=\"white\" stroke-width=\"1\" /><text x=\"2375.5468945312496\" y=\"275.0\" dominant-baseline=\"middle\" text-anchor=\"middle\" font-size=\"14px\" font-family=\"Arial\">Y^0.5</text><rect x=\"2417.9302734374996\" y=\"205.0\" width=\"40\" height=\"40\" stroke=\"black\" fill=\"white\" stroke-width=\"1\" /><text x=\"2437.9302734374996\" y=\"225.0\" dominant-baseline=\"middle\" text-anchor=\"middle\" font-size=\"18px\" font-family=\"Arial\">X</text><rect x=\"2417.9302734374996\" y=\"255.0\" width=\"40\" height=\"40\" stroke=\"black\" fill=\"white\" stroke-width=\"1\" /><text x=\"2437.9302734374996\" y=\"275.0\" dominant-baseline=\"middle\" text-anchor=\"middle\" font-size=\"18px\" font-family=\"Arial\">X</text><rect x=\"2477.9302734374996\" y=\"255.0\" width=\"44.7667578125\" height=\"40\" stroke=\"black\" fill=\"white\" stroke-width=\"1\" /><text x=\"2500.3136523437497\" y=\"275.0\" dominant-baseline=\"middle\" text-anchor=\"middle\" font-size=\"14px\" font-family=\"Arial\">Y^0.5</text><rect x=\"2542.69703125\" y=\"255.0\" width=\"40\" height=\"40\" stroke=\"black\" fill=\"white\" stroke-width=\"1\" /><text x=\"2562.69703125\" y=\"275.0\" dominant-baseline=\"middle\" text-anchor=\"middle\" font-size=\"18px\" font-family=\"Arial\">X</text><circle cx=\"2622.69703125\" cy=\"275.0\" r=\"10.0\" /><circle cx=\"2622.69703125\" cy=\"325.0\" r=\"10.0\" /><rect x=\"2662.69703125\" y=\"255.0\" width=\"68.6116015625\" height=\"40\" stroke=\"black\" fill=\"white\" stroke-width=\"1\" /><text x=\"2697.00283203125\" y=\"275.0\" dominant-baseline=\"middle\" text-anchor=\"middle\" font-size=\"14px\" font-family=\"Arial\">Ry(0.1π)</text><rect x=\"2662.69703125\" y=\"305.0\" width=\"68.6116015625\" height=\"40\" stroke=\"black\" fill=\"white\" stroke-width=\"1\" /><text x=\"2697.00283203125\" y=\"325.0\" dominant-baseline=\"middle\" text-anchor=\"middle\" font-size=\"14px\" font-family=\"Arial\">Ry(-0.1π)</text><circle cx=\"2771.3086328124996\" cy=\"275.0\" r=\"10.0\" /><circle cx=\"2771.3086328124996\" cy=\"325.0\" r=\"10.0\" /><rect x=\"2811.3086328124996\" y=\"255.0\" width=\"44.7667578125\" height=\"40\" stroke=\"black\" fill=\"white\" stroke-width=\"1\" /><text x=\"2833.6920117187497\" y=\"275.0\" dominant-baseline=\"middle\" text-anchor=\"middle\" font-size=\"14px\" font-family=\"Arial\">Y^0.5</text><rect x=\"2811.3086328124996\" y=\"305.0\" width=\"44.7667578125\" height=\"40\" stroke=\"black\" fill=\"white\" stroke-width=\"1\" /><text x=\"2833.6920117187497\" y=\"325.0\" dominant-baseline=\"middle\" text-anchor=\"middle\" font-size=\"14px\" font-family=\"Arial\">Y^0.5</text><rect x=\"2876.0753906249997\" y=\"255.0\" width=\"40\" height=\"40\" stroke=\"black\" fill=\"white\" stroke-width=\"1\" /><text x=\"2896.0753906249997\" y=\"275.0\" dominant-baseline=\"middle\" text-anchor=\"middle\" font-size=\"18px\" font-family=\"Arial\">X</text><rect x=\"2876.0753906249997\" y=\"305.0\" width=\"40\" height=\"40\" stroke=\"black\" fill=\"white\" stroke-width=\"1\" /><text x=\"2896.0753906249997\" y=\"325.0\" dominant-baseline=\"middle\" text-anchor=\"middle\" font-size=\"18px\" font-family=\"Arial\">X</text><rect x=\"2936.0753906249997\" y=\"305.0\" width=\"44.7667578125\" height=\"40\" stroke=\"black\" fill=\"white\" stroke-width=\"1\" /><text x=\"2958.45876953125\" y=\"325.0\" dominant-baseline=\"middle\" text-anchor=\"middle\" font-size=\"14px\" font-family=\"Arial\">Y^0.5</text><rect x=\"3000.8421484375\" y=\"305.0\" width=\"40\" height=\"40\" stroke=\"black\" fill=\"white\" stroke-width=\"1\" /><text x=\"3020.8421484375\" y=\"325.0\" dominant-baseline=\"middle\" text-anchor=\"middle\" font-size=\"18px\" font-family=\"Arial\">X</text><circle cx=\"3080.8421484375\" cy=\"325.0\" r=\"10.0\" /><circle cx=\"3080.8421484375\" cy=\"375.0\" r=\"10.0\" /><rect x=\"3120.8421484375\" y=\"305.0\" width=\"84.18386718750001\" height=\"40\" stroke=\"black\" fill=\"white\" stroke-width=\"1\" /><text x=\"3162.93408203125\" y=\"325.0\" dominant-baseline=\"middle\" text-anchor=\"middle\" font-size=\"14px\" font-family=\"Arial\">Ry(-0.174π)</text><rect x=\"3120.8421484375\" y=\"355.0\" width=\"84.18386718750001\" height=\"40\" stroke=\"black\" fill=\"white\" stroke-width=\"1\" /><text x=\"3162.93408203125\" y=\"375.0\" dominant-baseline=\"middle\" text-anchor=\"middle\" font-size=\"14px\" font-family=\"Arial\">Ry(0.174π)</text><circle cx=\"3245.0260156249997\" cy=\"325.0\" r=\"10.0\" /><circle cx=\"3245.0260156249997\" cy=\"375.0\" r=\"10.0\" /><rect x=\"3285.0260156249997\" y=\"305.0\" width=\"44.7667578125\" height=\"40\" stroke=\"black\" fill=\"white\" stroke-width=\"1\" /><text x=\"3307.4093945312497\" y=\"325.0\" dominant-baseline=\"middle\" text-anchor=\"middle\" font-size=\"14px\" font-family=\"Arial\">Y^0.5</text><rect x=\"3285.0260156249997\" y=\"355.0\" width=\"44.7667578125\" height=\"40\" stroke=\"black\" fill=\"white\" stroke-width=\"1\" /><text x=\"3307.4093945312497\" y=\"375.0\" dominant-baseline=\"middle\" text-anchor=\"middle\" font-size=\"14px\" font-family=\"Arial\">Y^0.5</text><rect x=\"3349.7927734375\" y=\"305.0\" width=\"40\" height=\"40\" stroke=\"black\" fill=\"white\" stroke-width=\"1\" /><text x=\"3369.7927734375\" y=\"325.0\" dominant-baseline=\"middle\" text-anchor=\"middle\" font-size=\"18px\" font-family=\"Arial\">X</text><rect x=\"3349.7927734375\" y=\"355.0\" width=\"40\" height=\"40\" stroke=\"black\" fill=\"white\" stroke-width=\"1\" /><text x=\"3369.7927734375\" y=\"375.0\" dominant-baseline=\"middle\" text-anchor=\"middle\" font-size=\"18px\" font-family=\"Arial\">X</text></svg>"
      ],
      "text/plain": [
       "<cirq.contrib.svg.svg.SVGCircuit at 0x7fb3e0ad5df0>"
      ]
     },
     "execution_count": 7,
     "metadata": {},
     "output_type": "execute_result"
    }
   ],
   "source": [
    "SVGCircuit(x_train_circ[0])"
   ]
  },
  {
   "cell_type": "code",
   "execution_count": 8,
   "id": "9d3a2f5c-49a6-4e25-ac27-27c27b8ba122",
   "metadata": {},
   "outputs": [],
   "source": [
    "x_train_tfcirc = tfq.convert_to_tensor(x_train_circ)\n",
    "x_test_tfcirc = tfq.convert_to_tensor(x_test_circ)"
   ]
  },
  {
   "cell_type": "code",
   "execution_count": 9,
   "id": "7febd985-77ba-4595-8a0d-a39307b5a46e",
   "metadata": {},
   "outputs": [],
   "source": [
    "def butterfly_circuit(circuit, parameters, wires=None):\n",
    "    # If wires is None, use all qubits in the circuit\n",
    "    if wires is None:\n",
    "        wires = list(circuit.all_qubits())\n",
    "        length = len(wires)\n",
    "    else:\n",
    "        # If wires is not None, ensure it's a list of qubits\n",
    "        length = len(wires)\n",
    "    if length > 1:\n",
    "        n=length//2\n",
    "        x = 0\n",
    "        for i in range(n):\n",
    "            build_rbs(circuit, wires[i], wires[i+n], parameters[x])\n",
    "            x += 1\n",
    "        butterfly_circuit(circuit, parameters[x: (len(parameters)//2 + x//2) ], wires = wires[:n])\n",
    "        butterfly_circuit(circuit, parameters[(len(parameters)//2 + x//2):], wires = wires[n:])\n",
    "\n",
    "def pyramid_circuit(circuit, parameters, wires=None):\n",
    "    # If wires is None, use all qubits in the circuit\n",
    "    if wires is None:\n",
    "        wires = list(circuit.all_qubits())\n",
    "        length = len(wires)\n",
    "    else:\n",
    "        # If wires is not None, ensure it's a list of qubits\n",
    "        length = len(wires)\n",
    "\n",
    "    k = 0  \n",
    "\n",
    "    for i in range(2 * length - 2):\n",
    "        j = length - abs(length - 1 - i)\n",
    "\n",
    "        if i % 2:\n",
    "            for _ in range(j):\n",
    "                if _ % 2 == 0 and k < len(parameters):\n",
    "                    build_rbs(circuit, wires[_], wires[_ + 1], parameters[k])\n",
    "                    k += 1\n",
    "        else:\n",
    "            for _ in range(j):\n",
    "                if _ % 2 and k < len(parameters):\n",
    "                    build_rbs(circuit, wires[_], wires[_ + 1], parameters[k])\n",
    "                    k += 1\n",
    "\n",
    "class CircuitLayerBuilder():\n",
    "    def __init__(self, data_qubits):\n",
    "        self.data_qubits = data_qubits\n",
    "\n",
    "    def add_layer(self, circuit, gate, prefix):\n",
    "        for i in range(len(self.data_qubits) - 2, -1, -1):\n",
    "            symbol = sympy.Symbol(prefix + '-' + str(i )) \n",
    "            q0, q1 = self.data_qubits[i], self.data_qubits[i + 1]\n",
    "            build_rbs(circuit, q0, q1, symbol)\n",
    "        circuit.append(cirq.X(self.data_qubits[0]))"
   ]
  },
  {
   "cell_type": "code",
   "execution_count": 10,
   "id": "adccb3ef-69e3-4bbe-ad62-6aa20f0ab3f5",
   "metadata": {},
   "outputs": [
    {
     "data": {
      "image/svg+xml": [
       "<svg xmlns=\"http://www.w3.org/2000/svg\" width=\"2523.30171875\" height=\"400.0\"><line x1=\"30.0\" x2=\"2493.30171875\" y1=\"25.0\" y2=\"25.0\" stroke=\"#1967d2\" stroke-width=\"1\" /><line x1=\"30.0\" x2=\"2493.30171875\" y1=\"75.0\" y2=\"75.0\" stroke=\"#1967d2\" stroke-width=\"1\" /><line x1=\"30.0\" x2=\"2493.30171875\" y1=\"125.0\" y2=\"125.0\" stroke=\"#1967d2\" stroke-width=\"1\" /><line x1=\"30.0\" x2=\"2493.30171875\" y1=\"175.0\" y2=\"175.0\" stroke=\"#1967d2\" stroke-width=\"1\" /><line x1=\"30.0\" x2=\"2493.30171875\" y1=\"225.0\" y2=\"225.0\" stroke=\"#1967d2\" stroke-width=\"1\" /><line x1=\"30.0\" x2=\"2493.30171875\" y1=\"275.0\" y2=\"275.0\" stroke=\"#1967d2\" stroke-width=\"1\" /><line x1=\"30.0\" x2=\"2493.30171875\" y1=\"325.0\" y2=\"325.0\" stroke=\"#1967d2\" stroke-width=\"1\" /><line x1=\"30.0\" x2=\"2493.30171875\" y1=\"375.0\" y2=\"375.0\" stroke=\"#1967d2\" stroke-width=\"1\" /><line x1=\"150.0\" x2=\"150.0\" y1=\"325.0\" y2=\"375.0\" stroke=\"black\" stroke-width=\"3\" /><line x1=\"307.61453125\" x2=\"307.61453125\" y1=\"325.0\" y2=\"375.0\" stroke=\"black\" stroke-width=\"3\" /><line x1=\"487.61453125\" x2=\"487.61453125\" y1=\"275.0\" y2=\"325.0\" stroke=\"black\" stroke-width=\"3\" /><line x1=\"645.2290625\" x2=\"645.2290625\" y1=\"275.0\" y2=\"325.0\" stroke=\"black\" stroke-width=\"3\" /><line x1=\"825.2290625\" x2=\"825.2290625\" y1=\"225.0\" y2=\"275.0\" stroke=\"black\" stroke-width=\"3\" /><line x1=\"982.8435937500001\" x2=\"982.8435937500001\" y1=\"225.0\" y2=\"275.0\" stroke=\"black\" stroke-width=\"3\" /><line x1=\"1162.84359375\" x2=\"1162.84359375\" y1=\"175.0\" y2=\"225.0\" stroke=\"black\" stroke-width=\"3\" /><line x1=\"1320.458125\" x2=\"1320.458125\" y1=\"175.0\" y2=\"225.0\" stroke=\"black\" stroke-width=\"3\" /><line x1=\"1500.458125\" x2=\"1500.458125\" y1=\"125.0\" y2=\"175.0\" stroke=\"black\" stroke-width=\"3\" /><line x1=\"1658.0726562500001\" x2=\"1658.0726562500001\" y1=\"125.0\" y2=\"175.0\" stroke=\"black\" stroke-width=\"3\" /><line x1=\"1838.0726562500001\" x2=\"1838.0726562500001\" y1=\"75.0\" y2=\"125.0\" stroke=\"black\" stroke-width=\"3\" /><line x1=\"1995.6871875000002\" x2=\"1995.6871875000002\" y1=\"75.0\" y2=\"125.0\" stroke=\"black\" stroke-width=\"3\" /><line x1=\"2175.6871875\" x2=\"2175.6871875\" y1=\"25.0\" y2=\"75.0\" stroke=\"black\" stroke-width=\"3\" /><line x1=\"2333.30171875\" x2=\"2333.30171875\" y1=\"25.0\" y2=\"75.0\" stroke=\"black\" stroke-width=\"3\" /><rect x=\"10.0\" y=\"5.0\" width=\"40\" height=\"40\" stroke=\"black\" fill=\"white\" stroke-width=\"0\" /><text x=\"30.0\" y=\"25.0\" dominant-baseline=\"middle\" text-anchor=\"middle\" font-size=\"14px\" font-family=\"Arial\">0: </text><rect x=\"10.0\" y=\"55.0\" width=\"40\" height=\"40\" stroke=\"black\" fill=\"white\" stroke-width=\"0\" /><text x=\"30.0\" y=\"75.0\" dominant-baseline=\"middle\" text-anchor=\"middle\" font-size=\"14px\" font-family=\"Arial\">1: </text><rect x=\"10.0\" y=\"105.0\" width=\"40\" height=\"40\" stroke=\"black\" fill=\"white\" stroke-width=\"0\" /><text x=\"30.0\" y=\"125.0\" dominant-baseline=\"middle\" text-anchor=\"middle\" font-size=\"14px\" font-family=\"Arial\">2: </text><rect x=\"10.0\" y=\"155.0\" width=\"40\" height=\"40\" stroke=\"black\" fill=\"white\" stroke-width=\"0\" /><text x=\"30.0\" y=\"175.0\" dominant-baseline=\"middle\" text-anchor=\"middle\" font-size=\"14px\" font-family=\"Arial\">3: </text><rect x=\"10.0\" y=\"205.0\" width=\"40\" height=\"40\" stroke=\"black\" fill=\"white\" stroke-width=\"0\" /><text x=\"30.0\" y=\"225.0\" dominant-baseline=\"middle\" text-anchor=\"middle\" font-size=\"14px\" font-family=\"Arial\">4: </text><rect x=\"10.0\" y=\"255.0\" width=\"40\" height=\"40\" stroke=\"black\" fill=\"white\" stroke-width=\"0\" /><text x=\"30.0\" y=\"275.0\" dominant-baseline=\"middle\" text-anchor=\"middle\" font-size=\"14px\" font-family=\"Arial\">5: </text><rect x=\"10.0\" y=\"305.0\" width=\"40\" height=\"40\" stroke=\"black\" fill=\"white\" stroke-width=\"0\" /><text x=\"30.0\" y=\"325.0\" dominant-baseline=\"middle\" text-anchor=\"middle\" font-size=\"14px\" font-family=\"Arial\">6: </text><rect x=\"10.0\" y=\"355.0\" width=\"40\" height=\"40\" stroke=\"black\" fill=\"white\" stroke-width=\"0\" /><text x=\"30.0\" y=\"375.0\" dominant-baseline=\"middle\" text-anchor=\"middle\" font-size=\"14px\" font-family=\"Arial\">7: </text><rect x=\"70.0\" y=\"305.0\" width=\"40\" height=\"40\" stroke=\"black\" fill=\"white\" stroke-width=\"1\" /><text x=\"90.0\" y=\"325.0\" dominant-baseline=\"middle\" text-anchor=\"middle\" font-size=\"18px\" font-family=\"Arial\">H</text><rect x=\"70.0\" y=\"355.0\" width=\"40\" height=\"40\" stroke=\"black\" fill=\"white\" stroke-width=\"1\" /><text x=\"90.0\" y=\"375.0\" dominant-baseline=\"middle\" text-anchor=\"middle\" font-size=\"18px\" font-family=\"Arial\">H</text><circle cx=\"150.0\" cy=\"325.0\" r=\"10.0\" /><circle cx=\"150.0\" cy=\"375.0\" r=\"10.0\" /><rect x=\"190.0\" y=\"305.0\" width=\"77.61453125\" height=\"40\" stroke=\"black\" fill=\"white\" stroke-width=\"1\" /><text x=\"228.807265625\" y=\"325.0\" dominant-baseline=\"middle\" text-anchor=\"middle\" font-size=\"14px\" font-family=\"Arial\">Ry(xx-6/2)</text><rect x=\"190.0\" y=\"355.0\" width=\"77.61453125\" height=\"40\" stroke=\"black\" fill=\"white\" stroke-width=\"1\" /><text x=\"228.807265625\" y=\"375.0\" dominant-baseline=\"middle\" text-anchor=\"middle\" font-size=\"14px\" font-family=\"Arial\">Ry(-xx-6/2)</text><circle cx=\"307.61453125\" cy=\"325.0\" r=\"10.0\" /><circle cx=\"307.61453125\" cy=\"375.0\" r=\"10.0\" /><rect x=\"347.61453125\" y=\"305.0\" width=\"40\" height=\"40\" stroke=\"black\" fill=\"white\" stroke-width=\"1\" /><text x=\"367.61453125\" y=\"325.0\" dominant-baseline=\"middle\" text-anchor=\"middle\" font-size=\"18px\" font-family=\"Arial\">H</text><rect x=\"347.61453125\" y=\"355.0\" width=\"40\" height=\"40\" stroke=\"black\" fill=\"white\" stroke-width=\"1\" /><text x=\"367.61453125\" y=\"375.0\" dominant-baseline=\"middle\" text-anchor=\"middle\" font-size=\"18px\" font-family=\"Arial\">H</text><rect x=\"407.61453125\" y=\"255.0\" width=\"40\" height=\"40\" stroke=\"black\" fill=\"white\" stroke-width=\"1\" /><text x=\"427.61453125\" y=\"275.0\" dominant-baseline=\"middle\" text-anchor=\"middle\" font-size=\"18px\" font-family=\"Arial\">H</text><rect x=\"407.61453125\" y=\"305.0\" width=\"40\" height=\"40\" stroke=\"black\" fill=\"white\" stroke-width=\"1\" /><text x=\"427.61453125\" y=\"325.0\" dominant-baseline=\"middle\" text-anchor=\"middle\" font-size=\"18px\" font-family=\"Arial\">H</text><circle cx=\"487.61453125\" cy=\"275.0\" r=\"10.0\" /><circle cx=\"487.61453125\" cy=\"325.0\" r=\"10.0\" /><rect x=\"527.61453125\" y=\"255.0\" width=\"77.61453125\" height=\"40\" stroke=\"black\" fill=\"white\" stroke-width=\"1\" /><text x=\"566.421796875\" y=\"275.0\" dominant-baseline=\"middle\" text-anchor=\"middle\" font-size=\"14px\" font-family=\"Arial\">Ry(xx-5/2)</text><rect x=\"527.61453125\" y=\"305.0\" width=\"77.61453125\" height=\"40\" stroke=\"black\" fill=\"white\" stroke-width=\"1\" /><text x=\"566.421796875\" y=\"325.0\" dominant-baseline=\"middle\" text-anchor=\"middle\" font-size=\"14px\" font-family=\"Arial\">Ry(-xx-5/2)</text><circle cx=\"645.2290625\" cy=\"275.0\" r=\"10.0\" /><circle cx=\"645.2290625\" cy=\"325.0\" r=\"10.0\" /><rect x=\"685.2290625\" y=\"255.0\" width=\"40\" height=\"40\" stroke=\"black\" fill=\"white\" stroke-width=\"1\" /><text x=\"705.2290625\" y=\"275.0\" dominant-baseline=\"middle\" text-anchor=\"middle\" font-size=\"18px\" font-family=\"Arial\">H</text><rect x=\"685.2290625\" y=\"305.0\" width=\"40\" height=\"40\" stroke=\"black\" fill=\"white\" stroke-width=\"1\" /><text x=\"705.2290625\" y=\"325.0\" dominant-baseline=\"middle\" text-anchor=\"middle\" font-size=\"18px\" font-family=\"Arial\">H</text><rect x=\"745.2290625\" y=\"205.0\" width=\"40\" height=\"40\" stroke=\"black\" fill=\"white\" stroke-width=\"1\" /><text x=\"765.2290625\" y=\"225.0\" dominant-baseline=\"middle\" text-anchor=\"middle\" font-size=\"18px\" font-family=\"Arial\">H</text><rect x=\"745.2290625\" y=\"255.0\" width=\"40\" height=\"40\" stroke=\"black\" fill=\"white\" stroke-width=\"1\" /><text x=\"765.2290625\" y=\"275.0\" dominant-baseline=\"middle\" text-anchor=\"middle\" font-size=\"18px\" font-family=\"Arial\">H</text><circle cx=\"825.2290625\" cy=\"225.0\" r=\"10.0\" /><circle cx=\"825.2290625\" cy=\"275.0\" r=\"10.0\" /><rect x=\"865.2290625\" y=\"205.0\" width=\"77.61453125\" height=\"40\" stroke=\"black\" fill=\"white\" stroke-width=\"1\" /><text x=\"904.0363281250001\" y=\"225.0\" dominant-baseline=\"middle\" text-anchor=\"middle\" font-size=\"14px\" font-family=\"Arial\">Ry(xx-4/2)</text><rect x=\"865.2290625\" y=\"255.0\" width=\"77.61453125\" height=\"40\" stroke=\"black\" fill=\"white\" stroke-width=\"1\" /><text x=\"904.0363281250001\" y=\"275.0\" dominant-baseline=\"middle\" text-anchor=\"middle\" font-size=\"14px\" font-family=\"Arial\">Ry(-xx-4/2)</text><circle cx=\"982.8435937500001\" cy=\"225.0\" r=\"10.0\" /><circle cx=\"982.8435937500001\" cy=\"275.0\" r=\"10.0\" /><rect x=\"1022.8435937500001\" y=\"205.0\" width=\"40\" height=\"40\" stroke=\"black\" fill=\"white\" stroke-width=\"1\" /><text x=\"1042.84359375\" y=\"225.0\" dominant-baseline=\"middle\" text-anchor=\"middle\" font-size=\"18px\" font-family=\"Arial\">H</text><rect x=\"1022.8435937500001\" y=\"255.0\" width=\"40\" height=\"40\" stroke=\"black\" fill=\"white\" stroke-width=\"1\" /><text x=\"1042.84359375\" y=\"275.0\" dominant-baseline=\"middle\" text-anchor=\"middle\" font-size=\"18px\" font-family=\"Arial\">H</text><rect x=\"1082.84359375\" y=\"155.0\" width=\"40\" height=\"40\" stroke=\"black\" fill=\"white\" stroke-width=\"1\" /><text x=\"1102.84359375\" y=\"175.0\" dominant-baseline=\"middle\" text-anchor=\"middle\" font-size=\"18px\" font-family=\"Arial\">H</text><rect x=\"1082.84359375\" y=\"205.0\" width=\"40\" height=\"40\" stroke=\"black\" fill=\"white\" stroke-width=\"1\" /><text x=\"1102.84359375\" y=\"225.0\" dominant-baseline=\"middle\" text-anchor=\"middle\" font-size=\"18px\" font-family=\"Arial\">H</text><circle cx=\"1162.84359375\" cy=\"175.0\" r=\"10.0\" /><circle cx=\"1162.84359375\" cy=\"225.0\" r=\"10.0\" /><rect x=\"1202.84359375\" y=\"155.0\" width=\"77.61453125\" height=\"40\" stroke=\"black\" fill=\"white\" stroke-width=\"1\" /><text x=\"1241.650859375\" y=\"175.0\" dominant-baseline=\"middle\" text-anchor=\"middle\" font-size=\"14px\" font-family=\"Arial\">Ry(xx-3/2)</text><rect x=\"1202.84359375\" y=\"205.0\" width=\"77.61453125\" height=\"40\" stroke=\"black\" fill=\"white\" stroke-width=\"1\" /><text x=\"1241.650859375\" y=\"225.0\" dominant-baseline=\"middle\" text-anchor=\"middle\" font-size=\"14px\" font-family=\"Arial\">Ry(-xx-3/2)</text><circle cx=\"1320.458125\" cy=\"175.0\" r=\"10.0\" /><circle cx=\"1320.458125\" cy=\"225.0\" r=\"10.0\" /><rect x=\"1360.458125\" y=\"155.0\" width=\"40\" height=\"40\" stroke=\"black\" fill=\"white\" stroke-width=\"1\" /><text x=\"1380.458125\" y=\"175.0\" dominant-baseline=\"middle\" text-anchor=\"middle\" font-size=\"18px\" font-family=\"Arial\">H</text><rect x=\"1360.458125\" y=\"205.0\" width=\"40\" height=\"40\" stroke=\"black\" fill=\"white\" stroke-width=\"1\" /><text x=\"1380.458125\" y=\"225.0\" dominant-baseline=\"middle\" text-anchor=\"middle\" font-size=\"18px\" font-family=\"Arial\">H</text><rect x=\"1420.458125\" y=\"105.0\" width=\"40\" height=\"40\" stroke=\"black\" fill=\"white\" stroke-width=\"1\" /><text x=\"1440.458125\" y=\"125.0\" dominant-baseline=\"middle\" text-anchor=\"middle\" font-size=\"18px\" font-family=\"Arial\">H</text><rect x=\"1420.458125\" y=\"155.0\" width=\"40\" height=\"40\" stroke=\"black\" fill=\"white\" stroke-width=\"1\" /><text x=\"1440.458125\" y=\"175.0\" dominant-baseline=\"middle\" text-anchor=\"middle\" font-size=\"18px\" font-family=\"Arial\">H</text><circle cx=\"1500.458125\" cy=\"125.0\" r=\"10.0\" /><circle cx=\"1500.458125\" cy=\"175.0\" r=\"10.0\" /><rect x=\"1540.458125\" y=\"105.0\" width=\"77.61453125\" height=\"40\" stroke=\"black\" fill=\"white\" stroke-width=\"1\" /><text x=\"1579.265390625\" y=\"125.0\" dominant-baseline=\"middle\" text-anchor=\"middle\" font-size=\"14px\" font-family=\"Arial\">Ry(xx-2/2)</text><rect x=\"1540.458125\" y=\"155.0\" width=\"77.61453125\" height=\"40\" stroke=\"black\" fill=\"white\" stroke-width=\"1\" /><text x=\"1579.265390625\" y=\"175.0\" dominant-baseline=\"middle\" text-anchor=\"middle\" font-size=\"14px\" font-family=\"Arial\">Ry(-xx-2/2)</text><circle cx=\"1658.0726562500001\" cy=\"125.0\" r=\"10.0\" /><circle cx=\"1658.0726562500001\" cy=\"175.0\" r=\"10.0\" /><rect x=\"1698.0726562500001\" y=\"105.0\" width=\"40\" height=\"40\" stroke=\"black\" fill=\"white\" stroke-width=\"1\" /><text x=\"1718.0726562500001\" y=\"125.0\" dominant-baseline=\"middle\" text-anchor=\"middle\" font-size=\"18px\" font-family=\"Arial\">H</text><rect x=\"1698.0726562500001\" y=\"155.0\" width=\"40\" height=\"40\" stroke=\"black\" fill=\"white\" stroke-width=\"1\" /><text x=\"1718.0726562500001\" y=\"175.0\" dominant-baseline=\"middle\" text-anchor=\"middle\" font-size=\"18px\" font-family=\"Arial\">H</text><rect x=\"1758.0726562500001\" y=\"55.0\" width=\"40\" height=\"40\" stroke=\"black\" fill=\"white\" stroke-width=\"1\" /><text x=\"1778.0726562500001\" y=\"75.0\" dominant-baseline=\"middle\" text-anchor=\"middle\" font-size=\"18px\" font-family=\"Arial\">H</text><rect x=\"1758.0726562500001\" y=\"105.0\" width=\"40\" height=\"40\" stroke=\"black\" fill=\"white\" stroke-width=\"1\" /><text x=\"1778.0726562500001\" y=\"125.0\" dominant-baseline=\"middle\" text-anchor=\"middle\" font-size=\"18px\" font-family=\"Arial\">H</text><circle cx=\"1838.0726562500001\" cy=\"75.0\" r=\"10.0\" /><circle cx=\"1838.0726562500001\" cy=\"125.0\" r=\"10.0\" /><rect x=\"1878.0726562500001\" y=\"55.0\" width=\"77.61453125\" height=\"40\" stroke=\"black\" fill=\"white\" stroke-width=\"1\" /><text x=\"1916.879921875\" y=\"75.0\" dominant-baseline=\"middle\" text-anchor=\"middle\" font-size=\"14px\" font-family=\"Arial\">Ry(xx-1/2)</text><rect x=\"1878.0726562500001\" y=\"105.0\" width=\"77.61453125\" height=\"40\" stroke=\"black\" fill=\"white\" stroke-width=\"1\" /><text x=\"1916.879921875\" y=\"125.0\" dominant-baseline=\"middle\" text-anchor=\"middle\" font-size=\"14px\" font-family=\"Arial\">Ry(-xx-1/2)</text><circle cx=\"1995.6871875000002\" cy=\"75.0\" r=\"10.0\" /><circle cx=\"1995.6871875000002\" cy=\"125.0\" r=\"10.0\" /><rect x=\"2035.6871875000002\" y=\"55.0\" width=\"40\" height=\"40\" stroke=\"black\" fill=\"white\" stroke-width=\"1\" /><text x=\"2055.6871875\" y=\"75.0\" dominant-baseline=\"middle\" text-anchor=\"middle\" font-size=\"18px\" font-family=\"Arial\">H</text><rect x=\"2035.6871875000002\" y=\"105.0\" width=\"40\" height=\"40\" stroke=\"black\" fill=\"white\" stroke-width=\"1\" /><text x=\"2055.6871875\" y=\"125.0\" dominant-baseline=\"middle\" text-anchor=\"middle\" font-size=\"18px\" font-family=\"Arial\">H</text><rect x=\"2095.6871875\" y=\"5.0\" width=\"40\" height=\"40\" stroke=\"black\" fill=\"white\" stroke-width=\"1\" /><text x=\"2115.6871875\" y=\"25.0\" dominant-baseline=\"middle\" text-anchor=\"middle\" font-size=\"18px\" font-family=\"Arial\">H</text><rect x=\"2095.6871875\" y=\"55.0\" width=\"40\" height=\"40\" stroke=\"black\" fill=\"white\" stroke-width=\"1\" /><text x=\"2115.6871875\" y=\"75.0\" dominant-baseline=\"middle\" text-anchor=\"middle\" font-size=\"18px\" font-family=\"Arial\">H</text><circle cx=\"2175.6871875\" cy=\"25.0\" r=\"10.0\" /><circle cx=\"2175.6871875\" cy=\"75.0\" r=\"10.0\" /><rect x=\"2215.6871875\" y=\"5.0\" width=\"77.61453125\" height=\"40\" stroke=\"black\" fill=\"white\" stroke-width=\"1\" /><text x=\"2254.4944531250003\" y=\"25.0\" dominant-baseline=\"middle\" text-anchor=\"middle\" font-size=\"14px\" font-family=\"Arial\">Ry(xx-0/2)</text><rect x=\"2215.6871875\" y=\"55.0\" width=\"77.61453125\" height=\"40\" stroke=\"black\" fill=\"white\" stroke-width=\"1\" /><text x=\"2254.4944531250003\" y=\"75.0\" dominant-baseline=\"middle\" text-anchor=\"middle\" font-size=\"14px\" font-family=\"Arial\">Ry(-xx-0/2)</text><circle cx=\"2333.30171875\" cy=\"25.0\" r=\"10.0\" /><circle cx=\"2333.30171875\" cy=\"75.0\" r=\"10.0\" /><rect x=\"2373.30171875\" y=\"5.0\" width=\"40\" height=\"40\" stroke=\"black\" fill=\"white\" stroke-width=\"1\" /><text x=\"2393.30171875\" y=\"25.0\" dominant-baseline=\"middle\" text-anchor=\"middle\" font-size=\"18px\" font-family=\"Arial\">H</text><rect x=\"2373.30171875\" y=\"55.0\" width=\"40\" height=\"40\" stroke=\"black\" fill=\"white\" stroke-width=\"1\" /><text x=\"2393.30171875\" y=\"75.0\" dominant-baseline=\"middle\" text-anchor=\"middle\" font-size=\"18px\" font-family=\"Arial\">H</text><rect x=\"2433.30171875\" y=\"5.0\" width=\"40\" height=\"40\" stroke=\"black\" fill=\"white\" stroke-width=\"1\" /><text x=\"2453.30171875\" y=\"25.0\" dominant-baseline=\"middle\" text-anchor=\"middle\" font-size=\"18px\" font-family=\"Arial\">X</text></svg>"
      ],
      "text/plain": [
       "<cirq.contrib.svg.svg.SVGCircuit at 0x7fb3ae82ca90>"
      ]
     },
     "execution_count": 10,
     "metadata": {},
     "output_type": "execute_result"
    }
   ],
   "source": [
    "demo_builder = CircuitLayerBuilder(data_qubits = [cirq.LineQubit(i) for i in range(8)])\n",
    "\n",
    "circuit = cirq.Circuit()\n",
    "demo_builder.add_layer(circuit, gate = cirq.XX, prefix='xx')\n",
    "SVGCircuit(circuit)"
   ]
  },
  {
   "cell_type": "code",
   "execution_count": 11,
   "id": "39c46d2d-c042-41fc-a2b8-30a2199ca4d1",
   "metadata": {},
   "outputs": [
    {
     "data": {
      "image/svg+xml": [
       "<svg xmlns=\"http://www.w3.org/2000/svg\" width=\"2577.8046484375\" height=\"400.0\"><line x1=\"30.0\" x2=\"2547.8046484375\" y1=\"25.0\" y2=\"25.0\" stroke=\"#1967d2\" stroke-width=\"1\" /><line x1=\"30.0\" x2=\"2547.8046484375\" y1=\"75.0\" y2=\"75.0\" stroke=\"#1967d2\" stroke-width=\"1\" /><line x1=\"30.0\" x2=\"2547.8046484375\" y1=\"125.0\" y2=\"125.0\" stroke=\"#1967d2\" stroke-width=\"1\" /><line x1=\"30.0\" x2=\"2547.8046484375\" y1=\"175.0\" y2=\"175.0\" stroke=\"#1967d2\" stroke-width=\"1\" /><line x1=\"30.0\" x2=\"2547.8046484375\" y1=\"225.0\" y2=\"225.0\" stroke=\"#1967d2\" stroke-width=\"1\" /><line x1=\"30.0\" x2=\"2547.8046484375\" y1=\"275.0\" y2=\"275.0\" stroke=\"#1967d2\" stroke-width=\"1\" /><line x1=\"30.0\" x2=\"2547.8046484375\" y1=\"325.0\" y2=\"325.0\" stroke=\"#1967d2\" stroke-width=\"1\" /><line x1=\"30.0\" x2=\"2547.8046484375\" y1=\"375.0\" y2=\"375.0\" stroke=\"#1967d2\" stroke-width=\"1\" /><line x1=\"150.0\" x2=\"150.0\" y1=\"325.0\" y2=\"375.0\" stroke=\"black\" stroke-width=\"3\" /><line x1=\"315.4006640625\" x2=\"315.4006640625\" y1=\"325.0\" y2=\"375.0\" stroke=\"black\" stroke-width=\"3\" /><line x1=\"495.4006640625\" x2=\"495.4006640625\" y1=\"275.0\" y2=\"325.0\" stroke=\"black\" stroke-width=\"3\" /><line x1=\"660.801328125\" x2=\"660.801328125\" y1=\"275.0\" y2=\"325.0\" stroke=\"black\" stroke-width=\"3\" /><line x1=\"840.801328125\" x2=\"840.801328125\" y1=\"225.0\" y2=\"275.0\" stroke=\"black\" stroke-width=\"3\" /><line x1=\"1006.2019921875001\" x2=\"1006.2019921875001\" y1=\"225.0\" y2=\"275.0\" stroke=\"black\" stroke-width=\"3\" /><line x1=\"1186.2019921875\" x2=\"1186.2019921875\" y1=\"175.0\" y2=\"225.0\" stroke=\"black\" stroke-width=\"3\" /><line x1=\"1351.60265625\" x2=\"1351.60265625\" y1=\"175.0\" y2=\"225.0\" stroke=\"black\" stroke-width=\"3\" /><line x1=\"1531.60265625\" x2=\"1531.60265625\" y1=\"125.0\" y2=\"175.0\" stroke=\"black\" stroke-width=\"3\" /><line x1=\"1697.0033203125001\" x2=\"1697.0033203125001\" y1=\"125.0\" y2=\"175.0\" stroke=\"black\" stroke-width=\"3\" /><line x1=\"1877.0033203125001\" x2=\"1877.0033203125001\" y1=\"75.0\" y2=\"125.0\" stroke=\"black\" stroke-width=\"3\" /><line x1=\"2042.4039843750002\" x2=\"2042.4039843750002\" y1=\"75.0\" y2=\"125.0\" stroke=\"black\" stroke-width=\"3\" /><line x1=\"2222.403984375\" x2=\"2222.403984375\" y1=\"25.0\" y2=\"75.0\" stroke=\"black\" stroke-width=\"3\" /><line x1=\"2387.8046484375\" x2=\"2387.8046484375\" y1=\"25.0\" y2=\"75.0\" stroke=\"black\" stroke-width=\"3\" /><rect x=\"10.0\" y=\"5.0\" width=\"40\" height=\"40\" stroke=\"black\" fill=\"white\" stroke-width=\"0\" /><text x=\"30.0\" y=\"25.0\" dominant-baseline=\"middle\" text-anchor=\"middle\" font-size=\"14px\" font-family=\"Arial\">0: </text><rect x=\"10.0\" y=\"55.0\" width=\"40\" height=\"40\" stroke=\"black\" fill=\"white\" stroke-width=\"0\" /><text x=\"30.0\" y=\"75.0\" dominant-baseline=\"middle\" text-anchor=\"middle\" font-size=\"14px\" font-family=\"Arial\">1: </text><rect x=\"10.0\" y=\"105.0\" width=\"40\" height=\"40\" stroke=\"black\" fill=\"white\" stroke-width=\"0\" /><text x=\"30.0\" y=\"125.0\" dominant-baseline=\"middle\" text-anchor=\"middle\" font-size=\"14px\" font-family=\"Arial\">2: </text><rect x=\"10.0\" y=\"155.0\" width=\"40\" height=\"40\" stroke=\"black\" fill=\"white\" stroke-width=\"0\" /><text x=\"30.0\" y=\"175.0\" dominant-baseline=\"middle\" text-anchor=\"middle\" font-size=\"14px\" font-family=\"Arial\">3: </text><rect x=\"10.0\" y=\"205.0\" width=\"40\" height=\"40\" stroke=\"black\" fill=\"white\" stroke-width=\"0\" /><text x=\"30.0\" y=\"225.0\" dominant-baseline=\"middle\" text-anchor=\"middle\" font-size=\"14px\" font-family=\"Arial\">4: </text><rect x=\"10.0\" y=\"255.0\" width=\"40\" height=\"40\" stroke=\"black\" fill=\"white\" stroke-width=\"0\" /><text x=\"30.0\" y=\"275.0\" dominant-baseline=\"middle\" text-anchor=\"middle\" font-size=\"14px\" font-family=\"Arial\">5: </text><rect x=\"10.0\" y=\"305.0\" width=\"40\" height=\"40\" stroke=\"black\" fill=\"white\" stroke-width=\"0\" /><text x=\"30.0\" y=\"325.0\" dominant-baseline=\"middle\" text-anchor=\"middle\" font-size=\"14px\" font-family=\"Arial\">6: </text><rect x=\"10.0\" y=\"355.0\" width=\"40\" height=\"40\" stroke=\"black\" fill=\"white\" stroke-width=\"0\" /><text x=\"30.0\" y=\"375.0\" dominant-baseline=\"middle\" text-anchor=\"middle\" font-size=\"14px\" font-family=\"Arial\">7: </text><rect x=\"70.0\" y=\"305.0\" width=\"40\" height=\"40\" stroke=\"black\" fill=\"white\" stroke-width=\"1\" /><text x=\"90.0\" y=\"325.0\" dominant-baseline=\"middle\" text-anchor=\"middle\" font-size=\"18px\" font-family=\"Arial\">H</text><rect x=\"70.0\" y=\"355.0\" width=\"40\" height=\"40\" stroke=\"black\" fill=\"white\" stroke-width=\"1\" /><text x=\"90.0\" y=\"375.0\" dominant-baseline=\"middle\" text-anchor=\"middle\" font-size=\"18px\" font-family=\"Arial\">H</text><circle cx=\"150.0\" cy=\"325.0\" r=\"10.0\" /><circle cx=\"150.0\" cy=\"375.0\" r=\"10.0\" /><rect x=\"190.0\" y=\"305.0\" width=\"85.40066406250001\" height=\"40\" stroke=\"black\" fill=\"white\" stroke-width=\"1\" /><text x=\"232.70033203125\" y=\"325.0\" dominant-baseline=\"middle\" text-anchor=\"middle\" font-size=\"14px\" font-family=\"Arial\">Ry(xx1-6/2)</text><rect x=\"190.0\" y=\"355.0\" width=\"85.40066406250001\" height=\"40\" stroke=\"black\" fill=\"white\" stroke-width=\"1\" /><text x=\"232.70033203125\" y=\"375.0\" dominant-baseline=\"middle\" text-anchor=\"middle\" font-size=\"14px\" font-family=\"Arial\">Ry(-xx1-6/2)</text><circle cx=\"315.4006640625\" cy=\"325.0\" r=\"10.0\" /><circle cx=\"315.4006640625\" cy=\"375.0\" r=\"10.0\" /><rect x=\"355.4006640625\" y=\"305.0\" width=\"40\" height=\"40\" stroke=\"black\" fill=\"white\" stroke-width=\"1\" /><text x=\"375.4006640625\" y=\"325.0\" dominant-baseline=\"middle\" text-anchor=\"middle\" font-size=\"18px\" font-family=\"Arial\">H</text><rect x=\"355.4006640625\" y=\"355.0\" width=\"40\" height=\"40\" stroke=\"black\" fill=\"white\" stroke-width=\"1\" /><text x=\"375.4006640625\" y=\"375.0\" dominant-baseline=\"middle\" text-anchor=\"middle\" font-size=\"18px\" font-family=\"Arial\">H</text><rect x=\"415.4006640625\" y=\"255.0\" width=\"40\" height=\"40\" stroke=\"black\" fill=\"white\" stroke-width=\"1\" /><text x=\"435.4006640625\" y=\"275.0\" dominant-baseline=\"middle\" text-anchor=\"middle\" font-size=\"18px\" font-family=\"Arial\">H</text><rect x=\"415.4006640625\" y=\"305.0\" width=\"40\" height=\"40\" stroke=\"black\" fill=\"white\" stroke-width=\"1\" /><text x=\"435.4006640625\" y=\"325.0\" dominant-baseline=\"middle\" text-anchor=\"middle\" font-size=\"18px\" font-family=\"Arial\">H</text><circle cx=\"495.4006640625\" cy=\"275.0\" r=\"10.0\" /><circle cx=\"495.4006640625\" cy=\"325.0\" r=\"10.0\" /><rect x=\"535.4006640625\" y=\"255.0\" width=\"85.40066406250001\" height=\"40\" stroke=\"black\" fill=\"white\" stroke-width=\"1\" /><text x=\"578.10099609375\" y=\"275.0\" dominant-baseline=\"middle\" text-anchor=\"middle\" font-size=\"14px\" font-family=\"Arial\">Ry(xx1-5/2)</text><rect x=\"535.4006640625\" y=\"305.0\" width=\"85.40066406250001\" height=\"40\" stroke=\"black\" fill=\"white\" stroke-width=\"1\" /><text x=\"578.10099609375\" y=\"325.0\" dominant-baseline=\"middle\" text-anchor=\"middle\" font-size=\"14px\" font-family=\"Arial\">Ry(-xx1-5/2)</text><circle cx=\"660.801328125\" cy=\"275.0\" r=\"10.0\" /><circle cx=\"660.801328125\" cy=\"325.0\" r=\"10.0\" /><rect x=\"700.801328125\" y=\"255.0\" width=\"40\" height=\"40\" stroke=\"black\" fill=\"white\" stroke-width=\"1\" /><text x=\"720.801328125\" y=\"275.0\" dominant-baseline=\"middle\" text-anchor=\"middle\" font-size=\"18px\" font-family=\"Arial\">H</text><rect x=\"700.801328125\" y=\"305.0\" width=\"40\" height=\"40\" stroke=\"black\" fill=\"white\" stroke-width=\"1\" /><text x=\"720.801328125\" y=\"325.0\" dominant-baseline=\"middle\" text-anchor=\"middle\" font-size=\"18px\" font-family=\"Arial\">H</text><rect x=\"760.801328125\" y=\"205.0\" width=\"40\" height=\"40\" stroke=\"black\" fill=\"white\" stroke-width=\"1\" /><text x=\"780.801328125\" y=\"225.0\" dominant-baseline=\"middle\" text-anchor=\"middle\" font-size=\"18px\" font-family=\"Arial\">H</text><rect x=\"760.801328125\" y=\"255.0\" width=\"40\" height=\"40\" stroke=\"black\" fill=\"white\" stroke-width=\"1\" /><text x=\"780.801328125\" y=\"275.0\" dominant-baseline=\"middle\" text-anchor=\"middle\" font-size=\"18px\" font-family=\"Arial\">H</text><circle cx=\"840.801328125\" cy=\"225.0\" r=\"10.0\" /><circle cx=\"840.801328125\" cy=\"275.0\" r=\"10.0\" /><rect x=\"880.801328125\" y=\"205.0\" width=\"85.40066406250001\" height=\"40\" stroke=\"black\" fill=\"white\" stroke-width=\"1\" /><text x=\"923.5016601562501\" y=\"225.0\" dominant-baseline=\"middle\" text-anchor=\"middle\" font-size=\"14px\" font-family=\"Arial\">Ry(xx1-4/2)</text><rect x=\"880.801328125\" y=\"255.0\" width=\"85.40066406250001\" height=\"40\" stroke=\"black\" fill=\"white\" stroke-width=\"1\" /><text x=\"923.5016601562501\" y=\"275.0\" dominant-baseline=\"middle\" text-anchor=\"middle\" font-size=\"14px\" font-family=\"Arial\">Ry(-xx1-4/2)</text><circle cx=\"1006.2019921875001\" cy=\"225.0\" r=\"10.0\" /><circle cx=\"1006.2019921875001\" cy=\"275.0\" r=\"10.0\" /><rect x=\"1046.2019921875\" y=\"205.0\" width=\"40\" height=\"40\" stroke=\"black\" fill=\"white\" stroke-width=\"1\" /><text x=\"1066.2019921875\" y=\"225.0\" dominant-baseline=\"middle\" text-anchor=\"middle\" font-size=\"18px\" font-family=\"Arial\">H</text><rect x=\"1046.2019921875\" y=\"255.0\" width=\"40\" height=\"40\" stroke=\"black\" fill=\"white\" stroke-width=\"1\" /><text x=\"1066.2019921875\" y=\"275.0\" dominant-baseline=\"middle\" text-anchor=\"middle\" font-size=\"18px\" font-family=\"Arial\">H</text><rect x=\"1106.2019921875\" y=\"155.0\" width=\"40\" height=\"40\" stroke=\"black\" fill=\"white\" stroke-width=\"1\" /><text x=\"1126.2019921875\" y=\"175.0\" dominant-baseline=\"middle\" text-anchor=\"middle\" font-size=\"18px\" font-family=\"Arial\">H</text><rect x=\"1106.2019921875\" y=\"205.0\" width=\"40\" height=\"40\" stroke=\"black\" fill=\"white\" stroke-width=\"1\" /><text x=\"1126.2019921875\" y=\"225.0\" dominant-baseline=\"middle\" text-anchor=\"middle\" font-size=\"18px\" font-family=\"Arial\">H</text><circle cx=\"1186.2019921875\" cy=\"175.0\" r=\"10.0\" /><circle cx=\"1186.2019921875\" cy=\"225.0\" r=\"10.0\" /><rect x=\"1226.2019921875\" y=\"155.0\" width=\"85.40066406250001\" height=\"40\" stroke=\"black\" fill=\"white\" stroke-width=\"1\" /><text x=\"1268.90232421875\" y=\"175.0\" dominant-baseline=\"middle\" text-anchor=\"middle\" font-size=\"14px\" font-family=\"Arial\">Ry(xx1-3/2)</text><rect x=\"1226.2019921875\" y=\"205.0\" width=\"85.40066406250001\" height=\"40\" stroke=\"black\" fill=\"white\" stroke-width=\"1\" /><text x=\"1268.90232421875\" y=\"225.0\" dominant-baseline=\"middle\" text-anchor=\"middle\" font-size=\"14px\" font-family=\"Arial\">Ry(-xx1-3/2)</text><circle cx=\"1351.60265625\" cy=\"175.0\" r=\"10.0\" /><circle cx=\"1351.60265625\" cy=\"225.0\" r=\"10.0\" /><rect x=\"1391.60265625\" y=\"155.0\" width=\"40\" height=\"40\" stroke=\"black\" fill=\"white\" stroke-width=\"1\" /><text x=\"1411.60265625\" y=\"175.0\" dominant-baseline=\"middle\" text-anchor=\"middle\" font-size=\"18px\" font-family=\"Arial\">H</text><rect x=\"1391.60265625\" y=\"205.0\" width=\"40\" height=\"40\" stroke=\"black\" fill=\"white\" stroke-width=\"1\" /><text x=\"1411.60265625\" y=\"225.0\" dominant-baseline=\"middle\" text-anchor=\"middle\" font-size=\"18px\" font-family=\"Arial\">H</text><rect x=\"1451.60265625\" y=\"105.0\" width=\"40\" height=\"40\" stroke=\"black\" fill=\"white\" stroke-width=\"1\" /><text x=\"1471.60265625\" y=\"125.0\" dominant-baseline=\"middle\" text-anchor=\"middle\" font-size=\"18px\" font-family=\"Arial\">H</text><rect x=\"1451.60265625\" y=\"155.0\" width=\"40\" height=\"40\" stroke=\"black\" fill=\"white\" stroke-width=\"1\" /><text x=\"1471.60265625\" y=\"175.0\" dominant-baseline=\"middle\" text-anchor=\"middle\" font-size=\"18px\" font-family=\"Arial\">H</text><circle cx=\"1531.60265625\" cy=\"125.0\" r=\"10.0\" /><circle cx=\"1531.60265625\" cy=\"175.0\" r=\"10.0\" /><rect x=\"1571.60265625\" y=\"105.0\" width=\"85.40066406250001\" height=\"40\" stroke=\"black\" fill=\"white\" stroke-width=\"1\" /><text x=\"1614.30298828125\" y=\"125.0\" dominant-baseline=\"middle\" text-anchor=\"middle\" font-size=\"14px\" font-family=\"Arial\">Ry(xx1-2/2)</text><rect x=\"1571.60265625\" y=\"155.0\" width=\"85.40066406250001\" height=\"40\" stroke=\"black\" fill=\"white\" stroke-width=\"1\" /><text x=\"1614.30298828125\" y=\"175.0\" dominant-baseline=\"middle\" text-anchor=\"middle\" font-size=\"14px\" font-family=\"Arial\">Ry(-xx1-2/2)</text><circle cx=\"1697.0033203125001\" cy=\"125.0\" r=\"10.0\" /><circle cx=\"1697.0033203125001\" cy=\"175.0\" r=\"10.0\" /><rect x=\"1737.0033203125001\" y=\"105.0\" width=\"40\" height=\"40\" stroke=\"black\" fill=\"white\" stroke-width=\"1\" /><text x=\"1757.0033203125001\" y=\"125.0\" dominant-baseline=\"middle\" text-anchor=\"middle\" font-size=\"18px\" font-family=\"Arial\">H</text><rect x=\"1737.0033203125001\" y=\"155.0\" width=\"40\" height=\"40\" stroke=\"black\" fill=\"white\" stroke-width=\"1\" /><text x=\"1757.0033203125001\" y=\"175.0\" dominant-baseline=\"middle\" text-anchor=\"middle\" font-size=\"18px\" font-family=\"Arial\">H</text><rect x=\"1797.0033203125001\" y=\"55.0\" width=\"40\" height=\"40\" stroke=\"black\" fill=\"white\" stroke-width=\"1\" /><text x=\"1817.0033203125001\" y=\"75.0\" dominant-baseline=\"middle\" text-anchor=\"middle\" font-size=\"18px\" font-family=\"Arial\">H</text><rect x=\"1797.0033203125001\" y=\"105.0\" width=\"40\" height=\"40\" stroke=\"black\" fill=\"white\" stroke-width=\"1\" /><text x=\"1817.0033203125001\" y=\"125.0\" dominant-baseline=\"middle\" text-anchor=\"middle\" font-size=\"18px\" font-family=\"Arial\">H</text><circle cx=\"1877.0033203125001\" cy=\"75.0\" r=\"10.0\" /><circle cx=\"1877.0033203125001\" cy=\"125.0\" r=\"10.0\" /><rect x=\"1917.0033203125001\" y=\"55.0\" width=\"85.40066406250001\" height=\"40\" stroke=\"black\" fill=\"white\" stroke-width=\"1\" /><text x=\"1959.70365234375\" y=\"75.0\" dominant-baseline=\"middle\" text-anchor=\"middle\" font-size=\"14px\" font-family=\"Arial\">Ry(xx1-1/2)</text><rect x=\"1917.0033203125001\" y=\"105.0\" width=\"85.40066406250001\" height=\"40\" stroke=\"black\" fill=\"white\" stroke-width=\"1\" /><text x=\"1959.70365234375\" y=\"125.0\" dominant-baseline=\"middle\" text-anchor=\"middle\" font-size=\"14px\" font-family=\"Arial\">Ry(-xx1-1/2)</text><circle cx=\"2042.4039843750002\" cy=\"75.0\" r=\"10.0\" /><circle cx=\"2042.4039843750002\" cy=\"125.0\" r=\"10.0\" /><rect x=\"2082.403984375\" y=\"55.0\" width=\"40\" height=\"40\" stroke=\"black\" fill=\"white\" stroke-width=\"1\" /><text x=\"2102.403984375\" y=\"75.0\" dominant-baseline=\"middle\" text-anchor=\"middle\" font-size=\"18px\" font-family=\"Arial\">H</text><rect x=\"2082.403984375\" y=\"105.0\" width=\"40\" height=\"40\" stroke=\"black\" fill=\"white\" stroke-width=\"1\" /><text x=\"2102.403984375\" y=\"125.0\" dominant-baseline=\"middle\" text-anchor=\"middle\" font-size=\"18px\" font-family=\"Arial\">H</text><rect x=\"2142.403984375\" y=\"5.0\" width=\"40\" height=\"40\" stroke=\"black\" fill=\"white\" stroke-width=\"1\" /><text x=\"2162.403984375\" y=\"25.0\" dominant-baseline=\"middle\" text-anchor=\"middle\" font-size=\"18px\" font-family=\"Arial\">H</text><rect x=\"2142.403984375\" y=\"55.0\" width=\"40\" height=\"40\" stroke=\"black\" fill=\"white\" stroke-width=\"1\" /><text x=\"2162.403984375\" y=\"75.0\" dominant-baseline=\"middle\" text-anchor=\"middle\" font-size=\"18px\" font-family=\"Arial\">H</text><circle cx=\"2222.403984375\" cy=\"25.0\" r=\"10.0\" /><circle cx=\"2222.403984375\" cy=\"75.0\" r=\"10.0\" /><rect x=\"2262.403984375\" y=\"5.0\" width=\"85.40066406250001\" height=\"40\" stroke=\"black\" fill=\"white\" stroke-width=\"1\" /><text x=\"2305.1043164062503\" y=\"25.0\" dominant-baseline=\"middle\" text-anchor=\"middle\" font-size=\"14px\" font-family=\"Arial\">Ry(xx1-0/2)</text><rect x=\"2262.403984375\" y=\"55.0\" width=\"85.40066406250001\" height=\"40\" stroke=\"black\" fill=\"white\" stroke-width=\"1\" /><text x=\"2305.1043164062503\" y=\"75.0\" dominant-baseline=\"middle\" text-anchor=\"middle\" font-size=\"14px\" font-family=\"Arial\">Ry(-xx1-0/2)</text><circle cx=\"2387.8046484375\" cy=\"25.0\" r=\"10.0\" /><circle cx=\"2387.8046484375\" cy=\"75.0\" r=\"10.0\" /><rect x=\"2427.8046484375\" y=\"5.0\" width=\"40\" height=\"40\" stroke=\"black\" fill=\"white\" stroke-width=\"1\" /><text x=\"2447.8046484375\" y=\"25.0\" dominant-baseline=\"middle\" text-anchor=\"middle\" font-size=\"18px\" font-family=\"Arial\">H</text><rect x=\"2427.8046484375\" y=\"55.0\" width=\"40\" height=\"40\" stroke=\"black\" fill=\"white\" stroke-width=\"1\" /><text x=\"2447.8046484375\" y=\"75.0\" dominant-baseline=\"middle\" text-anchor=\"middle\" font-size=\"18px\" font-family=\"Arial\">H</text><rect x=\"2487.8046484375\" y=\"5.0\" width=\"40\" height=\"40\" stroke=\"black\" fill=\"white\" stroke-width=\"1\" /><text x=\"2507.8046484375\" y=\"25.0\" dominant-baseline=\"middle\" text-anchor=\"middle\" font-size=\"18px\" font-family=\"Arial\">X</text></svg>"
      ],
      "text/plain": [
       "<cirq.contrib.svg.svg.SVGCircuit at 0x7fb3ae868ca0>"
      ]
     },
     "execution_count": 11,
     "metadata": {},
     "output_type": "execute_result"
    }
   ],
   "source": [
    "def create_quantum_model(num_qubits=8, layers=[(\"XX\", cirq.XX)]):\n",
    "    \"\"\"Create a QNN model circuit with a specific number of qubits and layers.\n",
    "    \n",
    "    Args:\n",
    "        num_qubits: The number of qubits in the grid.\n",
    "        layers: A list of tuples representing layers, where each tuple contains\n",
    "                a prefix for the layer and the gate to be used in that layer.\n",
    "\n",
    "    Returns:\n",
    "        A tuple of the model circuit and the model readout operation.\n",
    "    \"\"\"\n",
    "    # Initialize qubits.\n",
    "    data_qubits = [cirq.LineQubit(i) for i in range(num_qubits)]\n",
    "    \n",
    "    # Define the circuit.\n",
    "    circuit = cirq.Circuit()\n",
    "    \n",
    "    # Instance of CircuitLayerBuilder\n",
    "    builder = CircuitLayerBuilder(data_qubits=data_qubits)\n",
    "    \n",
    "    # Add specified layers.\n",
    "    for prefix, gate in layers:\n",
    "        builder.add_layer(circuit, gate, prefix)\n",
    "    \n",
    "    # Readout qubit \n",
    "    readout = data_qubits[0]\n",
    "\n",
    "    # Return the circuit and a readout operation, meauring the Z observable on the readout qubit\n",
    "    return circuit, cirq.Z(readout)\n",
    "\n",
    "# Example usage of your  model creation function\n",
    "num_qubits = 8\n",
    "layers = [(\"xx1\", cirq.XX)]  \n",
    "model_circuit, model_readout = create_quantum_model(num_qubits=num_qubits, layers=layers)\n",
    "\n",
    "SVGCircuit(model_circuit)"
   ]
  },
  {
   "cell_type": "code",
   "execution_count": 12,
   "id": "1a9f1f5b-309f-4ac7-b108-f702795868a8",
   "metadata": {},
   "outputs": [],
   "source": [
    "model_circuit, model_readout = create_quantum_model()"
   ]
  },
  {
   "cell_type": "code",
   "execution_count": 13,
   "id": "23c98a30-93ed-4d8a-b143-9f3d6bfb8200",
   "metadata": {},
   "outputs": [],
   "source": [
    "# Build the Keras model.\n",
    "model = tf.keras.Sequential([\n",
    "    # The input is the data-circuit, encoded as a tf.string\n",
    "    tf.keras.layers.Input(shape=(), dtype=tf.string),\n",
    "    # The PQC layer returns the expected value of the readout gate, range [-1,1].\n",
    "    tfq.layers.PQC(model_circuit, model_readout),\n",
    "    # custom layer to square the output\n",
    "    tf.keras.layers.Lambda(lambda x: tf.square(x)),\n",
    "])"
   ]
  },
  {
   "cell_type": "code",
   "execution_count": 14,
   "id": "13fbc584-43da-41cd-bd31-84da1a0c5b8c",
   "metadata": {},
   "outputs": [],
   "source": [
    "y_train_hinge = 2.0*y_train-1.0\n",
    "y_test_hinge = 2.0*y_test-1.0"
   ]
  },
  {
   "cell_type": "code",
   "execution_count": 15,
   "id": "347d9ae8-2611-4d30-a237-7f68d58e71ad",
   "metadata": {},
   "outputs": [],
   "source": [
    "def hinge_accuracy(y_true, y_pred):\n",
    "    y_true = tf.squeeze(y_true) > 0.0\n",
    "    y_pred = tf.squeeze(y_pred) > 0.0\n",
    "    result = tf.cast(y_true == y_pred, tf.float32)\n",
    "\n",
    "    return tf.reduce_mean(result)"
   ]
  },
  {
   "cell_type": "code",
   "execution_count": 16,
   "id": "94e12d5d-846a-45d9-95cd-bc90d4e747d6",
   "metadata": {},
   "outputs": [],
   "source": [
    "model.compile(\n",
    "    loss='mse',  # Use Mean Squared Error loss\n",
    "    optimizer=tf.keras.optimizers.Adam(learning_rate=0.1),\n",
    "    metrics=['mae'])"
   ]
  },
  {
   "cell_type": "code",
   "execution_count": 17,
   "id": "5b16526f-f711-4b91-b7f2-f7af078bf676",
   "metadata": {},
   "outputs": [
    {
     "name": "stdout",
     "output_type": "stream",
     "text": [
      "Model: \"sequential\"\n",
      "_________________________________________________________________\n",
      " Layer (type)                Output Shape              Param #   \n",
      "=================================================================\n",
      " pqc (PQC)                   (None, 1)                 7         \n",
      "                                                                 \n",
      " lambda (Lambda)             (None, 1)                 0         \n",
      "                                                                 \n",
      "=================================================================\n",
      "Total params: 7\n",
      "Trainable params: 7\n",
      "Non-trainable params: 0\n",
      "_________________________________________________________________\n",
      "None\n"
     ]
    }
   ],
   "source": [
    "print(model.summary())"
   ]
  },
  {
   "cell_type": "code",
   "execution_count": 18,
   "id": "ee2283d1-821c-457e-810f-3207d6b3bafc",
   "metadata": {},
   "outputs": [],
   "source": [
    "EPOCHS = 2\n",
    "BATCH_SIZE = 1\n",
    "\n",
    "NUM_EXAMPLES = min(len(x_train_tfcirc), len(y_train))"
   ]
  },
  {
   "cell_type": "code",
   "execution_count": 19,
   "id": "556cc007-2e26-4530-bd8f-fbcefabf4ae1",
   "metadata": {},
   "outputs": [],
   "source": [
    "x_train_tfcirc_sub = x_train_tfcirc[:NUM_EXAMPLES]\n",
    "y_train_sub = y_train[:NUM_EXAMPLES]"
   ]
  },
  {
   "cell_type": "code",
   "execution_count": 20,
   "id": "9d5c7333-8e8f-4f7e-b373-ebe29da307b3",
   "metadata": {},
   "outputs": [
    {
     "name": "stdout",
     "output_type": "stream",
     "text": [
      "Epoch 1/10\n",
      "125/125 [==============================] - 29s 218ms/step - loss: 0.2861 - mae: 0.4989 - val_loss: 0.2944 - val_mae: 0.5083\n",
      "Epoch 2/10\n",
      "125/125 [==============================] - 23s 181ms/step - loss: 0.2819 - mae: 0.4975 - val_loss: 0.2883 - val_mae: 0.5067\n",
      "Epoch 3/10\n",
      "125/125 [==============================] - 29s 233ms/step - loss: 0.2842 - mae: 0.5013 - val_loss: 0.2932 - val_mae: 0.5091\n",
      "Epoch 4/10\n",
      "125/125 [==============================] - 26s 209ms/step - loss: 0.2832 - mae: 0.4998 - val_loss: 0.2893 - val_mae: 0.5097\n",
      "Epoch 5/10\n",
      "125/125 [==============================] - 26s 207ms/step - loss: 0.2842 - mae: 0.4984 - val_loss: 0.2874 - val_mae: 0.5040\n",
      "Epoch 6/10\n",
      "125/125 [==============================] - 27s 220ms/step - loss: 0.2839 - mae: 0.4997 - val_loss: 0.2936 - val_mae: 0.5096\n",
      "Epoch 7/10\n",
      "125/125 [==============================] - 23s 184ms/step - loss: 0.2832 - mae: 0.4979 - val_loss: 0.2884 - val_mae: 0.5050\n",
      "Epoch 8/10\n",
      "125/125 [==============================] - 23s 184ms/step - loss: 0.2866 - mae: 0.5001 - val_loss: 0.3003 - val_mae: 0.5124\n",
      "Epoch 9/10\n",
      "125/125 [==============================] - 25s 202ms/step - loss: 0.2809 - mae: 0.4985 - val_loss: 0.2878 - val_mae: 0.5091\n",
      "Epoch 10/10\n",
      "125/125 [==============================] - 25s 202ms/step - loss: 0.2832 - mae: 0.4988 - val_loss: 0.2958 - val_mae: 0.5109\n"
     ]
    }
   ],
   "source": [
    "EPOCHS = 10  \n",
    "BATCH_SIZE = 32\n",
    "\n",
    "qnn_history = model.fit(\n",
    "    x_train_tfcirc, y_train,\n",
    "    batch_size=BATCH_SIZE,\n",
    "    epochs=EPOCHS,\n",
    "    verbose=1,\n",
    "    validation_data=(x_test_tfcirc, y_test))"
   ]
  },
  {
   "cell_type": "code",
   "execution_count": 21,
   "id": "92149074-76b8-478a-9144-b2f0f78be493",
   "metadata": {},
   "outputs": [
    {
     "name": "stdout",
     "output_type": "stream",
     "text": [
      "32/32 [==============================] - 4s 115ms/step\n",
      "accuracy: 0.468\n"
     ]
    }
   ],
   "source": [
    "res = model.predict(x_test_tfcirc)\n",
    "binary_predictions = (res > 0.5).astype(int)\n",
    "y_pred = np.array(y_test).reshape(-1, 1).astype(int)\n",
    "correct_predictions = binary_predictions == y_pred\n",
    "accuracy = correct_predictions.mean()\n",
    "print(f\"accuracy: {accuracy}\")"
   ]
  },
  {
   "cell_type": "code",
   "execution_count": null,
   "id": "d2ccfd8a-4e91-4322-b57e-4302eb33c7c8",
   "metadata": {},
   "outputs": [],
   "source": []
  }
 ],
 "metadata": {
  "kernelspec": {
   "display_name": "Python (quantum_env)",
   "language": "python",
   "name": "quantum_env"
  },
  "language_info": {
   "codemirror_mode": {
    "name": "ipython",
    "version": 3
   },
   "file_extension": ".py",
   "mimetype": "text/x-python",
   "name": "python",
   "nbconvert_exporter": "python",
   "pygments_lexer": "ipython3",
   "version": "3.8.18"
  }
 },
 "nbformat": 4,
 "nbformat_minor": 5
}
