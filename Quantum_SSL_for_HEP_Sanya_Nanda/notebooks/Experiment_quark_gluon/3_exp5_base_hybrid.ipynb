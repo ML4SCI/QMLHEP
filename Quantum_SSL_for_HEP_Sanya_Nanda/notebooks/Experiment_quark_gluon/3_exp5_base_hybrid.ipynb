{
 "cells": [
  {
   "cell_type": "markdown",
   "id": "0edf5ff1-32f5-4950-8dac-848ae1e4140d",
   "metadata": {},
   "source": [
    "## Experiment 3: Quark Gluon\n",
    "- 20000 samples\n",
    "- Train pairs: (36000, 2, 40, 40)\n",
    "- Test pairs:  (4000, 2, 40, 40)\n",
    "- using only 1 channel, 4th channel\n",
    "- Data: cropping, normalisation, pair creation\n",
    "- Model: Base CNN + Qnn layers\n",
    "- Loss: contrastive margin pair loss\n",
    "- Siamese Network\n",
    "- Training epochs 20, batch size 128, loss: 0.2 approx"
   ]
  },
  {
   "cell_type": "markdown",
   "id": "8543160b-db1a-4e76-91f4-962f2dca4de8",
   "metadata": {},
   "source": [
    "### Imports and Data loading"
   ]
  },
  {
   "cell_type": "code",
   "execution_count": 1,
   "id": "e9e28c03-1df4-44e0-a4d5-a4afe4cd051f",
   "metadata": {},
   "outputs": [
    {
     "name": "stdout",
     "output_type": "stream",
     "text": [
      "WARNING:tensorflow:From C:\\Users\\Sanya Nanda\\AppData\\Local\\Programs\\Python\\Python310\\lib\\site-packages\\keras\\src\\losses.py:2976: The name tf.losses.sparse_softmax_cross_entropy is deprecated. Please use tf.compat.v1.losses.sparse_softmax_cross_entropy instead.\n",
      "\n"
     ]
    }
   ],
   "source": [
    "# Required imports\n",
    "import os\n",
    "import tensorflow as tf\n",
    "\n",
    "from tensorflow import keras\n",
    "from tensorflow.keras import layers, models, losses, optimizers, initializers\n",
    "\n",
    "import pennylane as qml\n",
    "from pennylane import numpy as np\n",
    "from pennylane.templates import RandomLayers\n",
    "\n",
    "from sklearn.metrics import roc_curve, auc\n",
    "from sklearn.metrics import confusion_matrix as cmatrix\n",
    "\n",
    "import pandas as pd\n",
    "import matplotlib.pyplot as plt"
   ]
  },
  {
   "cell_type": "code",
   "execution_count": 2,
   "id": "9e92d396-b6e2-421e-bf63-37bc24b282a1",
   "metadata": {},
   "outputs": [],
   "source": [
    "# d = np.load('../../data/quark_gluon_dataset/quark_gluon_20000_1.npz', allow_pickle=True)\n",
    "# x_train = d[\"x_train\"]\n",
    "# y_train = d[\"y_train\"]\n",
    "# x_test = d[\"x_test\"]\n",
    "# y_test = d[\"y_test\"]"
   ]
  },
  {
   "cell_type": "code",
   "execution_count": 3,
   "id": "fb2948e4-7689-42e2-af2f-3c7a40a4e845",
   "metadata": {},
   "outputs": [],
   "source": [
    "# import matplotlib.pyplot as plt\n",
    "\n",
    "# def plot_image_grid(data, label, filter_label=None, channel=0, rows=5, cols=5):\n",
    "#     # Filter the data and labels if filter_label is provided\n",
    "#     if filter_label is not None:\n",
    "#         indices = [i for i, l in enumerate(label) if l == filter_label]\n",
    "#         filtered_data = data[indices]\n",
    "#         filtered_label = label[indices]\n",
    "#     else:\n",
    "#         filtered_data = data\n",
    "#         filtered_label = label\n",
    "\n",
    "#     fig, axes = plt.subplots(rows, cols, figsize=(10, 10))\n",
    "#     for i in range(rows):\n",
    "#         for j in range(cols):\n",
    "#             idx = i * cols + j\n",
    "#             if idx < len(filtered_data):\n",
    "#                 axes[i, j].imshow(filtered_data[idx,:,:,channel])\n",
    "#                 axes[i, j].title.set_text(f'{filtered_label[idx]}')\n",
    "#             axes[i, j].axis('off')\n",
    "\n",
    "#     plt.show()"
   ]
  },
  {
   "cell_type": "code",
   "execution_count": 4,
   "id": "fc590408-c3fc-4ac4-856c-d59bffa61cec",
   "metadata": {},
   "outputs": [],
   "source": [
    "# plot_image_grid(x_train, y_train, filter_label=0,channel=1)"
   ]
  },
  {
   "cell_type": "code",
   "execution_count": 5,
   "id": "463a58cf-b8e5-4404-8ee7-2bcec5e588b4",
   "metadata": {},
   "outputs": [],
   "source": [
    "# plot_image_grid(x_train, y_train, filter_label=1,channel=1)"
   ]
  },
  {
   "cell_type": "code",
   "execution_count": 6,
   "id": "2655f3e3-5a2f-46e5-b884-28e97846b378",
   "metadata": {},
   "outputs": [],
   "source": [
    "# plot_image_grid(x_train, y_train, filter_label=0,channel=2)"
   ]
  },
  {
   "cell_type": "code",
   "execution_count": 7,
   "id": "165997fb-39df-468e-b0d5-73c895920e6b",
   "metadata": {},
   "outputs": [],
   "source": [
    "# plot_image_grid(x_train, y_train, filter_label=1,channel=2)"
   ]
  },
  {
   "cell_type": "code",
   "execution_count": 2,
   "id": "6a78456d-73ee-4017-ac8e-0ba479b17a11",
   "metadata": {},
   "outputs": [
    {
     "name": "stdout",
     "output_type": "stream",
     "text": [
      "(36000, 2, 40, 40) (4000, 2, 40, 40)\n",
      "(36000,) (4000,)\n"
     ]
    }
   ],
   "source": [
    "data = np.load('../../data/quark_gluon_dataset/qg_20000_pairs_c4.npz', allow_pickle=True)\n",
    "\n",
    "pairs_train = data[\"pairs_train\"]\n",
    "labels_train = data[\"labels_train\"]\n",
    "pairs_test = data[\"pairs_test\"]\n",
    "labels_test = data[\"labels_test\"]\n",
    "\n",
    "print(pairs_train.shape, pairs_test.shape)\n",
    "print(labels_train.shape, labels_test.shape)"
   ]
  },
  {
   "cell_type": "code",
   "execution_count": 3,
   "id": "2abec542-cc36-4979-81e1-dbff067c0e1b",
   "metadata": {},
   "outputs": [
    {
     "name": "stdout",
     "output_type": "stream",
     "text": [
      "(36000, 2, 40, 40, 1)\n"
     ]
    }
   ],
   "source": [
    "pairs_train = np.expand_dims(pairs_train, -1)\n",
    "pairs_test = np.expand_dims(pairs_test, -1)\n",
    "print(pairs_train.shape)"
   ]
  },
  {
   "cell_type": "code",
   "execution_count": 4,
   "id": "dd37a666-c3c9-4f82-86ae-876e9338323f",
   "metadata": {},
   "outputs": [],
   "source": [
    "def plot_sample_pairs(pairs, labels, shape, num_samples=5):\n",
    "    plt.figure(figsize=(15, num_samples * 2))\n",
    "    for i in range(num_samples):\n",
    "        ax = plt.subplot(num_samples, 2, 2 * i + 1)\n",
    "        plt.imshow(pairs[i, 0].reshape(shape, shape))\n",
    "        ax.axis('off')\n",
    "\n",
    "        ax = plt.subplot(num_samples, 2, 2 * i + 2)\n",
    "        plt.imshow(pairs[i, 1].reshape(shape, shape))\n",
    "        ax.axis('off')\n",
    "\n",
    "        label = labels[i]\n",
    "        plt.title(f'Sample: {i}, Label: {label}')\n",
    "\n",
    "    plt.tight_layout()\n",
    "    plt.show()"
   ]
  },
  {
   "cell_type": "code",
   "execution_count": 5,
   "id": "228624fa-1cba-430c-a0f0-fa3c32183d25",
   "metadata": {},
   "outputs": [
    {
     "data": {
      "image/png": "[encoded data removed]",
      "text/plain": [
       "<Figure size 1500x1000 with 10 Axes>"
      ]
     },
     "metadata": {},
     "output_type": "display_data"
    }
   ],
   "source": [
    "plot_sample_pairs(pairs_train, labels_train, shape=40, num_samples=5)"
   ]
  },
  {
   "cell_type": "markdown",
   "id": "228e2afa-f365-4aff-9027-fbebb2462905",
   "metadata": {},
   "source": [
    "### Quantum Layer"
   ]
  },
  {
   "cell_type": "code",
   "execution_count": 22,
   "id": "0f982db9-9bb9-4670-9e99-9abf85748836",
   "metadata": {},
   "outputs": [],
   "source": [
    "import pennylane as qml\n",
    "from pennylane import numpy as np\n",
    "import tensorflow as tf\n",
    "\n",
    "# Quantum device\n",
    "n_qubits = 12\n",
    "n_layers = 3\n",
    "n_ancillas = 4\n",
    "dev = qml.device(\"default.qubit\", wires=n_qubits)\n",
    "\n",
    "# Define quantum layers\n",
    "def H_layer(n_qubits, n_ancillas):\n",
    "    for idx in range(n_ancillas, n_qubits):  # 0th qubits reserved for ancilla purposes\n",
    "        qml.Hadamard(wires=idx)\n",
    "\n",
    "def RY_layer(w, n_ancillas):\n",
    "    \"\"\"Layer of parameterized qubit rotations around the y axis.\"\"\"\n",
    "    for idx, element in enumerate(w, start=n_ancillas):  # 1st qubit is ancilla, used for SWAP test here.\n",
    "        qml.RY(element, wires=idx)\n",
    "\n",
    "def entangling_layer(nqubits, n_ancillas):\n",
    "    \"\"\"Layer of CNOTs followed by another shifted layer of CNOT.\"\"\"\n",
    "    for i in range(n_ancillas, nqubits - 1, 2):  # Loop over even indices: i=0,2,...N-2\n",
    "        qml.CNOT(wires=[i, i + 1])\n",
    "    for i in range(n_ancillas + 1, nqubits - 1, 2):  # Loop over odd indices:  i=1,3,...N-3\n",
    "        qml.CNOT(wires=[i, i + 1])\n",
    "\n",
    "@qml.qnode(dev, interface=\"tf\")\n",
    "def quantum_circuit(inputs, q_weights_flat, q_depth, n_qubits, n_ancillas):\n",
    "    # Reshape weights\n",
    "    q_weights = tf.reshape(q_weights_flat, (q_depth, n_qubits - n_ancillas))\n",
    "    \n",
    "    # Apply Hadamard layer\n",
    "    H_layer(n_qubits, n_ancillas)\n",
    "    \n",
    "    # Embed features in the quantum node\n",
    "    RY_layer(inputs, n_ancillas)\n",
    "    \n",
    "    # Sequence of trainable variational layers\n",
    "    for k in range(q_depth):\n",
    "        entangling_layer(n_qubits, n_ancillas)\n",
    "        RY_layer(q_weights[k], n_ancillas)\n",
    "    \n",
    "    return [qml.expval(qml.PauliZ(w)) for w in range(n_ancillas, n_qubits)]\n"
   ]
  },
  {
   "cell_type": "markdown",
   "id": "0c6e3729-a009-4910-9590-68b83e91876e",
   "metadata": {},
   "source": [
    "### Model"
   ]
  },
  {
   "cell_type": "code",
   "execution_count": 25,
   "id": "835023cd-1a59-4a15-b8ac-c09a42c49932",
   "metadata": {},
   "outputs": [
    {
     "ename": "ValueError",
     "evalue": "Must specify a shape for every non-input parameter in the QNode",
     "output_type": "error",
     "traceback": [
      "\u001b[1;31m---------------------------------------------------------------------------\u001b[0m",
      "\u001b[1;31mValueError\u001b[0m                                Traceback (most recent call last)",
      "Cell \u001b[1;32mIn[25], line 5\u001b[0m\n\u001b[0;32m      3\u001b[0m \u001b[38;5;66;03m# Define trainable weights for the quantum circuit (will be used in training)\u001b[39;00m\n\u001b[0;32m      4\u001b[0m weight_shapes \u001b[38;5;241m=\u001b[39m {\u001b[38;5;124m\"\u001b[39m\u001b[38;5;124mq_weights_flat\u001b[39m\u001b[38;5;124m\"\u001b[39m: (n_layers \u001b[38;5;241m*\u001b[39m (n_qubits \u001b[38;5;241m-\u001b[39m n_ancillas))}\n\u001b[1;32m----> 5\u001b[0m quantum_layer \u001b[38;5;241m=\u001b[39m \u001b[43mqml\u001b[49m\u001b[38;5;241;43m.\u001b[39;49m\u001b[43mqnn\u001b[49m\u001b[38;5;241;43m.\u001b[39;49m\u001b[43mKerasLayer\u001b[49m\u001b[43m(\u001b[49m\u001b[43mquantum_circuit\u001b[49m\u001b[43m,\u001b[49m\u001b[43m \u001b[49m\u001b[43mweight_shapes\u001b[49m\u001b[43m,\u001b[49m\u001b[43m \u001b[49m\u001b[43moutput_dim\u001b[49m\u001b[38;5;241;43m=\u001b[39;49m\u001b[43mn_qubits\u001b[49m\u001b[43m \u001b[49m\u001b[38;5;241;43m-\u001b[39;49m\u001b[43m \u001b[49m\u001b[43mn_ancillas\u001b[49m\u001b[43m)\u001b[49m\n\u001b[0;32m      7\u001b[0m \u001b[38;5;66;03m# Base model from classical nb, adding qlayer in between\u001b[39;00m\n\u001b[0;32m      8\u001b[0m \u001b[38;5;28;01mdef\u001b[39;00m \u001b[38;5;21mcreate_quantum_cnn\u001b[39m(input_shape, return_embeddings\u001b[38;5;241m=\u001b[39m\u001b[38;5;28;01mFalse\u001b[39;00m):\n",
      "File \u001b[1;32m~\\AppData\\Local\\Programs\\Python\\Python310\\lib\\site-packages\\pennylane\\qnn\\keras.py:307\u001b[0m, in \u001b[0;36mKerasLayer.__init__\u001b[1;34m(self, qnode, weight_shapes, output_dim, weight_specs, **kwargs)\u001b[0m\n\u001b[0;32m    295\u001b[0m     \u001b[38;5;28;01mraise\u001b[39;00m \u001b[38;5;167;01mImportError\u001b[39;00m(\n\u001b[0;32m    296\u001b[0m         \u001b[38;5;124m\"\u001b[39m\u001b[38;5;124mKerasLayer requires TensorFlow version 2 or above. The latest \u001b[39m\u001b[38;5;124m\"\u001b[39m\n\u001b[0;32m    297\u001b[0m         \u001b[38;5;124m\"\u001b[39m\u001b[38;5;124mversion of TensorFlow can be installed using:\u001b[39m\u001b[38;5;130;01m\\n\u001b[39;00m\u001b[38;5;124m\"\u001b[39m\n\u001b[0;32m    298\u001b[0m         \u001b[38;5;124m\"\u001b[39m\u001b[38;5;124mpip install tensorflow --upgrade\u001b[39m\u001b[38;5;130;01m\\n\u001b[39;00m\u001b[38;5;124mAlternatively, visit \u001b[39m\u001b[38;5;124m\"\u001b[39m\n\u001b[0;32m    299\u001b[0m         \u001b[38;5;124m\"\u001b[39m\u001b[38;5;124mhttps://www.tensorflow.org/install for detailed instructions.\u001b[39m\u001b[38;5;124m\"\u001b[39m\n\u001b[0;32m    300\u001b[0m     )\n\u001b[0;32m    302\u001b[0m \u001b[38;5;28mself\u001b[39m\u001b[38;5;241m.\u001b[39mweight_shapes \u001b[38;5;241m=\u001b[39m {\n\u001b[0;32m    303\u001b[0m     weight: (\u001b[38;5;28mtuple\u001b[39m(size) \u001b[38;5;28;01mif\u001b[39;00m \u001b[38;5;28misinstance\u001b[39m(size, Iterable) \u001b[38;5;28;01melse\u001b[39;00m (size,) \u001b[38;5;28;01mif\u001b[39;00m size \u001b[38;5;241m>\u001b[39m \u001b[38;5;241m1\u001b[39m \u001b[38;5;28;01melse\u001b[39;00m ())\n\u001b[0;32m    304\u001b[0m     \u001b[38;5;28;01mfor\u001b[39;00m weight, size \u001b[38;5;129;01min\u001b[39;00m weight_shapes\u001b[38;5;241m.\u001b[39mitems()\n\u001b[0;32m    305\u001b[0m }\n\u001b[1;32m--> 307\u001b[0m \u001b[38;5;28;43mself\u001b[39;49m\u001b[38;5;241;43m.\u001b[39;49m\u001b[43m_signature_validation\u001b[49m\u001b[43m(\u001b[49m\u001b[43mqnode\u001b[49m\u001b[43m,\u001b[49m\u001b[43m \u001b[49m\u001b[43mweight_shapes\u001b[49m\u001b[43m)\u001b[49m\n\u001b[0;32m    309\u001b[0m \u001b[38;5;28mself\u001b[39m\u001b[38;5;241m.\u001b[39mqnode \u001b[38;5;241m=\u001b[39m qnode\n\u001b[0;32m    310\u001b[0m \u001b[38;5;28mself\u001b[39m\u001b[38;5;241m.\u001b[39mqnode\u001b[38;5;241m.\u001b[39minterface \u001b[38;5;241m=\u001b[39m \u001b[38;5;124m\"\u001b[39m\u001b[38;5;124mtf\u001b[39m\u001b[38;5;124m\"\u001b[39m\n",
      "File \u001b[1;32m~\\AppData\\Local\\Programs\\Python\\Python310\\lib\\site-packages\\pennylane\\qnn\\keras.py:351\u001b[0m, in \u001b[0;36mKerasLayer._signature_validation\u001b[1;34m(self, qnode, weight_shapes)\u001b[0m\n\u001b[0;32m    349\u001b[0m \u001b[38;5;28;01mif\u001b[39;00m inspect\u001b[38;5;241m.\u001b[39mParameter\u001b[38;5;241m.\u001b[39mVAR_KEYWORD \u001b[38;5;129;01mnot\u001b[39;00m \u001b[38;5;129;01min\u001b[39;00m param_kinds:\n\u001b[0;32m    350\u001b[0m     \u001b[38;5;28;01mif\u001b[39;00m \u001b[38;5;28mset\u001b[39m(weight_shapes\u001b[38;5;241m.\u001b[39mkeys()) \u001b[38;5;241m|\u001b[39m {\u001b[38;5;28mself\u001b[39m\u001b[38;5;241m.\u001b[39minput_arg} \u001b[38;5;241m!=\u001b[39m \u001b[38;5;28mset\u001b[39m(sig\u001b[38;5;241m.\u001b[39mkeys()):\n\u001b[1;32m--> 351\u001b[0m         \u001b[38;5;28;01mraise\u001b[39;00m \u001b[38;5;167;01mValueError\u001b[39;00m(\u001b[38;5;124m\"\u001b[39m\u001b[38;5;124mMust specify a shape for every non-input parameter in the QNode\u001b[39m\u001b[38;5;124m\"\u001b[39m)\n",
      "\u001b[1;31mValueError\u001b[0m: Must specify a shape for every non-input parameter in the QNode"
     ]
    }
   ],
   "source": [
    "from tensorflow.keras import layers, models\n",
    "\n",
    "# Define trainable weights for the quantum circuit (will be used in training)\n",
    "weight_shapes = {\"q_weights_flat\": (n_layers * (n_qubits - n_ancillas))}\n",
    "quantum_layer = qml.qnn.KerasLayer(quantum_circuit, weight_shapes, output_dim=n_qubits - n_ancillas)\n",
    "\n",
    "# Base model from classical nb, adding qlayer in between\n",
    "def create_quantum_cnn(input_shape, return_embeddings=False):\n",
    "    model = models.Sequential()\n",
    "    model.add(layers.Input(shape=input_shape))\n",
    "    model.add(layers.Conv2D(32, (3, 3), activation='relu'))  # Conv layer 1\n",
    "    model.add(layers.MaxPooling2D((2, 2)))\n",
    "    model.add(layers.Conv2D(64, (3, 3), activation='relu'))  # Conv layer 2\n",
    "    model.add(layers.Flatten())\n",
    "    model.add(layers.Dense(64, activation='relu'))\n",
    "\n",
    "    # ------ Quantum layer added in nb 2 classical base architecture\n",
    "    # Reducing dimensions to match n_qubits\n",
    "    model.add(layers.Dense(n_qubits - n_ancillas)) \n",
    "    # Quantum layer\n",
    "    model.add(quantum_layer)\n",
    "    # Dense layer after quantum layer\n",
    "    model.add(layers.Dense(n_qubits - n_ancillas, activation='relu'))\n",
    "    if return_embeddings:\n",
    "        return model\n",
    "    # --------------------------------------------------------------\n",
    "    \n",
    "    # model.add(layers.Dense(1, activation='sigmoid'))  \n",
    "    return model\n",
    "\n",
    "def quantum_fidelity(a, b):\n",
    "    return tf.reduce_sum(a * b, axis=-1) ** 2\n",
    "\n",
    "def contrastive_loss(margin=1.0):\n",
    "    def loss(y_true, dist):\n",
    "        y_true = tf.cast(y_true, tf.float32)\n",
    "        pos_fidelity = quantum_fidelity(dist[:, 0], dist[:, 1])\n",
    "        neg_fidelity = quantum_fidelity(dist[:, 0], dist[:, 2])\n",
    "        return tf.reduce_mean(y_true * (1 - pos_fidelity) + (1 - y_true) * tf.maximum(margin - neg_fidelity, 0))\n",
    "    return loss\n",
    "\n",
    "def create_siamese_network(input_shape):\n",
    "    base_model = create_quantum_cnn(input_shape)\n",
    "\n",
    "    input_0 = layers.Input(shape=input_shape)\n",
    "    input_1 = layers.Input(shape=input_shape)\n",
    "    input_2 = layers.Input(shape=input_shape)\n",
    "\n",
    "    processed_0 = base_model(input_0)\n",
    "    processed_1 = base_model(input_1)\n",
    "    processed_2 = base_model(input_2)\n",
    "\n",
    "    output = tf.stack([processed_0, processed_1, processed_2], axis=1)\n",
    "\n",
    "    siamese_model = models.Model([input_0, input_1, input_2], output)\n",
    "\n",
    "    return siamese_model, base_model\n"
   ]
  },
  {
   "cell_type": "code",
   "execution_count": 15,
   "id": "aefd46aa-fa7c-4d6b-b7cb-4caafcbc33d6",
   "metadata": {},
   "outputs": [],
   "source": [
    "# def simclr_loss():\n",
    "#     def loss(z_real, z_estimate):\n",
    "#         # The z_real parameter is not used since SimCLR is an unsupervised model.\n",
    "#         # This dummy variable is discarded.\n",
    "#         # del z_real\n",
    "    \n",
    "#         # Temperature parameter is set to 0.1. This hyperparameter can be tuned\n",
    "#         # for specific problems to control the smoothness of the output distribution.\n",
    "#         toe = .1\n",
    "    \n",
    "#         # Calculate the number of projections, which is twice the batch size (2N).\n",
    "#         num = z_estimate.shape[0]\n",
    "    \n",
    "#         # Generate two sets of indices for all possible pair combinations within the batch.\n",
    "#         # ind0 is a temporary variable holding the repeated range for generating indices.\n",
    "#         ind0 = tf.repeat(tf.expand_dims(tf.range(0, num), axis=0), num, axis=0)\n",
    "#         # Flatten ind0 to create a single list of indices for the first element of pairs.\n",
    "#         ind1 = tf.reshape(ind0, (num**2, 1))[:, 0]\n",
    "#         # Flatten the transpose of ind0 to create a single list of indices for the second element of pairs.\n",
    "#         ind2 = tf.reshape(tf.transpose(ind0), (num**2, 1))[:, 0]\n",
    "    \n",
    "#         # The temporary index tensor is no longer needed after use.\n",
    "#         del ind0\n",
    "    \n",
    "#         # Select the projections based on the first set of indices to form the first elements of pairs.\n",
    "#         vector_1 = tf.gather(z_estimate, ind1, axis=0)\n",
    "#         # The first set of indices is no longer needed after use.\n",
    "#         del ind1\n",
    "    \n",
    "#         # Select the projections based on the second set of indices to form the second elements of pairs.\n",
    "#         vector_2 = tf.gather(z_estimate, ind2, axis=0)\n",
    "#         # The second set of indices is no longer needed after use.\n",
    "#         del ind2\n",
    "    \n",
    "#         # Calculate the cosine similarity between each pair of projections and negate it to prepare for loss calculation.\n",
    "#         s = -tf.reshape(tf.keras.losses.cosine_similarity(vector_1, vector_2, axis=1), (num, num))\n",
    "    \n",
    "#         # The vector tensors are no longer needed after computing similarities.\n",
    "#         del vector_1\n",
    "#         del vector_2\n",
    "    \n",
    "    \n",
    "#         # Calculate the nominator of the contrastive loss function for each pair.\n",
    "#         nom = tf.exp(s / toe)\n",
    "    \n",
    "#         # Calculate the denominator of the contrastive loss function by excluding the self-similarity term.\n",
    "#         x1 = tf.exp(s / toe)\n",
    "#         x2 = 1 - tf.eye(num, dtype=tf.float32)\n",
    "#         denom = tf.repeat(tf.expand_dims(tf.math.reduce_sum(x1 * x2, axis=1), axis=1), num, axis=1)\n",
    "    \n",
    "#         # The intermediate tensors used for the denominator are no longer needed.\n",
    "#         del s\n",
    "#         del x1\n",
    "#         del x2\n",
    "    \n",
    "#         # Calculate the loss `l(i, j)` for each pair of projections using the computed nominator and denominator.\n",
    "#         l = -tf.math.log(nom / denom)\n",
    "    \n",
    "#         # Cleanup intermediate tensors to save memory.\n",
    "#         del nom\n",
    "#         del denom\n",
    "    \n",
    "#         # Prepare indices to extract the diagonal elements from the loss matrix, which correspond to the actual pair losses.\n",
    "#         ind_2k0 = tf.range(0, num, 2, dtype=tf.int32)  # Even indices\n",
    "#         ind_2k1 = tf.range(1, num, 2, dtype=tf.int32)  # Odd indices\n",
    "    \n",
    "#         # Extract and sum the losses for the actual pairs using the prepared indices.\n",
    "#         loss_mat1_1 = tf.gather(l, ind_2k0, axis=0)\n",
    "#         loss_mat1_2 = tf.gather(loss_mat1_1, ind_2k1, axis=1)\n",
    "#         loss_mat1 = tf.linalg.diag_part(loss_mat1_2)\n",
    "    \n",
    "#         loss_mat2_1 = tf.gather(l, ind_2k1, axis=0)\n",
    "#         loss_mat2_2 = tf.gather(loss_mat2_1, ind_2k0, axis=1)\n",
    "#         loss_mat2 = tf.linalg.diag_part(loss_mat2_2)\n",
    "    \n",
    "#         # After extracting the necessary elements, the large loss tensor can be discarded.\n",
    "#         del l\n",
    "    \n",
    "#         # Combine the individual loss components into a single tensor.\n",
    "#         loss_mat = loss_mat1 + loss_mat2\n",
    "    \n",
    "#         # Compute the final loss by taking the sum over all individual losses and normalizing by the number of pairs.\n",
    "#         L = tf.math.reduce_sum(loss_mat) / num\n",
    "    \n",
    "    \n",
    "#         # Return the final computed loss.\n",
    "#         return L\n",
    "#     return loss"
   ]
  },
  {
   "cell_type": "markdown",
   "id": "5ffcfeac-a1d5-4441-b57f-6474e41fd99a",
   "metadata": {},
   "source": [
    "### Training"
   ]
  },
  {
   "cell_type": "code",
   "execution_count": 17,
   "id": "33b87830-0761-4982-ac3e-b3df0c18da80",
   "metadata": {},
   "outputs": [
    {
     "name": "stdout",
     "output_type": "stream",
     "text": [
      "Epoch 1/20\n"
     ]
    },
    {
     "ename": "InvalidArgumentError",
     "evalue": "in user code:\n\n    File \"C:\\Users\\Sanya Nanda\\AppData\\Local\\Temp\\ipykernel_33700\\1881263787.py\", line 36, in loss  *\n        s = -tf.reshape(tf.keras.losses.cosine_similarity(vector_1, vector_2, axis=1), (num, num))\n    File \"C:\\Users\\Sanya Nanda\\AppData\\Local\\Programs\\Python\\Python310\\lib\\site-packages\\keras\\src\\losses.py\", line 2838, in cosine_similarity\n        y_true = tf.linalg.l2_normalize(y_true, axis=axis)\n\n    InvalidArgumentError: {{function_node __wrapped__Sum_device_/job:localhost/replica:0/task:0/device:CPU:0}} Invalid reduction dimension (1 for input with 1 dimension(s) [Op:Sum] name: \n",
     "output_type": "error",
     "traceback": [
      "\u001b[1;31m---------------------------------------------------------------------------\u001b[0m",
      "\u001b[1;31mInvalidArgumentError\u001b[0m                      Traceback (most recent call last)",
      "Cell \u001b[1;32mIn[17], line 15\u001b[0m\n\u001b[0;32m     11\u001b[0m siamese_network, base_model \u001b[38;5;241m=\u001b[39m create_siamese_network(input_shape)\n\u001b[0;32m     13\u001b[0m siamese_network\u001b[38;5;241m.\u001b[39mcompile(loss\u001b[38;5;241m=\u001b[39msimclr_loss(), optimizer\u001b[38;5;241m=\u001b[39moptimizers\u001b[38;5;241m.\u001b[39mAdam(learning_rate\u001b[38;5;241m=\u001b[39m\u001b[38;5;241m1e-3\u001b[39m))\n\u001b[1;32m---> 15\u001b[0m history \u001b[38;5;241m=\u001b[39m \u001b[43msiamese_network\u001b[49m\u001b[38;5;241;43m.\u001b[39;49m\u001b[43mfit\u001b[49m\u001b[43m(\u001b[49m\u001b[43m[\u001b[49m\u001b[43mpairs_train\u001b[49m\u001b[43m[\u001b[49m\u001b[43m:\u001b[49m\u001b[43m,\u001b[49m\u001b[43m \u001b[49m\u001b[38;5;241;43m0\u001b[39;49m\u001b[43m]\u001b[49m\u001b[43m,\u001b[49m\u001b[43m \u001b[49m\u001b[43mpairs_train\u001b[49m\u001b[43m[\u001b[49m\u001b[43m:\u001b[49m\u001b[43m,\u001b[49m\u001b[43m \u001b[49m\u001b[38;5;241;43m1\u001b[39;49m\u001b[43m]\u001b[49m\u001b[43m]\u001b[49m\u001b[43m,\u001b[49m\u001b[43m \u001b[49m\u001b[43mlabels_train\u001b[49m\u001b[43m,\u001b[49m\n\u001b[0;32m     16\u001b[0m \u001b[43m    \u001b[49m\u001b[43mvalidation_data\u001b[49m\u001b[38;5;241;43m=\u001b[39;49m\u001b[43m(\u001b[49m\u001b[43m[\u001b[49m\u001b[43mpairs_test\u001b[49m\u001b[43m[\u001b[49m\u001b[43m:\u001b[49m\u001b[43m,\u001b[49m\u001b[43m \u001b[49m\u001b[38;5;241;43m0\u001b[39;49m\u001b[43m]\u001b[49m\u001b[43m,\u001b[49m\u001b[43m \u001b[49m\u001b[43mpairs_test\u001b[49m\u001b[43m[\u001b[49m\u001b[43m:\u001b[49m\u001b[43m,\u001b[49m\u001b[43m \u001b[49m\u001b[38;5;241;43m1\u001b[39;49m\u001b[43m]\u001b[49m\u001b[43m]\u001b[49m\u001b[43m,\u001b[49m\u001b[43m \u001b[49m\u001b[43mlabels_test\u001b[49m\u001b[43m)\u001b[49m\u001b[43m,\u001b[49m\n\u001b[0;32m     17\u001b[0m \u001b[43m    \u001b[49m\u001b[43mepochs\u001b[49m\u001b[38;5;241;43m=\u001b[39;49m\u001b[38;5;241;43m20\u001b[39;49m\u001b[43m,\u001b[49m\n\u001b[0;32m     18\u001b[0m \u001b[43m    \u001b[49m\u001b[43mbatch_size\u001b[49m\u001b[38;5;241;43m=\u001b[39;49m\u001b[38;5;241;43m128\u001b[39;49m\u001b[43m,\u001b[49m\n\u001b[0;32m     19\u001b[0m \u001b[43m    \u001b[49m\u001b[43mcallbacks\u001b[49m\u001b[38;5;241;43m=\u001b[39;49m\u001b[43m[\u001b[49m\u001b[43mcp_callback\u001b[49m\u001b[43m]\u001b[49m\n\u001b[0;32m     20\u001b[0m \u001b[43m)\u001b[49m\n",
      "File \u001b[1;32m~\\AppData\\Local\\Programs\\Python\\Python310\\lib\\site-packages\\keras\\src\\utils\\traceback_utils.py:70\u001b[0m, in \u001b[0;36mfilter_traceback.<locals>.error_handler\u001b[1;34m(*args, **kwargs)\u001b[0m\n\u001b[0;32m     67\u001b[0m     filtered_tb \u001b[38;5;241m=\u001b[39m _process_traceback_frames(e\u001b[38;5;241m.\u001b[39m__traceback__)\n\u001b[0;32m     68\u001b[0m     \u001b[38;5;66;03m# To get the full stack trace, call:\u001b[39;00m\n\u001b[0;32m     69\u001b[0m     \u001b[38;5;66;03m# `tf.debugging.disable_traceback_filtering()`\u001b[39;00m\n\u001b[1;32m---> 70\u001b[0m     \u001b[38;5;28;01mraise\u001b[39;00m e\u001b[38;5;241m.\u001b[39mwith_traceback(filtered_tb) \u001b[38;5;28;01mfrom\u001b[39;00m \u001b[38;5;28;01mNone\u001b[39;00m\n\u001b[0;32m     71\u001b[0m \u001b[38;5;28;01mfinally\u001b[39;00m:\n\u001b[0;32m     72\u001b[0m     \u001b[38;5;28;01mdel\u001b[39;00m filtered_tb\n",
      "File \u001b[1;32m~\\AppData\\Local\\Programs\\Python\\Python310\\lib\\site-packages\\tensorflow\\python\\autograph\\impl\\api.py:693\u001b[0m, in \u001b[0;36mconvert.<locals>.decorator.<locals>.wrapper\u001b[1;34m(*args, **kwargs)\u001b[0m\n\u001b[0;32m    691\u001b[0m \u001b[38;5;28;01mexcept\u001b[39;00m \u001b[38;5;167;01mException\u001b[39;00m \u001b[38;5;28;01mas\u001b[39;00m e:  \u001b[38;5;66;03m# pylint:disable=broad-except\u001b[39;00m\n\u001b[0;32m    692\u001b[0m   \u001b[38;5;28;01mif\u001b[39;00m \u001b[38;5;28mhasattr\u001b[39m(e, \u001b[38;5;124m'\u001b[39m\u001b[38;5;124mag_error_metadata\u001b[39m\u001b[38;5;124m'\u001b[39m):\n\u001b[1;32m--> 693\u001b[0m     \u001b[38;5;28;01mraise\u001b[39;00m e\u001b[38;5;241m.\u001b[39mag_error_metadata\u001b[38;5;241m.\u001b[39mto_exception(e)\n\u001b[0;32m    694\u001b[0m   \u001b[38;5;28;01melse\u001b[39;00m:\n\u001b[0;32m    695\u001b[0m     \u001b[38;5;28;01mraise\u001b[39;00m\n",
      "\u001b[1;31mInvalidArgumentError\u001b[0m: in user code:\n\n    File \"C:\\Users\\Sanya Nanda\\AppData\\Local\\Temp\\ipykernel_33700\\1881263787.py\", line 36, in loss  *\n        s = -tf.reshape(tf.keras.losses.cosine_similarity(vector_1, vector_2, axis=1), (num, num))\n    File \"C:\\Users\\Sanya Nanda\\AppData\\Local\\Programs\\Python\\Python310\\lib\\site-packages\\keras\\src\\losses.py\", line 2838, in cosine_similarity\n        y_true = tf.linalg.l2_normalize(y_true, axis=axis)\n\n    InvalidArgumentError: {{function_node __wrapped__Sum_device_/job:localhost/replica:0/task:0/device:CPU:0}} Invalid reduction dimension (1 for input with 1 dimension(s) [Op:Sum] name: \n"
     ]
    }
   ],
   "source": [
    "# Training\n",
    "tf.get_logger().setLevel('ERROR')\n",
    "\n",
    "# checkpoint_path = \"hybrid_cnn_base_1_ep/cp.ckpt\"\n",
    "# checkpoint_dir = os.path.dirname(checkpoint_path)\n",
    "# cp_callback = tf.keras.callbacks.ModelCheckpoint(filepath=checkpoint_path,save_weights_only=True,verbose=1)\n",
    "cp_callback = tf.keras.callbacks.ModelCheckpoint(filepath='hybrid_model_qg1_c2.h5', save_weights_only=True,verbose=1)\n",
    "\n",
    "\n",
    "input_shape = pairs_train.shape[2:]\n",
    "siamese_network, base_model = create_siamese_network(input_shape)\n",
    "\n",
    "siamese_network.compile(loss=simclr_loss(), optimizer=optimizers.Adam(learning_rate=1e-3))\n",
    "\n",
    "history = siamese_network.fit([pairs_train[:, 0], pairs_train[:, 1]], labels_train,\n",
    "    validation_data=([pairs_test[:, 0], pairs_test[:, 1]], labels_test),\n",
    "    epochs=20,\n",
    "    batch_size=128,\n",
    "    callbacks=[cp_callback]\n",
    ")"
   ]
  },
  {
   "cell_type": "code",
   "execution_count": 16,
   "id": "ff8408dd-3435-406e-b4af-37d019f4564e",
   "metadata": {},
   "outputs": [
    {
     "name": "stdout",
     "output_type": "stream",
     "text": [
      "Model: \"model\"\n",
      "__________________________________________________________________________________________________\n",
      " Layer (type)                Output Shape                 Param #   Connected to                  \n",
      "==================================================================================================\n",
      " input_2 (InputLayer)        [(None, 40, 40, 1)]          0         []                            \n",
      "                                                                                                  \n",
      " input_3 (InputLayer)        [(None, 40, 40, 1)]          0         []                            \n",
      "                                                                                                  \n",
      " sequential (Sequential)     (None, 8)                    1203240   ['input_2[0][0]',             \n",
      "                                                                     'input_3[0][0]']             \n",
      "                                                                                                  \n",
      " lambda (Lambda)             (None,)                      0         ['sequential[0][0]',          \n",
      "                                                                     'sequential[1][0]']          \n",
      "                                                                                                  \n",
      "==================================================================================================\n",
      "Total params: 1203240 (4.59 MB)\n",
      "Trainable params: 1203240 (4.59 MB)\n",
      "Non-trainable params: 0 (0.00 Byte)\n",
      "__________________________________________________________________________________________________\n"
     ]
    }
   ],
   "source": [
    "siamese_network.summary()"
   ]
  },
  {
   "cell_type": "code",
   "execution_count": 17,
   "id": "5cec659b-085e-4d97-99f5-22c451c9cad2",
   "metadata": {},
   "outputs": [
    {
     "data": {
      "text/plain": [
       "<Axes: title={'center': 'Learning History'}>"
      ]
     },
     "execution_count": 17,
     "metadata": {},
     "output_type": "execute_result"
    },
    {
     "data": {
      "image/png": "[encoded data removed]",
      "text/plain": [
       "<Figure size 640x480 with 1 Axes>"
      ]
     },
     "metadata": {},
     "output_type": "display_data"
    }
   ],
   "source": [
    "pd.DataFrame(history.history).plot(title=\"Learning History\")"
   ]
  },
  {
   "cell_type": "markdown",
   "id": "42f97bb3-20c7-472e-80c0-24d52519c7de",
   "metadata": {},
   "source": [
    "### Embeddings"
   ]
  },
  {
   "cell_type": "code",
   "execution_count": 18,
   "id": "50fd6646-56ca-4c01-9d69-5f1d91ebf0fa",
   "metadata": {},
   "outputs": [
    {
     "ename": "NameError",
     "evalue": "name 'x_test' is not defined",
     "output_type": "error",
     "traceback": [
      "\u001b[1;31m---------------------------------------------------------------------------\u001b[0m",
      "\u001b[1;31mNameError\u001b[0m                                 Traceback (most recent call last)",
      "Cell \u001b[1;32mIn[18], line 4\u001b[0m\n\u001b[0;32m      1\u001b[0m embedding_model \u001b[38;5;241m=\u001b[39m models\u001b[38;5;241m.\u001b[39mModel(inputs\u001b[38;5;241m=\u001b[39mbase_model\u001b[38;5;241m.\u001b[39minput, outputs\u001b[38;5;241m=\u001b[39mbase_model\u001b[38;5;241m.\u001b[39moutput)\n\u001b[0;32m      3\u001b[0m \u001b[38;5;66;03m# Use the model to predict (get embeddings) for new data\u001b[39;00m\n\u001b[1;32m----> 4\u001b[0m embeddings \u001b[38;5;241m=\u001b[39m embedding_model\u001b[38;5;241m.\u001b[39mpredict(\u001b[43mx_test\u001b[49m[:,:,:,\u001b[38;5;241m0\u001b[39m])\n\u001b[0;32m      6\u001b[0m \u001b[38;5;66;03m# Example: fetching embeddings for the training data\u001b[39;00m\n\u001b[0;32m      7\u001b[0m \u001b[38;5;28mprint\u001b[39m(embeddings\u001b[38;5;241m.\u001b[39mshape)\n",
      "\u001b[1;31mNameError\u001b[0m: name 'x_test' is not defined"
     ]
    }
   ],
   "source": [
    "embedding_model = models.Model(inputs=base_model.input, outputs=base_model.output)\n",
    "\n",
    "# Use the model to predict (get embeddings) for new data\n",
    "embeddings = embedding_model.predict(x_test[:,:,:,0])\n",
    "\n",
    "# Example: fetching embeddings for the training data\n",
    "print(embeddings.shape)"
   ]
  },
  {
   "cell_type": "code",
   "execution_count": null,
   "id": "d52a1274-60fa-4228-9d34-bf3c64999d54",
   "metadata": {},
   "outputs": [],
   "source": [
    "from sklearn.manifold import TSNE\n",
    "import matplotlib.pyplot as plt\n",
    "from mpl_toolkits.mplot3d import Axes3D\n",
    "import plotly.express as px\n",
    "import pandas as pd\n",
    "\n",
    "tsne = TSNE(n_components=3, random_state=42)\n",
    "embeddings_3d = tsne.fit_transform(embeddings)\n",
    "\n",
    "df = pd.DataFrame(embeddings_3d, columns=['tsne1', 'tsne2', 'tsne3'])\n",
    "df['label'] = y_test\n",
    "\n",
    "# Visualize the 3D embeddings\n",
    "fig = plt.figure(figsize=(10, 8))\n",
    "ax = fig.add_subplot(111, projection='3d')\n",
    "colors = ['red' if label == 1 else 'blue' for label in y_test]\n",
    "ax.scatter(embeddings_3d[:, 0], embeddings_3d[:, 1], embeddings_3d[:, 2], c=colors)\n",
    "ax.set_title('3D t-SNE visualization of Quark Gluon embeddings')\n",
    "ax.set_xlabel('t-SNE feature 1')\n",
    "ax.set_ylabel('t-SNE feature 2')\n",
    "ax.set_zlabel('t-SNE feature 3')\n",
    "plt.show()"
   ]
  },
  {
   "cell_type": "markdown",
   "id": "11b01d33-4ca7-417c-a7f4-f533386b7609",
   "metadata": {},
   "source": [
    "### Model Evaluation"
   ]
  },
  {
   "cell_type": "code",
   "execution_count": null,
   "id": "ecf2e8c4-f893-4c8b-b69a-685eefed5d62",
   "metadata": {},
   "outputs": [],
   "source": [
    "distance = siamese_network.predict([pairs_test[:, 0], pairs_test[:, 1]])\n",
    "\n",
    "def distances_to_labels(distances, threshold=0.5):\n",
    "    return (distances <= threshold).astype(int)\n",
    "\n",
    "y_pred = distances_to_labels(distance)"
   ]
  },
  {
   "cell_type": "code",
   "execution_count": null,
   "id": "e53b19d9-4522-44ba-bdaa-52974889c067",
   "metadata": {},
   "outputs": [],
   "source": [
    "from helpers import evaluate_precision_recall_accuracy\n",
    "evaluate_precision_recall_accuracy(labels_test,y_pred)"
   ]
  },
  {
   "cell_type": "code",
   "execution_count": null,
   "id": "11f89bf8-6b14-4ee4-8b71-45a4c203a7ee",
   "metadata": {},
   "outputs": [],
   "source": [
    "from helpers import plot_auc"
   ]
  },
  {
   "cell_type": "code",
   "execution_count": null,
   "id": "ef9f3fe7-4106-47d2-9e7e-53a652cbf47b",
   "metadata": {},
   "outputs": [],
   "source": [
    "plot_auc(labels_test,y_pred)"
   ]
  }
 ],
 "metadata": {
  "kernelspec": {
   "display_name": "env",
   "language": "python",
   "name": "env"
  },
  "language_info": {
   "codemirror_mode": {
    "name": "ipython",
    "version": 3
   },
   "file_extension": ".py",
   "mimetype": "text/x-python",
   "name": "python",
   "nbconvert_exporter": "python",
   "pygments_lexer": "ipython3",
   "version": "3.10.11"
  }
 },
 "nbformat": 4,
 "nbformat_minor": 5
}
