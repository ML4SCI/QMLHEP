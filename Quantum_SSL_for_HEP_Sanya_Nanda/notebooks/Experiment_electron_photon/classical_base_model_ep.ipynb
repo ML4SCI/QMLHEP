{
 "cells": [
  {
   "cell_type": "code",
   "execution_count": 1,
   "id": "3d999eaa-178f-4a93-b7cd-23187d13baad",
   "metadata": {},
   "outputs": [
    {
     "name": "stdout",
     "output_type": "stream",
     "text": [
      "WARNING:tensorflow:From C:\\Users\\Sanya Nanda\\AppData\\Local\\Programs\\Python\\Python310\\lib\\site-packages\\keras\\src\\losses.py:2976: The name tf.losses.sparse_softmax_cross_entropy is deprecated. Please use tf.compat.v1.losses.sparse_softmax_cross_entropy instead.\n",
      "\n"
     ]
    }
   ],
   "source": [
    "# Required Imports\n",
    "import wandb\n",
    "\n",
    "import tensorflow as tf\n",
    "from tensorflow.keras import layers, models, losses, optimizers, initializers\n",
    "\n",
    "from sklearn.metrics import roc_curve, auc, confusion_matrix\n",
    "from sklearn.metrics import confusion_matrix as cmatrix\n",
    "\n",
    "import matplotlib.pyplot as plt\n",
    "import numpy as np\n",
    "import pandas as pd\n",
    "import itertools"
   ]
  },
  {
   "cell_type": "code",
   "execution_count": 2,
   "id": "4583c97c-8cad-4d61-8130-174d18bb2cc4",
   "metadata": {},
   "outputs": [
    {
     "name": "stdout",
     "output_type": "stream",
     "text": [
      "(796800, 2, 8, 8, 1) (199200, 2, 8, 8, 1)\n",
      "(796800,) (199200,)\n"
     ]
    }
   ],
   "source": [
    "# loading the data as train and test\n",
    "data = np.load('../../data/electron-photon-pairs.npz', allow_pickle=True)\n",
    "\n",
    "pairs_train = data[\"pairs_train\"]\n",
    "labels_train = data[\"labels_train\"]\n",
    "pairs_test = data[\"pairs_test\"]\n",
    "labels_test = data[\"labels_test\"]\n",
    "\n",
    "print(pairs_train.shape, pairs_test.shape)\n",
    "print(labels_train.shape, labels_test.shape)"
   ]
  },
  {
   "cell_type": "code",
   "execution_count": 3,
   "id": "1d8d7f1f-a7b0-4e95-bfda-1539e4704eea",
   "metadata": {},
   "outputs": [],
   "source": [
    "def plot_sample_pairs(pairs, labels, shape, num_samples=5):\n",
    "    plt.figure(figsize=(15, num_samples * 2))\n",
    "    for i in range(num_samples):\n",
    "        ax = plt.subplot(num_samples, 2, 2 * i + 1)\n",
    "        plt.imshow(pairs[i, 0].reshape(shape, shape), cmap='gray')\n",
    "        ax.axis('off')\n",
    "\n",
    "        ax = plt.subplot(num_samples, 2, 2 * i + 2)\n",
    "        plt.imshow(pairs[i, 1].reshape(shape, shape), cmap='gray')\n",
    "        ax.axis('off')\n",
    "\n",
    "        label = labels[i]\n",
    "        plt.title(f'Sample: {i}, Label: {label}')\n",
    "\n",
    "    plt.tight_layout()\n",
    "    plt.show()"
   ]
  },
  {
   "cell_type": "code",
   "execution_count": 4,
   "id": "a14da3eb-a7e9-44fb-8561-375bbaadf9c4",
   "metadata": {},
   "outputs": [
    {
     "data": {
      "image/png": "[encoded data removed]",
      "text/plain": [
       "<Figure size 1500x1000 with 10 Axes>"
      ]
     },
     "metadata": {},
     "output_type": "display_data"
    }
   ],
   "source": [
    "plot_sample_pairs(pairs_train, labels_train, shape=8)"
   ]
  },
  {
   "cell_type": "markdown",
   "id": "b0eced90-90b9-480b-b08d-2f17738d9086",
   "metadata": {},
   "source": [
    "### Defining the Model"
   ]
  },
  {
   "cell_type": "code",
   "execution_count": 5,
   "id": "ce6ed510-2ed0-49c9-8e60-1519ec96bcdf",
   "metadata": {},
   "outputs": [],
   "source": [
    "# Contrastive loss function based on margin\n",
    "def contrastive_loss(margin=1.0):\n",
    "    def loss(y_true, dist):\n",
    "        y_true = tf.cast(y_true, tf.float32)\n",
    "        square_dist = tf.square(dist)\n",
    "        margin_square = tf.square(tf.maximum(margin - dist, 0))\n",
    "        return tf.reduce_mean(y_true * square_dist + (1 - y_true) * margin_square)\n",
    "    return loss"
   ]
  },
  {
   "cell_type": "code",
   "execution_count": 46,
   "id": "cb8b368f-5f12-4191-8049-168d6422d15b",
   "metadata": {},
   "outputs": [
    {
     "data": {
      "application/vnd.jupyter.widget-view+json": {
       "model_id": "78eedbcd01b345468c3378f6b4115b02",
       "version_major": 2,
       "version_minor": 0
      },
      "text/plain": [
       "VBox(children=(Label(value='Waiting for wandb.init()...\\r'), FloatProgress(value=0.011111111111111112, max=1.0…"
      ]
     },
     "metadata": {},
     "output_type": "display_data"
    },
    {
     "data": {
      "text/html": [
       "wandb version 0.17.1 is available!  To upgrade, please run:\n",
       " $ pip install wandb --upgrade"
      ],
      "text/plain": [
       "<IPython.core.display.HTML object>"
      ]
     },
     "metadata": {},
     "output_type": "display_data"
    },
    {
     "data": {
      "text/html": [
       "Tracking run with wandb version 0.17.0"
      ],
      "text/plain": [
       "<IPython.core.display.HTML object>"
      ]
     },
     "metadata": {},
     "output_type": "display_data"
    },
    {
     "data": {
      "text/html": [
       "Run data is saved locally in <code>C:\\Users\\Sanya Nanda\\Sanya-Home\\gsoc2024\\ML4Sci_QuantumContrastiveLearning\\notebooks\\Experiment1\\wandb\\run-20240612_001941-znvqzx66</code>"
      ],
      "text/plain": [
       "<IPython.core.display.HTML object>"
      ]
     },
     "metadata": {},
     "output_type": "display_data"
    },
    {
     "data": {
      "text/html": [
       "Syncing run <strong><a href='https://wandb.ai/team-sanya/ML4Sci-QuantumContrastiveLearning/runs/znvqzx66' target=\"_blank\">comic-aardvark-8</a></strong> to <a href='https://wandb.ai/team-sanya/ML4Sci-QuantumContrastiveLearning' target=\"_blank\">Weights & Biases</a> (<a href='https://wandb.me/run' target=\"_blank\">docs</a>)<br/>"
      ],
      "text/plain": [
       "<IPython.core.display.HTML object>"
      ]
     },
     "metadata": {},
     "output_type": "display_data"
    },
    {
     "data": {
      "text/html": [
       " View project at <a href='https://wandb.ai/team-sanya/ML4Sci-QuantumContrastiveLearning' target=\"_blank\">https://wandb.ai/team-sanya/ML4Sci-QuantumContrastiveLearning</a>"
      ],
      "text/plain": [
       "<IPython.core.display.HTML object>"
      ]
     },
     "metadata": {},
     "output_type": "display_data"
    },
    {
     "data": {
      "text/html": [
       " View run at <a href='https://wandb.ai/team-sanya/ML4Sci-QuantumContrastiveLearning/runs/znvqzx66' target=\"_blank\">https://wandb.ai/team-sanya/ML4Sci-QuantumContrastiveLearning/runs/znvqzx66</a>"
      ],
      "text/plain": [
       "<IPython.core.display.HTML object>"
      ]
     },
     "metadata": {},
     "output_type": "display_data"
    },
    {
     "data": {
      "text/html": [
       "<button onClick=\"this.nextSibling.style.display='block';this.style.display='none';\">Display W&B run</button><iframe src='https://wandb.ai/team-sanya/ML4Sci-QuantumContrastiveLearning/runs/znvqzx66?jupyter=true' style='border:none;width:100%;height:420px;display:none;'></iframe>"
      ],
      "text/plain": [
       "<wandb.sdk.wandb_run.Run at 0x2f83711e410>"
      ]
     },
     "execution_count": 46,
     "metadata": {},
     "output_type": "execute_result"
    }
   ],
   "source": [
    "# Start a run, tracking hyperparameters\n",
    "wandb.init(\n",
    "    # set the wandb project where this run will be logged\n",
    "    project=\"ML4Sci-QuantumContrastiveLearning\",\n",
    "\n",
    "    # track hyperparameters and run metadata with wandb.config\n",
    "    config={\n",
    "        \"input_shape\": pairs_train.shape[2:],\n",
    "        \"layer_1\": 32,\n",
    "        \"kernel_1\": (3,3),\n",
    "        \"activation_1\": \"relu\",\n",
    "        \"mp_kernel\": (2,2),\n",
    "        \"layer_2\": 64,\n",
    "        \"activation_2\": \"leaky_relu\",\n",
    "        \"regularizer\": \"l2 0.01\",\n",
    "        \"optimizer\": \"adam\",\n",
    "        \"loss\": \"contrastive_pair_loss\",\n",
    "        \"dropout\": 0.5,\n",
    "        \"epoch\": 50,\n",
    "        \"batch_size\": 50000,\n",
    "        \"architecture\": \"Base CNN\",\n",
    "        \"dataset\": \"electron-photon\",\n",
    "        \"clipnorm\": False,\n",
    "    }\n",
    ")"
   ]
  },
  {
   "cell_type": "code",
   "execution_count": 47,
   "id": "0140c8c0-3cba-44f0-87a9-58661a4ff170",
   "metadata": {},
   "outputs": [],
   "source": [
    "config = wandb.config"
   ]
  },
  {
   "cell_type": "code",
   "execution_count": 48,
   "id": "0a2beaa6-a4c7-48d4-b7c6-801d917f5d35",
   "metadata": {},
   "outputs": [],
   "source": [
    "# Define the CNN model \n",
    "def create_base_model(input_shape):\n",
    "    model = models.Sequential()\n",
    "    model.add(layers.Input(shape=input_shape))\n",
    "    model.add(layers.Conv2D(config.layer_1, config.kernel_1, activation=config.activation_1,kernel_initializer=initializers.HeNormal())) \n",
    "    model.add(layers.MaxPooling2D(config.mp_kernel))\n",
    "    model.add(layers.Conv2D(config.layer_2, config.kernel_1, activation=config.activation_1,kernel_regularizer=tf.keras.regularizers.l2(0.01))) \n",
    "    model.add(layers.Dropout((config.dropout)))\n",
    "    model.add(layers.Flatten())\n",
    "    model.add(layers.Dense(config.layer_2, activation=config.activation_2,kernel_regularizer=tf.keras.regularizers.l2(0.01)))\n",
    "    return model"
   ]
  },
  {
   "cell_type": "code",
   "execution_count": 49,
   "id": "b483ed54-cfae-445d-8992-115ca0f61019",
   "metadata": {},
   "outputs": [],
   "source": [
    "# Siamese Network model\n",
    "def create_siamese_network(input_shape):\n",
    "    base_model = create_base_model(input_shape)\n",
    "\n",
    "    input_0 = layers.Input(shape=input_shape)\n",
    "    input_1 = layers.Input(shape=input_shape)\n",
    "\n",
    "    processed_0 = base_model(input_0)\n",
    "    processed_1 = base_model(input_1)\n",
    "\n",
    "    distance = layers.Lambda(lambda embeddings: tf.sqrt(tf.reduce_sum(tf.square(embeddings[0] - embeddings[1]), axis=-1)), output_shape=(1,)\n",
    "                            )([processed_0, processed_1])\n",
    "    \n",
    "    model = models.Model([input_0, input_1], distance)\n",
    "    \n",
    "    return model"
   ]
  },
  {
   "cell_type": "code",
   "execution_count": 50,
   "id": "a574a2bf-3b0e-4733-ba8e-6e01545a23e3",
   "metadata": {},
   "outputs": [
    {
     "name": "stdout",
     "output_type": "stream",
     "text": [
      "Epoch 1/50\n",
      "16/16 [==============================] - ETA: 0s - loss: 1.3223\n",
      "Epoch 1: saving model to ../../saved_models/exp1_cnn_base_1_ep\\cp.ckpt\n",
      "16/16 [==============================] - 15s 824ms/step - loss: 1.3223 - val_loss: 1.2518\n",
      "Epoch 2/50\n",
      "16/16 [==============================] - ETA: 0s - loss: 0.9218\n",
      "Epoch 2: saving model to ../../saved_models/exp1_cnn_base_1_ep\\cp.ckpt\n",
      "16/16 [==============================] - 13s 788ms/step - loss: 0.9218 - val_loss: 1.0426\n",
      "Epoch 3/50\n",
      "16/16 [==============================] - ETA: 0s - loss: 0.7168\n",
      "Epoch 3: saving model to ../../saved_models/exp1_cnn_base_1_ep\\cp.ckpt\n",
      "16/16 [==============================] - 13s 789ms/step - loss: 0.7168 - val_loss: 0.8785\n",
      "Epoch 4/50\n",
      "16/16 [==============================] - ETA: 0s - loss: 0.5862\n",
      "Epoch 4: saving model to ../../saved_models/exp1_cnn_base_1_ep\\cp.ckpt\n",
      "16/16 [==============================] - 13s 787ms/step - loss: 0.5862 - val_loss: 0.7789\n",
      "Epoch 5/50\n",
      "16/16 [==============================] - ETA: 0s - loss: 0.4989\n",
      "Epoch 5: saving model to ../../saved_models/exp1_cnn_base_1_ep\\cp.ckpt\n",
      "16/16 [==============================] - 13s 788ms/step - loss: 0.4989 - val_loss: 0.7074\n",
      "Epoch 6/50\n",
      "16/16 [==============================] - ETA: 0s - loss: 0.4384\n",
      "Epoch 6: saving model to ../../saved_models/exp1_cnn_base_1_ep\\cp.ckpt\n",
      "16/16 [==============================] - 18s 1s/step - loss: 0.4384 - val_loss: 0.6580\n",
      "Epoch 7/50\n",
      "16/16 [==============================] - ETA: 0s - loss: 0.3953\n",
      "Epoch 7: saving model to ../../saved_models/exp1_cnn_base_1_ep\\cp.ckpt\n",
      "16/16 [==============================] - 57s 4s/step - loss: 0.3953 - val_loss: 0.6221\n",
      "Epoch 8/50\n",
      "16/16 [==============================] - ETA: 0s - loss: 0.3639\n",
      "Epoch 8: saving model to ../../saved_models/exp1_cnn_base_1_ep\\cp.ckpt\n",
      "16/16 [==============================] - 47s 3s/step - loss: 0.3639 - val_loss: 0.5955\n",
      "Epoch 9/50\n",
      "16/16 [==============================] - ETA: 0s - loss: 0.3407\n",
      "Epoch 9: saving model to ../../saved_models/exp1_cnn_base_1_ep\\cp.ckpt\n",
      "16/16 [==============================] - 57s 4s/step - loss: 0.3407 - val_loss: 0.5760\n",
      "Epoch 10/50\n",
      "16/16 [==============================] - ETA: 0s - loss: 0.3236\n",
      "Epoch 10: saving model to ../../saved_models/exp1_cnn_base_1_ep\\cp.ckpt\n",
      "16/16 [==============================] - 42s 3s/step - loss: 0.3236 - val_loss: 0.5612\n",
      "Epoch 11/50\n",
      "16/16 [==============================] - ETA: 0s - loss: 0.3108\n",
      "Epoch 11: saving model to ../../saved_models/exp1_cnn_base_1_ep\\cp.ckpt\n",
      "16/16 [==============================] - 54s 3s/step - loss: 0.3108 - val_loss: 0.5504\n",
      "Epoch 12/50\n",
      "16/16 [==============================] - ETA: 0s - loss: 0.3012\n",
      "Epoch 12: saving model to ../../saved_models/exp1_cnn_base_1_ep\\cp.ckpt\n",
      "16/16 [==============================] - 56s 3s/step - loss: 0.3012 - val_loss: 0.5422\n",
      "Epoch 13/50\n",
      "16/16 [==============================] - ETA: 0s - loss: 0.2939\n",
      "Epoch 13: saving model to ../../saved_models/exp1_cnn_base_1_ep\\cp.ckpt\n",
      "16/16 [==============================] - 54s 3s/step - loss: 0.2939 - val_loss: 0.5358\n",
      "Epoch 14/50\n",
      "16/16 [==============================] - ETA: 0s - loss: 0.2883\n",
      "Epoch 14: saving model to ../../saved_models/exp1_cnn_base_1_ep\\cp.ckpt\n",
      "16/16 [==============================] - 56s 4s/step - loss: 0.2883 - val_loss: 0.5310\n",
      "Epoch 15/50\n",
      "16/16 [==============================] - ETA: 0s - loss: 0.2840\n",
      "Epoch 15: saving model to ../../saved_models/exp1_cnn_base_1_ep\\cp.ckpt\n",
      "16/16 [==============================] - 55s 3s/step - loss: 0.2840 - val_loss: 0.5270\n",
      "Epoch 16/50\n",
      "16/16 [==============================] - ETA: 0s - loss: 0.2805\n",
      "Epoch 16: saving model to ../../saved_models/exp1_cnn_base_1_ep\\cp.ckpt\n",
      "16/16 [==============================] - 56s 3s/step - loss: 0.2805 - val_loss: 0.5238\n",
      "Epoch 17/50\n",
      "16/16 [==============================] - ETA: 0s - loss: 0.2778\n",
      "Epoch 17: saving model to ../../saved_models/exp1_cnn_base_1_ep\\cp.ckpt\n",
      "16/16 [==============================] - 58s 4s/step - loss: 0.2778 - val_loss: 0.5214\n",
      "Epoch 18/50\n",
      "16/16 [==============================] - ETA: 0s - loss: 0.2754\n",
      "Epoch 18: saving model to ../../saved_models/exp1_cnn_base_1_ep\\cp.ckpt\n",
      "16/16 [==============================] - 57s 4s/step - loss: 0.2754 - val_loss: 0.5194\n",
      "Epoch 19/50\n",
      "16/16 [==============================] - ETA: 0s - loss: 0.2737\n",
      "Epoch 19: saving model to ../../saved_models/exp1_cnn_base_1_ep\\cp.ckpt\n",
      "16/16 [==============================] - 57s 4s/step - loss: 0.2737 - val_loss: 0.5178\n",
      "Epoch 20/50\n",
      "16/16 [==============================] - ETA: 0s - loss: 0.2722\n",
      "Epoch 20: saving model to ../../saved_models/exp1_cnn_base_1_ep\\cp.ckpt\n",
      "16/16 [==============================] - 55s 3s/step - loss: 0.2722 - val_loss: 0.5165\n",
      "Epoch 21/50\n",
      "16/16 [==============================] - ETA: 0s - loss: 0.2710\n",
      "Epoch 21: saving model to ../../saved_models/exp1_cnn_base_1_ep\\cp.ckpt\n",
      "16/16 [==============================] - 57s 4s/step - loss: 0.2710 - val_loss: 0.5155\n",
      "Epoch 22/50\n",
      "16/16 [==============================] - ETA: 0s - loss: 0.2703\n",
      "Epoch 22: saving model to ../../saved_models/exp1_cnn_base_1_ep\\cp.ckpt\n",
      "16/16 [==============================] - 58s 4s/step - loss: 0.2703 - val_loss: 0.5148\n",
      "Epoch 23/50\n",
      "16/16 [==============================] - ETA: 0s - loss: 0.2695\n",
      "Epoch 23: saving model to ../../saved_models/exp1_cnn_base_1_ep\\cp.ckpt\n",
      "16/16 [==============================] - 58s 4s/step - loss: 0.2695 - val_loss: 0.5143\n",
      "Epoch 24/50\n",
      "16/16 [==============================] - ETA: 0s - loss: 0.2688\n",
      "Epoch 24: saving model to ../../saved_models/exp1_cnn_base_1_ep\\cp.ckpt\n",
      "16/16 [==============================] - 53s 3s/step - loss: 0.2688 - val_loss: 0.5137\n",
      "Epoch 25/50\n",
      "16/16 [==============================] - ETA: 0s - loss: 0.2684\n",
      "Epoch 25: saving model to ../../saved_models/exp1_cnn_base_1_ep\\cp.ckpt\n",
      "16/16 [==============================] - 63s 4s/step - loss: 0.2684 - val_loss: 0.5133\n",
      "Epoch 26/50\n",
      "16/16 [==============================] - ETA: 0s - loss: 0.2679\n",
      "Epoch 26: saving model to ../../saved_models/exp1_cnn_base_1_ep\\cp.ckpt\n",
      "16/16 [==============================] - 53s 3s/step - loss: 0.2679 - val_loss: 0.5128\n",
      "Epoch 27/50\n",
      "16/16 [==============================] - ETA: 0s - loss: 0.2674\n",
      "Epoch 27: saving model to ../../saved_models/exp1_cnn_base_1_ep\\cp.ckpt\n",
      "16/16 [==============================] - 46s 3s/step - loss: 0.2674 - val_loss: 0.5126\n",
      "Epoch 28/50\n",
      "16/16 [==============================] - ETA: 0s - loss: 0.2672\n",
      "Epoch 28: saving model to ../../saved_models/exp1_cnn_base_1_ep\\cp.ckpt\n",
      "16/16 [==============================] - 57s 4s/step - loss: 0.2672 - val_loss: 0.5123\n",
      "Epoch 29/50\n",
      "16/16 [==============================] - ETA: 0s - loss: 0.2666\n",
      "Epoch 29: saving model to ../../saved_models/exp1_cnn_base_1_ep\\cp.ckpt\n",
      "16/16 [==============================] - 62s 4s/step - loss: 0.2666 - val_loss: 0.5119\n",
      "Epoch 30/50\n",
      "16/16 [==============================] - ETA: 0s - loss: 0.2664\n",
      "Epoch 30: saving model to ../../saved_models/exp1_cnn_base_1_ep\\cp.ckpt\n",
      "16/16 [==============================] - 58s 4s/step - loss: 0.2664 - val_loss: 0.5118\n",
      "Epoch 31/50\n",
      "16/16 [==============================] - ETA: 0s - loss: 0.2662\n",
      "Epoch 31: saving model to ../../saved_models/exp1_cnn_base_1_ep\\cp.ckpt\n",
      "16/16 [==============================] - 52s 3s/step - loss: 0.2662 - val_loss: 0.5115\n",
      "Epoch 32/50\n",
      "16/16 [==============================] - ETA: 0s - loss: 0.2659\n",
      "Epoch 32: saving model to ../../saved_models/exp1_cnn_base_1_ep\\cp.ckpt\n",
      "16/16 [==============================] - 62s 4s/step - loss: 0.2659 - val_loss: 0.5112\n",
      "Epoch 33/50\n",
      "16/16 [==============================] - ETA: 0s - loss: 0.2656\n",
      "Epoch 33: saving model to ../../saved_models/exp1_cnn_base_1_ep\\cp.ckpt\n",
      "16/16 [==============================] - 58s 4s/step - loss: 0.2656 - val_loss: 0.5111\n",
      "Epoch 34/50\n",
      "16/16 [==============================] - ETA: 0s - loss: 0.2654\n",
      "Epoch 34: saving model to ../../saved_models/exp1_cnn_base_1_ep\\cp.ckpt\n",
      "16/16 [==============================] - 53s 3s/step - loss: 0.2654 - val_loss: 0.5107\n",
      "Epoch 35/50\n",
      "16/16 [==============================] - ETA: 0s - loss: 0.2653\n",
      "Epoch 35: saving model to ../../saved_models/exp1_cnn_base_1_ep\\cp.ckpt\n",
      "16/16 [==============================] - 62s 4s/step - loss: 0.2653 - val_loss: 0.5106\n",
      "Epoch 36/50\n",
      "16/16 [==============================] - ETA: 0s - loss: 0.2650\n",
      "Epoch 36: saving model to ../../saved_models/exp1_cnn_base_1_ep\\cp.ckpt\n",
      "16/16 [==============================] - 55s 3s/step - loss: 0.2650 - val_loss: 0.5105\n",
      "Epoch 37/50\n",
      "16/16 [==============================] - ETA: 0s - loss: 0.2649\n",
      "Epoch 37: saving model to ../../saved_models/exp1_cnn_base_1_ep\\cp.ckpt\n",
      "16/16 [==============================] - 39s 3s/step - loss: 0.2649 - val_loss: 0.5102\n",
      "Epoch 38/50\n",
      "16/16 [==============================] - ETA: 0s - loss: 0.2647\n",
      "Epoch 38: saving model to ../../saved_models/exp1_cnn_base_1_ep\\cp.ckpt\n",
      "16/16 [==============================] - 54s 3s/step - loss: 0.2647 - val_loss: 0.5101\n",
      "Epoch 39/50\n",
      "16/16 [==============================] - ETA: 0s - loss: 0.2643\n",
      "Epoch 39: saving model to ../../saved_models/exp1_cnn_base_1_ep\\cp.ckpt\n",
      "16/16 [==============================] - 59s 4s/step - loss: 0.2643 - val_loss: 0.5099\n",
      "Epoch 40/50\n",
      "16/16 [==============================] - ETA: 0s - loss: 0.2643\n",
      "Epoch 40: saving model to ../../saved_models/exp1_cnn_base_1_ep\\cp.ckpt\n",
      "16/16 [==============================] - 56s 4s/step - loss: 0.2643 - val_loss: 0.5097\n",
      "Epoch 41/50\n",
      "16/16 [==============================] - ETA: 0s - loss: 0.2640\n",
      "Epoch 41: saving model to ../../saved_models/exp1_cnn_base_1_ep\\cp.ckpt\n",
      "16/16 [==============================] - 56s 4s/step - loss: 0.2640 - val_loss: 0.5096\n",
      "Epoch 42/50\n",
      "16/16 [==============================] - ETA: 0s - loss: 0.2638\n",
      "Epoch 42: saving model to ../../saved_models/exp1_cnn_base_1_ep\\cp.ckpt\n",
      "16/16 [==============================] - 56s 4s/step - loss: 0.2638 - val_loss: 0.5095\n",
      "Epoch 43/50\n",
      "16/16 [==============================] - ETA: 0s - loss: 0.2637\n",
      "Epoch 43: saving model to ../../saved_models/exp1_cnn_base_1_ep\\cp.ckpt\n",
      "16/16 [==============================] - 58s 4s/step - loss: 0.2637 - val_loss: 0.5093\n",
      "Epoch 44/50\n",
      "16/16 [==============================] - ETA: 0s - loss: 0.2636\n",
      "Epoch 44: saving model to ../../saved_models/exp1_cnn_base_1_ep\\cp.ckpt\n",
      "16/16 [==============================] - 55s 3s/step - loss: 0.2636 - val_loss: 0.5092\n",
      "Epoch 45/50\n",
      "16/16 [==============================] - ETA: 0s - loss: 0.2634\n",
      "Epoch 45: saving model to ../../saved_models/exp1_cnn_base_1_ep\\cp.ckpt\n",
      "16/16 [==============================] - 53s 3s/step - loss: 0.2634 - val_loss: 0.5090\n",
      "Epoch 46/50\n",
      "16/16 [==============================] - ETA: 0s - loss: 0.2634\n",
      "Epoch 46: saving model to ../../saved_models/exp1_cnn_base_1_ep\\cp.ckpt\n",
      "16/16 [==============================] - 56s 4s/step - loss: 0.2634 - val_loss: 0.5090\n",
      "Epoch 47/50\n",
      "16/16 [==============================] - ETA: 0s - loss: 0.2632\n",
      "Epoch 47: saving model to ../../saved_models/exp1_cnn_base_1_ep\\cp.ckpt\n",
      "16/16 [==============================] - 58s 4s/step - loss: 0.2632 - val_loss: 0.5087\n",
      "Epoch 48/50\n",
      "16/16 [==============================] - ETA: 0s - loss: 0.2630\n",
      "Epoch 48: saving model to ../../saved_models/exp1_cnn_base_1_ep\\cp.ckpt\n",
      "16/16 [==============================] - 54s 3s/step - loss: 0.2630 - val_loss: 0.5086\n",
      "Epoch 49/50\n",
      "16/16 [==============================] - ETA: 0s - loss: 0.2630\n",
      "Epoch 49: saving model to ../../saved_models/exp1_cnn_base_1_ep\\cp.ckpt\n",
      "16/16 [==============================] - 54s 3s/step - loss: 0.2630 - val_loss: 0.5085\n",
      "Epoch 50/50\n",
      "16/16 [==============================] - ETA: 0s - loss: 0.2628\n",
      "Epoch 50: saving model to ../../saved_models/exp1_cnn_base_1_ep\\cp.ckpt\n",
      "16/16 [==============================] - 56s 4s/step - loss: 0.2628 - val_loss: 0.5083\n"
     ]
    }
   ],
   "source": [
    "# Define the model\n",
    "import os\n",
    "checkpoint_path = \"../../saved_models/exp1_cnn_base_1_ep/cp.ckpt\"\n",
    "checkpoint_dir = os.path.dirname(checkpoint_path)\n",
    "cp_callback = tf.keras.callbacks.ModelCheckpoint(filepath=checkpoint_path,save_weights_only=True,verbose=1)\n",
    "\n",
    "input_shape = pairs_train.shape[2:]\n",
    "siamese_network = create_siamese_network(input_shape)\n",
    "\n",
    "siamese_network.compile(loss=contrastive_loss(), optimizer=optimizers.Adam(learning_rate=1e-3))\n",
    "\n",
    "history = siamese_network.fit([pairs_train[:, 0], pairs_train[:, 1]], labels_train,\n",
    "    validation_data=([pairs_test[:, 0], pairs_test[:, 1]], labels_test),\n",
    "    epochs=config.epoch,\n",
    "    batch_size=config.batch_size,\n",
    "    callbacks=[cp_callback]\n",
    ")"
   ]
  },
  {
   "cell_type": "code",
   "execution_count": 51,
   "id": "54ccd9c9-e2e3-4eab-889a-f10d2d2e9c80",
   "metadata": {},
   "outputs": [
    {
     "name": "stdout",
     "output_type": "stream",
     "text": [
      "Model: \"model_2\"\n",
      "__________________________________________________________________________________________________\n",
      " Layer (type)                Output Shape                 Param #   Connected to                  \n",
      "==================================================================================================\n",
      " input_8 (InputLayer)        [(None, 8, 8, 1)]            0         []                            \n",
      "                                                                                                  \n",
      " input_9 (InputLayer)        [(None, 8, 8, 1)]            0         []                            \n",
      "                                                                                                  \n",
      " sequential_2 (Sequential)   (None, 64)                   22976     ['input_8[0][0]',             \n",
      "                                                                     'input_9[0][0]']             \n",
      "                                                                                                  \n",
      " lambda_2 (Lambda)           (None,)                      0         ['sequential_2[0][0]',        \n",
      "                                                                     'sequential_2[1][0]']        \n",
      "                                                                                                  \n",
      "==================================================================================================\n",
      "Total params: 22976 (89.75 KB)\n",
      "Trainable params: 22976 (89.75 KB)\n",
      "Non-trainable params: 0 (0.00 Byte)\n",
      "__________________________________________________________________________________________________\n"
     ]
    }
   ],
   "source": [
    "siamese_network.summary()"
   ]
  },
  {
   "cell_type": "code",
   "execution_count": 52,
   "id": "9ab14d22-f0d4-4e22-9b48-e766f477022d",
   "metadata": {},
   "outputs": [
    {
     "data": {
      "text/plain": [
       "<Axes: title={'center': 'Learning History'}>"
      ]
     },
     "execution_count": 52,
     "metadata": {},
     "output_type": "execute_result"
    },
    {
     "data": {
      "image/png": "[encoded data removed]",
      "text/plain": [
       "<Figure size 640x480 with 1 Axes>"
      ]
     },
     "metadata": {},
     "output_type": "display_data"
    }
   ],
   "source": [
    "pd.DataFrame(history.history).plot(title=\"Learning History\")"
   ]
  },
  {
   "cell_type": "markdown",
   "id": "34791236-8366-457b-a71c-aaaafeb9e9ab",
   "metadata": {},
   "source": [
    "### Evaluation of the model"
   ]
  },
  {
   "cell_type": "code",
   "execution_count": 53,
   "id": "348c668e-4026-4d2a-9a54-0497d1f8069a",
   "metadata": {},
   "outputs": [
    {
     "name": "stdout",
     "output_type": "stream",
     "text": [
      "6225/6225 [==============================] - 28s 4ms/step\n"
     ]
    }
   ],
   "source": [
    "# Predictions from the model\n",
    "distance = siamese_network.predict([pairs_test[:, 0], pairs_test[:, 1]])"
   ]
  },
  {
   "cell_type": "code",
   "execution_count": 54,
   "id": "1dacd489-ffee-49f0-a073-d11ca67f3da4",
   "metadata": {},
   "outputs": [
    {
     "data": {
      "text/plain": [
       "array([8.8643283e-04, 5.1073229e-04, 3.6187175e-05, ..., 2.3375833e-06,\n",
       "       8.0455131e-05, 3.9003426e-05], dtype=float32)"
      ]
     },
     "execution_count": 54,
     "metadata": {},
     "output_type": "execute_result"
    }
   ],
   "source": [
    "distance"
   ]
  },
  {
   "cell_type": "code",
   "execution_count": 55,
   "id": "a0c76deb-cf40-46b1-a1f0-9579af8e9e34",
   "metadata": {},
   "outputs": [],
   "source": [
    "def distances_to_labels(distances, threshold=0.5):\n",
    "    return (distances <= threshold).astype(int)"
   ]
  },
  {
   "cell_type": "code",
   "execution_count": 56,
   "id": "fc35717e-1079-400a-bb48-ff72686ee038",
   "metadata": {},
   "outputs": [],
   "source": [
    "y_pred = distances_to_labels(distance)"
   ]
  },
  {
   "cell_type": "code",
   "execution_count": 57,
   "id": "82bf4c1b-4d71-4e35-8570-5d20f9ed0c0e",
   "metadata": {},
   "outputs": [],
   "source": [
    "def plot_samples_with_predictions(test_pairs, test_labels, predictions, distances, size,num_samples=5):\n",
    "    plt.figure(figsize=(15, num_samples * 2))\n",
    "    for i in range(num_samples):\n",
    "        ax = plt.subplot(num_samples, 2, 2 * i + 1)\n",
    "        plt.imshow(test_pairs[i, 0].reshape(size, size), cmap='gray')\n",
    "        ax.axis('off')\n",
    "\n",
    "        ax = plt.subplot(num_samples, 2, 2 * i + 2)\n",
    "        plt.imshow(test_pairs[i, 1].reshape(size, size), cmap='gray')\n",
    "        ax.axis('off')\n",
    "\n",
    "        label = test_labels[i]\n",
    "        pred = predictions[i]\n",
    "        dist = distances[i]\n",
    "        plt.title(f'True: {label}, Pred: {pred}, Dist: {dist:0.15f}')\n",
    "\n",
    "    plt.tight_layout()\n",
    "    plt.show()"
   ]
  },
  {
   "cell_type": "code",
   "execution_count": 58,
   "id": "16be0034-c2cc-42b1-9b23-7d90addad512",
   "metadata": {},
   "outputs": [
    {
     "data": {
      "image/png": "[encoded data removed]",
      "text/plain": [
       "<Figure size 1500x1000 with 10 Axes>"
      ]
     },
     "metadata": {},
     "output_type": "display_data"
    }
   ],
   "source": [
    "# Plot sample pairs with predictions\n",
    "plot_samples_with_predictions(pairs_test, labels_test, y_pred, distance, size=8, num_samples=5)"
   ]
  },
  {
   "cell_type": "code",
   "execution_count": 64,
   "id": "daa88ddf-3eae-450c-93da-f42de3af8c5d",
   "metadata": {},
   "outputs": [
    {
     "data": {
      "application/vnd.jupyter.widget-view+json": {
       "model_id": "",
       "version_major": 2,
       "version_minor": 0
      },
      "text/plain": [
       "VBox(children=(Label(value='0.001 MB of 0.030 MB uploaded\\r'), FloatProgress(value=0.041421647819063004, max=1…"
      ]
     },
     "metadata": {},
     "output_type": "display_data"
    },
    {
     "data": {
      "text/html": [
       " View run <strong style=\"color:#cdcd00\">comic-aardvark-8</strong> at: <a href='https://wandb.ai/team-sanya/ML4Sci-QuantumContrastiveLearning/runs/znvqzx66' target=\"_blank\">https://wandb.ai/team-sanya/ML4Sci-QuantumContrastiveLearning/runs/znvqzx66</a><br/> View project at: <a href='https://wandb.ai/team-sanya/ML4Sci-QuantumContrastiveLearning' target=\"_blank\">https://wandb.ai/team-sanya/ML4Sci-QuantumContrastiveLearning</a><br/>Synced 5 W&B file(s), 0 media file(s), 0 artifact file(s) and 0 other file(s)"
      ],
      "text/plain": [
       "<IPython.core.display.HTML object>"
      ]
     },
     "metadata": {},
     "output_type": "display_data"
    },
    {
     "data": {
      "text/html": [
       "Find logs at: <code>.\\wandb\\run-20240612_001941-znvqzx66\\logs</code>"
      ],
      "text/plain": [
       "<IPython.core.display.HTML object>"
      ]
     },
     "metadata": {},
     "output_type": "display_data"
    }
   ],
   "source": [
    "wandb.finish()"
   ]
  },
  {
   "cell_type": "code",
   "execution_count": null,
   "id": "82a2c8c9-7056-4d45-8411-07dfe28e4588",
   "metadata": {},
   "outputs": [],
   "source": []
  }
 ],
 "metadata": {
  "kernelspec": {
   "display_name": "env",
   "language": "python",
   "name": "env"
  },
  "language_info": {
   "codemirror_mode": {
    "name": "ipython",
    "version": 3
   },
   "file_extension": ".py",
   "mimetype": "text/x-python",
   "name": "python",
   "nbconvert_exporter": "python",
   "pygments_lexer": "ipython3",
   "version": "3.10.11"
  }
 },
 "nbformat": 4,
 "nbformat_minor": 5
}
